{
 "cells": [
  {
   "cell_type": "markdown",
   "metadata": {},
   "source": [
    "# Lab 07:  Decision Trees\n",
    "\n"
   ]
  },
  {
   "cell_type": "markdown",
   "metadata": {},
   "source": [
    "#### Part 1\n",
    "\n",
    "Train and fine tune a decision tree for the moons dataset  \n",
    "* Use make_moons(n_samples=1000000, noise=0.4) to generate a moons dataset\n",
    "* Use train_test_split() to split the dataset into a training set and a test set.\n",
    "* Use grid search with cross-validation (with the help of the GridSearchCV\n",
    "class) to find good hyperparameter values for a DecisionTreeClassifier.\n",
    "Hint: try various values for max_leaf_nodes.\n",
    "* Train it on the full training set using these hyperparameters, and measure\n",
    "your model’s performance on the test set. You should get roughly 85% to 87%\n",
    "accuracy."
   ]
  },
  {
   "cell_type": "code",
   "execution_count": null,
   "metadata": {},
   "outputs": [],
   "source": []
  },
  {
   "cell_type": "markdown",
   "metadata": {},
   "source": [
    "#### Part 2: Grow a forest by following these steps:\n",
    "\n",
    "* Continuing the previous exercise, generate 1,000 subsets of the training set,\n",
    "each containing 100 instances selected randomly. Hint: you can use Scikit-\n",
    "Learn’s ShuffleSplit class for this.\n",
    "* Train one Decision Tree on each subset, using the best hyperparameter values\n",
    "found in the previous exercise. Evaluate these 1,000 Decision Trees on the test\n",
    "set. Since they were trained on smaller sets, these Decision Trees will likely\n",
    "perform worse than the first Decision Tree, achieving only about 80%\n",
    "accuracy.\n",
    "* Now comes the magic. For each test set instance, generate the predictions of\n",
    "the 1,000 Decision Trees, and keep only the most frequent prediction (you can\n",
    "use SciPy’s mode() function for this). This approach gives you majority-vote\n",
    "predictions over the test set.\n",
    "* Evaluate these predictions on the test set: you should obtain a slightly higher\n",
    "accuracy than your first model (about 0.5 to 1.5% higher). Congratulations,\n",
    "you have trained a Random Forest classifier!"
   ]
  },
  {
   "cell_type": "code",
   "execution_count": null,
   "metadata": {},
   "outputs": [],
   "source": []
  }
 ],
 "metadata": {
  "language_info": {
   "name": "python"
  }
 },
 "nbformat": 4,
 "nbformat_minor": 2
}
