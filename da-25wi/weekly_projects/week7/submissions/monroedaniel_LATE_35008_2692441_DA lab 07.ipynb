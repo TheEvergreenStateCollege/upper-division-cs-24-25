{
 "cells": [
  {
   "cell_type": "code",
   "id": "initial_id",
   "metadata": {
    "collapsed": true,
    "ExecuteTime": {
     "end_time": "2025-02-21T18:15:25.794054Z",
     "start_time": "2025-02-21T18:15:15.022059Z"
    }
   },
   "source": [
    "import numpy as np\n",
    "from sklearn.datasets import make_moons\n",
    "from sklearn.model_selection import train_test_split, GridSearchCV\n",
    "from sklearn.tree import DecisionTreeClassifier\n",
    "from sklearn.metrics import accuracy_score\n",
    "\n",
    "# Step 1: Generate the moons dataset\n",
    "X, y = make_moons(n_samples=10000, noise=0.4, random_state=42)\n",
    "\n",
    "# Step 2: Split the dataset into training and test sets\n",
    "X_train, X_test, y_train, y_test = train_test_split(X, y, test_size=0.2, random_state=42)\n",
    "\n",
    "# Step 3: Use GridSearchCV to find the best hyperparameters\n",
    "param_grid = {\n",
    "    'max_leaf_nodes': list(range(2, 100)),  # Try various values for max_leaf_nodes\n",
    "    'min_samples_split': [2, 3, 4],\n",
    "}\n",
    "dt_clf = DecisionTreeClassifier(random_state=42)\n",
    "grid_search = GridSearchCV(dt_clf, param_grid, cv=3, scoring='accuracy')\n",
    "grid_search.fit(X_train, y_train)\n",
    "\n",
    "# Best hyperparameters\n",
    "print(\"Best hyperparameters:\", grid_search.best_params_)\n",
    "\n",
    "# Step 4: Train the model on the full training set using the best hyperparameters\n",
    "best_dt_clf = grid_search.best_estimator_\n",
    "y_pred = best_dt_clf.predict(X_test)\n",
    "\n",
    "# Evaluate the model's performance on the test set\n",
    "accuracy = accuracy_score(y_test, y_pred)\n",
    "print(f\"Test set accuracy: {accuracy:.2%}\")"
   ],
   "outputs": [
    {
     "name": "stdout",
     "output_type": "stream",
     "text": [
      "Best hyperparameters: {'max_leaf_nodes': 17, 'min_samples_split': 2}\n",
      "Test set accuracy: 86.95%\n"
     ]
    }
   ],
   "execution_count": 1
  },
  {
   "metadata": {
    "ExecuteTime": {
     "end_time": "2025-02-21T18:15:28.041890Z",
     "start_time": "2025-02-21T18:15:25.968157Z"
    }
   },
   "cell_type": "code",
   "source": [
    "from sklearn.model_selection import ShuffleSplit\n",
    "from scipy.stats import mode\n",
    "\n",
    "# Step 1: Generate 1,000 subsets of the training set\n",
    "n_trees = 1000\n",
    "n_instances = 100\n",
    "subsets = []\n",
    "\n",
    "shuffle_split = ShuffleSplit(n_splits=n_trees, train_size=n_instances, random_state=42)\n",
    "for subset_train_index, _ in shuffle_split.split(X_train):\n",
    "    X_subset = X_train[subset_train_index]\n",
    "    y_subset = y_train[subset_train_index]\n",
    "    subsets.append((X_subset, y_subset))\n",
    "\n",
    "# Step 2: Train one Decision Tree on each subset\n",
    "forest = [DecisionTreeClassifier(**grid_search.best_params_, random_state=42) for _ in range(n_trees)]\n",
    "accuracy_scores = []\n",
    "\n",
    "for i, (X_subset, y_subset) in enumerate(subsets):\n",
    "    forest[i].fit(X_subset, y_subset)\n",
    "    y_pred = forest[i].predict(X_test)\n",
    "    accuracy_scores.append(accuracy_score(y_test, y_pred))\n",
    "\n",
    "# Evaluate the performance of individual trees\n",
    "print(f\"Average accuracy of individual trees: {np.mean(accuracy_scores):.2%}\")\n",
    "\n",
    "# Step 3: Generate majority-vote predictions\n",
    "y_pred_all_trees = np.array([tree.predict(X_test) for tree in forest])\n",
    "y_pred_majority_votes, _ = mode(y_pred_all_trees, axis=0)\n",
    "\n",
    "# Step 4: Evaluate the majority-vote predictions\n",
    "forest_accuracy = accuracy_score(y_test, y_pred_majority_votes.ravel())\n",
    "print(f\"Random Forest accuracy: {forest_accuracy:.2%}\")"
   ],
   "id": "f7f91a3eb5d42588",
   "outputs": [
    {
     "name": "stdout",
     "output_type": "stream",
     "text": [
      "Average accuracy of individual trees: 80.55%\n",
      "Random Forest accuracy: 87.20%\n"
     ]
    }
   ],
   "execution_count": 2
  },
  {
   "metadata": {},
   "cell_type": "code",
   "outputs": [],
   "execution_count": null,
   "source": "",
   "id": "cde4b812d70a2004"
  },
  {
   "metadata": {},
   "cell_type": "code",
   "outputs": [],
   "execution_count": null,
   "source": "",
   "id": "74354bc2a98177a4"
  },
  {
   "metadata": {},
   "cell_type": "code",
   "outputs": [],
   "execution_count": null,
   "source": "",
   "id": "4338025964357b22"
  }
 ],
 "metadata": {
  "kernelspec": {
   "display_name": "Python 3",
   "language": "python",
   "name": "python3"
  },
  "language_info": {
   "codemirror_mode": {
    "name": "ipython",
    "version": 2
   },
   "file_extension": ".py",
   "mimetype": "text/x-python",
   "name": "python",
   "nbconvert_exporter": "python",
   "pygments_lexer": "ipython2",
   "version": "2.7.6"
  }
 },
 "nbformat": 4,
 "nbformat_minor": 5
}
