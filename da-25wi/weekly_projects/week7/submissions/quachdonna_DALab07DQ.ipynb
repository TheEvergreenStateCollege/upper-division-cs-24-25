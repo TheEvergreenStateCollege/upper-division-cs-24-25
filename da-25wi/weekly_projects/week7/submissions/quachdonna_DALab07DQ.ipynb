{
  "cells": [
    {
      "cell_type": "markdown",
      "metadata": {
        "id": "DB7bc8ItwrAU"
      },
      "source": [
        "# Lab 07:  Decision Trees\n",
        "\n"
      ]
    },
    {
      "cell_type": "markdown",
      "metadata": {
        "id": "0-pc6bhiwrAV"
      },
      "source": [
        "#### Part 1\n",
        "\n",
        "Train and fine tune a decision tree for the moons dataset  \n",
        "* Use make_moons(n_samples=10000, noise=0.4) to generate a moons dataset\n",
        "* Use train_test_split() to split the dataset into a training set and a test set.\n",
        "* Use grid search with cross-validation (with the help of the GridSearchCV\n",
        "class) to find good hyperparameter values for a DecisionTreeClassifier.\n",
        "Hint: try various values for max_leaf_nodes.\n",
        "* Train it on the full training set using these hyperparameters, and measure\n",
        "your model’s performance on the test set. You should get roughly 85% to 87%\n",
        "accuracy."
      ]
    },
    {
      "cell_type": "code",
      "execution_count": 1,
      "metadata": {
        "id": "nJAL488uwrAV"
      },
      "outputs": [],
      "source": [
        "# Source: Chapter 5 of Hands On Machine Learning, page 157\n",
        "from sklearn.datasets import make_moons\n",
        "\n",
        "X, y = make_moons(n_samples=10000, noise=0.4) # Generate moons dataset"
      ]
    },
    {
      "cell_type": "code",
      "execution_count": 2,
      "metadata": {
        "colab": {
          "base_uri": "https://localhost:8080/"
        },
        "id": "FuPOeucS0efH",
        "outputId": "5fe3d71b-6167-42d5-c53b-de8e988dbe25"
      },
      "outputs": [
        {
          "output_type": "stream",
          "name": "stdout",
          "text": [
            "X_moons_train size:  8000\n",
            "X_moons_test size:  2000\n",
            "y_moons_train size:  8000\n",
            "y_moons_test size:  2000\n"
          ]
        }
      ],
      "source": [
        "# Source: Chapter 2 of Hands On Machine Learning, page 53\n",
        "from sklearn.model_selection import train_test_split\n",
        "\n",
        "# Divide moons dataset into training and test sets where 20% is for testing\n",
        "X_moons_train, X_moons_test, y_moons_train, y_moons_test = train_test_split(X, y, test_size=0.2, random_state=42)\n",
        "\n",
        "print('X_moons_train size: ', len(X_moons_train))\n",
        "print('X_moons_test size: ', len(X_moons_test))\n",
        "print('y_moons_train size: ', len(y_moons_train))\n",
        "print('y_moons_test size: ', len(y_moons_test))"
      ]
    },
    {
      "cell_type": "code",
      "execution_count": 3,
      "metadata": {
        "colab": {
          "base_uri": "https://localhost:8080/"
        },
        "id": "xLYxvfKt63si",
        "outputId": "884681a4-4648-4fb1-eaf5-7e8ff77e4bbc"
      },
      "outputs": [
        {
          "output_type": "stream",
          "name": "stdout",
          "text": [
            "Best decision tree model:  DecisionTreeClassifier(max_leaf_nodes=25, min_samples_leaf=2)\n",
            "Best decision tree hyperparameters:  {'criterion': 'gini', 'max_leaf_nodes': 25, 'min_samples_leaf': 2}\n"
          ]
        }
      ],
      "source": [
        "# Sources: Chapter 6 of Hands On Machine Learning, page 175\n",
        "#          Chapter 2 of Hands On Machine Learning, page 76\n",
        "# https://www.geeksforgeeks.org/how-to-tune-a-decision-tree-in-hyperparameter-tuning/\n",
        "# https://www.geeksforgeeks.org/building-and-implementing-decision-tree-classifiers-with-scikit-learn-a-comprehensive-guide/\n",
        "from sklearn.tree import DecisionTreeClassifier\n",
        "from sklearn.model_selection import GridSearchCV\n",
        "\n",
        "# Create base model for the Decision Tree Classifier before training it\n",
        "decision_tree_base_model = DecisionTreeClassifier()\n",
        "\n",
        "# Perform Grid Search Cross-Validation hyperparameter tuning to find the best model for the Decision Tree Classifier\n",
        "# Based on results, this will be used for training the Decision Tree Classifier\n",
        "decision_tree_params = {\n",
        "    'criterion': ['gini', 'entropy'],\n",
        "    'min_samples_leaf': list(range(2, 5, 1)),\n",
        "    'max_leaf_nodes': list(range(2, 28, 1))\n",
        "}\n",
        "\n",
        "decision_tree_GridSearchCV = GridSearchCV(estimator=decision_tree_base_model, param_grid=decision_tree_params, cv=5)\n",
        "\n",
        "# Get the best model for the Decision Tree Classifer using Grid Search CV\n",
        "decision_tree_GridSearchCV.fit(X_moons_train, y_moons_train)\n",
        "\n",
        "#print('X_moons_train GridSearchCV size: ', len(X_moons_train))\n",
        "#print('y_moons_train GridSearchCV size: ', len(y_moons_train))\n",
        "\n",
        "best_decision_tree_model = decision_tree_GridSearchCV.best_estimator_\n",
        "best_decision_tree_params = decision_tree_GridSearchCV.best_params_\n",
        "\n",
        "print('Best decision tree model: ', best_decision_tree_model)\n",
        "print('Best decision tree hyperparameters: ', best_decision_tree_params)\n"
      ]
    },
    {
      "cell_type": "code",
      "execution_count": 4,
      "metadata": {
        "colab": {
          "base_uri": "https://localhost:8080/"
        },
        "id": "qFmmYRN1DryU",
        "outputId": "7dfbc944-8c1c-4b91-d316-21e5c3026329"
      },
      "outputs": [
        {
          "output_type": "stream",
          "name": "stdout",
          "text": [
            "Accuracy on moons test set: 0.8585\n",
            "Classification Report for moons test set:\n",
            "               precision    recall  f1-score   support\n",
            "\n",
            "           0       0.85      0.86      0.86       988\n",
            "           1       0.86      0.85      0.86      1012\n",
            "\n",
            "    accuracy                           0.86      2000\n",
            "   macro avg       0.86      0.86      0.86      2000\n",
            "weighted avg       0.86      0.86      0.86      2000\n",
            "\n"
          ]
        }
      ],
      "source": [
        "# Measure best model's performance with the test set\n",
        "\n",
        "# max_leaf_nodes: 4, min_samples_leaf: 2 yielded 0.8635 for accuracy (when list(range(2, 37, 1)))\n",
        "# max_leaf_nodes: 4, min_samples_leaf: 2 yielded 0.858 for accuracy (when list(range(2, 45, 1)))\n",
        "# max_leaf_nodes: 4, min_samples_leaf: 2 yielded 0.8605 for accuracy (when list(range(2, 48, 1)))\n",
        "\n",
        "# max_leaf_nodes: 21, min_samples_leaf: 2 yielded 0.86 for accuracy (when list(range(2, 28, 1)))\n",
        "# max_leaf_nodes: 21, min_samples_leaf: 2 yielded 0.857 for accuracy (when list range(2, 44, 1))\n",
        "# max_leaf_nodes: 21, min_samples_leaf: 2 yielded 0.866 for accuracy (when list(range(2, 46, 1)))\n",
        "# max_leaf_nodes: 21, min_samples_leaf: 2 yielded 0.8645 for accuracy (when list(range(2, 50, 1)))\n",
        "\n",
        "# max_leaf_nodes: 22, min_samples_leaf: 2 yielded 0.858 for accuracy (when list(range(2, 32, 1)))\n",
        "# max_leaf_nodes: 22, min_samples_leaf: 3 yielded 0.8625 for accuracy (when list(range(2, 30, 1)))\n",
        "# max_leaf_nodes: 22, min_samples_leaf: 2 yielded 0.859 for accuracy (when list(range(2, 43, 1)))\n",
        "\n",
        "# max_leaf_nodes: 24, min_samples_leaf: 3 yielded 0.864 for accuracy (when list(range(2, 27, 1)))\n",
        "# max_leaf_nodes: 24, min_samples_leaf: 2 yielded 0.866 for accuracy (when list(range(2, 47, 1)))\n",
        "\n",
        "from sklearn.metrics import accuracy_score, classification_report\n",
        "\n",
        "y_moons_pred = best_decision_tree_model.predict(X_moons_test)\n",
        "\n",
        "print('Accuracy on moons test set:', accuracy_score(y_moons_test, y_moons_pred))\n",
        "print('Classification Report for moons test set:\\n', classification_report(y_moons_test, y_moons_pred))"
      ]
    },
    {
      "cell_type": "markdown",
      "metadata": {
        "id": "RZodekjdwrAW"
      },
      "source": [
        "#### Part 2: Grow a forest by following these steps:\n",
        "\n",
        "* Continuing the previous exercise, generate 1,000 subsets of the training set,\n",
        "each containing 100 instances selected randomly. Hint: you can use Scikit-\n",
        "Learn’s ShuffleSplit class for this.\n",
        "* Train one Decision Tree on each subset, using the best hyperparameter values\n",
        "found in the previous exercise. Evaluate these 1,000 Decision Trees on the test\n",
        "set. Since they were trained on smaller sets, these Decision Trees will likely\n",
        "perform worse than the first Decision Tree, achieving only about 80%\n",
        "accuracy.\n",
        "* Now comes the magic. For each test set instance, generate the predictions of\n",
        "the 1,000 Decision Trees, and keep only the most frequent prediction (you can\n",
        "use SciPy’s mode() function for this). This approach gives you majority-vote\n",
        "predictions over the test set.\n",
        "* Evaluate these predictions on the test set: you should obtain a slightly higher\n",
        "accuracy than your first model (about 0.5 to 1.5% higher). Congratulations,\n",
        "you have trained a Random Forest classifier!"
      ]
    },
    {
      "cell_type": "code",
      "execution_count": 5,
      "metadata": {
        "colab": {
          "base_uri": "https://localhost:8080/"
        },
        "id": "TyFuI3CzwrAW",
        "outputId": "5296c980-4e0f-4057-b8f7-017c1d31e605"
      },
      "outputs": [
        {
          "output_type": "stream",
          "name": "stdout",
          "text": [
            "Average accuracy score for 1,000 Decision Trees:  0.7909734999999996\n",
            "\n",
            "Decision Tree Predictions:\n",
            " [array([0, 0, 0, ..., 1, 0, 0]), array([1, 0, 0, ..., 1, 0, 0]), array([1, 0, 0, ..., 1, 0, 0]), array([1, 0, 0, ..., 1, 0, 0]), array([1, 1, 1, ..., 1, 0, 0]), array([1, 1, 0, ..., 1, 0, 0]), array([0, 0, 0, ..., 1, 0, 0]), array([1, 0, 0, ..., 1, 0, 0]), array([1, 0, 0, ..., 1, 0, 0]), array([0, 0, 0, ..., 1, 0, 0]), array([0, 0, 0, ..., 1, 0, 0]), array([1, 0, 0, ..., 1, 0, 0]), array([0, 0, 0, ..., 1, 0, 0]), array([0, 0, 0, ..., 1, 0, 0]), array([0, 1, 0, ..., 1, 0, 0]), array([1, 1, 0, ..., 1, 0, 0]), array([0, 1, 0, ..., 1, 0, 0]), array([1, 0, 0, ..., 1, 0, 0]), array([0, 1, 0, ..., 0, 0, 0]), array([1, 0, 0, ..., 1, 0, 0]), array([1, 0, 0, ..., 1, 0, 0]), array([1, 1, 0, ..., 1, 0, 0]), array([0, 0, 1, ..., 1, 0, 0]), array([1, 0, 0, ..., 1, 0, 0]), array([1, 0, 1, ..., 1, 1, 0]), array([0, 0, 0, ..., 1, 0, 0]), array([0, 0, 0, ..., 1, 0, 0]), array([1, 1, 0, ..., 0, 1, 0]), array([1, 0, 0, ..., 1, 0, 0]), array([1, 0, 0, ..., 1, 0, 0]), array([1, 1, 0, ..., 1, 0, 0]), array([0, 0, 0, ..., 1, 0, 0]), array([0, 0, 0, ..., 1, 0, 0]), array([0, 1, 0, ..., 0, 0, 0]), array([0, 1, 0, ..., 0, 0, 0]), array([1, 0, 0, ..., 1, 0, 0]), array([1, 1, 0, ..., 1, 0, 0]), array([0, 0, 0, ..., 1, 0, 0]), array([0, 0, 0, ..., 1, 0, 0]), array([0, 1, 0, ..., 1, 0, 0]), array([0, 0, 1, ..., 1, 1, 0]), array([0, 0, 0, ..., 1, 0, 0]), array([0, 0, 0, ..., 0, 0, 0]), array([0, 0, 0, ..., 1, 0, 0]), array([0, 0, 0, ..., 0, 0, 0]), array([1, 1, 0, ..., 1, 0, 0]), array([1, 0, 0, ..., 1, 0, 0]), array([0, 0, 0, ..., 1, 0, 0]), array([1, 1, 0, ..., 1, 0, 0]), array([1, 1, 0, ..., 1, 0, 0]), array([0, 1, 0, ..., 1, 0, 0]), array([1, 1, 0, ..., 1, 0, 0]), array([1, 1, 0, ..., 1, 0, 0]), array([0, 1, 0, ..., 1, 0, 0]), array([1, 0, 0, ..., 0, 0, 0]), array([1, 0, 0, ..., 1, 0, 0]), array([1, 0, 0, ..., 1, 0, 0]), array([1, 0, 0, ..., 1, 0, 0]), array([0, 0, 0, ..., 1, 0, 0]), array([1, 0, 0, ..., 1, 0, 0]), array([1, 0, 0, ..., 1, 0, 0]), array([0, 0, 0, ..., 1, 0, 0]), array([1, 0, 0, ..., 1, 0, 0]), array([0, 0, 0, ..., 1, 0, 0]), array([1, 0, 0, ..., 0, 0, 0]), array([1, 0, 0, ..., 1, 0, 0]), array([0, 1, 0, ..., 1, 0, 0]), array([1, 0, 0, ..., 1, 0, 0]), array([1, 0, 0, ..., 1, 0, 0]), array([0, 0, 1, ..., 1, 0, 0]), array([0, 1, 0, ..., 1, 0, 0]), array([1, 0, 0, ..., 1, 0, 0]), array([1, 0, 0, ..., 1, 0, 0]), array([0, 0, 0, ..., 1, 0, 0]), array([1, 0, 0, ..., 1, 0, 0]), array([1, 0, 0, ..., 1, 0, 0]), array([1, 0, 0, ..., 1, 0, 0]), array([1, 0, 0, ..., 1, 0, 0]), array([1, 0, 0, ..., 1, 0, 0]), array([1, 0, 0, ..., 1, 0, 0]), array([1, 1, 1, ..., 1, 0, 0]), array([1, 0, 0, ..., 1, 0, 0]), array([1, 0, 0, ..., 1, 0, 0]), array([0, 1, 0, ..., 1, 0, 0]), array([0, 1, 0, ..., 1, 0, 0]), array([1, 0, 0, ..., 1, 0, 0]), array([1, 1, 0, ..., 1, 0, 0]), array([0, 0, 0, ..., 1, 0, 0]), array([1, 0, 0, ..., 1, 0, 0]), array([0, 0, 0, ..., 1, 0, 0]), array([1, 0, 0, ..., 1, 0, 1]), array([0, 0, 0, ..., 1, 0, 0]), array([1, 1, 0, ..., 0, 0, 0]), array([1, 1, 0, ..., 1, 0, 0]), array([1, 0, 0, ..., 1, 0, 0]), array([1, 0, 0, ..., 1, 0, 0]), array([1, 0, 0, ..., 1, 0, 0]), array([1, 0, 0, ..., 1, 0, 0]), array([0, 1, 0, ..., 1, 0, 0]), array([0, 0, 0, ..., 0, 0, 0]), array([0, 0, 0, ..., 1, 0, 0]), array([1, 0, 0, ..., 1, 0, 0]), array([0, 1, 0, ..., 1, 0, 0]), array([0, 0, 0, ..., 1, 0, 0]), array([0, 1, 0, ..., 1, 0, 0]), array([1, 0, 0, ..., 1, 0, 0]), array([1, 0, 0, ..., 1, 0, 0]), array([1, 0, 0, ..., 1, 0, 0]), array([0, 0, 0, ..., 1, 0, 0]), array([0, 0, 0, ..., 1, 0, 0]), array([0, 1, 0, ..., 0, 0, 0]), array([1, 0, 0, ..., 1, 0, 0]), array([0, 0, 0, ..., 1, 0, 0]), array([0, 0, 0, ..., 1, 0, 0]), array([0, 0, 0, ..., 1, 0, 0]), array([0, 0, 0, ..., 1, 0, 0]), array([1, 1, 0, ..., 1, 0, 0]), array([1, 1, 0, ..., 1, 0, 0]), array([1, 0, 0, ..., 1, 0, 0]), array([0, 0, 0, ..., 1, 0, 0]), array([1, 0, 0, ..., 1, 0, 0]), array([1, 0, 0, ..., 0, 0, 0]), array([1, 0, 0, ..., 1, 0, 0]), array([0, 0, 0, ..., 1, 0, 0]), array([0, 0, 0, ..., 1, 0, 0]), array([0, 1, 0, ..., 1, 0, 0]), array([0, 1, 0, ..., 1, 0, 0]), array([0, 0, 0, ..., 0, 0, 0]), array([0, 0, 0, ..., 1, 0, 0]), array([1, 0, 0, ..., 1, 0, 0]), array([1, 1, 0, ..., 0, 1, 0]), array([0, 1, 0, ..., 1, 0, 0]), array([0, 0, 0, ..., 1, 1, 0]), array([1, 1, 0, ..., 1, 1, 0]), array([1, 1, 0, ..., 1, 0, 0]), array([0, 1, 0, ..., 1, 0, 0]), array([0, 0, 0, ..., 0, 0, 0]), array([1, 0, 0, ..., 1, 0, 0]), array([1, 0, 0, ..., 1, 0, 0]), array([1, 1, 0, ..., 1, 0, 0]), array([0, 0, 0, ..., 1, 0, 0]), array([1, 0, 0, ..., 1, 0, 0]), array([1, 0, 0, ..., 1, 0, 0]), array([0, 0, 0, ..., 0, 0, 0]), array([1, 0, 0, ..., 1, 0, 0]), array([1, 1, 0, ..., 1, 0, 0]), array([0, 1, 0, ..., 0, 0, 0]), array([0, 0, 0, ..., 0, 0, 0]), array([1, 1, 0, ..., 1, 0, 0]), array([1, 0, 0, ..., 1, 0, 0]), array([1, 1, 0, ..., 1, 0, 0]), array([1, 0, 0, ..., 1, 0, 0]), array([0, 0, 0, ..., 1, 0, 0]), array([0, 0, 1, ..., 1, 1, 0]), array([0, 1, 0, ..., 1, 0, 0]), array([1, 0, 0, ..., 1, 0, 0]), array([1, 0, 0, ..., 1, 0, 0]), array([0, 0, 0, ..., 1, 0, 0]), array([0, 0, 0, ..., 1, 0, 0]), array([1, 0, 0, ..., 1, 0, 0]), array([1, 0, 0, ..., 1, 0, 0]), array([1, 0, 0, ..., 1, 0, 0]), array([0, 1, 1, ..., 1, 1, 0]), array([0, 0, 0, ..., 1, 0, 0]), array([0, 0, 0, ..., 1, 0, 0]), array([0, 0, 0, ..., 1, 0, 0]), array([0, 1, 0, ..., 1, 0, 0]), array([0, 1, 0, ..., 1, 0, 0]), array([1, 0, 0, ..., 1, 0, 0]), array([1, 1, 0, ..., 1, 0, 0]), array([1, 0, 0, ..., 1, 0, 0]), array([1, 0, 0, ..., 1, 0, 0]), array([0, 1, 0, ..., 1, 0, 0]), array([0, 1, 0, ..., 1, 0, 0]), array([1, 0, 0, ..., 1, 0, 0]), array([1, 0, 0, ..., 1, 0, 0]), array([0, 0, 0, ..., 1, 0, 0]), array([1, 0, 0, ..., 0, 0, 0]), array([0, 0, 1, ..., 1, 1, 0]), array([0, 1, 0, ..., 0, 0, 0]), array([1, 0, 0, ..., 1, 0, 0]), array([0, 0, 0, ..., 1, 0, 0]), array([1, 1, 0, ..., 1, 0, 0]), array([1, 0, 0, ..., 1, 0, 0]), array([1, 1, 0, ..., 1, 0, 0]), array([0, 0, 0, ..., 1, 0, 0]), array([1, 0, 0, ..., 1, 0, 0]), array([0, 1, 0, ..., 0, 0, 0]), array([1, 0, 0, ..., 1, 0, 0]), array([1, 1, 0, ..., 1, 0, 0]), array([1, 0, 0, ..., 1, 0, 0]), array([1, 0, 0, ..., 1, 0, 0]), array([0, 1, 0, ..., 1, 0, 0]), array([0, 0, 1, ..., 1, 1, 0]), array([1, 1, 0, ..., 0, 0, 1]), array([1, 0, 1, ..., 1, 0, 0]), array([0, 0, 0, ..., 1, 0, 0]), array([1, 0, 0, ..., 1, 0, 0]), array([1, 0, 0, ..., 1, 0, 0]), array([0, 0, 0, ..., 1, 0, 0]), array([1, 0, 0, ..., 1, 0, 0]), array([0, 0, 0, ..., 1, 0, 0]), array([0, 0, 0, ..., 1, 0, 0]), array([1, 0, 0, ..., 1, 0, 0]), array([1, 0, 0, ..., 1, 0, 0]), array([1, 1, 0, ..., 1, 0, 0]), array([0, 0, 0, ..., 1, 0, 0]), array([1, 1, 0, ..., 1, 0, 0]), array([0, 0, 0, ..., 1, 0, 0]), array([1, 1, 0, ..., 1, 0, 0]), array([0, 0, 0, ..., 1, 0, 0]), array([0, 1, 0, ..., 1, 0, 0]), array([0, 0, 0, ..., 0, 0, 0]), array([0, 0, 0, ..., 1, 0, 0]), array([0, 0, 0, ..., 1, 0, 0]), array([1, 0, 0, ..., 1, 0, 0]), array([1, 1, 0, ..., 1, 0, 0]), array([0, 1, 0, ..., 1, 0, 0]), array([1, 1, 0, ..., 1, 0, 0]), array([0, 0, 0, ..., 1, 0, 0]), array([1, 0, 0, ..., 1, 0, 0]), array([1, 0, 0, ..., 1, 0, 0]), array([1, 0, 0, ..., 1, 0, 0]), array([1, 0, 0, ..., 1, 0, 0]), array([0, 1, 0, ..., 1, 0, 0]), array([0, 0, 0, ..., 1, 0, 0]), array([0, 1, 0, ..., 1, 0, 1]), array([1, 0, 0, ..., 1, 0, 0]), array([0, 0, 0, ..., 1, 0, 0]), array([0, 0, 1, ..., 1, 1, 0]), array([0, 0, 0, ..., 1, 0, 0]), array([0, 0, 0, ..., 1, 0, 0]), array([0, 0, 0, ..., 1, 0, 0]), array([1, 0, 1, ..., 1, 0, 0]), array([1, 0, 0, ..., 0, 0, 0]), array([1, 0, 0, ..., 1, 0, 0]), array([1, 1, 0, ..., 1, 1, 0]), array([1, 1, 0, ..., 1, 0, 0]), array([0, 0, 0, ..., 0, 0, 0]), array([1, 0, 0, ..., 1, 0, 0]), array([0, 0, 0, ..., 1, 0, 0]), array([0, 0, 0, ..., 1, 0, 0]), array([0, 0, 0, ..., 1, 0, 0]), array([1, 1, 0, ..., 0, 0, 0]), array([1, 0, 0, ..., 1, 0, 0]), array([1, 0, 0, ..., 0, 0, 0]), array([0, 0, 0, ..., 1, 0, 0]), array([1, 0, 0, ..., 1, 0, 0]), array([1, 1, 0, ..., 1, 0, 0]), array([1, 0, 0, ..., 1, 0, 0]), array([1, 1, 0, ..., 1, 0, 0]), array([0, 0, 0, ..., 0, 0, 0]), array([0, 0, 0, ..., 1, 0, 0]), array([1, 0, 0, ..., 0, 0, 0]), array([1, 1, 0, ..., 0, 0, 0]), array([1, 0, 1, ..., 1, 1, 0]), array([0, 0, 0, ..., 0, 0, 0]), array([1, 1, 0, ..., 1, 0, 0]), array([0, 0, 0, ..., 1, 0, 0]), array([0, 0, 0, ..., 1, 0, 0]), array([0, 0, 0, ..., 1, 1, 0]), array([1, 0, 0, ..., 1, 0, 0]), array([0, 0, 0, ..., 1, 0, 0]), array([0, 0, 1, ..., 1, 1, 0]), array([1, 0, 0, ..., 0, 0, 0]), array([1, 1, 0, ..., 0, 0, 0]), array([0, 1, 0, ..., 1, 0, 0]), array([0, 1, 0, ..., 1, 0, 0]), array([0, 0, 0, ..., 1, 0, 0]), array([0, 0, 0, ..., 0, 0, 0]), array([0, 1, 0, ..., 1, 0, 0]), array([1, 0, 0, ..., 1, 0, 0]), array([0, 0, 0, ..., 1, 0, 0]), array([1, 1, 0, ..., 1, 0, 0]), array([0, 0, 0, ..., 0, 0, 0]), array([1, 1, 0, ..., 1, 0, 0]), array([0, 1, 0, ..., 1, 0, 0]), array([1, 0, 1, ..., 1, 1, 0]), array([1, 0, 0, ..., 1, 0, 0]), array([1, 0, 0, ..., 1, 0, 0]), array([1, 0, 0, ..., 1, 0, 0]), array([0, 0, 0, ..., 1, 0, 0]), array([1, 1, 0, ..., 1, 0, 0]), array([0, 0, 0, ..., 1, 0, 0]), array([1, 1, 0, ..., 1, 0, 0]), array([1, 0, 1, ..., 1, 1, 0]), array([1, 0, 0, ..., 1, 0, 0]), array([1, 0, 0, ..., 1, 0, 0]), array([0, 0, 0, ..., 0, 0, 0]), array([0, 1, 0, ..., 1, 0, 0]), array([0, 0, 0, ..., 1, 0, 0]), array([1, 0, 0, ..., 1, 1, 0]), array([0, 1, 0, ..., 1, 0, 0]), array([0, 1, 0, ..., 1, 0, 0]), array([0, 1, 0, ..., 1, 0, 0]), array([0, 0, 0, ..., 1, 0, 0]), array([0, 0, 0, ..., 1, 0, 0]), array([0, 0, 0, ..., 0, 0, 0]), array([1, 1, 0, ..., 1, 0, 0]), array([1, 1, 0, ..., 1, 0, 0]), array([0, 1, 0, ..., 1, 0, 0]), array([0, 0, 0, ..., 0, 0, 0]), array([1, 0, 0, ..., 1, 0, 0]), array([1, 1, 0, ..., 1, 0, 0]), array([1, 1, 0, ..., 1, 0, 0]), array([0, 0, 0, ..., 1, 0, 0]), array([1, 1, 0, ..., 1, 0, 0]), array([0, 0, 0, ..., 1, 0, 0]), array([0, 0, 0, ..., 1, 0, 0]), array([1, 0, 0, ..., 1, 0, 0]), array([1, 0, 0, ..., 1, 0, 0]), array([0, 0, 0, ..., 1, 0, 0]), array([0, 0, 0, ..., 1, 0, 0]), array([1, 0, 0, ..., 1, 0, 0]), array([1, 0, 0, ..., 1, 0, 0]), array([0, 0, 0, ..., 1, 0, 0]), array([1, 0, 0, ..., 1, 0, 0]), array([1, 1, 0, ..., 1, 0, 0]), array([0, 0, 0, ..., 1, 0, 0]), array([1, 0, 1, ..., 1, 0, 0]), array([0, 0, 0, ..., 1, 0, 0]), array([0, 1, 0, ..., 1, 1, 0]), array([1, 1, 0, ..., 1, 0, 0]), array([0, 1, 0, ..., 1, 0, 0]), array([1, 1, 0, ..., 1, 0, 0]), array([0, 1, 0, ..., 1, 0, 0]), array([0, 1, 0, ..., 0, 0, 0]), array([1, 0, 0, ..., 1, 0, 0]), array([1, 0, 0, ..., 1, 0, 0]), array([1, 1, 1, ..., 1, 1, 0]), array([1, 0, 0, ..., 1, 0, 0]), array([0, 0, 0, ..., 1, 0, 0]), array([1, 1, 0, ..., 1, 0, 0]), array([1, 0, 0, ..., 1, 0, 0]), array([1, 1, 0, ..., 1, 0, 1]), array([1, 1, 0, ..., 1, 0, 0]), array([1, 1, 0, ..., 1, 0, 0]), array([0, 0, 0, ..., 1, 0, 0]), array([1, 1, 0, ..., 1, 0, 0]), array([0, 0, 0, ..., 1, 0, 0]), array([1, 1, 0, ..., 1, 0, 0]), array([0, 1, 0, ..., 1, 0, 0]), array([0, 0, 0, ..., 1, 0, 0]), array([1, 0, 0, ..., 1, 0, 0]), array([0, 0, 0, ..., 1, 0, 0]), array([0, 0, 0, ..., 1, 0, 0]), array([1, 0, 0, ..., 1, 0, 0]), array([0, 1, 0, ..., 1, 0, 0]), array([1, 0, 0, ..., 1, 1, 0]), array([0, 1, 0, ..., 0, 0, 0]), array([1, 0, 0, ..., 1, 0, 0]), array([1, 0, 0, ..., 1, 0, 0]), array([1, 0, 0, ..., 1, 0, 0]), array([1, 0, 0, ..., 1, 0, 0]), array([0, 0, 0, ..., 1, 0, 0]), array([1, 0, 0, ..., 0, 0, 0]), array([0, 0, 0, ..., 0, 0, 0]), array([0, 0, 0, ..., 1, 0, 0]), array([0, 0, 0, ..., 1, 0, 0]), array([1, 0, 0, ..., 1, 0, 0]), array([1, 0, 0, ..., 1, 0, 0]), array([0, 0, 0, ..., 1, 0, 0]), array([0, 0, 0, ..., 1, 0, 0]), array([0, 0, 1, ..., 1, 0, 0]), array([1, 0, 0, ..., 1, 0, 0]), array([0, 0, 0, ..., 1, 0, 0]), array([1, 1, 0, ..., 1, 0, 0]), array([0, 0, 0, ..., 1, 0, 0]), array([0, 0, 0, ..., 0, 0, 0]), array([1, 0, 0, ..., 0, 0, 0]), array([1, 0, 0, ..., 1, 0, 0]), array([1, 0, 0, ..., 1, 0, 0]), array([0, 0, 0, ..., 1, 0, 0]), array([0, 0, 0, ..., 1, 0, 0]), array([0, 1, 0, ..., 1, 0, 0]), array([1, 1, 0, ..., 1, 0, 0]), array([1, 0, 0, ..., 0, 0, 0]), array([1, 0, 0, ..., 1, 0, 0]), array([0, 1, 0, ..., 1, 0, 0]), array([0, 0, 0, ..., 1, 0, 0]), array([1, 0, 0, ..., 1, 0, 0]), array([1, 0, 0, ..., 1, 0, 0]), array([1, 0, 0, ..., 1, 0, 0]), array([0, 0, 0, ..., 1, 0, 0]), array([1, 1, 0, ..., 1, 0, 0]), array([1, 0, 0, ..., 1, 0, 0]), array([1, 0, 0, ..., 1, 0, 0]), array([1, 0, 0, ..., 1, 0, 0]), array([0, 0, 0, ..., 1, 0, 0]), array([0, 0, 0, ..., 1, 0, 0]), array([0, 1, 0, ..., 1, 0, 0]), array([1, 0, 0, ..., 1, 0, 0]), array([0, 0, 0, ..., 1, 0, 0]), array([1, 0, 0, ..., 1, 0, 0]), array([0, 0, 0, ..., 1, 0, 0]), array([0, 0, 0, ..., 1, 0, 0]), array([1, 0, 0, ..., 1, 0, 0]), array([0, 1, 1, ..., 1, 0, 0]), array([0, 1, 0, ..., 1, 0, 0]), array([1, 0, 0, ..., 1, 0, 0]), array([0, 1, 0, ..., 1, 0, 0]), array([1, 0, 0, ..., 1, 0, 0]), array([0, 1, 0, ..., 1, 0, 0]), array([0, 0, 0, ..., 1, 0, 0]), array([1, 1, 0, ..., 1, 0, 0]), array([1, 0, 0, ..., 1, 0, 0]), array([0, 1, 0, ..., 1, 0, 0]), array([1, 0, 0, ..., 1, 0, 0]), array([0, 0, 1, ..., 1, 1, 0]), array([1, 0, 0, ..., 1, 0, 0]), array([0, 1, 0, ..., 1, 0, 0]), array([0, 0, 0, ..., 1, 0, 1]), array([1, 1, 0, ..., 1, 0, 0]), array([0, 0, 0, ..., 0, 0, 0]), array([1, 0, 0, ..., 1, 0, 0]), array([0, 1, 0, ..., 1, 0, 0]), array([1, 1, 0, ..., 1, 0, 0]), array([0, 0, 0, ..., 0, 0, 0]), array([0, 0, 0, ..., 1, 0, 0]), array([0, 0, 0, ..., 1, 1, 0]), array([0, 0, 0, ..., 1, 0, 0]), array([0, 0, 1, ..., 0, 0, 0]), array([0, 0, 0, ..., 0, 0, 0]), array([0, 0, 1, ..., 1, 0, 0]), array([1, 0, 0, ..., 1, 0, 0]), array([0, 0, 0, ..., 1, 0, 0]), array([0, 0, 0, ..., 1, 0, 0]), array([0, 0, 0, ..., 1, 0, 0]), array([1, 0, 0, ..., 1, 0, 0]), array([0, 0, 0, ..., 1, 0, 0]), array([1, 0, 0, ..., 1, 0, 0]), array([1, 0, 0, ..., 1, 0, 0]), array([1, 0, 0, ..., 1, 0, 0]), array([0, 0, 0, ..., 1, 0, 0]), array([0, 0, 0, ..., 1, 0, 0]), array([1, 0, 0, ..., 1, 0, 0]), array([0, 0, 0, ..., 1, 0, 0]), array([1, 0, 1, ..., 1, 1, 0]), array([1, 1, 0, ..., 1, 0, 0]), array([0, 1, 0, ..., 1, 0, 0]), array([1, 0, 0, ..., 1, 0, 0]), array([1, 0, 0, ..., 1, 0, 0]), array([1, 0, 0, ..., 1, 0, 0]), array([1, 0, 0, ..., 1, 0, 0]), array([1, 0, 0, ..., 1, 0, 0]), array([1, 0, 0, ..., 1, 0, 0]), array([0, 0, 0, ..., 1, 0, 0]), array([1, 0, 1, ..., 1, 0, 0]), array([1, 0, 0, ..., 1, 0, 0]), array([0, 1, 0, ..., 1, 0, 0]), array([0, 0, 0, ..., 1, 0, 0]), array([1, 0, 0, ..., 1, 0, 0]), array([0, 0, 0, ..., 1, 0, 0]), array([0, 0, 0, ..., 1, 0, 0]), array([0, 0, 0, ..., 1, 0, 0]), array([0, 0, 0, ..., 0, 0, 0]), array([1, 0, 0, ..., 1, 0, 0]), array([0, 1, 0, ..., 0, 0, 0]), array([1, 1, 0, ..., 1, 0, 0]), array([0, 0, 0, ..., 1, 0, 0]), array([1, 1, 0, ..., 1, 0, 0]), array([1, 1, 0, ..., 1, 0, 0]), array([0, 0, 0, ..., 1, 0, 0]), array([1, 1, 0, ..., 1, 0, 0]), array([0, 0, 0, ..., 1, 0, 0]), array([0, 0, 0, ..., 0, 0, 0]), array([1, 1, 0, ..., 1, 0, 0]), array([1, 0, 0, ..., 1, 0, 0]), array([0, 1, 0, ..., 1, 0, 0]), array([0, 1, 1, ..., 1, 0, 0]), array([0, 0, 0, ..., 1, 0, 0]), array([1, 0, 0, ..., 0, 0, 0]), array([1, 1, 0, ..., 1, 0, 0]), array([0, 0, 0, ..., 1, 0, 0]), array([0, 0, 0, ..., 1, 0, 0]), array([1, 1, 0, ..., 0, 0, 0]), array([1, 0, 0, ..., 1, 0, 0]), array([0, 0, 0, ..., 0, 0, 0]), array([1, 0, 0, ..., 1, 1, 0]), array([0, 1, 0, ..., 1, 0, 0]), array([1, 0, 0, ..., 1, 0, 0]), array([0, 0, 1, ..., 0, 0, 0]), array([1, 0, 0, ..., 1, 0, 0]), array([0, 0, 0, ..., 0, 0, 0]), array([0, 0, 0, ..., 0, 0, 0]), array([0, 1, 1, ..., 1, 1, 0]), array([0, 0, 0, ..., 1, 0, 0]), array([1, 0, 0, ..., 1, 0, 0]), array([1, 1, 1, ..., 0, 1, 0]), array([1, 0, 0, ..., 1, 0, 0]), array([1, 1, 0, ..., 1, 0, 0]), array([1, 0, 0, ..., 1, 0, 0]), array([0, 0, 0, ..., 1, 0, 0]), array([1, 0, 0, ..., 1, 0, 0]), array([0, 1, 0, ..., 1, 0, 0]), array([1, 0, 0, ..., 1, 0, 0]), array([1, 0, 0, ..., 0, 0, 0]), array([0, 1, 0, ..., 1, 0, 0]), array([1, 0, 0, ..., 1, 0, 0]), array([1, 0, 0, ..., 1, 0, 1]), array([0, 0, 0, ..., 1, 0, 0]), array([0, 0, 0, ..., 1, 0, 0]), array([0, 0, 0, ..., 1, 0, 0]), array([0, 0, 0, ..., 1, 0, 0]), array([1, 0, 0, ..., 1, 0, 0]), array([1, 0, 0, ..., 1, 0, 0]), array([1, 0, 0, ..., 1, 0, 0]), array([1, 0, 1, ..., 1, 1, 0]), array([0, 0, 0, ..., 1, 0, 0]), array([1, 1, 0, ..., 1, 0, 0]), array([0, 0, 0, ..., 1, 0, 0]), array([0, 0, 0, ..., 1, 0, 0]), array([0, 1, 0, ..., 1, 0, 0]), array([1, 0, 0, ..., 1, 0, 0]), array([1, 0, 0, ..., 1, 0, 1]), array([1, 0, 0, ..., 1, 0, 0]), array([0, 0, 0, ..., 1, 0, 0]), array([1, 0, 0, ..., 1, 0, 0]), array([1, 0, 0, ..., 1, 0, 0]), array([1, 0, 0, ..., 1, 0, 0]), array([1, 0, 0, ..., 1, 0, 0]), array([0, 0, 0, ..., 0, 0, 0]), array([1, 0, 0, ..., 1, 0, 0]), array([0, 1, 0, ..., 1, 0, 0]), array([0, 0, 0, ..., 1, 0, 0]), array([1, 0, 0, ..., 1, 1, 0]), array([0, 0, 0, ..., 1, 0, 0]), array([0, 1, 0, ..., 1, 0, 0]), array([1, 1, 0, ..., 1, 0, 0]), array([0, 1, 0, ..., 1, 0, 0]), array([0, 0, 0, ..., 1, 1, 0]), array([0, 0, 1, ..., 1, 0, 0]), array([0, 0, 0, ..., 1, 0, 0]), array([1, 1, 0, ..., 1, 0, 0]), array([1, 0, 0, ..., 1, 0, 0]), array([1, 0, 0, ..., 1, 0, 0]), array([0, 0, 0, ..., 1, 0, 0]), array([1, 0, 0, ..., 1, 0, 0]), array([0, 0, 0, ..., 1, 0, 0]), array([1, 0, 0, ..., 1, 0, 0]), array([1, 0, 0, ..., 1, 0, 0]), array([1, 0, 0, ..., 1, 0, 0]), array([1, 0, 0, ..., 1, 0, 0]), array([0, 1, 0, ..., 1, 0, 0]), array([1, 0, 0, ..., 1, 0, 0]), array([0, 1, 0, ..., 1, 0, 0]), array([0, 0, 0, ..., 1, 0, 0]), array([1, 0, 0, ..., 1, 0, 0]), array([1, 0, 0, ..., 1, 0, 0]), array([0, 0, 0, ..., 0, 0, 0]), array([1, 0, 0, ..., 1, 0, 0]), array([0, 0, 0, ..., 1, 0, 0]), array([0, 1, 0, ..., 1, 0, 0]), array([0, 1, 0, ..., 0, 0, 0]), array([1, 0, 0, ..., 1, 0, 0]), array([0, 1, 1, ..., 1, 1, 0]), array([0, 0, 0, ..., 1, 0, 0]), array([1, 1, 0, ..., 1, 0, 0]), array([1, 0, 0, ..., 1, 0, 0]), array([1, 0, 0, ..., 1, 0, 0]), array([1, 0, 0, ..., 1, 0, 0]), array([1, 1, 0, ..., 1, 0, 0]), array([0, 0, 0, ..., 1, 0, 0]), array([1, 1, 0, ..., 1, 0, 0]), array([1, 0, 0, ..., 1, 0, 0]), array([0, 0, 0, ..., 1, 0, 0]), array([0, 0, 0, ..., 1, 0, 0]), array([1, 0, 0, ..., 1, 0, 0]), array([1, 0, 0, ..., 1, 0, 0]), array([1, 1, 1, ..., 1, 1, 0]), array([0, 0, 0, ..., 1, 0, 0]), array([0, 0, 1, ..., 1, 1, 0]), array([1, 0, 0, ..., 1, 0, 0]), array([0, 0, 0, ..., 1, 0, 0]), array([0, 0, 0, ..., 1, 0, 0]), array([1, 0, 0, ..., 1, 0, 0]), array([1, 0, 0, ..., 1, 0, 0]), array([1, 0, 0, ..., 1, 1, 0]), array([1, 0, 0, ..., 1, 0, 0]), array([1, 0, 0, ..., 1, 0, 0]), array([1, 0, 0, ..., 0, 0, 0]), array([0, 1, 1, ..., 0, 0, 0]), array([1, 1, 0, ..., 1, 0, 0]), array([0, 0, 0, ..., 1, 0, 0]), array([1, 0, 0, ..., 1, 0, 0]), array([1, 0, 0, ..., 1, 0, 0]), array([1, 0, 0, ..., 1, 0, 0]), array([0, 0, 0, ..., 0, 0, 0]), array([1, 0, 0, ..., 1, 0, 0]), array([1, 0, 0, ..., 1, 0, 0]), array([0, 1, 0, ..., 1, 0, 0]), array([1, 0, 0, ..., 1, 0, 0]), array([1, 0, 1, ..., 1, 0, 0]), array([1, 0, 0, ..., 1, 0, 0]), array([0, 1, 0, ..., 1, 0, 0]), array([0, 1, 0, ..., 1, 0, 0]), array([0, 1, 0, ..., 1, 0, 0]), array([1, 0, 0, ..., 1, 0, 0]), array([0, 1, 0, ..., 1, 0, 0]), array([0, 0, 0, ..., 1, 0, 0]), array([0, 0, 0, ..., 0, 0, 0]), array([0, 0, 0, ..., 1, 0, 0]), array([0, 0, 1, ..., 1, 0, 0]), array([0, 0, 0, ..., 1, 0, 0]), array([0, 0, 0, ..., 1, 0, 0]), array([1, 0, 0, ..., 1, 0, 0]), array([0, 0, 0, ..., 1, 0, 0]), array([1, 0, 0, ..., 0, 0, 0]), array([0, 0, 1, ..., 1, 0, 0]), array([0, 0, 0, ..., 1, 0, 0]), array([1, 0, 0, ..., 1, 0, 0]), array([0, 0, 0, ..., 1, 0, 0]), array([1, 1, 0, ..., 1, 0, 0]), array([0, 0, 0, ..., 1, 0, 0]), array([0, 0, 0, ..., 1, 0, 0]), array([1, 1, 0, ..., 0, 0, 0]), array([0, 0, 0, ..., 0, 0, 0]), array([1, 0, 0, ..., 0, 0, 0]), array([1, 0, 0, ..., 0, 0, 0]), array([0, 0, 0, ..., 1, 0, 0]), array([0, 1, 0, ..., 1, 0, 0]), array([1, 1, 0, ..., 1, 0, 0]), array([0, 0, 0, ..., 1, 0, 0]), array([0, 0, 0, ..., 0, 0, 0]), array([1, 1, 0, ..., 1, 0, 0]), array([1, 1, 0, ..., 1, 0, 0]), array([0, 1, 0, ..., 1, 0, 0]), array([1, 0, 0, ..., 1, 0, 0]), array([0, 0, 0, ..., 1, 0, 0]), array([0, 0, 0, ..., 1, 0, 0]), array([0, 0, 0, ..., 0, 0, 0]), array([1, 0, 0, ..., 0, 0, 0]), array([1, 0, 0, ..., 1, 0, 0]), array([1, 1, 1, ..., 1, 1, 0]), array([0, 1, 0, ..., 0, 0, 0]), array([0, 0, 0, ..., 1, 0, 0]), array([0, 0, 0, ..., 1, 0, 0]), array([0, 0, 0, ..., 1, 0, 0]), array([1, 0, 0, ..., 1, 0, 0]), array([0, 0, 0, ..., 1, 0, 0]), array([1, 0, 0, ..., 1, 0, 0]), array([1, 1, 0, ..., 0, 0, 0]), array([1, 0, 0, ..., 1, 0, 0]), array([0, 0, 0, ..., 1, 0, 0]), array([0, 0, 0, ..., 1, 1, 0]), array([1, 0, 0, ..., 1, 0, 0]), array([0, 1, 0, ..., 1, 0, 0]), array([1, 0, 0, ..., 1, 0, 0]), array([0, 0, 0, ..., 1, 0, 0]), array([1, 0, 0, ..., 1, 0, 0]), array([0, 0, 0, ..., 1, 0, 0]), array([0, 0, 0, ..., 1, 0, 0]), array([1, 1, 0, ..., 0, 0, 0]), array([1, 1, 0, ..., 1, 0, 0]), array([1, 0, 0, ..., 1, 0, 0]), array([0, 0, 0, ..., 1, 0, 0]), array([1, 0, 0, ..., 1, 0, 0]), array([1, 1, 0, ..., 1, 0, 0]), array([1, 0, 0, ..., 0, 0, 0]), array([0, 0, 0, ..., 1, 0, 0]), array([1, 0, 0, ..., 1, 0, 0]), array([1, 0, 1, ..., 1, 1, 0]), array([1, 0, 1, ..., 0, 0, 0]), array([1, 0, 0, ..., 1, 0, 0]), array([0, 0, 0, ..., 1, 0, 0]), array([0, 0, 0, ..., 1, 0, 0]), array([0, 0, 0, ..., 1, 0, 0]), array([1, 0, 0, ..., 1, 0, 0]), array([1, 0, 0, ..., 1, 0, 0]), array([0, 0, 0, ..., 1, 0, 0]), array([0, 0, 0, ..., 1, 0, 0]), array([0, 1, 0, ..., 1, 0, 0]), array([0, 0, 0, ..., 0, 0, 0]), array([1, 0, 0, ..., 1, 0, 0]), array([1, 0, 0, ..., 1, 0, 0]), array([1, 0, 0, ..., 1, 0, 0]), array([0, 0, 0, ..., 1, 0, 0]), array([1, 1, 0, ..., 1, 0, 0]), array([1, 0, 0, ..., 1, 0, 0]), array([0, 0, 1, ..., 1, 1, 0]), array([0, 0, 0, ..., 1, 0, 0]), array([1, 0, 0, ..., 1, 0, 0]), array([0, 1, 0, ..., 1, 0, 0]), array([0, 0, 0, ..., 1, 0, 0]), array([0, 0, 0, ..., 1, 0, 0]), array([0, 0, 0, ..., 1, 0, 0]), array([0, 0, 0, ..., 1, 0, 0]), array([0, 0, 0, ..., 1, 0, 0]), array([1, 0, 0, ..., 1, 0, 0]), array([1, 1, 0, ..., 0, 0, 0]), array([0, 0, 0, ..., 1, 0, 0]), array([1, 0, 0, ..., 1, 0, 1]), array([0, 1, 0, ..., 1, 0, 0]), array([1, 0, 0, ..., 1, 0, 0]), array([1, 0, 0, ..., 0, 0, 0]), array([1, 0, 0, ..., 1, 0, 0]), array([0, 0, 0, ..., 1, 0, 0]), array([0, 1, 0, ..., 1, 0, 0]), array([0, 0, 0, ..., 1, 0, 0]), array([1, 0, 0, ..., 1, 0, 0]), array([0, 0, 1, ..., 1, 1, 0]), array([1, 0, 0, ..., 1, 0, 0]), array([1, 1, 0, ..., 1, 0, 0]), array([1, 1, 0, ..., 1, 0, 0]), array([1, 0, 0, ..., 1, 0, 0]), array([1, 0, 0, ..., 1, 0, 0]), array([0, 0, 0, ..., 1, 0, 0]), array([0, 0, 0, ..., 0, 0, 0]), array([1, 0, 0, ..., 0, 0, 0]), array([0, 0, 1, ..., 1, 0, 0]), array([1, 0, 0, ..., 1, 0, 0]), array([1, 0, 0, ..., 1, 0, 0]), array([0, 1, 0, ..., 1, 0, 0]), array([1, 1, 0, ..., 1, 0, 0]), array([1, 0, 0, ..., 1, 0, 0]), array([0, 1, 0, ..., 1, 0, 0]), array([1, 0, 0, ..., 1, 0, 0]), array([1, 0, 1, ..., 1, 0, 0]), array([1, 0, 0, ..., 1, 0, 0]), array([0, 0, 0, ..., 1, 0, 0]), array([0, 0, 1, ..., 1, 1, 0]), array([1, 0, 0, ..., 1, 0, 0]), array([0, 0, 0, ..., 0, 0, 0]), array([1, 0, 0, ..., 0, 0, 0]), array([1, 1, 0, ..., 1, 0, 0]), array([1, 0, 0, ..., 1, 0, 0]), array([1, 0, 0, ..., 1, 0, 0]), array([0, 1, 0, ..., 1, 0, 0]), array([0, 0, 0, ..., 1, 0, 0]), array([1, 0, 0, ..., 1, 0, 0]), array([1, 0, 0, ..., 1, 0, 0]), array([0, 0, 0, ..., 1, 0, 0]), array([1, 0, 0, ..., 1, 0, 0]), array([0, 0, 0, ..., 1, 0, 0]), array([1, 1, 0, ..., 1, 0, 0]), array([1, 0, 0, ..., 1, 0, 0]), array([0, 0, 0, ..., 1, 0, 1]), array([1, 0, 0, ..., 1, 0, 0]), array([1, 1, 0, ..., 1, 0, 0]), array([1, 1, 0, ..., 1, 0, 0]), array([1, 0, 0, ..., 1, 0, 0]), array([0, 0, 0, ..., 1, 0, 0]), array([1, 1, 0, ..., 1, 0, 0]), array([0, 0, 0, ..., 1, 0, 0]), array([1, 0, 1, ..., 0, 1, 0]), array([0, 0, 0, ..., 1, 0, 0]), array([0, 0, 0, ..., 1, 0, 0]), array([1, 0, 0, ..., 1, 0, 0]), array([1, 0, 0, ..., 1, 0, 0]), array([0, 0, 0, ..., 0, 0, 0]), array([0, 0, 0, ..., 1, 0, 0]), array([1, 0, 0, ..., 1, 0, 0]), array([1, 0, 0, ..., 1, 0, 0]), array([1, 1, 0, ..., 1, 0, 0]), array([0, 0, 0, ..., 1, 0, 0]), array([0, 0, 0, ..., 1, 0, 0]), array([0, 0, 0, ..., 1, 0, 0]), array([1, 1, 0, ..., 1, 0, 0]), array([0, 1, 0, ..., 1, 0, 0]), array([1, 0, 1, ..., 1, 0, 0]), array([0, 1, 0, ..., 1, 0, 0]), array([1, 1, 1, ..., 1, 1, 0]), array([0, 0, 0, ..., 1, 0, 0]), array([1, 1, 0, ..., 1, 0, 0]), array([1, 0, 0, ..., 0, 0, 0]), array([1, 0, 0, ..., 1, 0, 0]), array([1, 0, 0, ..., 1, 0, 0]), array([0, 1, 0, ..., 1, 0, 0]), array([1, 1, 0, ..., 1, 0, 0]), array([0, 0, 0, ..., 0, 0, 0]), array([1, 1, 0, ..., 1, 0, 0]), array([1, 0, 0, ..., 1, 0, 0]), array([1, 0, 0, ..., 1, 0, 0]), array([1, 0, 0, ..., 1, 0, 0]), array([1, 0, 0, ..., 1, 0, 0]), array([1, 0, 0, ..., 1, 0, 0]), array([1, 0, 0, ..., 1, 0, 0]), array([1, 0, 0, ..., 1, 0, 0]), array([0, 0, 1, ..., 1, 1, 0]), array([1, 0, 1, ..., 1, 0, 0]), array([0, 0, 0, ..., 1, 0, 0]), array([0, 1, 0, ..., 1, 0, 0]), array([0, 0, 0, ..., 0, 0, 0]), array([1, 0, 0, ..., 1, 0, 0]), array([0, 1, 0, ..., 1, 0, 0]), array([1, 0, 0, ..., 1, 0, 0]), array([0, 0, 0, ..., 1, 0, 0]), array([0, 0, 0, ..., 0, 0, 0]), array([1, 0, 0, ..., 1, 0, 0]), array([0, 0, 0, ..., 1, 0, 0]), array([1, 0, 0, ..., 1, 0, 0]), array([1, 0, 1, ..., 1, 1, 0]), array([0, 0, 1, ..., 1, 1, 0]), array([0, 1, 0, ..., 1, 0, 0]), array([0, 0, 0, ..., 1, 0, 0]), array([1, 0, 0, ..., 1, 0, 0]), array([0, 1, 0, ..., 1, 0, 1]), array([0, 0, 1, ..., 0, 1, 0]), array([1, 0, 0, ..., 1, 0, 0]), array([0, 0, 0, ..., 1, 0, 0]), array([1, 0, 0, ..., 1, 0, 0]), array([1, 0, 1, ..., 1, 1, 0]), array([0, 0, 0, ..., 0, 0, 0]), array([1, 1, 0, ..., 1, 0, 0]), array([0, 0, 0, ..., 1, 1, 0]), array([1, 0, 0, ..., 1, 0, 0]), array([1, 0, 0, ..., 1, 0, 0]), array([0, 1, 0, ..., 1, 0, 0]), array([0, 0, 0, ..., 1, 0, 0]), array([1, 0, 0, ..., 1, 0, 0]), array([1, 0, 0, ..., 1, 0, 0]), array([0, 0, 0, ..., 1, 0, 0]), array([1, 1, 0, ..., 1, 0, 0]), array([1, 0, 1, ..., 1, 0, 0]), array([1, 1, 0, ..., 1, 0, 0]), array([0, 0, 0, ..., 1, 0, 0]), array([1, 0, 0, ..., 1, 0, 0]), array([1, 0, 0, ..., 1, 0, 0]), array([1, 0, 0, ..., 1, 0, 0]), array([1, 0, 0, ..., 1, 0, 0]), array([1, 0, 0, ..., 1, 0, 0]), array([0, 0, 0, ..., 1, 0, 0]), array([1, 1, 1, ..., 1, 0, 0]), array([1, 0, 0, ..., 1, 0, 0]), array([1, 1, 0, ..., 1, 0, 0]), array([1, 0, 0, ..., 1, 0, 0]), array([1, 0, 0, ..., 1, 0, 0]), array([0, 0, 1, ..., 1, 0, 0]), array([0, 0, 0, ..., 1, 0, 0]), array([0, 0, 0, ..., 1, 0, 0]), array([0, 0, 0, ..., 0, 0, 0]), array([0, 1, 0, ..., 1, 0, 0]), array([0, 0, 0, ..., 1, 0, 0]), array([1, 1, 0, ..., 1, 0, 0]), array([1, 1, 0, ..., 1, 0, 0]), array([1, 0, 0, ..., 1, 0, 0]), array([1, 0, 0, ..., 1, 0, 0]), array([0, 0, 0, ..., 1, 0, 0]), array([0, 0, 0, ..., 0, 0, 0]), array([0, 0, 0, ..., 1, 0, 0]), array([0, 0, 0, ..., 1, 0, 0]), array([1, 0, 0, ..., 0, 0, 0]), array([0, 0, 1, ..., 1, 1, 0]), array([1, 0, 0, ..., 1, 0, 0]), array([1, 0, 0, ..., 1, 0, 0]), array([1, 0, 0, ..., 1, 0, 0]), array([1, 0, 1, ..., 1, 0, 0]), array([1, 0, 0, ..., 1, 0, 0]), array([0, 0, 0, ..., 0, 0, 0]), array([0, 0, 0, ..., 0, 0, 0]), array([1, 0, 0, ..., 1, 0, 0]), array([0, 0, 0, ..., 0, 0, 0]), array([1, 0, 0, ..., 1, 0, 0]), array([0, 0, 0, ..., 1, 0, 0]), array([1, 0, 0, ..., 1, 0, 0]), array([0, 0, 0, ..., 1, 0, 0]), array([1, 1, 0, ..., 1, 0, 0]), array([1, 0, 0, ..., 1, 0, 0]), array([0, 1, 0, ..., 1, 0, 0]), array([1, 1, 0, ..., 1, 0, 0]), array([0, 0, 1, ..., 1, 0, 0]), array([1, 0, 0, ..., 1, 0, 0]), array([0, 0, 0, ..., 0, 0, 0]), array([0, 0, 0, ..., 1, 0, 0]), array([1, 0, 0, ..., 1, 0, 0]), array([1, 0, 0, ..., 1, 0, 0]), array([0, 0, 0, ..., 1, 0, 0]), array([1, 0, 0, ..., 1, 0, 0]), array([0, 0, 0, ..., 1, 0, 0]), array([0, 1, 0, ..., 1, 0, 0]), array([1, 0, 0, ..., 1, 0, 0]), array([0, 0, 0, ..., 0, 0, 0]), array([1, 0, 0, ..., 1, 0, 0]), array([0, 0, 0, ..., 1, 0, 0]), array([1, 0, 0, ..., 1, 0, 0]), array([0, 0, 0, ..., 1, 0, 0]), array([1, 0, 0, ..., 1, 0, 0]), array([1, 0, 0, ..., 1, 1, 0]), array([0, 0, 0, ..., 1, 0, 0]), array([1, 0, 0, ..., 1, 0, 0]), array([1, 0, 0, ..., 1, 0, 0]), array([0, 0, 0, ..., 1, 0, 0]), array([0, 0, 0, ..., 1, 0, 0]), array([0, 1, 0, ..., 1, 0, 0]), array([0, 0, 1, ..., 1, 1, 0]), array([1, 1, 0, ..., 1, 0, 0]), array([1, 0, 1, ..., 1, 0, 0]), array([0, 0, 0, ..., 1, 0, 0]), array([1, 1, 0, ..., 1, 0, 0]), array([1, 0, 0, ..., 1, 0, 0]), array([0, 0, 0, ..., 1, 0, 0]), array([1, 0, 0, ..., 1, 1, 0]), array([0, 0, 1, ..., 1, 0, 0]), array([1, 0, 0, ..., 1, 0, 0]), array([1, 0, 0, ..., 1, 0, 0]), array([0, 0, 0, ..., 1, 0, 0]), array([1, 0, 0, ..., 1, 0, 0]), array([1, 1, 0, ..., 1, 0, 0]), array([0, 0, 1, ..., 1, 1, 0]), array([1, 1, 0, ..., 1, 0, 0]), array([1, 0, 0, ..., 1, 0, 0]), array([0, 0, 0, ..., 0, 1, 0]), array([1, 0, 0, ..., 1, 0, 0]), array([1, 0, 0, ..., 1, 0, 0]), array([0, 0, 0, ..., 1, 0, 0]), array([1, 0, 0, ..., 1, 0, 0]), array([1, 0, 0, ..., 1, 0, 0]), array([1, 0, 0, ..., 0, 0, 0]), array([0, 0, 0, ..., 1, 0, 0]), array([0, 0, 0, ..., 1, 0, 0]), array([1, 0, 0, ..., 1, 0, 0]), array([0, 1, 0, ..., 1, 0, 0]), array([1, 0, 0, ..., 1, 0, 0]), array([0, 0, 0, ..., 1, 0, 0]), array([1, 1, 0, ..., 0, 1, 0]), array([0, 0, 0, ..., 1, 0, 0]), array([0, 1, 0, ..., 1, 0, 0]), array([0, 0, 0, ..., 1, 0, 0]), array([1, 0, 1, ..., 1, 0, 0]), array([1, 1, 0, ..., 1, 0, 0]), array([1, 0, 0, ..., 1, 0, 0]), array([1, 0, 0, ..., 1, 0, 0]), array([0, 0, 0, ..., 1, 0, 0]), array([1, 0, 1, ..., 1, 1, 0]), array([1, 0, 1, ..., 1, 1, 0]), array([1, 1, 0, ..., 1, 0, 0]), array([1, 0, 0, ..., 1, 0, 0]), array([0, 0, 0, ..., 1, 0, 0]), array([1, 0, 0, ..., 1, 0, 0]), array([0, 0, 0, ..., 1, 0, 0]), array([1, 1, 0, ..., 1, 0, 0]), array([1, 0, 0, ..., 1, 0, 0]), array([1, 0, 0, ..., 1, 0, 0]), array([1, 1, 0, ..., 1, 0, 0]), array([0, 0, 0, ..., 1, 0, 0]), array([1, 0, 0, ..., 1, 0, 0]), array([1, 0, 0, ..., 1, 0, 0]), array([1, 1, 0, ..., 1, 0, 0]), array([1, 0, 1, ..., 1, 0, 0]), array([1, 0, 0, ..., 1, 0, 0]), array([0, 0, 0, ..., 1, 0, 0]), array([0, 0, 0, ..., 1, 0, 0]), array([0, 0, 0, ..., 0, 0, 0]), array([0, 0, 0, ..., 1, 0, 0]), array([1, 0, 0, ..., 0, 0, 0]), array([1, 0, 0, ..., 1, 0, 0]), array([1, 0, 0, ..., 1, 0, 0]), array([1, 0, 0, ..., 0, 0, 0]), array([0, 0, 0, ..., 1, 0, 0]), array([0, 0, 0, ..., 1, 0, 0]), array([1, 1, 0, ..., 1, 0, 0]), array([0, 0, 0, ..., 0, 0, 0]), array([1, 0, 1, ..., 1, 1, 0]), array([1, 0, 0, ..., 0, 0, 0]), array([0, 0, 0, ..., 1, 0, 0]), array([0, 0, 0, ..., 1, 0, 0]), array([1, 0, 1, ..., 1, 0, 0]), array([0, 1, 0, ..., 1, 0, 0]), array([0, 0, 0, ..., 1, 0, 0]), array([1, 0, 0, ..., 1, 0, 0]), array([1, 0, 0, ..., 1, 0, 0]), array([1, 0, 0, ..., 1, 0, 0]), array([1, 1, 0, ..., 1, 0, 0]), array([0, 1, 0, ..., 1, 0, 0]), array([1, 0, 0, ..., 0, 0, 0]), array([1, 0, 0, ..., 1, 0, 0]), array([0, 0, 0, ..., 1, 0, 0]), array([0, 0, 0, ..., 1, 0, 0]), array([1, 0, 0, ..., 1, 0, 0]), array([1, 0, 0, ..., 1, 0, 0]), array([0, 0, 0, ..., 0, 0, 0]), array([0, 0, 0, ..., 1, 0, 0]), array([0, 1, 0, ..., 1, 0, 0]), array([1, 1, 0, ..., 1, 0, 0]), array([1, 0, 1, ..., 1, 0, 0]), array([0, 0, 0, ..., 1, 0, 0]), array([0, 1, 0, ..., 1, 0, 0]), array([1, 0, 0, ..., 1, 0, 0]), array([1, 0, 0, ..., 1, 0, 0]), array([1, 0, 0, ..., 1, 0, 0]), array([1, 0, 0, ..., 1, 0, 0]), array([0, 1, 0, ..., 1, 0, 0]), array([0, 0, 0, ..., 1, 0, 0]), array([1, 0, 0, ..., 1, 0, 0]), array([0, 0, 0, ..., 1, 0, 0]), array([1, 0, 0, ..., 1, 0, 0]), array([0, 1, 0, ..., 1, 0, 0]), array([1, 1, 0, ..., 1, 0, 0]), array([1, 1, 0, ..., 1, 0, 0]), array([0, 0, 0, ..., 1, 0, 0]), array([1, 0, 0, ..., 0, 0, 0]), array([1, 1, 0, ..., 1, 0, 0]), array([1, 0, 0, ..., 1, 0, 0]), array([0, 0, 0, ..., 0, 0, 0]), array([1, 0, 0, ..., 1, 1, 0]), array([0, 0, 1, ..., 1, 0, 0]), array([0, 1, 0, ..., 1, 0, 0]), array([0, 0, 0, ..., 1, 0, 0]), array([1, 1, 1, ..., 1, 1, 0]), array([0, 0, 0, ..., 1, 0, 0])]\n",
            "\n",
            "Decision Tree Predictions 2D Array:\n",
            " [[0 0 0 ... 1 0 0]\n",
            " [1 0 0 ... 1 0 0]\n",
            " [1 0 0 ... 1 0 0]\n",
            " ...\n",
            " [0 0 0 ... 1 0 0]\n",
            " [1 1 1 ... 1 1 0]\n",
            " [0 0 0 ... 1 0 0]]\n",
            "\n",
            "Most frequent prediction:\n",
            " [0 0 0 ... 1 0 0]\n",
            "\n",
            "Most frequent prediction accuracy:  0.7705\n"
          ]
        }
      ],
      "source": [
        "from sklearn.model_selection import ShuffleSplit\n",
        "from scipy import stats\n",
        "import numpy as np\n",
        "import copy as c\n",
        "\n",
        "# Store subsets in a list\n",
        "decision_tree_subsets = []\n",
        "\n",
        "# Store best model estimates for Decision Trees in a list\n",
        "decision_tree_forest = []\n",
        "\n",
        "# Store predictions in a list\n",
        "decision_tree_predictions = []\n",
        "\n",
        "# Store accuracies in a list\n",
        "decision_tree_accuracy_scores = []\n",
        "\n",
        "# Create 1,000 subsets where each has 100 instances/samples in each split\n",
        "# X_moons_train has 8,000 samples, therefore we want the train_size = 100/8000\n",
        "decision_tree_shuffle_split = ShuffleSplit(n_splits=1000, train_size=0.0125,random_state=42)\n",
        "\n",
        "# Sources: Chapter 2 of Hands On Machine Learning, page 55\n",
        "# Source: Chapter 6 of Hands On Machine Learning\n",
        "# Source: Chapter 7 of Hands On Machine Learning\n",
        "# https://scikit-learn.org/stable/modules/generated/sklearn.model_selection.ShuffleSplit.html\n",
        "for moons_train_index, moons_test_index in decision_tree_shuffle_split.split(X_moons_train):\n",
        "  X_moons_train = X[moons_train_index]\n",
        "  y_moons_train = y[moons_train_index]\n",
        "  decision_tree_subsets.append((X_moons_train, y_moons_train))\n",
        "\n",
        "\n",
        "# Train Decision Tree on each subset using hyperparameters from best model\n",
        "# Sources: Chapters 6 and 7 of Hands On Machine Learning\n",
        "# https://www.freecodecamp.org/news/python-for-loop-for-i-in-range-example/\n",
        "# https://realpython.com/python-zip-function/\n",
        "\n",
        "# Get copy of the best decision tree model\n",
        "best_decision_tree_model_copy = c.copy(best_decision_tree_model)\n",
        "\n",
        "# 1,000 because we're evaluating 1,000 Decision Trees on test set\n",
        "for i in range(1000):\n",
        "  decision_tree_forest.append(best_decision_tree_model_copy)\n",
        "\n",
        "for some_decision_tree, (X_moons_train, y_moons_train) in zip(decision_tree_forest, decision_tree_subsets):\n",
        "  some_decision_tree.fit(X_moons_train, y_moons_train)\n",
        "\n",
        "  # Get prediction of Decision Tree with test set and store in list\n",
        "  y_moons_pred = some_decision_tree.predict(X_moons_test)\n",
        "  #print('\\nMoons pred: ', y_moons_pred) # Type is numpy.ndarray\n",
        "  decision_tree_predictions.append(y_moons_pred)\n",
        "\n",
        "  # Get accuracy score of Decision Tree and store in list\n",
        "  decision_tree_accuracy_score = accuracy_score(y_moons_test, y_moons_pred)\n",
        "  decision_tree_accuracy_scores.append(decision_tree_accuracy_score)\n",
        "\n",
        "# Get average accuracy score for all 1,000 Decision Trees\n",
        "decision_tree_accuracy_sum = sum(decision_tree_accuracy_scores)\n",
        "num_accuracy_scores = len(decision_tree_accuracy_scores)\n",
        "accuracy_score_avg = decision_tree_accuracy_sum / num_accuracy_scores\n",
        "\n",
        "# Print average accuracy score for all 1,000 Decision Trees\n",
        "print('Average accuracy score for 1,000 Decision Trees: ', accuracy_score_avg)\n",
        "\n",
        "# Convert decision_tree_predictions from list to 2D array\n",
        "# Sources: https://www.geeksforgeeks.org/numpy-vstack-in-python/\n",
        "# https://numpy.org/doc/stable/reference/generated/numpy.vstack.html\n",
        "decision_tree_predictions_arr = np.vstack(decision_tree_predictions)\n",
        "\n",
        "# For comparing the outputs (but the contents should be the same)\n",
        "# Source: https://www.geeksforgeeks.org/how-to-append-a-numpy-array-to-an-empty-array-in-python/\n",
        "print('\\nDecision Tree Predictions:\\n', decision_tree_predictions)\n",
        "print('\\nDecision Tree Predictions 2D Array:\\n', decision_tree_predictions_arr)\n",
        "\n",
        "\n",
        "# For each test set instance, generate the predictions of the 1,000 Decision Trees, and keep only the most frequent prediction using SciPy’s mode() function.\n",
        "\n",
        "# Sources: Chapters 6 and 7 of Hands On Machine Learning\n",
        "# https://www.geeksforgeeks.org/numpy-zeros-python/\n",
        "# First parameter of np.zeros() represents desired shape of array\n",
        "# 1000 is the number of decision trees, 2000 is the size of X_moons_test test set\n",
        "y_moons_pred_tree_arr = np.zeros([1000, 2000], dtype=int)\n",
        "\n",
        "for index, a_decision_tree in enumerate(decision_tree_forest):\n",
        "  y_moons_pred_tree_arr[index] = a_decision_tree.predict(X_moons_test)\n",
        "  #print(f'\\ny_moons_pred[{index}]: ', y_moons_pred[index]) # For testing\n",
        "\n",
        "# Get most frequent prediction over test set\n",
        "y_most_frequent_pred, votes_num = stats.mode(y_moons_pred_tree_arr, axis=0, keepdims=False)\n",
        "print('\\nMost frequent prediction:\\n', y_most_frequent_pred)\n",
        "\n",
        "# Get accuracy score of the most frequent prediction over test set\n",
        "most_frequent_pred_accuracy = accuracy_score(y_moons_test, y_most_frequent_pred)\n",
        "print('\\nMost frequent prediction accuracy: ', most_frequent_pred_accuracy)"
      ]
    }
  ],
  "metadata": {
    "colab": {
      "provenance": []
    },
    "kernelspec": {
      "display_name": "Python 3",
      "name": "python3"
    },
    "language_info": {
      "name": "python"
    }
  },
  "nbformat": 4,
  "nbformat_minor": 0
}