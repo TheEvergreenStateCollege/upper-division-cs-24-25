{
 "cells": [
  {
   "cell_type": "markdown",
   "metadata": {},
   "source": [
    "# Lab 07:  Decision Trees\n",
    "\n"
   ]
  },
  {
   "cell_type": "markdown",
   "metadata": {},
   "source": [
    "#### Part 1\n",
    "\n",
    "Train and fine tune a decision tree for the moons dataset  \n",
    "* Use make_moons(n_samples=10000, noise=0.4) to generate a moons dataset\n",
    "* Use train_test_split() to split the dataset into a training set and a test set.\n",
    "* Use grid search with cross-validation (with the help of the GridSearchCV\n",
    "class) to find good hyperparameter values for a DecisionTreeClassifier.\n",
    "Hint: try various values for max_leaf_nodes.\n",
    "* Train it on the full training set using these hyperparameters, and measure\n",
    "your model’s performance on the test set. You should get roughly 85% to 87%\n",
    "accuracy."
   ]
  },
  {
   "cell_type": "code",
   "execution_count": 10,
   "metadata": {},
   "outputs": [
    {
     "name": "stdout",
     "output_type": "stream",
     "text": [
      "Decision tree accuracy: 87.00%\n"
     ]
    }
   ],
   "source": [
    "# Jimmy Davis 2/24/2025\n",
    "import numpy as np\n",
    "from sklearn.datasets import make_moons\n",
    "from sklearn.model_selection import train_test_split, GridSearchCV, ShuffleSplit\n",
    "from sklearn.tree import DecisionTreeClassifier\n",
    "from sklearn.metrics import accuracy_score\n",
    "from scipy.stats import mode\n",
    "\n",
    "# Generate the moons dataset\n",
    "X, y = make_moons(n_samples=10000, noise=0.4, random_state=42)\n",
    "\n",
    "# Split the dataset into training and test sets\n",
    "X_train, X_test, y_train, y_test = train_test_split(X, y, test_size=0.2, random_state=42)\n",
    "\n",
    "# Use GridSearchCV to find the best hyperparameters\n",
    "param_grid = {\n",
    "    'max_leaf_nodes': [10, 20, 30, 40, 50, 60, 70, 80, 90, 100]\n",
    "}\n",
    "tree_clf = DecisionTreeClassifier(random_state=42)\n",
    "grid_search = GridSearchCV(tree_clf, param_grid, cv=5, scoring='accuracy')\n",
    "grid_search.fit(X_train, y_train)\n",
    "\n",
    "# Train the model with the best hyperparameters\n",
    "best_tree_clf = grid_search.best_estimator_\n",
    "y_pred = best_tree_clf.predict(X_test)\n",
    "accuracy = accuracy_score(y_test, y_pred)\n",
    "print(f\"Decision tree accuracy: {accuracy:.2%}\")"
   ]
  },
  {
   "cell_type": "markdown",
   "metadata": {},
   "source": [
    "#### Part 2: Grow a forest by following these steps:\n",
    "\n",
    "* Continuing the previous exercise, generate 1,000 subsets of the training set,\n",
    "each containing 100 instances selected randomly. Hint: you can use Scikit-\n",
    "Learn’s ShuffleSplit class for this.\n",
    "* Train one Decision Tree on each subset, using the best hyperparameter values\n",
    "found in the previous exercise. Evaluate these 1,000 Decision Trees on the test\n",
    "set. Since they were trained on smaller sets, these Decision Trees will likely\n",
    "perform worse than the first Decision Tree, achieving only about 80%\n",
    "accuracy.\n",
    "* Now comes the magic. For each test set instance, generate the predictions of\n",
    "the 1,000 Decision Trees, and keep only the most frequent prediction (you can\n",
    "use SciPy’s mode() function for this). This approach gives you majority-vote\n",
    "predictions over the test set.\n",
    "* Evaluate these predictions on the test set: you should obtain a slightly higher\n",
    "accuracy than your first model (about 0.5 to 1.5% higher). Congratulations,\n",
    "you have trained a Random Forest classifier!"
   ]
  },
  {
   "cell_type": "code",
   "execution_count": 11,
   "metadata": {},
   "outputs": [
    {
     "name": "stdout",
     "output_type": "stream",
     "text": [
      "Average tree accuracy: 80.12%\n",
      "Random Forest Accuracy: 87.25%\n"
     ]
    }
   ],
   "source": [
    "import numpy as np\n",
    "from collections import Counter\n",
    "\n",
    "# Generate 1,000 subsets of the training set\n",
    "n_trees = 1000\n",
    "n_instances = 100\n",
    "subsets = ShuffleSplit(n_splits=n_trees, train_size=n_instances, random_state=42)\n",
    "\n",
    "# Train 1,000 Decision Trees on the subsets\n",
    "forest = []\n",
    "for subset_train_idx, _ in subsets.split(X_train):\n",
    "    X_subset = X_train[subset_train_idx]\n",
    "    y_subset = y_train[subset_train_idx]\n",
    "    tree_clf = DecisionTreeClassifier(**best_tree_clf.get_params())\n",
    "    tree_clf.fit(X_subset, y_subset)\n",
    "    forest.append(tree_clf)\n",
    "\n",
    "# Evaluate each tree on the test set\n",
    "tree_accuracies = []\n",
    "for tree in forest:\n",
    "    y_pred = tree.predict(X_test)\n",
    "    tree_accuracies.append(accuracy_score(y_test, y_pred))\n",
    "print(f\"Average tree accuracy: {np.mean(tree_accuracies):.2%}\")\n",
    "\n",
    "# Majority voting for predictions\n",
    "y_pred_forest = []\n",
    "for instance in X_test:\n",
    "    predictions = [tree.predict([instance])[0] for tree in forest]\n",
    "    \n",
    "    # Use Counter to find the majority vote\n",
    "    majority_vote = Counter(predictions).most_common(1)[0][0]\n",
    "    y_pred_forest.append(majority_vote)\n",
    "\n",
    "# Evaluate the random forest\n",
    "forest_accuracy = accuracy_score(y_test, y_pred_forest)\n",
    "print(f\"Random Forest Accuracy: {forest_accuracy:.2%}\")"
   ]
  }
 ],
 "metadata": {
  "kernelspec": {
   "display_name": "Python 3",
   "language": "python",
   "name": "python3"
  },
  "language_info": {
   "codemirror_mode": {
    "name": "ipython",
    "version": 3
   },
   "file_extension": ".py",
   "mimetype": "text/x-python",
   "name": "python",
   "nbconvert_exporter": "python",
   "pygments_lexer": "ipython3",
   "version": "3.11.9"
  }
 },
 "nbformat": 4,
 "nbformat_minor": 2
}
