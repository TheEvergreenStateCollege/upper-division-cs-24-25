{
 "cells": [
  {
   "cell_type": "markdown",
   "metadata": {},
   "source": [
    "# Week 1:  EDA\n",
    "\n",
    "#### Data Analytics, Winter 2025, Weekly computational task\n",
    "\n",
    "#### Description:\n",
    "We spent some time talking about exploratory data analysis in our class session on 1/7.  It's one thing to grok it abstractly, it another to do it yourself, especially in a programming language that you may not be super familiar with.\n",
    "\n",
    "We're going to start off slow.  For this week, your task is to play with *someone else's* example of exploratory data analysis.  Specifically, check out this Kaggle submission called `Intro to EDA in Python`:\n",
    "\n",
    "https://www.kaggle.com/code/imoore/intro-to-exploratory-data-analysis-eda-in-python\n",
    "\n",
    "Your task is to do the following:\n",
    "* On your own, run this  notebook from start to finish.  Kaggle has computational resources which you can use (I think), or can download the notebook and data and run them in some other environment.  Google CoLab is an easy option:  it's free, all you need is a google account, and you can upload the data directly.  However, getting setup on your own personal machine will pay dividends going forward.  \n",
    "\n",
    "* Understand the code, and take notes on the Python/Pandas syntax.  Reading and executing this code is part of your process of getting up to speed with Pandas.\n",
    "\n",
    "* Now redo at least part of the the analysis in this notebook, and expand on the analysis where you think it needs expanding.  You don't have to do everything: pick and choose.  But you should definitely add a bit of your own work.  At a minimum:\n",
    "- Form a new kind of plot\n",
    "- Generate a new statistic\n",
    "\n",
    "* Finish the project up by writing a Markdown paragraph that summarizes your findings.  This might be a paragraph that you submit to, say, a boss who gave you the task of performing this analysis.  The paragraph should be concise.  \n",
    "\n",
    "When you are finished, submit this notebook.  I'm still trying to figure out the logistics of submission, but we'll either submit directly via Github, or by converting the notebook to a PDF and submitting via Canvas.  I'll send out an email shortly with details."
   ]
  },
  {
   "cell_type": "markdown",
   "metadata": {},
   "source": []
  }
 ],
 "metadata": {
  "language_info": {
   "name": "python"
  }
 },
 "nbformat": 4,
 "nbformat_minor": 2
}
