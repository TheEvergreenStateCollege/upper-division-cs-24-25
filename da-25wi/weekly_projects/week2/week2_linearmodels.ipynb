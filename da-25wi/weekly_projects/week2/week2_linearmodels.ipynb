{
 "cells": [
  {
   "cell_type": "markdown",
   "metadata": {},
   "source": [
    "# Week 2: building a linear model\n",
    "\n",
    "#### Data Analytics, Winter 2025, weekly computational task\n",
    "\n",
    "## Description\n",
    "\n",
    "Your task this week is use the Red Wine Quality dataset to build a machine learning  to predict wine quality.  The Red Wine Quality data set is here:\n",
    "\n",
    "https://archive.ics.uci.edu/dataset/186/wine+quality\n",
    "\n",
    "Your work should include the following:\n",
    "*  data cleaning\n",
    "*  data visualization (exploratory data analysis)\n",
    "*  correlation analysis\n",
    "*  an appropriate subdivision into train and test sets\n",
    "*  a measure of model success\n",
    "*  at least *some* iteration over variants (e.g. try a one feature model and a two feature model, or try a linear model with regularization and one without)\n",
    "*  a cell at the top of the notebook summarizing your key results (a few bullet points, one or two sentences)\n",
    "*  another cell reflecting on where your model is strong, where it is weak, and what you would do next if you had more time. \n",
    "\n",
    "You should feel free to steal ideas and techniques from the \"Chapter 2\" Jupyter notebook from the text (https://github.com/ageron/handson-ml3/blob/main/02_end_to_end_machine_learning_project.ipynb)\n",
    "\n",
    "## Submission details\n",
    "\n",
    "You will work in groups of 3, and I will assign the groups.  You can start you work during class, and will need to finish it outside of class.  I recommend leaving class today with a clear plan of how you want to work, and getting together on zoom at least once before you turn this in.  \n",
    "\n",
    "Your final submission will be a pdf copy of your ipynb notebook.  (You can get this PDF by uploading the notebook to Colab and using its `print` function, though there are other ways to achieve this too...google around).  There will be one version of the pdf for each group, but I need everyone to turn it separately so that the gradebook populates accordingly.  \n"
   ]
  },
  {
   "cell_type": "markdown",
   "metadata": {},
   "source": []
  }
 ],
 "metadata": {
  "language_info": {
   "name": "python"
  }
 },
 "nbformat": 4,
 "nbformat_minor": 2
}
