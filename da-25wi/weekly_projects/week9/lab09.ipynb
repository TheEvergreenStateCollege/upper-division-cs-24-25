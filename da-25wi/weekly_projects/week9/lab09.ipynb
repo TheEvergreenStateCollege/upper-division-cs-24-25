{
 "cells": [
  {
   "cell_type": "markdown",
   "metadata": {},
   "source": [
    "# Data Analytics Lab 9\n",
    "\n"
   ]
  },
  {
   "cell_type": "markdown",
   "metadata": {},
   "source": [
    "## Task\n",
    "\n",
    "Load the MNIST dataset and spit it into training and test sets.  Train a random forest classifier and time how long it takes.  Next, apply PCA to the dataset and retrain, again timing the process.  Was it faster?  How does performance compare?"
   ]
  },
  {
   "cell_type": "markdown",
   "metadata": {},
   "source": []
  }
 ],
 "metadata": {
  "language_info": {
   "name": "python"
  }
 },
 "nbformat": 4,
 "nbformat_minor": 2
}
