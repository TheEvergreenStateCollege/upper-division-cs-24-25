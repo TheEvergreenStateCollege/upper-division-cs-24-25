{
  "cells": [
    {
      "cell_type": "markdown",
      "metadata": {
        "id": "W1JzhX9OkTH4"
      },
      "source": [
        "**Week 9 Lab**\n",
        "\n",
        "**Group Members**: Donna Quach, Devin Eason, Patrick Kinney, Jan Rosas-Ortiz, David (DJ) Dunston"
      ]
    },
    {
      "cell_type": "code",
      "execution_count": 18,
      "metadata": {
        "id": "GhEfNfFUk3x3"
      },
      "outputs": [],
      "source": [
        "# Create X and y\n",
        "\n",
        "from sklearn.datasets import fetch_openml\n",
        "mnist = fetch_openml('mnist_784', as_frame=False)\n",
        "\n",
        "mnist.keys()  # extra code – we only use data and target in this notebook\n",
        "\n",
        "X, y = mnist.data, mnist.target"
      ]
    },
    {
      "cell_type": "code",
      "execution_count": 19,
      "metadata": {
        "id": "CEL81pUxkhEj"
      },
      "outputs": [],
      "source": [
        "from sklearn.tree import DecisionTreeClassifier\n",
        "from sklearn.model_selection import train_test_split, GridSearchCV\n",
        "\n",
        "# Had to modify a few things to make cell run faster (took 3 minutes)\n",
        "# By reducing test size to just 10% of the training data\n",
        "# By reducing the number of cross-validation folds from 5 to 3\n",
        "# By including parallelization with GridSearchCV (n_jobs=-1)\n",
        "X_train, X_test, y_train, y_test = train_test_split(X, y, test_size=0.9, random_state = 42)\n",
        "\n",
        "max_depth_range = list(range(1, 100, 3))\n",
        "min_samples_leaf_range = [2, 3]\n",
        "\n",
        "tree_params = [{'criterion': ['entropy', 'gini'], 'max_depth': max_depth_range},\n",
        "              {'min_samples_leaf': min_samples_leaf_range}]\n",
        "tree_model = DecisionTreeClassifier()\n",
        "tree_GSCV = GridSearchCV(tree_model, tree_params, cv = 3, n_jobs=-1)\n",
        "tree_GSCV.fit(X_train, y_train)\n",
        "best_params = tree_GSCV.best_params_"
      ]
    },
    {
      "cell_type": "code",
      "execution_count": 20,
      "metadata": {
        "colab": {
          "base_uri": "https://localhost:8080/"
        },
        "id": "P7Z87kOxmP1B",
        "outputId": "918b352b-9c91-4bf2-9fe4-c74322f03253"
      },
      "outputs": [
        {
          "name": "stdout",
          "output_type": "stream",
          "text": [
            "0.0\n"
          ]
        },
        {
          "data": {
            "text/plain": [
              "0.8573809523809524"
            ]
          },
          "execution_count": 20,
          "metadata": {},
          "output_type": "execute_result"
        }
      ],
      "source": [
        "from sklearn.ensemble import RandomForestClassifier\n",
        "\n",
        "forest = RandomForestClassifier (n_estimators = 1000, criterion = best_params['criterion'], max_depth = best_params['max_depth'], max_samples = 100, random_state = 42)\n",
        "\n",
        "forest.fit(X_train, y_train)\n",
        "estimators = forest.estimators_\n",
        "test_estimate = forest[7]\n",
        "print(test_estimate.score(X_test, y_test)) #Tested individual score of tree vs forest score\n",
        "\n",
        "forest.predict_proba(X_test)\n",
        "forest.score(X_test, y_test)"
      ]
    },
    {
      "cell_type": "code",
      "execution_count": 21,
      "metadata": {
        "id": "9GtWxvU4i36T"
      },
      "outputs": [],
      "source": [
        "# Source: Chapter 8 of Hands-On Machine Learning\n",
        "from sklearn.decomposition import PCA\n",
        "\n",
        "pca = PCA(n_components=0.95) # We want to preserve 95% variance\n",
        "\n",
        "X_reduced = pca.fit_transform(X_train)\n"
      ]
    },
    {
      "cell_type": "code",
      "execution_count": 23,
      "metadata": {},
      "outputs": [],
      "source": [
        "forest_pca = RandomForestClassifier (n_estimators = 1000, criterion = best_params['criterion'], max_depth = best_params['max_depth'], max_samples = 100, random_state = 42)\n",
        "\n",
        "forest_pca.fit(X_reduced, y_train)\n",
        "estimators = forest_pca.estimators_\n",
        "test_estimate = forest_pca[7]"
      ]
    },
    {
      "cell_type": "markdown",
      "metadata": {
        "id": "6z78dO76kxDX"
      },
      "source": [
        "**Conclusion**: We found that using PCA was faster over using a random forest classifier without PCA. It took a random forest classifier almost 30 seconds. On the other hand, applying PCA took no more than 5 seconds to train a similar random forest. "
      ]
    }
  ],
  "metadata": {
    "colab": {
      "provenance": []
    },
    "kernelspec": {
      "display_name": "base",
      "language": "python",
      "name": "python3"
    },
    "language_info": {
      "codemirror_mode": {
        "name": "ipython",
        "version": 3
      },
      "file_extension": ".py",
      "mimetype": "text/x-python",
      "name": "python",
      "nbconvert_exporter": "python",
      "pygments_lexer": "ipython3",
      "version": "3.12.9"
    }
  },
  "nbformat": 4,
  "nbformat_minor": 0
}
