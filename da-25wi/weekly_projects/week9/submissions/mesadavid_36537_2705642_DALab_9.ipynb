{
  "nbformat": 4,
  "nbformat_minor": 0,
  "metadata": {
    "colab": {
      "provenance": []
    },
    "kernelspec": {
      "name": "python3",
      "display_name": "Python 3"
    },
    "language_info": {
      "name": "python"
    }
  },
  "cells": [
    {
      "cell_type": "code",
      "execution_count": 7,
      "metadata": {
        "colab": {
          "base_uri": "https://localhost:8080/"
        },
        "id": "MxbLwAtEl97i",
        "outputId": "a4a28462-837f-4509-c47f-afb6073b6ea6"
      },
      "outputs": [
        {
          "output_type": "stream",
          "name": "stdout",
          "text": [
            "Downloading data from https://storage.googleapis.com/tensorflow/tf-keras-datasets/mnist.npz\n",
            "\u001b[1m11490434/11490434\u001b[0m \u001b[32m━━━━━━━━━━━━━━━━━━━━\u001b[0m\u001b[37m\u001b[0m \u001b[1m0s\u001b[0m 0us/step\n",
            "Initial Accuracy: 0.9693333333333334\n",
            "Initial Time: 39.45518660545349 seconds\n",
            "PCA Accuracy: 0.90475\n",
            "PCA Time: 331.7199046611786 seconds\n"
          ]
        }
      ],
      "source": [
        "import kagglehub\n",
        "import os\n",
        "import time\n",
        "import pandas as pd\n",
        "from sklearn.ensemble import RandomForestClassifier\n",
        "from sklearn.decomposition import PCA\n",
        "from sklearn.model_selection import train_test_split\n",
        "from sklearn.metrics import accuracy_score\n",
        "import tensorflow as tf\n",
        "\n",
        "(X, y), (X_test, y_test) = tf.keras.datasets.mnist.load_data()\n",
        "\n",
        "\n",
        "X = X.reshape(X.shape[0], -1)\n",
        "X_test = X_test.reshape(X_test.shape[0], -1)\n",
        "\n",
        "X = X.astype('float32') / 255\n",
        "X_test = X_test.astype('float32') / 255\n",
        "\n",
        "\n",
        "X_train, X_test, y_train, y_test = train_test_split(X, y, test_size=0.2, random_state=42)\n",
        "\n",
        "start_time = time.time()\n",
        "rf = RandomForestClassifier(n_estimators=100, random_state=42)\n",
        "rf.fit(X_train, y_train)\n",
        "initial_time = time.time() - start_time\n",
        "\n",
        "y_pred = rf.predict(X_test)\n",
        "no_pca_accuracy = accuracy_score(y_test, y_pred)\n",
        "\n",
        "print(f\"Initial Accuracy: {no_pca_accuracy}\")\n",
        "print(f\"Initial Time: {initial_time} seconds\")\n",
        "\n",
        "pca = PCA()\n",
        "X_train_pca = pca.fit_transform(X_train)\n",
        "X_test_pca = pca.transform(X_test)\n",
        "\n",
        "start_time = time.time()\n",
        "rf_pca = RandomForestClassifier(n_estimators=100, random_state=42)\n",
        "rf_pca.fit(X_train_pca, y_train)\n",
        "pca_time = time.time() - start_time\n",
        "\n",
        "y_pred_pca = rf_pca.predict(X_test_pca)\n",
        "pca_accuracy = accuracy_score(y_test, y_pred_pca)\n",
        "\n",
        "print(f\"PCA Accuracy: {pca_accuracy}\")\n",
        "print(f\"PCA Time: {pca_time} seconds\")"
      ]
    },
    {
      "cell_type": "code",
      "source": [],
      "metadata": {
        "id": "1LJ3MFucx6Uk"
      },
      "execution_count": null,
      "outputs": []
    }
  ]
}