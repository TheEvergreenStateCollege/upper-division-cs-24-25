{
 "cells": [
  {
   "cell_type": "code",
   "id": "initial_id",
   "metadata": {
    "collapsed": true,
    "ExecuteTime": {
     "end_time": "2025-03-15T21:54:26.876127Z",
     "start_time": "2025-03-15T21:54:07.538278Z"
    }
   },
   "source": [
    "from sklearn.datasets import fetch_openml\n",
    "\n",
    "# Load MNIST dataset\n",
    "mnist = fetch_openml('mnist_784', version=1)\n",
    "X, y = mnist.data, mnist.target\n"
   ],
   "outputs": [],
   "execution_count": 1
  },
  {
   "metadata": {
    "ExecuteTime": {
     "end_time": "2025-03-15T21:54:29.339613Z",
     "start_time": "2025-03-15T21:54:28.762793Z"
    }
   },
   "cell_type": "code",
   "source": [
    "from sklearn.model_selection import train_test_split\n",
    "\n",
    "# Split the dataset\n",
    "X_train, X_test, y_train, y_test = train_test_split(X, y, test_size=0.2, random_state=42)"
   ],
   "id": "86049a84505ac1e5",
   "outputs": [],
   "execution_count": 2
  },
  {
   "metadata": {
    "ExecuteTime": {
     "end_time": "2025-03-15T21:55:05.764243Z",
     "start_time": "2025-03-15T21:54:30.390005Z"
    }
   },
   "cell_type": "code",
   "source": [
    "from sklearn.ensemble import RandomForestClassifier\n",
    "import time\n",
    "\n",
    "# Initialize the Random Forest classifier\n",
    "rf_clf = RandomForestClassifier(n_estimators=100, random_state=42)\n",
    "\n",
    "# Train the classifier and time the process\n",
    "start_time = time.time()\n",
    "rf_clf.fit(X_train, y_train)\n",
    "end_time = time.time()\n",
    "\n",
    "# Calculate training time\n",
    "training_time_original = end_time - start_time\n",
    "print(f\"Training time (original): {training_time_original:.2f} seconds\")"
   ],
   "id": "331b3ca330905dbb",
   "outputs": [
    {
     "name": "stdout",
     "output_type": "stream",
     "text": [
      "Training time (original): 34.63 seconds\n"
     ]
    }
   ],
   "execution_count": 3
  },
  {
   "metadata": {
    "ExecuteTime": {
     "end_time": "2025-03-15T21:55:21.175499Z",
     "start_time": "2025-03-15T21:55:20.713895Z"
    }
   },
   "cell_type": "code",
   "source": [
    "from sklearn.metrics import accuracy_score\n",
    "\n",
    "# Predict on the test set\n",
    "y_pred = rf_clf.predict(X_test)\n",
    "\n",
    "# Calculate accuracy\n",
    "accuracy_original = accuracy_score(y_test, y_pred)\n",
    "print(f\"Accuracy (original): {accuracy_original:.4f}\")"
   ],
   "id": "2af262c17a0f4a4f",
   "outputs": [
    {
     "name": "stdout",
     "output_type": "stream",
     "text": [
      "Accuracy (original): 0.9673\n"
     ]
    }
   ],
   "execution_count": 4
  },
  {
   "metadata": {
    "ExecuteTime": {
     "end_time": "2025-03-15T22:03:37.546660Z",
     "start_time": "2025-03-15T22:03:36.872168Z"
    }
   },
   "cell_type": "code",
   "source": [
    "from sklearn.decomposition import PCA\n",
    "\n",
    "# Apply PCA\n",
    "pca = PCA(n_components= 100, random_state=42)\n",
    "X_train_pca = pca.fit_transform(X_train)\n",
    "X_test_pca = pca.transform(X_test)\n",
    "\n",
    "print(f\"Original number of features: {X_train.shape[1]}\")\n",
    "print(f\"Reduced number of features after PCA: {X_train_pca.shape[1]}\")"
   ],
   "id": "6dc617d8923187e4",
   "outputs": [
    {
     "name": "stdout",
     "output_type": "stream",
     "text": [
      "Original number of features: 784\n",
      "Reduced number of features after PCA: 100\n"
     ]
    }
   ],
   "execution_count": 8
  },
  {
   "metadata": {
    "ExecuteTime": {
     "end_time": "2025-03-15T22:05:10.900357Z",
     "start_time": "2025-03-15T22:03:39.666288Z"
    }
   },
   "cell_type": "code",
   "source": [
    "# Initialize the Random Forest classifier\n",
    "rf_clf_pca = RandomForestClassifier(n_estimators=100, random_state=42)\n",
    "\n",
    "# Train the classifier and time the process\n",
    "start_time = time.time()\n",
    "rf_clf_pca.fit(X_train_pca, y_train)\n",
    "end_time = time.time()\n",
    "\n",
    "# Calculate training time\n",
    "training_time_pca = end_time - start_time\n",
    "print(f\"Training time (PCA): {training_time_pca:.2f} seconds\")"
   ],
   "id": "c9d095a9939a49fe",
   "outputs": [
    {
     "name": "stdout",
     "output_type": "stream",
     "text": [
      "Training time (PCA): 91.22 seconds\n"
     ]
    }
   ],
   "execution_count": 9
  },
  {
   "metadata": {
    "ExecuteTime": {
     "end_time": "2025-03-15T22:05:37.127783Z",
     "start_time": "2025-03-15T22:05:36.817600Z"
    }
   },
   "cell_type": "code",
   "source": [
    "# Predict on the test set\n",
    "y_pred_pca = rf_clf_pca.predict(X_test_pca)\n",
    "\n",
    "# Calculate accuracy\n",
    "accuracy_pca = accuracy_score(y_test, y_pred_pca)\n",
    "print(f\"Accuracy (PCA): {accuracy_pca:.4f}\")"
   ],
   "id": "7c426073eacdca28",
   "outputs": [
    {
     "name": "stdout",
     "output_type": "stream",
     "text": [
      "Accuracy (PCA): 0.9487\n"
     ]
    }
   ],
   "execution_count": 10
  },
  {
   "metadata": {},
   "cell_type": "markdown",
   "source": [
    "# Conclusion\n",
    "\n",
    "   - PCA reduces the training time significantly by reducing the dimensionality of the dataset.\n",
    "\n",
    "   - The performance (accuracy) of the Random Forest classifier remains almost the same or slightly lower after PCA.\n",
    "\n",
    "   - PCA is a useful technique for speeding up training when working with high-dimensional datasets like MNIST."
   ],
   "id": "a2df86b248ac71ee"
  },
  {
   "metadata": {},
   "cell_type": "code",
   "outputs": [],
   "execution_count": null,
   "source": "",
   "id": "f7f430866a7d6046"
  }
 ],
 "metadata": {
  "kernelspec": {
   "display_name": "Python 3",
   "language": "python",
   "name": "python3"
  },
  "language_info": {
   "codemirror_mode": {
    "name": "ipython",
    "version": 2
   },
   "file_extension": ".py",
   "mimetype": "text/x-python",
   "name": "python",
   "nbconvert_exporter": "python",
   "pygments_lexer": "ipython2",
   "version": "2.7.6"
  }
 },
 "nbformat": 4,
 "nbformat_minor": 5
}
