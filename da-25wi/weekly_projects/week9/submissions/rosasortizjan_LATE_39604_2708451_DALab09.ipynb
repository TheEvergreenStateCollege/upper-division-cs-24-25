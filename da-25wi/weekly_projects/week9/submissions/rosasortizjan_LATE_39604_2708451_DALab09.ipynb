{
  "nbformat": 4,
  "nbformat_minor": 0,
  "metadata": {
    "colab": {
      "provenance": []
    },
    "kernelspec": {
      "name": "python3",
      "display_name": "Python 3"
    },
    "language_info": {
      "name": "python"
    }
  },
  "cells": [
    {
      "cell_type": "markdown",
      "source": [
        "**Week 9 Lab**\n",
        "\n",
        "**Group Members**: Donna Quach, Devin Eason, Patrick Kinney, Jan Rosas-Ortiz, David (DJ) Dunston"
      ],
      "metadata": {
        "id": "W1JzhX9OkTH4"
      }
    },
    {
      "cell_type": "code",
      "source": [
        "# Create X and y\n",
        "\n",
        "from sklearn.datasets import fetch_openml\n",
        "mnist = fetch_openml('mnist_784', as_frame=False)\n",
        "\n",
        "mnist.keys()  # extra code – we only use data and target in this notebook\n",
        "\n",
        "X, y = mnist.data, mnist.target"
      ],
      "metadata": {
        "id": "GhEfNfFUk3x3"
      },
      "execution_count": null,
      "outputs": []
    },
    {
      "cell_type": "code",
      "source": [
        "from sklearn.tree import DecisionTreeClassifier\n",
        "from sklearn.model_selection import train_test_split, GridSearchCV\n",
        "\n",
        "# Had to modify a few things to make cell run faster (took 3 minutes)\n",
        "# By reducing test size to just 10% of the training data\n",
        "# By reducing the number of cross-validation folds from 5 to 3\n",
        "# By including parallelization with GridSearchCV (n_jobs=-1)\n",
        "X_train, X_test, y_train, y_test = train_test_split(X, y, test_size=0.9, random_state = 42)\n",
        "\n",
        "max_depth_range = list(range(1, 100, 3))\n",
        "min_samples_leaf_range = [2, 3]\n",
        "\n",
        "tree_params = [{'criterion': ['entropy', 'gini'], 'max_depth': max_depth_range},\n",
        "              {'min_samples_leaf': min_samples_leaf_range}]\n",
        "tree_model = DecisionTreeClassifier()\n",
        "tree_GSCV = GridSearchCV(tree_model, tree_params, cv = 3, n_jobs=-1)\n",
        "tree_GSCV.fit(X_train, y_train)\n",
        "best_params = tree_GSCV.best_params_"
      ],
      "metadata": {
        "id": "CEL81pUxkhEj"
      },
      "execution_count": null,
      "outputs": []
    },
    {
      "cell_type": "code",
      "source": [
        "from sklearn.ensemble import RandomForestClassifier\n",
        "\n",
        "forest = RandomForestClassifier (n_estimators = 1000, criterion = best_params['criterion'], max_depth = best_params['max_depth'], max_samples = 100, random_state = 42)\n",
        "\n",
        "forest.fit(X_train, y_train)\n",
        "estimators = forest.estimators_\n",
        "test_estimate = forest[7]\n",
        "print(test_estimate.score(X_test, y_test)) #Tested individual score of tree vs forest score\n",
        "\n",
        "forest.predict_proba(X_test)\n",
        "forest.score(X_test, y_test)"
      ],
      "metadata": {
        "colab": {
          "base_uri": "https://localhost:8080/"
        },
        "id": "P7Z87kOxmP1B",
        "outputId": "918b352b-9c91-4bf2-9fe4-c74322f03253"
      },
      "execution_count": null,
      "outputs": [
        {
          "output_type": "stream",
          "name": "stdout",
          "text": [
            "0.0\n"
          ]
        },
        {
          "output_type": "execute_result",
          "data": {
            "text/plain": [
              "0.8583333333333333"
            ]
          },
          "metadata": {},
          "execution_count": 40
        }
      ]
    },
    {
      "cell_type": "code",
      "execution_count": null,
      "metadata": {
        "id": "9GtWxvU4i36T"
      },
      "outputs": [],
      "source": [
        "# Source: Chapter 8 of Hands-On Machine Learning\n",
        "from sklearn.decomposition import PCA\n",
        "\n",
        "pca = PCA(n_components=0.95) # We want to preserve 95% variance\n",
        "\n",
        "X_reduced = pca.fit_transform(X_train)"
      ]
    },
    {
      "cell_type": "markdown",
      "source": [
        "**Conclusion**: We found that using PCA was faster over using a random forest classifier. It took a random forest classifier almost 30 seconds. On the other hand, applying PCA took no more than 5 seconds."
      ],
      "metadata": {
        "id": "6z78dO76kxDX"
      }
    }
  ]
}