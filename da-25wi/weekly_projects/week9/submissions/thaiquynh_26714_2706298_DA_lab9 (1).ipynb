{
 "cells": [
  {
   "cell_type": "code",
   "execution_count": 5,
   "id": "983715c5-e6a3-42ba-b64f-941748b9bef9",
   "metadata": {},
   "outputs": [
    {
     "name": "stdout",
     "output_type": "stream",
     "text": [
      "Time taken with Random Forest: 23.454612016677856\n",
      "Accuracy with Random Forest: 0.967\n",
      "Time taken with PCA: 68.18900203704834\n",
      "Accuracy with PCA: 0.9475714285714286\n"
     ]
    }
   ],
   "source": [
    "import time\n",
    "from sklearn.model_selection import train_test_split\n",
    "from sklearn.ensemble import RandomForestClassifier\n",
    "from sklearn.decomposition import PCA\n",
    "from sklearn.metrics import accuracy_score\n",
    "from sklearn.datasets import fetch_openml\n",
    "\n",
    "mnist = fetch_openml('mnist_784', version=1)\n",
    "\n",
    "X = mnist.data\n",
    "y = mnist.target.astype(int)\n",
    "\n",
    "X_train, X_test, y_train, y_test = train_test_split(X, y, test_size=0.2, random_state=42)\n",
    "\n",
    "start_time = time.time()\n",
    "\n",
    "rf_model = RandomForestClassifier(n_estimators=100, random_state=42)\n",
    "rf_model.fit(X_train, y_train)\n",
    "\n",
    "time_taken_RF = time.time() - start_time\n",
    "\n",
    "y_pred_RF = rf_model.predict(X_test)\n",
    "accuracy_RF = accuracy_score(y_test, y_pred_RF)\n",
    "\n",
    "print(\"Time taken with Random Forest:\", time_taken_RF)\n",
    "print(\"Accuracy with Random Forest:\", accuracy_RF)\n",
    "\n",
    "start_time = time.time()\n",
    "\n",
    "pca = PCA(n_components=0.95)  \n",
    "X_train_pca = pca.fit_transform(X_train)\n",
    "X_test_pca = pca.transform(X_test)\n",
    "\n",
    "rf_model_pca = RandomForestClassifier(n_estimators=100, random_state=42)\n",
    "rf_model_pca.fit(X_train_pca, y_train)\n",
    "\n",
    "time_taken_pca = time.time() - start_time\n",
    "\n",
    "y_pred_pca = rf_model_pca.predict(X_test_pca)\n",
    "accuracy_pca = accuracy_score(y_test, y_pred_pca)\n",
    "\n",
    "print(\"Time taken with PCA:\", time_taken_pca)\n",
    "print(\"Accuracy with PCA:\", accuracy_pca)"
   ]
  },
  {
   "cell_type": "markdown",
   "id": "816723db-f16f-424c-b8fb-61737641c4da",
   "metadata": {},
   "source": [
    "The PCA is slower. And the accuracy with PCA is lower which is expected."
   ]
  }
 ],
 "metadata": {
  "kernelspec": {
   "display_name": "Python 3 (ipykernel)",
   "language": "python",
   "name": "python3"
  },
  "language_info": {
   "codemirror_mode": {
    "name": "ipython",
    "version": 3
   },
   "file_extension": ".py",
   "mimetype": "text/x-python",
   "name": "python",
   "nbconvert_exporter": "python",
   "pygments_lexer": "ipython3",
   "version": "3.12.7"
  }
 },
 "nbformat": 4,
 "nbformat_minor": 5
}
