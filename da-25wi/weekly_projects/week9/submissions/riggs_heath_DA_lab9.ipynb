{
 "cells": [
  {
   "cell_type": "code",
   "execution_count": 1,
   "metadata": {},
   "outputs": [],
   "source": [
    "import numpy as np\n",
    "import time\n",
    "from sklearn.datasets import fetch_openml\n",
    "from sklearn.model_selection import train_test_split\n",
    "from sklearn.ensemble import RandomForestClassifier\n",
    "from sklearn.decomposition import PCA\n",
    "from sklearn.metrics import accuracy_score, classification_report, confusion_matrix"
   ]
  },
  {
   "cell_type": "code",
   "execution_count": 2,
   "metadata": {},
   "outputs": [],
   "source": [
    "\n",
    "X, y = fetch_openml('mnist_784', version=1, return_X_y=True, parser='auto')\n",
    "X = X.astype('float32')"
   ]
  },
  {
   "cell_type": "code",
   "execution_count": 3,
   "metadata": {},
   "outputs": [],
   "source": [
    "X /= 255.0"
   ]
  },
  {
   "cell_type": "code",
   "execution_count": 4,
   "metadata": {},
   "outputs": [],
   "source": [
    "X_train, X_test, y_train, y_test = train_test_split(X, y, test_size=0.2, random_state=42)"
   ]
  },
  {
   "cell_type": "code",
   "execution_count": 5,
   "metadata": {},
   "outputs": [
    {
     "name": "stdout",
     "output_type": "stream",
     "text": [
      "Data loaded and split: 56000 training samples, 14000 test samples\n",
      "Each image is represented by 784 features (pixels)\n"
     ]
    }
   ],
   "source": [
    "print(f\"Data loaded and split: {X_train.shape[0]} training samples, {X_test.shape[0]} test samples\")\n",
    "print(f\"Each image is represented by {X_train.shape[1]} features (pixels)\")"
   ]
  },
  {
   "cell_type": "code",
   "execution_count": 6,
   "metadata": {},
   "outputs": [],
   "source": [
    "rf_clf = RandomForestClassifier(n_estimators=100, random_state=42, n_jobs=-1)"
   ]
  },
  {
   "cell_type": "code",
   "execution_count": 7,
   "metadata": {},
   "outputs": [],
   "source": [
    "start_time = time.time()\n",
    "rf_clf.fit(X_train, y_train)\n",
    "original_training_time = time.time() - start_time"
   ]
  },
  {
   "cell_type": "code",
   "execution_count": 8,
   "metadata": {},
   "outputs": [
    {
     "name": "stdout",
     "output_type": "stream",
     "text": [
      "Training time: 4.89 seconds\n"
     ]
    }
   ],
   "source": [
    "print(f\"Training time: {original_training_time:.2f} seconds\")"
   ]
  },
  {
   "cell_type": "code",
   "execution_count": 9,
   "metadata": {},
   "outputs": [],
   "source": [
    "start_time = time.time()\n",
    "y_pred = rf_clf.predict(X_test)\n",
    "original_prediction_time = time.time() - start_time"
   ]
  },
  {
   "cell_type": "code",
   "execution_count": 10,
   "metadata": {},
   "outputs": [
    {
     "name": "stdout",
     "output_type": "stream",
     "text": [
      "Prediction time: 0.14 seconds\n",
      "Accuracy: 0.9675\n",
      "\n",
      "Classification Report (original data):\n",
      "              precision    recall  f1-score   support\n",
      "\n",
      "           0       0.98      0.99      0.99      1343\n",
      "           1       0.98      0.98      0.98      1600\n",
      "           2       0.95      0.97      0.96      1380\n",
      "           3       0.96      0.95      0.96      1433\n",
      "           4       0.96      0.97      0.97      1295\n",
      "           5       0.97      0.96      0.97      1273\n",
      "           6       0.98      0.98      0.98      1396\n",
      "           7       0.97      0.97      0.97      1503\n",
      "           8       0.96      0.95      0.96      1357\n",
      "           9       0.96      0.95      0.95      1420\n",
      "\n",
      "    accuracy                           0.97     14000\n",
      "   macro avg       0.97      0.97      0.97     14000\n",
      "weighted avg       0.97      0.97      0.97     14000\n",
      "\n"
     ]
    }
   ],
   "source": [
    "original_accuracy = accuracy_score(y_test, y_pred)\n",
    "print(f\"Prediction time: {original_prediction_time:.2f} seconds\")\n",
    "print(f\"Accuracy: {original_accuracy:.4f}\")\n",
    "print(\"\\nClassification Report (original data):\")\n",
    "print(classification_report(y_test, y_pred))"
   ]
  },
  {
   "cell_type": "code",
   "execution_count": 11,
   "metadata": {},
   "outputs": [],
   "source": [
    "n_components = 100  # Reduce to 100 principal components\n",
    "pca = PCA(n_components=n_components, random_state=42)"
   ]
  },
  {
   "cell_type": "code",
   "execution_count": 12,
   "metadata": {},
   "outputs": [],
   "source": [
    "start_time = time.time()\n",
    "X_train_pca = pca.fit_transform(X_train)\n",
    "X_test_pca = pca.transform(X_test)\n",
    "pca_time = time.time() - start_time"
   ]
  },
  {
   "cell_type": "code",
   "execution_count": 13,
   "metadata": {},
   "outputs": [
    {
     "name": "stdout",
     "output_type": "stream",
     "text": [
      "PCA transformation time: 0.31 seconds\n",
      "Number of components: 100\n",
      "Explained variance: 0.9151\n"
     ]
    }
   ],
   "source": [
    "variance_ratio = np.sum(pca.explained_variance_ratio_)\n",
    "print(f\"PCA transformation time: {pca_time:.2f} seconds\")\n",
    "print(f\"Number of components: {n_components}\")\n",
    "print(f\"Explained variance: {variance_ratio:.4f}\")\n"
   ]
  },
  {
   "cell_type": "code",
   "execution_count": 14,
   "metadata": {},
   "outputs": [],
   "source": [
    "rf_clf_pca = RandomForestClassifier(n_estimators=100, random_state=42, n_jobs=-1)"
   ]
  },
  {
   "cell_type": "code",
   "execution_count": 15,
   "metadata": {},
   "outputs": [],
   "source": [
    "start_time = time.time()\n",
    "rf_clf_pca.fit(X_train_pca, y_train)\n",
    "pca_training_time = time.time() - start_time"
   ]
  },
  {
   "cell_type": "code",
   "execution_count": 16,
   "metadata": {},
   "outputs": [
    {
     "name": "stdout",
     "output_type": "stream",
     "text": [
      "Training time with PCA: 11.30 seconds\n"
     ]
    }
   ],
   "source": [
    "print(f\"Training time with PCA: {pca_training_time:.2f} seconds\")"
   ]
  },
  {
   "cell_type": "code",
   "execution_count": 17,
   "metadata": {},
   "outputs": [],
   "source": [
    "start_time = time.time()\n",
    "y_pred_pca = rf_clf_pca.predict(X_test_pca)\n",
    "pca_prediction_time = time.time() - start_time"
   ]
  },
  {
   "cell_type": "code",
   "execution_count": 18,
   "metadata": {},
   "outputs": [
    {
     "name": "stdout",
     "output_type": "stream",
     "text": [
      "Prediction time with PCA: 0.07 seconds\n",
      "Accuracy with PCA: 0.9506\n",
      "\n",
      "Classification Report (PCA):\n",
      "              precision    recall  f1-score   support\n",
      "\n",
      "           0       0.97      0.98      0.97      1343\n",
      "           1       0.97      0.98      0.98      1600\n",
      "           2       0.94      0.95      0.95      1380\n",
      "           3       0.92      0.93      0.93      1433\n",
      "           4       0.94      0.96      0.95      1295\n",
      "           5       0.94      0.94      0.94      1273\n",
      "           6       0.97      0.97      0.97      1396\n",
      "           7       0.96      0.96      0.96      1503\n",
      "           8       0.94      0.90      0.92      1357\n",
      "           9       0.94      0.92      0.93      1420\n",
      "\n",
      "    accuracy                           0.95     14000\n",
      "   macro avg       0.95      0.95      0.95     14000\n",
      "weighted avg       0.95      0.95      0.95     14000\n",
      "\n"
     ]
    }
   ],
   "source": [
    "pca_accuracy = accuracy_score(y_test, y_pred_pca)\n",
    "print(f\"Prediction time with PCA: {pca_prediction_time:.2f} seconds\")\n",
    "print(f\"Accuracy with PCA: {pca_accuracy:.4f}\")\n",
    "print(\"\\nClassification Report (PCA):\")\n",
    "print(classification_report(y_test, y_pred_pca))"
   ]
  },
  {
   "cell_type": "code",
   "execution_count": 19,
   "metadata": {},
   "outputs": [
    {
     "name": "stdout",
     "output_type": "stream",
     "text": [
      "\n",
      "--- Comparison ---\n",
      "Original training time: 4.89 seconds\n",
      "PCA + training time: 11.61 seconds\n",
      "Original prediction time: 0.14 seconds\n",
      "PCA prediction time: 0.07 seconds\n"
     ]
    }
   ],
   "source": [
    "print(\"\\n--- Comparison ---\")\n",
    "original_total_time = original_training_time + original_prediction_time\n",
    "pca_total_time = pca_time + pca_training_time + pca_prediction_time\n",
    "\n",
    "print(f\"Original training time: {original_training_time:.2f} seconds\")\n",
    "print(f\"PCA + training time: {pca_time + pca_training_time:.2f} seconds\")\n",
    "print(f\"Original prediction time: {original_prediction_time:.2f} seconds\")\n",
    "print(f\"PCA prediction time: {pca_prediction_time:.2f} seconds\")"
   ]
  },
  {
   "cell_type": "code",
   "execution_count": 20,
   "metadata": {},
   "outputs": [
    {
     "name": "stdout",
     "output_type": "stream",
     "text": [
      "\n",
      "Training speedup with PCA: 0.43x\n",
      "Prediction speedup with PCA: 1.99x\n",
      "Total time without PCA: 5.03 seconds\n",
      "Total time with PCA (including transformation): 11.68 seconds\n",
      "Total speedup: 0.43x\n",
      "\n",
      "Original accuracy: 0.9675\n",
      "PCA accuracy: 0.9506\n",
      "Accuracy difference: -0.0169\n"
     ]
    }
   ],
   "source": [
    "training_speedup = original_training_time / pca_training_time\n",
    "prediction_speedup = original_prediction_time / pca_prediction_time\n",
    "total_speedup = original_total_time / (pca_total_time)\n",
    "\n",
    "print(f\"\\nTraining speedup with PCA: {training_speedup:.2f}x\")\n",
    "print(f\"Prediction speedup with PCA: {prediction_speedup:.2f}x\")\n",
    "print(f\"Total time without PCA: {original_total_time:.2f} seconds\")\n",
    "print(f\"Total time with PCA (including transformation): {pca_total_time:.2f} seconds\")\n",
    "print(f\"Total speedup: {total_speedup:.2f}x\")\n",
    "\n",
    "print(f\"\\nOriginal accuracy: {original_accuracy:.4f}\")\n",
    "print(f\"PCA accuracy: {pca_accuracy:.4f}\")\n",
    "print(f\"Accuracy difference: {(pca_accuracy - original_accuracy):.4f}\")"
   ]
  }
 ],
 "metadata": {
  "kernelspec": {
   "display_name": "Python 3",
   "language": "python",
   "name": "python3"
  },
  "language_info": {
   "codemirror_mode": {
    "name": "ipython",
    "version": 3
   },
   "file_extension": ".py",
   "mimetype": "text/x-python",
   "name": "python",
   "nbconvert_exporter": "python",
   "pygments_lexer": "ipython3",
   "version": "3.13.2"
  }
 },
 "nbformat": 4,
 "nbformat_minor": 2
}
