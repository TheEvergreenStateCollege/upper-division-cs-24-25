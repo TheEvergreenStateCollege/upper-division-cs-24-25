{
  "nbformat": 4,
  "nbformat_minor": 0,
  "metadata": {
    "colab": {
      "provenance": []
    },
    "kernelspec": {
      "name": "python3",
      "display_name": "Python 3"
    },
    "language_info": {
      "name": "python"
    }
  },
  "cells": [
    {
      "cell_type": "code",
      "execution_count": 1,
      "metadata": {
        "colab": {
          "base_uri": "https://localhost:8080/"
        },
        "id": "zmDY6xP0NDM0",
        "outputId": "fd9693e9-c8a1-429c-8b21-64c453c7ccad"
      },
      "outputs": [
        {
          "output_type": "execute_result",
          "data": {
            "text/plain": [
              "(57.7534441947937, 0.9672857142857143, 91.24002575874329, 0.9527142857142857)"
            ]
          },
          "metadata": {},
          "execution_count": 1
        }
      ],
      "source": [
        "import time\n",
        "from sklearn.datasets import fetch_openml\n",
        "from sklearn.ensemble import RandomForestClassifier\n",
        "from sklearn.decomposition import PCA\n",
        "from sklearn.model_selection import train_test_split\n",
        "from sklearn.metrics import accuracy_score\n",
        "\n",
        "# Load the MNIST dataset\n",
        "mnist = fetch_openml('mnist_784', version=1)\n",
        "X, y = mnist.data, mnist.target\n",
        "\n",
        "# Split into training and test sets\n",
        "X_train, X_test, y_train, y_test = train_test_split(X, y, test_size=0.2, random_state=42)\n",
        "\n",
        "# Train RandomForestClassifier without PCA\n",
        "start_time = time.time()\n",
        "rf = RandomForestClassifier(n_estimators=100, random_state=42)\n",
        "rf.fit(X_train, y_train)\n",
        "train_time_without_pca = time.time() - start_time\n",
        "\n",
        "# Predict and evaluate\n",
        "y_pred = rf.predict(X_test)\n",
        "accuracy_without_pca = accuracy_score(y_test, y_pred)\n",
        "\n",
        "# Apply PCA (reduce to 50 components)\n",
        "pca = PCA(n_components=50, random_state=42)\n",
        "X_train_pca = pca.fit_transform(X_train)\n",
        "X_test_pca = pca.transform(X_test)\n",
        "\n",
        "# Train RandomForestClassifier with PCA\n",
        "start_time = time.time()\n",
        "rf_pca = RandomForestClassifier(n_estimators=100, random_state=42)\n",
        "rf_pca.fit(X_train_pca, y_train)\n",
        "train_time_with_pca = time.time() - start_time\n",
        "\n",
        "# Predict and evaluate\n",
        "y_pred_pca = rf_pca.predict(X_test_pca)\n",
        "accuracy_with_pca = accuracy_score(y_test, y_pred_pca)\n",
        "\n",
        "train_time_without_pca, accuracy_without_pca, train_time_with_pca, accuracy_with_pca\n"
      ]
    }
  ]
}