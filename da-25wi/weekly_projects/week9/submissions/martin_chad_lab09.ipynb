{
 "cells": [
  {
   "cell_type": "markdown",
   "metadata": {},
   "source": [
    "# Data Analytics Lab 9\n",
    "\n"
   ]
  },
  {
   "cell_type": "markdown",
   "metadata": {},
   "source": [
    "## Task\n",
    "\n",
    "Load the MNIST dataset and spit it into training and test sets.  Train a random forest classifier and time how long it takes.  Next, apply PCA to the dataset and retrain, again timing the process.  Was it faster?  How does performance compare?"
   ]
  },
  {
   "cell_type": "code",
   "execution_count": 41,
   "metadata": {},
   "outputs": [
    {
     "name": "stdout",
     "output_type": "stream",
     "text": [
      "Time: 64.88 seconds\n"
     ]
    }
   ],
   "source": [
    "from sklearn.datasets import fetch_openml\n",
    "from sklearn.ensemble import RandomForestClassifier\n",
    "from sklearn.model_selection import train_test_split\n",
    "import time\n",
    "import numpy as np\n",
    "\n",
    "# Load MNIST dataset\n",
    "mnist = fetch_openml('mnist_784', version=1, as_frame=False)\n",
    "X, y = mnist[\"data\"], mnist[\"target\"]\n",
    "\n",
    "# Split the dataset into training and test sets\n",
    "X_train, X_test, y_train, y_test = train_test_split(X, y, test_size=0.2, random_state=42)\n",
    "\n",
    "random_forest_classifer = RandomForestClassifier(n_estimators=100, random_state=42)\n",
    "start_time = time.perf_counter()\n",
    "random_forest_classifer.fit(X_train, y_train)\n",
    "end_time = time.perf_counter()\n",
    "print(f\"Time: {end_time - start_time:.2f} seconds\")"
   ]
  },
  {
   "cell_type": "code",
   "execution_count": 61,
   "metadata": {},
   "outputs": [
    {
     "name": "stdout",
     "output_type": "stream",
     "text": [
      "Training time with PCA: 187.21 seconds\n"
     ]
    }
   ],
   "source": [
    "# Apply PCA, keeping enough components to explain 95% of the variance\n",
    "pca = PCA(n_components=0.95, random_state=42)\n",
    "X_train_reduced = pca.fit_transform(X_train)\n",
    "X_test_reduced = pca.transform(X_test)\n",
    "\n",
    "# Initialize the Random Forest Classifier again\n",
    "rf_clf_pca = RandomForestClassifier(n_estimators=100, random_state=42)\n",
    "\n",
    "# Train the classifier on the reduced dataset and time the process\n",
    "start_time = time.time()\n",
    "rf_clf_pca.fit(X_train_reduced, y_train)\n",
    "training_time_pca = time.time() - start_time\n",
    "\n",
    "# Evaluate the time\n",
    "print(f\"Training time with PCA: {training_time_pca:.2f} seconds\")"
   ]
  },
  {
   "cell_type": "markdown",
   "metadata": {},
   "source": [
    "Using PCA in my case made computation slower. It had a speed up of 35% which means it was 2.84 times slower with PCA than without it."
   ]
  }
 ],
 "metadata": {
  "kernelspec": {
   "display_name": "Python [conda env:base] *",
   "language": "python",
   "name": "conda-base-py"
  },
  "language_info": {
   "codemirror_mode": {
    "name": "ipython",
    "version": 3
   },
   "file_extension": ".py",
   "mimetype": "text/x-python",
   "name": "python",
   "nbconvert_exporter": "python",
   "pygments_lexer": "ipython3",
   "version": "3.12.7"
  }
 },
 "nbformat": 4,
 "nbformat_minor": 4
}
