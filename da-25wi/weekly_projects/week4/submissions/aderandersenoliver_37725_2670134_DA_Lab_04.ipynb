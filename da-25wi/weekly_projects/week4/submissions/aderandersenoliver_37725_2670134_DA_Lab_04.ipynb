{
  "nbformat": 4,
  "nbformat_minor": 0,
  "metadata": {
    "colab": {
      "provenance": []
    },
    "kernelspec": {
      "name": "python3",
      "display_name": "Python 3"
    },
    "language_info": {
      "name": "python"
    }
  },
  "cells": [
    {
      "cell_type": "markdown",
      "source": [
        "# Week 4 Lab: Regularization\n",
        "\n",
        "### Learning objectives:\n",
        "* Be able to build a simple logistic regression classifier\n",
        "* Be able to incorporate regularization into your solution\n",
        "* Be able to assess the performance differences across regularization parameters using cross validation\n",
        "* Be able to express your conclusions succinctly\n",
        "\n",
        "## Description\n",
        "\n",
        "There are several types of iris flowers.  One, *Iris virginica*, is a deadly poison, and so you want to build an ML algorithm to identify it.  Your task this week is build a logistic regression classifier to identify this class. The data for this project will be the classic \"iris dataset\" (see below for details on how to get it).  Your work should include the following elements:\n",
        "\n",
        "*  Train different models using different regularization parameters (read the software documentation if you need help understanding the parameters)\n",
        "*  Choose a meaningful metric by which to assess each model, and compare performance using some appropriate methodology (e.g. cross validation)\n",
        "*  Write a \"one pager\" that summarizes your findings.  Your one-pager should be done in something like Microsoft word and include one or two well-constructed plots.\n",
        "\n",
        "Some things to think about:\n",
        "* Is it better to have a false negative or a false positive?\n",
        "* Does your metric reflect this?\n",
        "* All classifiers will have errors.  What language is appropriate for describing the rate at which you expect to encounter those errors?\n",
        "\n"
      ],
      "metadata": {
        "id": "VYziVqe-v9BB"
      }
    },
    {
      "cell_type": "markdown",
      "source": [
        "# Get the data\n"
      ],
      "metadata": {
        "id": "mZFwFVGpwG1I"
      }
    },
    {
      "cell_type": "code",
      "execution_count": 1,
      "metadata": {
        "colab": {
          "base_uri": "https://localhost:8080/"
        },
        "id": "RbbXz8iNvaQh",
        "outputId": "da72f0e0-0a35-4b5e-8a70-c0078b70855b"
      },
      "outputs": [
        {
          "output_type": "execute_result",
          "data": {
            "text/plain": [
              "['data',\n",
              " 'target',\n",
              " 'frame',\n",
              " 'target_names',\n",
              " 'DESCR',\n",
              " 'feature_names',\n",
              " 'filename',\n",
              " 'data_module']"
            ]
          },
          "metadata": {},
          "execution_count": 1
        }
      ],
      "source": [
        "from sklearn.datasets import load_iris\n",
        "iris = load_iris(as_frame=True) # this loads something called a Bunch\n",
        "list(iris) # this lets us see what data elements are in the Bunch"
      ]
    },
    {
      "cell_type": "code",
      "source": [
        "iris.data.head()"
      ],
      "metadata": {
        "colab": {
          "base_uri": "https://localhost:8080/",
          "height": 206
        },
        "id": "JLDZ9oiwwSin",
        "outputId": "78c0e64f-f787-46b5-a649-081caec2b1a1"
      },
      "execution_count": 2,
      "outputs": [
        {
          "output_type": "execute_result",
          "data": {
            "text/plain": [
              "   sepal length (cm)  sepal width (cm)  petal length (cm)  petal width (cm)\n",
              "0                5.1               3.5                1.4               0.2\n",
              "1                4.9               3.0                1.4               0.2\n",
              "2                4.7               3.2                1.3               0.2\n",
              "3                4.6               3.1                1.5               0.2\n",
              "4                5.0               3.6                1.4               0.2"
            ],
            "text/html": [
              "\n",
              "  <div id=\"df-94f697a4-e275-440a-9c61-522dc6638365\" class=\"colab-df-container\">\n",
              "    <div>\n",
              "<style scoped>\n",
              "    .dataframe tbody tr th:only-of-type {\n",
              "        vertical-align: middle;\n",
              "    }\n",
              "\n",
              "    .dataframe tbody tr th {\n",
              "        vertical-align: top;\n",
              "    }\n",
              "\n",
              "    .dataframe thead th {\n",
              "        text-align: right;\n",
              "    }\n",
              "</style>\n",
              "<table border=\"1\" class=\"dataframe\">\n",
              "  <thead>\n",
              "    <tr style=\"text-align: right;\">\n",
              "      <th></th>\n",
              "      <th>sepal length (cm)</th>\n",
              "      <th>sepal width (cm)</th>\n",
              "      <th>petal length (cm)</th>\n",
              "      <th>petal width (cm)</th>\n",
              "    </tr>\n",
              "  </thead>\n",
              "  <tbody>\n",
              "    <tr>\n",
              "      <th>0</th>\n",
              "      <td>5.1</td>\n",
              "      <td>3.5</td>\n",
              "      <td>1.4</td>\n",
              "      <td>0.2</td>\n",
              "    </tr>\n",
              "    <tr>\n",
              "      <th>1</th>\n",
              "      <td>4.9</td>\n",
              "      <td>3.0</td>\n",
              "      <td>1.4</td>\n",
              "      <td>0.2</td>\n",
              "    </tr>\n",
              "    <tr>\n",
              "      <th>2</th>\n",
              "      <td>4.7</td>\n",
              "      <td>3.2</td>\n",
              "      <td>1.3</td>\n",
              "      <td>0.2</td>\n",
              "    </tr>\n",
              "    <tr>\n",
              "      <th>3</th>\n",
              "      <td>4.6</td>\n",
              "      <td>3.1</td>\n",
              "      <td>1.5</td>\n",
              "      <td>0.2</td>\n",
              "    </tr>\n",
              "    <tr>\n",
              "      <th>4</th>\n",
              "      <td>5.0</td>\n",
              "      <td>3.6</td>\n",
              "      <td>1.4</td>\n",
              "      <td>0.2</td>\n",
              "    </tr>\n",
              "  </tbody>\n",
              "</table>\n",
              "</div>\n",
              "    <div class=\"colab-df-buttons\">\n",
              "\n",
              "  <div class=\"colab-df-container\">\n",
              "    <button class=\"colab-df-convert\" onclick=\"convertToInteractive('df-94f697a4-e275-440a-9c61-522dc6638365')\"\n",
              "            title=\"Convert this dataframe to an interactive table.\"\n",
              "            style=\"display:none;\">\n",
              "\n",
              "  <svg xmlns=\"http://www.w3.org/2000/svg\" height=\"24px\" viewBox=\"0 -960 960 960\">\n",
              "    <path d=\"M120-120v-720h720v720H120Zm60-500h600v-160H180v160Zm220 220h160v-160H400v160Zm0 220h160v-160H400v160ZM180-400h160v-160H180v160Zm440 0h160v-160H620v160ZM180-180h160v-160H180v160Zm440 0h160v-160H620v160Z\"/>\n",
              "  </svg>\n",
              "    </button>\n",
              "\n",
              "  <style>\n",
              "    .colab-df-container {\n",
              "      display:flex;\n",
              "      gap: 12px;\n",
              "    }\n",
              "\n",
              "    .colab-df-convert {\n",
              "      background-color: #E8F0FE;\n",
              "      border: none;\n",
              "      border-radius: 50%;\n",
              "      cursor: pointer;\n",
              "      display: none;\n",
              "      fill: #1967D2;\n",
              "      height: 32px;\n",
              "      padding: 0 0 0 0;\n",
              "      width: 32px;\n",
              "    }\n",
              "\n",
              "    .colab-df-convert:hover {\n",
              "      background-color: #E2EBFA;\n",
              "      box-shadow: 0px 1px 2px rgba(60, 64, 67, 0.3), 0px 1px 3px 1px rgba(60, 64, 67, 0.15);\n",
              "      fill: #174EA6;\n",
              "    }\n",
              "\n",
              "    .colab-df-buttons div {\n",
              "      margin-bottom: 4px;\n",
              "    }\n",
              "\n",
              "    [theme=dark] .colab-df-convert {\n",
              "      background-color: #3B4455;\n",
              "      fill: #D2E3FC;\n",
              "    }\n",
              "\n",
              "    [theme=dark] .colab-df-convert:hover {\n",
              "      background-color: #434B5C;\n",
              "      box-shadow: 0px 1px 3px 1px rgba(0, 0, 0, 0.15);\n",
              "      filter: drop-shadow(0px 1px 2px rgba(0, 0, 0, 0.3));\n",
              "      fill: #FFFFFF;\n",
              "    }\n",
              "  </style>\n",
              "\n",
              "    <script>\n",
              "      const buttonEl =\n",
              "        document.querySelector('#df-94f697a4-e275-440a-9c61-522dc6638365 button.colab-df-convert');\n",
              "      buttonEl.style.display =\n",
              "        google.colab.kernel.accessAllowed ? 'block' : 'none';\n",
              "\n",
              "      async function convertToInteractive(key) {\n",
              "        const element = document.querySelector('#df-94f697a4-e275-440a-9c61-522dc6638365');\n",
              "        const dataTable =\n",
              "          await google.colab.kernel.invokeFunction('convertToInteractive',\n",
              "                                                    [key], {});\n",
              "        if (!dataTable) return;\n",
              "\n",
              "        const docLinkHtml = 'Like what you see? Visit the ' +\n",
              "          '<a target=\"_blank\" href=https://colab.research.google.com/notebooks/data_table.ipynb>data table notebook</a>'\n",
              "          + ' to learn more about interactive tables.';\n",
              "        element.innerHTML = '';\n",
              "        dataTable['output_type'] = 'display_data';\n",
              "        await google.colab.output.renderOutput(dataTable, element);\n",
              "        const docLink = document.createElement('div');\n",
              "        docLink.innerHTML = docLinkHtml;\n",
              "        element.appendChild(docLink);\n",
              "      }\n",
              "    </script>\n",
              "  </div>\n",
              "\n",
              "\n",
              "<div id=\"df-454339cf-6ca1-41b8-b342-843f03b51add\">\n",
              "  <button class=\"colab-df-quickchart\" onclick=\"quickchart('df-454339cf-6ca1-41b8-b342-843f03b51add')\"\n",
              "            title=\"Suggest charts\"\n",
              "            style=\"display:none;\">\n",
              "\n",
              "<svg xmlns=\"http://www.w3.org/2000/svg\" height=\"24px\"viewBox=\"0 0 24 24\"\n",
              "     width=\"24px\">\n",
              "    <g>\n",
              "        <path d=\"M19 3H5c-1.1 0-2 .9-2 2v14c0 1.1.9 2 2 2h14c1.1 0 2-.9 2-2V5c0-1.1-.9-2-2-2zM9 17H7v-7h2v7zm4 0h-2V7h2v10zm4 0h-2v-4h2v4z\"/>\n",
              "    </g>\n",
              "</svg>\n",
              "  </button>\n",
              "\n",
              "<style>\n",
              "  .colab-df-quickchart {\n",
              "      --bg-color: #E8F0FE;\n",
              "      --fill-color: #1967D2;\n",
              "      --hover-bg-color: #E2EBFA;\n",
              "      --hover-fill-color: #174EA6;\n",
              "      --disabled-fill-color: #AAA;\n",
              "      --disabled-bg-color: #DDD;\n",
              "  }\n",
              "\n",
              "  [theme=dark] .colab-df-quickchart {\n",
              "      --bg-color: #3B4455;\n",
              "      --fill-color: #D2E3FC;\n",
              "      --hover-bg-color: #434B5C;\n",
              "      --hover-fill-color: #FFFFFF;\n",
              "      --disabled-bg-color: #3B4455;\n",
              "      --disabled-fill-color: #666;\n",
              "  }\n",
              "\n",
              "  .colab-df-quickchart {\n",
              "    background-color: var(--bg-color);\n",
              "    border: none;\n",
              "    border-radius: 50%;\n",
              "    cursor: pointer;\n",
              "    display: none;\n",
              "    fill: var(--fill-color);\n",
              "    height: 32px;\n",
              "    padding: 0;\n",
              "    width: 32px;\n",
              "  }\n",
              "\n",
              "  .colab-df-quickchart:hover {\n",
              "    background-color: var(--hover-bg-color);\n",
              "    box-shadow: 0 1px 2px rgba(60, 64, 67, 0.3), 0 1px 3px 1px rgba(60, 64, 67, 0.15);\n",
              "    fill: var(--button-hover-fill-color);\n",
              "  }\n",
              "\n",
              "  .colab-df-quickchart-complete:disabled,\n",
              "  .colab-df-quickchart-complete:disabled:hover {\n",
              "    background-color: var(--disabled-bg-color);\n",
              "    fill: var(--disabled-fill-color);\n",
              "    box-shadow: none;\n",
              "  }\n",
              "\n",
              "  .colab-df-spinner {\n",
              "    border: 2px solid var(--fill-color);\n",
              "    border-color: transparent;\n",
              "    border-bottom-color: var(--fill-color);\n",
              "    animation:\n",
              "      spin 1s steps(1) infinite;\n",
              "  }\n",
              "\n",
              "  @keyframes spin {\n",
              "    0% {\n",
              "      border-color: transparent;\n",
              "      border-bottom-color: var(--fill-color);\n",
              "      border-left-color: var(--fill-color);\n",
              "    }\n",
              "    20% {\n",
              "      border-color: transparent;\n",
              "      border-left-color: var(--fill-color);\n",
              "      border-top-color: var(--fill-color);\n",
              "    }\n",
              "    30% {\n",
              "      border-color: transparent;\n",
              "      border-left-color: var(--fill-color);\n",
              "      border-top-color: var(--fill-color);\n",
              "      border-right-color: var(--fill-color);\n",
              "    }\n",
              "    40% {\n",
              "      border-color: transparent;\n",
              "      border-right-color: var(--fill-color);\n",
              "      border-top-color: var(--fill-color);\n",
              "    }\n",
              "    60% {\n",
              "      border-color: transparent;\n",
              "      border-right-color: var(--fill-color);\n",
              "    }\n",
              "    80% {\n",
              "      border-color: transparent;\n",
              "      border-right-color: var(--fill-color);\n",
              "      border-bottom-color: var(--fill-color);\n",
              "    }\n",
              "    90% {\n",
              "      border-color: transparent;\n",
              "      border-bottom-color: var(--fill-color);\n",
              "    }\n",
              "  }\n",
              "</style>\n",
              "\n",
              "  <script>\n",
              "    async function quickchart(key) {\n",
              "      const quickchartButtonEl =\n",
              "        document.querySelector('#' + key + ' button');\n",
              "      quickchartButtonEl.disabled = true;  // To prevent multiple clicks.\n",
              "      quickchartButtonEl.classList.add('colab-df-spinner');\n",
              "      try {\n",
              "        const charts = await google.colab.kernel.invokeFunction(\n",
              "            'suggestCharts', [key], {});\n",
              "      } catch (error) {\n",
              "        console.error('Error during call to suggestCharts:', error);\n",
              "      }\n",
              "      quickchartButtonEl.classList.remove('colab-df-spinner');\n",
              "      quickchartButtonEl.classList.add('colab-df-quickchart-complete');\n",
              "    }\n",
              "    (() => {\n",
              "      let quickchartButtonEl =\n",
              "        document.querySelector('#df-454339cf-6ca1-41b8-b342-843f03b51add button');\n",
              "      quickchartButtonEl.style.display =\n",
              "        google.colab.kernel.accessAllowed ? 'block' : 'none';\n",
              "    })();\n",
              "  </script>\n",
              "</div>\n",
              "\n",
              "    </div>\n",
              "  </div>\n"
            ],
            "application/vnd.google.colaboratory.intrinsic+json": {
              "type": "dataframe",
              "summary": "{\n  \"name\": \"iris\",\n  \"rows\": 5,\n  \"fields\": [\n    {\n      \"column\": \"sepal length (cm)\",\n      \"properties\": {\n        \"dtype\": \"number\",\n        \"std\": 0.2073644135332772,\n        \"min\": 4.6,\n        \"max\": 5.1,\n        \"num_unique_values\": 5,\n        \"samples\": [\n          4.9,\n          5.0,\n          4.7\n        ],\n        \"semantic_type\": \"\",\n        \"description\": \"\"\n      }\n    },\n    {\n      \"column\": \"sepal width (cm)\",\n      \"properties\": {\n        \"dtype\": \"number\",\n        \"std\": 0.2588435821108957,\n        \"min\": 3.0,\n        \"max\": 3.6,\n        \"num_unique_values\": 5,\n        \"samples\": [\n          3.0,\n          3.6,\n          3.2\n        ],\n        \"semantic_type\": \"\",\n        \"description\": \"\"\n      }\n    },\n    {\n      \"column\": \"petal length (cm)\",\n      \"properties\": {\n        \"dtype\": \"number\",\n        \"std\": 0.07071067811865474,\n        \"min\": 1.3,\n        \"max\": 1.5,\n        \"num_unique_values\": 3,\n        \"samples\": [\n          1.4,\n          1.3,\n          1.5\n        ],\n        \"semantic_type\": \"\",\n        \"description\": \"\"\n      }\n    },\n    {\n      \"column\": \"petal width (cm)\",\n      \"properties\": {\n        \"dtype\": \"number\",\n        \"std\": 0.0,\n        \"min\": 0.2,\n        \"max\": 0.2,\n        \"num_unique_values\": 1,\n        \"samples\": [\n          0.2\n        ],\n        \"semantic_type\": \"\",\n        \"description\": \"\"\n      }\n    }\n  ]\n}"
            }
          },
          "metadata": {},
          "execution_count": 2
        }
      ]
    },
    {
      "cell_type": "markdown",
      "source": [
        "## Split the data and train a logistic regressor"
      ],
      "metadata": {
        "id": "0dzDtWuWwW-N"
      }
    },
    {
      "cell_type": "code",
      "source": [
        "from sklearn.linear_model import LogisticRegression\n",
        "from sklearn.model_selection import train_test_split, KFold, cross_val_score\n",
        "from sklearn.metrics import accuracy_score\n",
        "import matplotlib.pyplot as plt\n",
        "import numpy as np"
      ],
      "metadata": {
        "id": "_tG_venuwa8Y"
      },
      "execution_count": 3,
      "outputs": []
    },
    {
      "cell_type": "code",
      "source": [
        "# Get independent and dependent variables\n",
        "X = iris.data[[\"petal width (cm)\"]].values\n",
        "y = iris.target_names[iris.target] == 'virginica'"
      ],
      "metadata": {
        "id": "DqUVlRIPweJD"
      },
      "execution_count": 4,
      "outputs": []
    },
    {
      "cell_type": "code",
      "source": [
        "# more code here\n",
        "X_train, X_test, y_train, y_test = train_test_split(X, y, test_size=0.2, random_state=42)\n",
        "\n",
        "k_folds = KFold(n_splits = 5)"
      ],
      "metadata": {
        "id": "BbreIhJT4n89"
      },
      "execution_count": 5,
      "outputs": []
    },
    {
      "cell_type": "code",
      "source": [
        "#penalty = 'l2'\n",
        "#C = 1.0\n",
        "#solver = 'liblinear'\n",
        "\n",
        "#model = LogisticRegression(penalty=penalty, C=C, solver=solver, random_state=42)"
      ],
      "metadata": {
        "collapsed": true,
        "id": "qMstQPQzwhTa"
      },
      "execution_count": 6,
      "outputs": []
    },
    {
      "cell_type": "code",
      "source": [
        "# Evaluate the model\n",
        "#scores = cross_val_score(model, X, y, cv = k_folds)\n",
        "#print(\"CV score: {:.2f}%\".format(scores.mean()*100))"
      ],
      "metadata": {
        "id": "z6l5t8Ti1lPk"
      },
      "execution_count": 7,
      "outputs": []
    },
    {
      "cell_type": "markdown",
      "source": [
        "## Play with the regularization parameter\n",
        "\n",
        "Look at the `sklearn` documentation if you need help here.  You should change the regularization parameter, retrain, reassess\n"
      ],
      "metadata": {
        "id": "DjfLqYPRwjYP"
      }
    },
    {
      "cell_type": "code",
      "source": [
        "accuracy_l1 = []\n",
        "accuracy_l2 = []\n",
        "Cs =[0.01, 0.1, 1.0, 10, 100] #C values for both l1 and l2"
      ],
      "metadata": {
        "id": "SNwsr0SkEweT"
      },
      "execution_count": 8,
      "outputs": []
    },
    {
      "cell_type": "code",
      "source": [
        "penalty = 'l1'\n",
        "C = 0.01\n",
        "solver = 'liblinear'\n",
        "\n",
        "l1_model = LogisticRegression(penalty=penalty, C=C, solver=solver, random_state=42)"
      ],
      "metadata": {
        "collapsed": true,
        "id": "vWhurWrtwnbE"
      },
      "execution_count": 9,
      "outputs": []
    },
    {
      "cell_type": "code",
      "source": [
        "scores = cross_val_score(l1_model, X, y, cv = k_folds)\n",
        "accuracy_l1.append(scores.mean())\n",
        "print(\"CV score: {:.2f}%\".format(scores.mean()*100))"
      ],
      "metadata": {
        "colab": {
          "base_uri": "https://localhost:8080/"
        },
        "id": "F196-vjv3gmk",
        "outputId": "20e80df7-29a8-4a81-c05b-dd9f470037d1"
      },
      "execution_count": 10,
      "outputs": [
        {
          "output_type": "stream",
          "name": "stdout",
          "text": [
            "CV score: 66.67%\n"
          ]
        }
      ]
    },
    {
      "cell_type": "code",
      "source": [
        "penalty = 'l1'\n",
        "C = 0.1\n",
        "solver = 'liblinear'\n",
        "\n",
        "l1_model4 = LogisticRegression(penalty=penalty, C=C, solver=solver, random_state=42)"
      ],
      "metadata": {
        "id": "B6bJ_I0iSPG-"
      },
      "execution_count": 32,
      "outputs": []
    },
    {
      "cell_type": "code",
      "source": [
        "scores = cross_val_score(l1_model4, X, y, cv = k_folds)\n",
        "accuracy_l1.append(scores.mean())\n",
        "print(\"CV score: {:.2f}%\".format(scores.mean()*100))"
      ],
      "metadata": {
        "colab": {
          "base_uri": "https://localhost:8080/"
        },
        "id": "BaQNH9sQSSCF",
        "outputId": "cb6b2b12-1a5e-424f-8f58-818b82cc9f62"
      },
      "execution_count": 33,
      "outputs": [
        {
          "output_type": "stream",
          "name": "stdout",
          "text": [
            "CV score: 49.33%\n"
          ]
        }
      ]
    },
    {
      "cell_type": "code",
      "source": [
        "penalty = 'l1'\n",
        "C = 1.0\n",
        "solver = 'liblinear'\n",
        "\n",
        "l1_model2 = LogisticRegression(penalty=penalty, C=C, solver=solver, random_state=42)"
      ],
      "metadata": {
        "id": "AZQ_jWsHFSBB"
      },
      "execution_count": 13,
      "outputs": []
    },
    {
      "cell_type": "code",
      "source": [
        "scores = cross_val_score(l1_model2, X, y, cv = k_folds)\n",
        "accuracy_l1.append(scores.mean())\n",
        "print(\"CV score: {:.2f}%\".format(scores.mean()*100))"
      ],
      "metadata": {
        "colab": {
          "base_uri": "https://localhost:8080/"
        },
        "id": "KtB5mGnpFSa6",
        "outputId": "1539e8b5-0604-4350-b9c4-b97fd0035955"
      },
      "execution_count": 14,
      "outputs": [
        {
          "output_type": "stream",
          "name": "stdout",
          "text": [
            "CV score: 89.33%\n"
          ]
        }
      ]
    },
    {
      "cell_type": "code",
      "source": [
        "penalty = 'l1'\n",
        "C = 10\n",
        "solver = 'liblinear'\n",
        "\n",
        "l1_model3 = LogisticRegression(penalty=penalty, C=C, solver=solver, random_state=42)"
      ],
      "metadata": {
        "id": "--N9XNyQFTOW"
      },
      "execution_count": 15,
      "outputs": []
    },
    {
      "cell_type": "code",
      "source": [
        "scores = cross_val_score(l1_model3, X, y, cv = k_folds)\n",
        "accuracy_l1.append(scores.mean())\n",
        "print(\"CV score: {:.2f}%\".format(scores.mean()*100))"
      ],
      "metadata": {
        "colab": {
          "base_uri": "https://localhost:8080/"
        },
        "id": "tIj8L6m6FTZJ",
        "outputId": "c76cee14-1d0d-47a7-dadd-ac1946e90507"
      },
      "execution_count": 16,
      "outputs": [
        {
          "output_type": "stream",
          "name": "stdout",
          "text": [
            "CV score: 94.67%\n"
          ]
        },
        {
          "output_type": "stream",
          "name": "stderr",
          "text": [
            "/usr/local/lib/python3.11/dist-packages/sklearn/svm/_base.py:1249: ConvergenceWarning: Liblinear failed to converge, increase the number of iterations.\n",
            "  warnings.warn(\n"
          ]
        }
      ]
    },
    {
      "cell_type": "code",
      "source": [
        "penalty = 'l1'\n",
        "C = 100\n",
        "solver = 'liblinear'\n",
        "\n",
        "l1_model5 = LogisticRegression(penalty=penalty, C=C, solver=solver, random_state=42)"
      ],
      "metadata": {
        "id": "G6OXv1gdUYPa"
      },
      "execution_count": 17,
      "outputs": []
    },
    {
      "cell_type": "code",
      "source": [
        "scores = cross_val_score(l1_model5, X, y, cv = k_folds)\n",
        "accuracy_l1.append(scores.mean())\n",
        "print(\"CV score: {:.2f}%\".format(scores.mean()*100))"
      ],
      "metadata": {
        "colab": {
          "base_uri": "https://localhost:8080/"
        },
        "id": "TC5cAv3rUYia",
        "outputId": "7d39775a-306e-4f1e-965c-ef4b3008b29c"
      },
      "execution_count": 18,
      "outputs": [
        {
          "output_type": "stream",
          "name": "stdout",
          "text": [
            "CV score: 94.67%\n"
          ]
        },
        {
          "output_type": "stream",
          "name": "stderr",
          "text": [
            "/usr/local/lib/python3.11/dist-packages/sklearn/svm/_base.py:1249: ConvergenceWarning: Liblinear failed to converge, increase the number of iterations.\n",
            "  warnings.warn(\n",
            "/usr/local/lib/python3.11/dist-packages/sklearn/svm/_base.py:1249: ConvergenceWarning: Liblinear failed to converge, increase the number of iterations.\n",
            "  warnings.warn(\n",
            "/usr/local/lib/python3.11/dist-packages/sklearn/svm/_base.py:1249: ConvergenceWarning: Liblinear failed to converge, increase the number of iterations.\n",
            "  warnings.warn(\n",
            "/usr/local/lib/python3.11/dist-packages/sklearn/svm/_base.py:1249: ConvergenceWarning: Liblinear failed to converge, increase the number of iterations.\n",
            "  warnings.warn(\n",
            "/usr/local/lib/python3.11/dist-packages/sklearn/svm/_base.py:1249: ConvergenceWarning: Liblinear failed to converge, increase the number of iterations.\n",
            "  warnings.warn(\n"
          ]
        }
      ]
    },
    {
      "cell_type": "code",
      "source": [
        "penalty = 'l2'\n",
        "C = 0.01\n",
        "solver = 'liblinear'\n",
        "\n",
        "HC_model = LogisticRegression(penalty=penalty, C=C, solver=solver, random_state=42)"
      ],
      "metadata": {
        "collapsed": true,
        "id": "9MpwqCjf2Yws"
      },
      "execution_count": 19,
      "outputs": []
    },
    {
      "cell_type": "code",
      "source": [
        "scores = cross_val_score(HC_model, X, y, cv = k_folds)\n",
        "accuracy_l2.append(scores.mean())\n",
        "print(\"CV score: {:.2f}%\".format(scores.mean()*100))"
      ],
      "metadata": {
        "colab": {
          "base_uri": "https://localhost:8080/"
        },
        "id": "f_Yt_WYS3yy4",
        "outputId": "cd82c836-fa60-4a2d-93e4-ec91313e1c7f"
      },
      "execution_count": 20,
      "outputs": [
        {
          "output_type": "stream",
          "name": "stdout",
          "text": [
            "CV score: 40.00%\n"
          ]
        }
      ]
    },
    {
      "cell_type": "code",
      "source": [
        "penalty = 'l2'\n",
        "C = 0.1\n",
        "solver = 'liblinear'\n",
        "\n",
        "MC_model = LogisticRegression(penalty=penalty, C=C, solver=solver, random_state=42)"
      ],
      "metadata": {
        "id": "O2ay9RthSFqA"
      },
      "execution_count": 21,
      "outputs": []
    },
    {
      "cell_type": "code",
      "source": [
        "scores = cross_val_score(MC_model, X, y, cv = k_folds)\n",
        "accuracy_l2.append(scores.mean())\n",
        "print(\"CV score: {:.2f}%\".format(scores.mean()*100))"
      ],
      "metadata": {
        "colab": {
          "base_uri": "https://localhost:8080/"
        },
        "id": "Zhv4uGHGSJ2W",
        "outputId": "9ab0a2f8-2f8a-4ad9-fb2d-052d21e90a93"
      },
      "execution_count": 22,
      "outputs": [
        {
          "output_type": "stream",
          "name": "stdout",
          "text": [
            "CV score: 54.00%\n"
          ]
        }
      ]
    },
    {
      "cell_type": "code",
      "source": [
        "penalty = 'l2'\n",
        "C = 1.0\n",
        "solver = 'liblinear'\n",
        "\n",
        "LC_model2 = LogisticRegression(penalty=penalty, C=C, solver=solver, random_state=42)"
      ],
      "metadata": {
        "collapsed": true,
        "id": "1_HR68rU4ROB"
      },
      "execution_count": 23,
      "outputs": []
    },
    {
      "cell_type": "code",
      "source": [
        "scores = cross_val_score(LC_model2, X, y, cv = k_folds)\n",
        "accuracy_l2.append(scores.mean())\n",
        "print(\"CV score: {:.2f}%\".format(scores.mean()*100))"
      ],
      "metadata": {
        "colab": {
          "base_uri": "https://localhost:8080/"
        },
        "id": "UrtGK8LJ4X_3",
        "outputId": "826cc40c-5222-497d-c833-8da381d12cf1"
      },
      "execution_count": 24,
      "outputs": [
        {
          "output_type": "stream",
          "name": "stdout",
          "text": [
            "CV score: 79.33%\n"
          ]
        }
      ]
    },
    {
      "cell_type": "code",
      "source": [
        "penalty = 'l2'\n",
        "C = 10\n",
        "solver = 'liblinear'\n",
        "\n",
        "LC_model3 = LogisticRegression(penalty=penalty, C=C, solver=solver, random_state=42)"
      ],
      "metadata": {
        "id": "rWmoLQ2zF97O"
      },
      "execution_count": 25,
      "outputs": []
    },
    {
      "cell_type": "code",
      "source": [
        "scores = cross_val_score(LC_model3, X, y, cv = k_folds)\n",
        "accuracy_l2.append(scores.mean())\n",
        "print(\"CV score: {:.2f}%\".format(scores.mean()*100))"
      ],
      "metadata": {
        "colab": {
          "base_uri": "https://localhost:8080/"
        },
        "id": "qBR_rstDF-Dk",
        "outputId": "298d2782-c532-44b5-99e0-8316ba173661"
      },
      "execution_count": 26,
      "outputs": [
        {
          "output_type": "stream",
          "name": "stdout",
          "text": [
            "CV score: 90.00%\n"
          ]
        }
      ]
    },
    {
      "cell_type": "code",
      "source": [
        "penalty = 'l2'\n",
        "C = 100\n",
        "solver = 'liblinear'\n",
        "\n",
        "LC_model4 = LogisticRegression(penalty=penalty, C=C, solver=solver, random_state=42)"
      ],
      "metadata": {
        "id": "cM3e8XvpUfcO"
      },
      "execution_count": 27,
      "outputs": []
    },
    {
      "cell_type": "code",
      "source": [
        "scores = cross_val_score(LC_model4, X, y, cv = k_folds)\n",
        "accuracy_l2.append(scores.mean())\n",
        "print(\"CV score: {:.2f}%\".format(scores.mean()*100))"
      ],
      "metadata": {
        "colab": {
          "base_uri": "https://localhost:8080/"
        },
        "id": "YYB9oVfNUfNW",
        "outputId": "f92eff9a-cd56-418f-d2f8-865bd498701a"
      },
      "execution_count": 28,
      "outputs": [
        {
          "output_type": "stream",
          "name": "stdout",
          "text": [
            "CV score: 94.67%\n"
          ]
        }
      ]
    },
    {
      "cell_type": "code",
      "source": [
        "#plot the result\n",
        "Cs =[0.01, 0.1, 1.0, 10.0, 100.0]\n",
        "plt.figure(figsize=(10, 6))\n",
        "plt.plot(Cs, accuracy_l1, marker='o', label='L1 Regularization', color='blue')\n",
        "plt.plot(Cs, accuracy_l2, marker='s', label='L2 Regularization', color='red')\n",
        "plt.xscale('log')\n",
        "plt.xlabel('Regularization Strength')\n",
        "plt.ylabel('Cross-validated Accuracy')\n",
        "plt.title('Comparison of Regularization with Logistic Regression')\n",
        "plt.legend()\n",
        "plt.grid(True)\n",
        "plt.show()"
      ],
      "metadata": {
        "colab": {
          "base_uri": "https://localhost:8080/",
          "height": 569
        },
        "id": "UEF-AYuFGK4g",
        "outputId": "19e5cf12-eb7b-4a65-de78-cc0f41ce7534"
      },
      "execution_count": 29,
      "outputs": [
        {
          "output_type": "display_data",
          "data": {
            "text/plain": [
              "<Figure size 1000x600 with 1 Axes>"
            ],
            "image/png": "[encoded data removed]"
          },
          "metadata": {}
        }
      ]
    },
    {
      "cell_type": "markdown",
      "source": [
        "## Draw some conclusions"
      ],
      "metadata": {
        "id": "hGW9a-xDwoAD"
      }
    },
    {
      "cell_type": "markdown",
      "source": [],
      "metadata": {
        "id": "8LLEBWLOKZt7"
      }
    },
    {
      "cell_type": "markdown",
      "source": [
        "![download.png](data:image/png;base64,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)"
      ],
      "metadata": {
        "id": "4aqHDmQZKI71"
      }
    },
    {
      "cell_type": "markdown",
      "source": [],
      "metadata": {
        "id": "RzBljvesKaF2"
      }
    },
    {
      "cell_type": "markdown",
      "source": [],
      "metadata": {
        "id": "BzZmSxiWONeU"
      }
    }
  ]
}