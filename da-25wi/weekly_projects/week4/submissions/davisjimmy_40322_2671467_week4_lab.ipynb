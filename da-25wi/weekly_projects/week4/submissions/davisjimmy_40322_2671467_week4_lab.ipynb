{
 "cells": [
  {
   "cell_type": "markdown",
   "metadata": {
    "id": "bc4NYPCwhM1V"
   },
   "source": [
    "# Week 4 Lab: Regularization\n",
    "\n",
    "### Learning objectives:\n",
    "* Be able to build a simple logistic regression classifier\n",
    "* Be able to incorporate regularization into your solution\n",
    "* Be able to assess the performance differences across regularization parameters using cross validation\n",
    "* Be able to express your conclusions succinctly\n",
    "\n",
    "## Description\n",
    "\n",
    "There are several types of iris flowers.  One, *Iris virginica*, is a deadly poison, and so you want to build an ML algorithm to identify it.  Your task this week is build a logistic regression classifier to identify this class. The data for this project will be the classic \"iris dataset\" (see below for details on how to get it).  Your work should include the following elements:\n",
    "\n",
    "*  Train different models using different regularization parameters (read the software documentation if you need help understanding the parameters)\n",
    "*  Choose a meaningful metric by which to assess each model, and compare performance using some appropriate methodology (e.g. cross validation)\n",
    "*  Write a \"one pager\" that summarizes your findings.  Your one-pager should be done in something like Microsoft word and include one or two well-constructed plots.\n",
    "\n",
    "Some things to think about:\n",
    "* Is it better to have a false negative or a false positive?\n",
    "* Does your metric reflect this?\n",
    "* All classifiers will have errors.  What language is appropriate for describing the rate at which you expect to encounter those errors?\n",
    "\n"
   ]
  },
  {
   "cell_type": "markdown",
   "metadata": {
    "id": "ka5bxoaNhM1Y"
   },
   "source": [
    "# Get the data"
   ]
  },
  {
   "cell_type": "code",
   "execution_count": 2,
   "metadata": {
    "colab": {
     "base_uri": "https://localhost:8080/"
    },
    "executionInfo": {
     "elapsed": 309,
     "status": "ok",
     "timestamp": 1738481373362,
     "user": {
      "displayName": "Jimmy",
      "userId": "05550904019569644902"
     },
     "user_tz": 480
    },
    "id": "2j4drfGohM1Y",
    "outputId": "d2bd2315-ee9d-4447-f13d-09c22748b71f"
   },
   "outputs": [
    {
     "data": {
      "text/plain": [
       "['data',\n",
       " 'target',\n",
       " 'frame',\n",
       " 'target_names',\n",
       " 'DESCR',\n",
       " 'feature_names',\n",
       " 'filename',\n",
       " 'data_module']"
      ]
     },
     "execution_count": 2,
     "metadata": {},
     "output_type": "execute_result"
    }
   ],
   "source": [
    "from sklearn.datasets import load_iris\n",
    "\n",
    "iris = load_iris(as_frame=True) # this loads something called a Bunch\n",
    "list(iris) # this lets us see what data elements are in the Bunch"
   ]
  },
  {
   "cell_type": "code",
   "execution_count": 3,
   "metadata": {
    "colab": {
     "base_uri": "https://localhost:8080/",
     "height": 206
    },
    "executionInfo": {
     "elapsed": 10,
     "status": "ok",
     "timestamp": 1738481373362,
     "user": {
      "displayName": "Jimmy",
      "userId": "05550904019569644902"
     },
     "user_tz": 480
    },
    "id": "Sx9G__e8hM1Z",
    "outputId": "970e1853-377e-435f-97cb-22c825a688bc"
   },
   "outputs": [
    {
     "data": {
      "text/html": [
       "<div>\n",
       "<style scoped>\n",
       "    .dataframe tbody tr th:only-of-type {\n",
       "        vertical-align: middle;\n",
       "    }\n",
       "\n",
       "    .dataframe tbody tr th {\n",
       "        vertical-align: top;\n",
       "    }\n",
       "\n",
       "    .dataframe thead th {\n",
       "        text-align: right;\n",
       "    }\n",
       "</style>\n",
       "<table border=\"1\" class=\"dataframe\">\n",
       "  <thead>\n",
       "    <tr style=\"text-align: right;\">\n",
       "      <th></th>\n",
       "      <th>sepal length (cm)</th>\n",
       "      <th>sepal width (cm)</th>\n",
       "      <th>petal length (cm)</th>\n",
       "      <th>petal width (cm)</th>\n",
       "    </tr>\n",
       "  </thead>\n",
       "  <tbody>\n",
       "    <tr>\n",
       "      <th>0</th>\n",
       "      <td>5.1</td>\n",
       "      <td>3.5</td>\n",
       "      <td>1.4</td>\n",
       "      <td>0.2</td>\n",
       "    </tr>\n",
       "    <tr>\n",
       "      <th>1</th>\n",
       "      <td>4.9</td>\n",
       "      <td>3.0</td>\n",
       "      <td>1.4</td>\n",
       "      <td>0.2</td>\n",
       "    </tr>\n",
       "    <tr>\n",
       "      <th>2</th>\n",
       "      <td>4.7</td>\n",
       "      <td>3.2</td>\n",
       "      <td>1.3</td>\n",
       "      <td>0.2</td>\n",
       "    </tr>\n",
       "    <tr>\n",
       "      <th>3</th>\n",
       "      <td>4.6</td>\n",
       "      <td>3.1</td>\n",
       "      <td>1.5</td>\n",
       "      <td>0.2</td>\n",
       "    </tr>\n",
       "    <tr>\n",
       "      <th>4</th>\n",
       "      <td>5.0</td>\n",
       "      <td>3.6</td>\n",
       "      <td>1.4</td>\n",
       "      <td>0.2</td>\n",
       "    </tr>\n",
       "  </tbody>\n",
       "</table>\n",
       "</div>"
      ],
      "text/plain": [
       "   sepal length (cm)  sepal width (cm)  petal length (cm)  petal width (cm)\n",
       "0                5.1               3.5                1.4               0.2\n",
       "1                4.9               3.0                1.4               0.2\n",
       "2                4.7               3.2                1.3               0.2\n",
       "3                4.6               3.1                1.5               0.2\n",
       "4                5.0               3.6                1.4               0.2"
      ]
     },
     "execution_count": 3,
     "metadata": {},
     "output_type": "execute_result"
    }
   ],
   "source": [
    "iris.data.head()"
   ]
  },
  {
   "cell_type": "markdown",
   "metadata": {
    "id": "py9QzJ7thM1a"
   },
   "source": [
    "## Split the data and train a logistic regressor"
   ]
  },
  {
   "cell_type": "code",
   "execution_count": 4,
   "metadata": {
    "id": "srsHMZMMhM1a"
   },
   "outputs": [],
   "source": [
    "from sklearn.linear_model import LogisticRegression\n",
    "from sklearn.model_selection import train_test_split\n",
    "import numpy as np\n",
    "import matplotlib.pyplot as plt"
   ]
  },
  {
   "cell_type": "code",
   "execution_count": 5,
   "metadata": {
    "id": "z-wTwlZUhM1b"
   },
   "outputs": [],
   "source": [
    "# Get independent and dependent variables\n",
    "X = iris.data[[\"petal width (cm)\"]].values\n",
    "y = iris.target_names[iris.target] == 'virginica'"
   ]
  },
  {
   "cell_type": "code",
   "execution_count": 6,
   "metadata": {
    "colab": {
     "base_uri": "https://localhost:8080/",
     "height": 466
    },
    "executionInfo": {
     "elapsed": 9,
     "status": "ok",
     "timestamp": 1738481373363,
     "user": {
      "displayName": "Jimmy",
      "userId": "05550904019569644902"
     },
     "user_tz": 480
    },
    "id": "CIaETFLWhM1b",
    "outputId": "67ef9890-3047-4596-cf94-88fb3ddb5ba1"
   },
   "outputs": [
    {
     "name": "stdout",
     "output_type": "stream",
     "text": [
      "Accuracy: 1.00\n"
     ]
    },
    {
     "data": {
      "text/plain": [
       "[<matplotlib.lines.Line2D at 0x237af1d2690>]"
      ]
     },
     "execution_count": 6,
     "metadata": {},
     "output_type": "execute_result"
    },
    {
     "data": {
      "image/png": "[encoded data removed]",
      "text/plain": [
       "<Figure size 640x480 with 1 Axes>"
      ]
     },
     "metadata": {},
     "output_type": "display_data"
    }
   ],
   "source": [
    "# more code here\n",
    "# David\n",
    "# Split the data into test and training sets\n",
    "X_train, X_test, y_train, y_test = train_test_split(X, y, test_size=0.2, random_state=42)\n",
    "#train them\n",
    "log_reg = LogisticRegression()\n",
    "log_reg.fit(X_train, y_train)\n",
    "#measure its capabilities\n",
    "y_pred = log_reg.predict(X_test)\n",
    "print(f\"Accuracy: {log_reg.score(X_test, y_test):.2f}\")\n",
    "\n",
    "X_new = np.linspace(0, 3, 1000).reshape(-1, 1)\n",
    "y_proba = log_reg.predict_proba(X_new)\n",
    "# visualization to showcase the point in which\n",
    "plt.plot(X_new, y_proba[:, 1], \"g-\", label=\"Iris-Virginica\")\n",
    "plt.plot(X_new, y_proba[:, 0], \"b--\", label=\"Not Iris-Virginica\")"
   ]
  },
  {
   "cell_type": "markdown",
   "metadata": {
    "id": "9OJrydfdhM1b"
   },
   "source": [
    "## Play with the regularization parameter\n",
    "\n",
    "Look at the `sklearn` documentation if you need help here.  You should change the regularization parameter, retrain, reassess"
   ]
  },
  {
   "cell_type": "code",
   "execution_count": 7,
   "metadata": {
    "colab": {
     "base_uri": "https://localhost:8080/",
     "height": 472
    },
    "executionInfo": {
     "elapsed": 5,
     "status": "ok",
     "timestamp": 1738481373621,
     "user": {
      "displayName": "Jimmy",
      "userId": "05550904019569644902"
     },
     "user_tz": 480
    },
    "id": "xeYYvQpUhM1c",
    "outputId": "e71a419f-9165-4294-f1e4-12d550293b17"
   },
   "outputs": [
    {
     "data": {
      "image/png": "[encoded data removed]",
      "text/plain": [
       "<Figure size 640x480 with 1 Axes>"
      ]
     },
     "metadata": {},
     "output_type": "display_data"
    }
   ],
   "source": [
    "# Jimmy 1/2/2025\n",
    "from sklearn.metrics import accuracy_score\n",
    "\n",
    "C_values = [0.001, 0.01, 0.1, 0.2, 0.5, 1.0, 100.0] #values were chosen after testing for demonstration purposes\n",
    "results = []\n",
    "\n",
    "for test_C in C_values:\n",
    "    # Create and train the model with the new C values\n",
    "    log_reg = LogisticRegression(C=test_C)\n",
    "    log_reg.fit(X_train, y_train)\n",
    "\n",
    "    # Make predictions, calculate accuracy\n",
    "    y_pred = log_reg.predict(X_test)\n",
    "    accuracy = accuracy_score(y_test, y_pred)\n",
    "    results.append(accuracy)\n",
    "\n",
    "# Create a bar graph\n",
    "plt.bar(range(len(C_values)), results, tick_label=[f\"C={C}\" for C in C_values])\n",
    "plt.xlabel('Regularization Parameter (C)')\n",
    "plt.ylabel('Model Accuracy')\n",
    "plt.title('Impact of Regularization on Model Accuracy')\n",
    "\n",
    "# Add accuracy values on top of each bar\n",
    "for i, accuracy in enumerate(results):\n",
    "    plt.text(i, accuracy, f\"{accuracy:.2f}\", ha='center')\n",
    "\n",
    "plt.show()"
   ]
  },
  {
   "cell_type": "markdown",
   "metadata": {
    "id": "SDiAF_YEKi4N"
   },
   "source": [
    "Counter intuitively, a smaller C value is used for more regularization, and vice versa. In this example, our optimal value seems to be about 0.2; Anything higher may result in an overfit model, while anything lower, as demonstrated, will result in an underfit model and therefore reduced accuracy"
   ]
  },
  {
   "cell_type": "markdown",
   "metadata": {
    "id": "-pNu4s2ShM1c"
   },
   "source": [
    "## Draw some conclusions"
   ]
  },
  {
   "cell_type": "markdown",
   "metadata": {
    "id": "UFkx1gLG0LZv"
   },
   "source": [
    "Machine learning models are powerful tools for solving classification problems, but their performance often depends on careful tuning of parameters. In this lab, we aimed to build a logistic regression classifier to identify the poisonous Iris virginica flower from the classic Iris dataset. Our focus was on understanding the role of regularization in controlling model complexity and improving generalization. By experimenting with different regularization parameters and evaluating model performance, we gained insights into the trade-offs involved in building an effective classifier for a high-stakes application.\n",
    "\n",
    "The Iris dataset, which includes measurements of petal and sepal dimensions for three species of iris flowers, served as the foundation for our analysis. We specifically targeted Iris virginica, a poisonous species, and framed the problem as a binary classification task. To assess the impact of regularization, we trained multiple logistic regression models with varying regularization strengths, defined by the parameter C. Smaller values of C (e.g., 0.001, 0.01) enforce stronger regularization, while larger values (e.g., 100.0) reduce regularization, allowing the model to fit the training data more closely.\n",
    "\n",
    "Our experiments revealed that the choice of C significantly influenced model performance. At C = 0.2, the model achieved the highest accuracy of 100%, while C values of 0.1 and lower resulted in reduced accuracy. C = 0.2 was chosen to strike an optimal balance between bias and variance. Lower values of C, such as 0.001 and 0.01, resulted in underfitting, as excessive regularization constrained the model's ability to capture patterns in the data. Conversely, higher values of C, such as 100.0, led to overfitting, where the model performed well on the training data but generalized poorly to unseen test data. These findings underscore the importance of selecting an appropriate regularization parameter to achieve robust performance.\n",
    "\n",
    "In addition to accuracy, we considered the implications of false positives and false negatives in this classification task. A false negative—failing to identify a poisonous Iris virginica—is far more dangerous than a false positive, which involves misclassifying a non-poisonous flower as poisonous. While accuracy is a useful metric, it does not fully capture this trade-off. Metrics such as precision, recall, and the F1-score would provide a more nuanced evaluation of the model's performance, particularly in scenarios where the cost of misclassification is high.\n",
    "\n",
    "All classifiers are prone to errors, and it is essential to describe the expected error rate in clear and precise terms. For instance, with C = 0.2, the model is expected to misclassify approximately 3% of Iris virginica samples. This language helps stakeholders understand the practical implications of the model's performance and make informed decisions about its deployment.\n",
    "\n",
    "To visualize our findings, we created a bar chart illustrating the relationship between the regularization parameter (C) and model accuracy. The chart clearly shows that accuracy peaks at C = 0.2 and declines for smaller values of C. On the other hand, larger values of C are shown to be unnescesary, and result in overfitting of the model. This visualization reinforces the importance of selecting an appropriate regularization parameter to achieve optimal performance.\n",
    "\n",
    "In conclusion, regularization is a critical tool for controlling model complexity and preventing overfitting. For this dataset, a regularization parameter of C = 0.2 provided the best balance, achieving high accuracy without overfitting. However, further refinement using metrics like precision and recall could help optimize the model for the specific risk of false negatives. Future work could explore additional techniques, such as cross-validation and alternative classification algorithms, to further enhance model performance.\n",
    "\n",
    "This lab highlights the importance of thoughtful parameter tuning and evaluation in building effective machine learning models, especially in high-stakes applications like identifying poisonous plants. By carefully considering the trade-offs involved, we can develop models that are not only accurate but also reliable and trustworthy."
   ]
  }
 ],
 "metadata": {
  "colab": {
   "provenance": []
  },
  "kernelspec": {
   "display_name": "Python 3",
   "language": "python",
   "name": "python3"
  },
  "language_info": {
   "codemirror_mode": {
    "name": "ipython",
    "version": 3
   },
   "file_extension": ".py",
   "mimetype": "text/x-python",
   "name": "python",
   "nbconvert_exporter": "python",
   "pygments_lexer": "ipython3",
   "version": "3.11.9"
  }
 },
 "nbformat": 4,
 "nbformat_minor": 0
}
