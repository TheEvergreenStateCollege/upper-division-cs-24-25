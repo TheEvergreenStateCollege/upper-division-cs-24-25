{
  "cells": [
    {
      "cell_type": "markdown",
      "metadata": {
        "id": "mZ2QYv5-dyzB"
      },
      "source": [
        "# Lab 6:  Implement your own version of K-means\n",
        "\n",
        "In class we have discussed how the K-means algorithm works, and you can read more about it in the text.  Your task this week is to implement your own version of K-means, and use it to cluster faces in the Olivetti dataset.  \n",
        "\n",
        "You can work on this task either by yourself, or with one or two partners.  Please do *not* have a groupsize larger than 3, however.  Submission instructions are on Canvas.\n"
      ]
    },
    {
      "cell_type": "markdown",
      "metadata": {
        "id": "1xdo3MeCdyzN"
      },
      "source": [
        "# Part I:  Implement K-means\n",
        "\n",
        "Your task is to implement a function called `get_clusters` that takes in a set of data and a number of clusters, and returns the centroids of those clusters, as well as the closest centroid for each data point.  Your code should make use of reasonable subfunctions, use good choices of variables, and be commented as necessary."
      ]
    },
    {
      "cell_type": "markdown",
      "metadata": {
        "id": "2VkDMLG0dyzP"
      },
      "source": []
    },
    {
      "cell_type": "markdown",
      "source": [],
      "metadata": {
        "id": "xMGq4RRqNKxC"
      }
    },
    {
      "cell_type": "code",
      "execution_count": 12,
      "metadata": {
        "id": "mKPNL-zIdyzQ"
      },
      "outputs": [],
      "source": [
        "import numpy as np\n",
        "import random as rd"
      ]
    },
    {
      "cell_type": "code",
      "source": [
        "class Cluster:\n",
        "  def __init__(self, c):\n",
        "    self.centroid = c\n",
        "    self.points_list = []\n",
        "\n",
        "  def remove_point(self, p):\n",
        "    self.points_list.remove(p)"
      ],
      "metadata": {
        "id": "zDPLtJlBNMZ5"
      },
      "execution_count": null,
      "outputs": []
    },
    {
      "cell_type": "code",
      "execution_count": 20,
      "metadata": {
        "id": "kJkzW5GHdyzT"
      },
      "outputs": [],
      "source": [
        "import numpy as np\n",
        "import random as rd\n",
        "\n",
        "#Step 1: Pick points for cluster\n",
        "#Step 2: Iterate through all data assign to closest cluster\n",
        "#Step 3: Calculate means of clusters and use as new centroid\n",
        "#Step 4: Repeat step 2 until means no longer change\n",
        "#Step 5: Repeat from step one until cluster with lowest variance is found\n",
        "\n",
        "#Takes cluster objects array and an tuple for a point as arguments\n",
        "# returns index of closest centroid\n",
        "def get_closest_centroid(clusters, point):\n",
        "\n",
        "  closest = np.linalg.norm(clusters[0] - point)\n",
        "  closest_index = 0\n",
        "  for i in range(len(clusters)):\n",
        "    dist = np.linalg.norm(clusters[i] - point)\n",
        "    if dist < closest:\n",
        "      closest = dist\n",
        "      closest_index = i\n",
        "\n",
        "  return i\n",
        "\n",
        "# def get_average_point(points_list, centroid_id):\n",
        "#   avg = []\n",
        "\n",
        "#   #initialize average points dimensions to first point in points list\n",
        "#   for i in range(len(points_list[0])):\n",
        "#       avg.append(0)\n",
        "\n",
        "#   #iterates through points in list\n",
        "#   for i in range(len(points_list)):\n",
        "#     for j in range(len(points_list[i])):\n",
        "#       sum = avg[j] * (i + 1)\n",
        "#       sum = sum + points_list[i][j]\n",
        "#       avg[j] = sum / (i + 2)\n",
        "\n",
        "#   return avg\n",
        "\n",
        "def get_average_point(data, closest_centroids, centroid_id):\n",
        "  avg = []\n",
        "\n",
        "  #initialize average points dimensions to first point in points list\n",
        "  for i in range(len(data[0])):\n",
        "    if closest_centroids[i] == centroid_id:\n",
        "      avg.append(0)\n",
        "\n",
        "  #iterates through points in list\n",
        "  for i in range(len(data)):\n",
        "    if closest_centroids[i] == centroid_id:\n",
        "      for j in range(len(data[i])):\n",
        "        sum = avg[j] * (i + 1)\n",
        "        sum = sum + data[i][j]\n",
        "        avg[j] = sum / (i + 2)\n",
        "\n",
        "  return avg\n",
        "\n",
        "def get_clusters(data: np.ndarray, n_clusters: int) -> tuple[np.ndarray, np.ndarray]:\n",
        "  # Fill in the details.  This function should probably consist of some kind of loop,\n",
        "  # and the work within that loop should mostly be done via calls to other functions\n",
        "  # that you define and that carry out small, specific tasks\n",
        "\n",
        "  # error check for apporpriate ndarray dimensions\n",
        "  if len(data.shape) > 2:\n",
        "    print(\"Error: ND Array dimensions > 2\")\n",
        "    return\n",
        "\n",
        "  # initialize lists to be returned\n",
        "  init_clusters = []\n",
        "  closest_centroids = []\n",
        "\n",
        "  # Fill list with 0's to the same length as data so they can be indexed the same\n",
        "  for i in range(len(data)):\n",
        "    closest_centroids.append(0)\n",
        "\n",
        "  # pick random clusters\n",
        "  for i in range(n_clusters):\n",
        "    # j = rd.randint(0, len(data))\n",
        "    # init_clusters.append(data[j])\n",
        "    init_clusters.append(rd.choice(i))\n",
        "\n",
        "  for i in range(1000):\n",
        "    # assign every point in data to a cluster\n",
        "    for j in range(len(data)):\n",
        "      index = get_closest_centroid(init_clusters, data[j])\n",
        "      #init_clusters[index].points_list.append(point)\n",
        "      closest_centroids[j] = index\n",
        "\n",
        "    #iterate through all clusters and new centroid from average of all points\n",
        "    for i in range(len(init_clusters)):\n",
        "      init_clusters[i] = get_average_point(data, closest_centroids, i)\n",
        "\n",
        "\n",
        "  # Return the centroids and the closest centroid for each datapoint\n",
        "  return init_clusters, closest_centroids\n",
        "\n"
      ]
    },
    {
      "cell_type": "code",
      "source": [
        "import numpy as np\n",
        "\n",
        "random_data = np.random.randint(0, 10, size=(10, 2))\n",
        "# random_data.fill(random.randint(0,10))\n",
        "random_data\n",
        "\n",
        "get_clusters(random_data, 3)"
      ],
      "metadata": {
        "colab": {
          "base_uri": "https://localhost:8080/",
          "height": 338
        },
        "id": "rLi6dzwbJec3",
        "outputId": "3732926b-bd27-4f3f-b8b8-822750da4596"
      },
      "execution_count": 21,
      "outputs": [
        {
          "output_type": "error",
          "ename": "TypeError",
          "evalue": "object of type 'int' has no len()",
          "traceback": [
            "\u001b[0;31m---------------------------------------------------------------------------\u001b[0m",
            "\u001b[0;31mTypeError\u001b[0m                                 Traceback (most recent call last)",
            "\u001b[0;32m<ipython-input-21-5d8cce2166e6>\u001b[0m in \u001b[0;36m<cell line: 0>\u001b[0;34m()\u001b[0m\n\u001b[1;32m      5\u001b[0m \u001b[0mrandom_data\u001b[0m\u001b[0;34m\u001b[0m\u001b[0;34m\u001b[0m\u001b[0m\n\u001b[1;32m      6\u001b[0m \u001b[0;34m\u001b[0m\u001b[0m\n\u001b[0;32m----> 7\u001b[0;31m \u001b[0mget_clusters\u001b[0m\u001b[0;34m(\u001b[0m\u001b[0mrandom_data\u001b[0m\u001b[0;34m,\u001b[0m \u001b[0;36m3\u001b[0m\u001b[0;34m)\u001b[0m\u001b[0;34m\u001b[0m\u001b[0;34m\u001b[0m\u001b[0m\n\u001b[0m",
            "\u001b[0;32m<ipython-input-20-cd65547504ec>\u001b[0m in \u001b[0;36mget_clusters\u001b[0;34m(data, n_clusters)\u001b[0m\n\u001b[1;32m     75\u001b[0m     \u001b[0;31m# j = rd.randint(0, len(data))\u001b[0m\u001b[0;34m\u001b[0m\u001b[0;34m\u001b[0m\u001b[0m\n\u001b[1;32m     76\u001b[0m     \u001b[0;31m# init_clusters.append(data[j])\u001b[0m\u001b[0;34m\u001b[0m\u001b[0;34m\u001b[0m\u001b[0m\n\u001b[0;32m---> 77\u001b[0;31m     \u001b[0minit_clusters\u001b[0m\u001b[0;34m.\u001b[0m\u001b[0mappend\u001b[0m\u001b[0;34m(\u001b[0m\u001b[0mrd\u001b[0m\u001b[0;34m.\u001b[0m\u001b[0mchoice\u001b[0m\u001b[0;34m(\u001b[0m\u001b[0mi\u001b[0m\u001b[0;34m)\u001b[0m\u001b[0;34m)\u001b[0m\u001b[0;34m\u001b[0m\u001b[0;34m\u001b[0m\u001b[0m\n\u001b[0m\u001b[1;32m     78\u001b[0m \u001b[0;34m\u001b[0m\u001b[0m\n\u001b[1;32m     79\u001b[0m   \u001b[0;32mfor\u001b[0m \u001b[0mi\u001b[0m \u001b[0;32min\u001b[0m \u001b[0mrange\u001b[0m\u001b[0;34m(\u001b[0m\u001b[0;36m1000\u001b[0m\u001b[0;34m)\u001b[0m\u001b[0;34m:\u001b[0m\u001b[0;34m\u001b[0m\u001b[0;34m\u001b[0m\u001b[0m\n",
            "\u001b[0;32m/usr/lib/python3.11/random.py\u001b[0m in \u001b[0;36mchoice\u001b[0;34m(self, seq)\u001b[0m\n\u001b[1;32m    370\u001b[0m         \u001b[0;31m# As an accommodation for NumPy, we don't use \"if not seq\"\u001b[0m\u001b[0;34m\u001b[0m\u001b[0;34m\u001b[0m\u001b[0m\n\u001b[1;32m    371\u001b[0m         \u001b[0;31m# because bool(numpy.array()) raises a ValueError.\u001b[0m\u001b[0;34m\u001b[0m\u001b[0;34m\u001b[0m\u001b[0m\n\u001b[0;32m--> 372\u001b[0;31m         \u001b[0;32mif\u001b[0m \u001b[0;32mnot\u001b[0m \u001b[0mlen\u001b[0m\u001b[0;34m(\u001b[0m\u001b[0mseq\u001b[0m\u001b[0;34m)\u001b[0m\u001b[0;34m:\u001b[0m\u001b[0;34m\u001b[0m\u001b[0;34m\u001b[0m\u001b[0m\n\u001b[0m\u001b[1;32m    373\u001b[0m             \u001b[0;32mraise\u001b[0m \u001b[0mIndexError\u001b[0m\u001b[0;34m(\u001b[0m\u001b[0;34m'Cannot choose from an empty sequence'\u001b[0m\u001b[0;34m)\u001b[0m\u001b[0;34m\u001b[0m\u001b[0;34m\u001b[0m\u001b[0m\n\u001b[1;32m    374\u001b[0m         \u001b[0;32mreturn\u001b[0m \u001b[0mseq\u001b[0m\u001b[0;34m[\u001b[0m\u001b[0mself\u001b[0m\u001b[0;34m.\u001b[0m\u001b[0m_randbelow\u001b[0m\u001b[0;34m(\u001b[0m\u001b[0mlen\u001b[0m\u001b[0;34m(\u001b[0m\u001b[0mseq\u001b[0m\u001b[0;34m)\u001b[0m\u001b[0;34m)\u001b[0m\u001b[0;34m]\u001b[0m\u001b[0;34m\u001b[0m\u001b[0;34m\u001b[0m\u001b[0m\n",
            "\u001b[0;31mTypeError\u001b[0m: object of type 'int' has no len()"
          ]
        }
      ]
    },
    {
      "cell_type": "markdown",
      "metadata": {
        "id": "1gsyr6N5dyzU"
      },
      "source": [
        "# Part II:  Use your code to cluster the Olivetti dataset\n",
        "\n",
        "Now use your clustering code to cluster the following pseudo-random data.  Examine the following questions:\n",
        "* How well does your code do if you try to use 4 clusters?\n",
        "* How well does it do if you use a different number of clusters?  Show how some perforamance metric changes over the number of clusters\n",
        "* What happens if you modify the data to be either more or less overlapped?  (You can do this by adjusting the 'cluster_center' variable, or the covs)?\n",
        "\n",
        "Note:  if you had any issues with the implementation in Part I, just use the default KMeans class from SKLearn for this part"
      ]
    },
    {
      "cell_type": "code",
      "execution_count": null,
      "metadata": {
        "id": "QzoqbAiGdyzW"
      },
      "outputs": [],
      "source": [
        "import pandas as pd\n",
        "import seaborn as sns"
      ]
    },
    {
      "cell_type": "markdown",
      "metadata": {
        "id": "ZprNhw0tdyzX"
      },
      "source": [
        "### Generate psuedo random clusters"
      ]
    },
    {
      "cell_type": "code",
      "execution_count": null,
      "metadata": {
        "id": "OnooUWyZdyzY"
      },
      "outputs": [],
      "source": [
        "# These are the \"actual\" centers in the x-y plane\n",
        "cluster_centers = [\n",
        "    (0, 0),\n",
        "    (2, 0),\n",
        "    (0, 1),\n",
        "    (3, 2)\n",
        "]\n",
        "# The values change how \"spread out\" the data is.  Feel feel to play with them.\n",
        "# The bigger the values, the more spread out the data points.  These values need to represent\n",
        "# symmetric matrices\n",
        "covs = [\n",
        "    [[.25, 0], [0, .3]],\n",
        "    [[.5, .1], [.1, .5]],\n",
        "    [[.25, 0], [0, .25]],\n",
        "    [[.5, 0], [0, .5]],\n",
        "]\n",
        "n_pts_per_cluster = 20\n",
        "\n",
        "data = []\n",
        "for ix, cluster in enumerate(cluster_centers):\n",
        "    cov = covs[ix]\n",
        "    samples = np.random.default_rng().multivariate_normal(mean=cluster, cov=cov, size=20)\n",
        "    data += [(ix, s[0], s[1]) for s in samples]\n",
        "\n",
        "data = pd.DataFrame(data, columns=['label', 'x', 'y'])\n"
      ]
    },
    {
      "cell_type": "markdown",
      "metadata": {
        "id": "IrliJCDbdyzZ"
      },
      "source": [
        "### Visualze the data"
      ]
    },
    {
      "cell_type": "code",
      "execution_count": null,
      "metadata": {
        "id": "2vhAxMyPdyza",
        "outputId": "a5ad065b-6912-4f1b-9f80-48acd1c3ed6f"
      },
      "outputs": [
        {
          "data": {
            "text/plain": [
              "<Axes: xlabel='x', ylabel='y'>"
            ]
          },
          "execution_count": 5,
          "metadata": {},
          "output_type": "execute_result"
        },
        {
          "data": {
            "image/png": "[encoded data removed]",
            "text/plain": [
              "<Figure size 640x480 with 1 Axes>"
            ]
          },
          "metadata": {},
          "output_type": "display_data"
        }
      ],
      "source": [
        "sns.scatterplot(\n",
        "    data=data,\n",
        "    x='x',\n",
        "    y='y',\n",
        "    hue='label'\n",
        ")"
      ]
    },
    {
      "cell_type": "markdown",
      "metadata": {
        "id": "Yv9Pwrtvdyzb"
      },
      "source": [
        "### Experiment with clustering here"
      ]
    },
    {
      "cell_type": "code",
      "execution_count": null,
      "metadata": {
        "id": "34ELVdQ_dyzc"
      },
      "outputs": [],
      "source": []
    }
  ],
  "metadata": {
    "kernelspec": {
      "display_name": "venv_base",
      "language": "python",
      "name": "python3"
    },
    "language_info": {
      "codemirror_mode": {
        "name": "ipython",
        "version": 3
      },
      "file_extension": ".py",
      "mimetype": "text/x-python",
      "name": "python",
      "nbconvert_exporter": "python",
      "pygments_lexer": "ipython3",
      "version": "3.11.10"
    },
    "colab": {
      "provenance": []
    }
  },
  "nbformat": 4,
  "nbformat_minor": 0
}