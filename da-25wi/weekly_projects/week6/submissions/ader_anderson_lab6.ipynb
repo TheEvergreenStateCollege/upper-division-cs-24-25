{
  "nbformat": 4,
  "nbformat_minor": 0,
  "metadata": {
    "colab": {
      "provenance": []
    },
    "kernelspec": {
      "name": "python3",
      "display_name": "Python 3"
    },
    "language_info": {
      "name": "python"
    }
  },
  "cells": [
    {
      "cell_type": "markdown",
      "source": [
        "# Part 1"
      ],
      "metadata": {
        "id": "pUPPsm174Zci"
      }
    },
    {
      "cell_type": "markdown",
      "source": [
        "This is very incomplete but my lack of familiarity with python means this will likely be non-functional for the forseeable future.  I hope the intention here is clear but I don't believe I have the skills to finish this kmeans implementation."
      ],
      "metadata": {
        "id": "V2768utv-uST"
      }
    },
    {
      "cell_type": "code",
      "execution_count": 1,
      "metadata": {
        "id": "aZKLfncw4Stn"
      },
      "outputs": [],
      "source": [
        "import numpy as np"
      ]
    },
    {
      "cell_type": "code",
      "source": [
        "def get_clusters(data: np.ndarray, n_clusters: int) -> tuple[np.ndarray, np.ndarray]:\n",
        "  # Fill in the details.  This function should probably consist of some kind of loop,\n",
        "  # and the work within that loop should mostly be done via calls to other functions\n",
        "  # that you define and that carry out small, specific tasks\n",
        "\n",
        "  centroids = []\n",
        "  for x in range(n_clusters):\n",
        "    centroids.append(data[np.random.randint(0, data.shape[0])])\n",
        "  centroids = np.array(centroids)\n",
        "  closest_centroids = np.copy(data)\n",
        "  old_centroids = np.zeros(centroids.shape)\n",
        "\n",
        "  while(centroids != old_centroids):\n",
        "    old_centroids = centroids\n",
        "    for point in closest_centroids:\n",
        "      closest_centroids[point][0] = distance(point, centroids)\n",
        "      centroids = update_centroids(closest_centroids)\n",
        "\n",
        "  # Return the centroids and the closest centroid for each datapoint\n",
        "  return centroids, closest_centroids"
      ],
      "metadata": {
        "id": "ft1pNxA04WzL"
      },
      "execution_count": 19,
      "outputs": []
    },
    {
      "cell_type": "code",
      "source": [
        "def distance(point, data):\n",
        "  return np.sqrt(np.sum((point - data)**2, axis=1))"
      ],
      "metadata": {
        "id": "lEK8ErZP4qUE"
      },
      "execution_count": 20,
      "outputs": []
    },
    {
      "cell_type": "code",
      "source": [
        "def update_centroids():\n",
        "  return"
      ],
      "metadata": {
        "id": "GV4uWO186ra7"
      },
      "execution_count": 21,
      "outputs": []
    },
    {
      "cell_type": "code",
      "source": [
        "def closest_centroid(point, centroids):\n",
        "  distances = []\n",
        "  for centroid in centroids:\n",
        "    distances.append(distance(data, centroid))\n",
        "  return np.argmin(distances)"
      ],
      "metadata": {
        "id": "nqNg6rPl6yY8"
      },
      "execution_count": 22,
      "outputs": []
    },
    {
      "cell_type": "markdown",
      "source": [
        "# Part 2"
      ],
      "metadata": {
        "id": "K27T_SyT4bjd"
      }
    },
    {
      "cell_type": "markdown",
      "source": [
        "Overall KMeans works basically as expected.  From just looking at the numbers the centroids when using 4 clusters are pretty close the the real centers.  Shrinking the cov values by .1 seems to throw off the algorithm based on the results including exponentials.  Creating 3 centroids looks to me to still give decent results for their locations.  "
      ],
      "metadata": {
        "id": "PgT-BzlFAlj6"
      }
    },
    {
      "cell_type": "code",
      "source": [
        "import pandas as pd\n",
        "import seaborn as sns"
      ],
      "metadata": {
        "id": "jFsMZJQT4dfW"
      },
      "execution_count": 3,
      "outputs": []
    },
    {
      "cell_type": "code",
      "source": [
        "# These are the \"actual\" centers in the x-y plane\n",
        "cluster_centers = [\n",
        "    (0, 0),\n",
        "    (2, 0),\n",
        "    (0, 1),\n",
        "    (3, 2)\n",
        "]\n",
        "# The values change how \"spread out\" the data is.  Feel feel to play with them.\n",
        "# The bigger the values, the more spread out the data points.  These values need to represent\n",
        "# symmetric matrices\n",
        "covs = [\n",
        "    [[.25, 0], [0, .3]],\n",
        "    [[.5, .1], [.1, .5]],\n",
        "    [[.25, 0], [0, .25]],\n",
        "    [[.5, 0], [0, .5]],\n",
        "]\n",
        "n_pts_per_cluster = 20\n",
        "\n",
        "data = []\n",
        "for ix, cluster in enumerate(cluster_centers):\n",
        "    cov = covs[ix]\n",
        "    samples = np.random.default_rng().multivariate_normal(mean=cluster, cov=cov, size=20)\n",
        "    data += [(ix, s[0], s[1]) for s in samples]\n",
        "\n",
        "data = pd.DataFrame(data, columns=['label', 'x', 'y'])"
      ],
      "metadata": {
        "id": "ENYC_JD858rs"
      },
      "execution_count": 4,
      "outputs": []
    },
    {
      "cell_type": "code",
      "source": [
        "sns.scatterplot(\n",
        "    data=data,\n",
        "    x='x',\n",
        "    y='y',\n",
        "    hue='label'\n",
        ")"
      ],
      "metadata": {
        "colab": {
          "base_uri": "https://localhost:8080/",
          "height": 467
        },
        "id": "tbnXlUT_6Abq",
        "outputId": "4589922d-50fc-4a50-e5ec-120ffc5e3dad"
      },
      "execution_count": 5,
      "outputs": [
        {
          "output_type": "execute_result",
          "data": {
            "text/plain": [
              "<Axes: xlabel='x', ylabel='y'>"
            ]
          },
          "metadata": {},
          "execution_count": 5
        },
        {
          "output_type": "display_data",
          "data": {
            "text/plain": [
              "<Figure size 640x480 with 1 Axes>"
            ],
            "image/png": "[encoded data removed]"
          },
          "metadata": {}
        }
      ]
    },
    {
      "cell_type": "code",
      "source": [
        "from sklearn.cluster import KMeans"
      ],
      "metadata": {
        "id": "7tkyQD0Y_YOg"
      },
      "execution_count": 23,
      "outputs": []
    },
    {
      "cell_type": "code",
      "source": [
        "data = data.drop(columns=['label'])"
      ],
      "metadata": {
        "id": "08zRRDo2AQYw"
      },
      "execution_count": 27,
      "outputs": []
    },
    {
      "cell_type": "code",
      "source": [
        "kmeans = KMeans(n_clusters=3, random_state=6).fit(data)"
      ],
      "metadata": {
        "id": "IR6WwFlG_oE0"
      },
      "execution_count": 28,
      "outputs": []
    },
    {
      "cell_type": "code",
      "source": [
        "kmeans.cluster_centers_"
      ],
      "metadata": {
        "colab": {
          "base_uri": "https://localhost:8080/"
        },
        "id": "qy6dMsPf_1OO",
        "outputId": "16a7731b-bea1-42a2-fea4-55435897fa3a"
      },
      "execution_count": 29,
      "outputs": [
        {
          "output_type": "execute_result",
          "data": {
            "text/plain": [
              "array([[ 2.99101828,  2.37010067],\n",
              "       [-0.10825388,  0.41988798],\n",
              "       [ 2.11598571,  0.10314907]])"
            ]
          },
          "metadata": {},
          "execution_count": 29
        }
      ]
    },
    {
      "cell_type": "code",
      "source": [
        "kmeans = KMeans(n_clusters=4, random_state=6).fit(data)\n",
        "kmeans.cluster_centers_"
      ],
      "metadata": {
        "colab": {
          "base_uri": "https://localhost:8080/"
        },
        "id": "NcWMzeRWADgs",
        "outputId": "7b2ce891-7196-42cf-a32e-eb402534b05e"
      },
      "execution_count": 30,
      "outputs": [
        {
          "output_type": "execute_result",
          "data": {
            "text/plain": [
              "array([[ 3.03668908,  2.48216261],\n",
              "       [-0.17397822,  0.43418897],\n",
              "       [ 2.37217758,  0.81204499],\n",
              "       [ 1.63294279, -0.37188581]])"
            ]
          },
          "metadata": {},
          "execution_count": 30
        }
      ]
    },
    {
      "cell_type": "code",
      "source": [
        "randcovs = [\n",
        "    [[.15, 0], [0, .2]],\n",
        "    [[.4, .0], [.0, .4]],\n",
        "    [[.15, 0], [0, .15]],\n",
        "    [[.4, 0], [0, .4]],\n",
        "]\n",
        "\n",
        "data_randcovs = []\n",
        "for ix, cluster in enumerate(cluster_centers):\n",
        "    cov = randcovs[ix]\n",
        "    samples = np.random.default_rng().multivariate_normal(mean=cluster, cov=cov, size=20)\n",
        "    data_randcovs += [(ix, s[0], s[1]) for s in samples]\n",
        "\n",
        "data_randcovs = pd.DataFrame(data_randcovs, columns=['label', 'x', 'y'])"
      ],
      "metadata": {
        "id": "lN-1pJs-AfQi"
      },
      "execution_count": 37,
      "outputs": []
    },
    {
      "cell_type": "code",
      "source": [
        "sns.scatterplot(\n",
        "    data=data_randcovs,\n",
        "    x='x',\n",
        "    y='y',\n",
        "    hue='label'\n",
        ")"
      ],
      "metadata": {
        "colab": {
          "base_uri": "https://localhost:8080/",
          "height": 467
        },
        "id": "fk-8eVbJBUkT",
        "outputId": "a6b32822-7d34-41d3-dde9-129dc9691df7"
      },
      "execution_count": 38,
      "outputs": [
        {
          "output_type": "execute_result",
          "data": {
            "text/plain": [
              "<Axes: xlabel='x', ylabel='y'>"
            ]
          },
          "metadata": {},
          "execution_count": 38
        },
        {
          "output_type": "display_data",
          "data": {
            "text/plain": [
              "<Figure size 640x480 with 1 Axes>"
            ],
            "image/png": "[encoded data removed]"
          },
          "metadata": {}
        }
      ]
    },
    {
      "cell_type": "code",
      "source": [
        "data_randcovs = data_randcovs.drop(columns=['label'])"
      ],
      "metadata": {
        "id": "kyoc9AioBYju"
      },
      "execution_count": 39,
      "outputs": []
    },
    {
      "cell_type": "code",
      "source": [
        "kmeans = KMeans(n_clusters=4, random_state=6).fit(data_randcovs)\n",
        "kmeans.cluster_centers_"
      ],
      "metadata": {
        "colab": {
          "base_uri": "https://localhost:8080/"
        },
        "id": "rk9vYKlvBfJs",
        "outputId": "3e249ca6-1003-4665-a0af-02b86ba6dbd6"
      },
      "execution_count": 41,
      "outputs": [
        {
          "output_type": "execute_result",
          "data": {
            "text/plain": [
              "array([[ 3.27051263e+00,  1.96340847e+00],\n",
              "       [ 1.58780827e-01,  9.31807704e-01],\n",
              "       [ 2.29504578e+00,  1.98864862e-01],\n",
              "       [-1.74986383e-01, -1.29443689e-04]])"
            ]
          },
          "metadata": {},
          "execution_count": 41
        }
      ]
    }
  ]
}