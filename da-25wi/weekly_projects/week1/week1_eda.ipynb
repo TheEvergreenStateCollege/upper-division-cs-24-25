{
 "cells": [
  {
   "cell_type": "markdown",
   "metadata": {},
   "source": [
    "# Week 1:  EDA\n",
    "\n",
    "#### Data Analytics, Winter 2025, Weekly computational task\n",
    "\n",
    "## Description:\n",
    "We spent some time talking about exploratory data analysis in our class session on 1/7.  It's one thing to grok it abstractly, it another to do it yourself, especially in a programming language that you may not be super familiar with.\n",
    "\n",
    "We're going to start off slow.  For this week, your task is to play with *someone else's* example of exploratory data analysis.  Specifically, check out this Kaggle submission called `Intro to EDA in Python`:\n",
    "\n",
    "https://www.kaggle.com/code/imoore/intro-to-exploratory-data-analysis-eda-in-python\n",
    "\n",
    "Your task is to do the following:\n",
    "* On your own, run this  notebook from start to finish.  Kaggle has computational resources which you can use (I think), or can download the notebook and data and run them in some other environment.  Google CoLab is an easy option:  it's free, all you need is a google account, and you can upload the data directly.  However, getting setup on your own personal machine will pay dividends going forward.  \n",
    "\n",
    "* Understand the code, and take notes on the Python/Pandas syntax.  Reading and executing this code is part of your process of getting up to speed with Pandas.\n",
    "\n",
    "* Now redo at least part of the the analysis in this notebook, and expand on the analysis where you think it needs expanding.  You don't have to do everything: pick and choose.  But you should definitely add a bit of your own work.  Here are some ideas: \n",
    "    - Form a new kind of plot\n",
    "    - Generate a new statistic\n",
    "    - Add in a different data set\n",
    "    - Write a new function\n",
    "    - Trying using the `merge` function to join two pandas dataframes\n",
    "    - Steal some ideas from a more comprehensive resource such as https://github.com/jvns/pandas-cookbook\n",
    "Shoot to have a few different code blocks with a few different kinds of outputs.\n",
    "\n",
    "\n",
    "* Finish the project up by writing a Markdown paragraph *in this notebook* that summarizes your learnings.  This might be a paragraph that you submit to, say, a boss who gave you the task of becoming proficient at Pandas in one week, and at the end of that week, asks \"what did you learn\".  The paragraph should be concise, and it will be different depending on whether you are a beginner or an advanced student.\n",
    "\n",
    "When you are finished, upload your notebook to github in the `week1/submissions` folder.\n",
    "\n",
    "## Some details\n",
    "\n",
    "* **Groups:**  generally, computatiional labs will be done in groups, and I will assign the groups.  For this first week, feel free to circle up with other people, or work on your own, up to you.  \n",
    "\n",
    "* **Attribution:** In general, I only  need one notebook per group.  Indicate what role each person played, however (e.g. \"Bob typed, Mary navigated, Jen wrote the analysis\"). \n",
    "\n",
    "* **Filenames:** Make sure your filename is of the following form:  `week1_<name1>_<name2>_...<namen>.ipynb`\n",
    "\n"
   ]
  },
  {
   "cell_type": "markdown",
   "metadata": {},
   "source": [
    "# Your code here"
   ]
  },
  {
   "cell_type": "markdown",
   "metadata": {},
   "source": []
  },
  {
   "cell_type": "code",
   "execution_count": null,
   "metadata": {
    "vscode": {
     "languageId": "plaintext"
    }
   },
   "outputs": [],
   "source": []
  },
  {
   "cell_type": "markdown",
   "metadata": {
    "vscode": {
     "languageId": "plaintext"
    }
   },
   "source": [
    "# Your summary here "
   ]
  },
  {
   "cell_type": "markdown",
   "metadata": {},
   "source": []
  }
 ],
 "metadata": {
  "language_info": {
   "name": "python"
  }
 },
 "nbformat": 4,
 "nbformat_minor": 2
}
