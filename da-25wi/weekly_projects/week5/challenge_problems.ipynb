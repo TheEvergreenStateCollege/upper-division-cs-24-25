{
 "cells": [
  {
   "cell_type": "markdown",
   "metadata": {},
   "source": [
    "### 1. Data Cleaning: Handling Missing Values\n",
    "Exercise:\n",
    "You are given a dataset with missing values. Write a program to:\n",
    "\n",
    "Drop rows where more than one column has a missing value.\n",
    "Fill remaining missing values with the mean of their respective columns.\n"
   ]
  },
  {
   "cell_type": "code",
   "execution_count": null,
   "metadata": {},
   "outputs": [],
   "source": [
    "# Sample DataFrame\n",
    "data = {\n",
    "    \"Employee\": [\"Alice\", \"Bob\", \"Charlie\", \"David\", \"Emma\"],\n",
    "    \"Age\": [25, 40, 30, 28, 22],\n",
    "    \"Salary\": [45000, 65000, 48000, 72000, 51000]\n",
    "}\n",
    "\n",
    "df = pd.DataFrame(data)\n",
    "\n",
    "# Implement your solution\n"
   ]
  },
  {
   "cell_type": "markdown",
   "metadata": {},
   "source": [
    "### 2. Filtering and Conditional Selection\n",
    "Exercise:\n",
    "Given a DataFrame of employees' salaries, filter and display:\n",
    "\n",
    "Employees who earn more than $50,000\n",
    "Employees under 30 years old who earn more than $40,000.\n",
    "python\n",
    "Copy\n",
    "Edit\n",
    "import pandas as pd\n",
    "\n"
   ]
  },
  {
   "cell_type": "code",
   "execution_count": null,
   "metadata": {},
   "outputs": [],
   "source": [
    "import pandas as pd\n",
    "import numpy as np\n",
    "\n",
    "# Sample data\n",
    "data = {\n",
    "    \"Name\": [\"Alice\", \"Bob\", \"Charlie\", \"David\", \"Emma\"],\n",
    "    \"Age\": [25, np.nan, 30, 28, np.nan],\n",
    "    \"Salary\": [50000, 60000, np.nan, 70000, 80000]\n",
    "}\n",
    "\n",
    "df = pd.DataFrame(data)\n",
    "\n",
    "# Implement your solution"
   ]
  },
  {
   "cell_type": "markdown",
   "metadata": {},
   "source": [
    "### 3. Grouping & Aggregation\n",
    "Exercise:\n",
    "Given a DataFrame of sales transactions, calculate:\n",
    "\n",
    "The total sales (Price * Quantity) for each Category\n",
    "The average quantity sold per category.\n",
    "\n"
   ]
  },
  {
   "cell_type": "code",
   "execution_count": null,
   "metadata": {},
   "outputs": [],
   "source": [
    "\n",
    "# Sample DataFrame\n",
    "data = {\n",
    "    \"Product\": [\"Laptop\", \"Mouse\", \"Keyboard\", \"Monitor\", \"Headphones\"],\n",
    "    \"Category\": [\"Electronics\", \"Accessories\", \"Accessories\", \"Electronics\", \"Accessories\"],\n",
    "    \"Price\": [1000, 50, 80, 300, 100],\n",
    "    \"Quantity\": [3, 10, 5, 2, 8]\n",
    "}\n",
    "\n",
    "df = pd.DataFrame(data)\n",
    "\n",
    "# Implement your solution\n"
   ]
  },
  {
   "cell_type": "markdown",
   "metadata": {},
   "source": [
    "### 4. Merging & Joining Data\n",
    "Exercise:\n",
    "You have two datasets: Employee Details and Employee Departments. Merge them into a single DataFrame on \"Employee_ID\", keeping all employees from the first dataset.\n"
   ]
  },
  {
   "cell_type": "code",
   "execution_count": null,
   "metadata": {},
   "outputs": [],
   "source": [
    "\n",
    "import pandas as pd\n",
    "\n",
    "# Employee Details\n",
    "employees = pd.DataFrame({\n",
    "    \"Employee_ID\": [101, 102, 103, 104, 105],\n",
    "    \"Name\": [\"Alice\", \"Bob\", \"Charlie\", \"David\", \"Emma\"],\n",
    "    \"Salary\": [60000, 70000, 65000, 72000, 50000]\n",
    "})\n",
    "\n",
    "# Employee Departments\n",
    "departments = pd.DataFrame({\n",
    "    \"Employee_ID\": [101, 102, 104, 105],\n",
    "    \"Department\": [\"HR\", \"Finance\", \"IT\", \"Marketing\"]\n",
    "})\n",
    "\n",
    "# Implement your solution"
   ]
  },
  {
   "cell_type": "markdown",
   "metadata": {},
   "source": [
    "### 5. Pivot Tables & Reshaping Data\n",
    "Exercise:\n",
    "Given a sales DataFrame, create a pivot table to summarize:\n",
    "\n",
    "The total sales (Price * Quantity) per Region and Product.\n"
   ]
  },
  {
   "cell_type": "code",
   "execution_count": null,
   "metadata": {},
   "outputs": [],
   "source": [
    "import pandas as pd\n",
    "\n",
    "# Sample DataFrame\n",
    "data = {\n",
    "    \"Region\": [\"North\", \"South\", \"North\", \"East\", \"West\", \"South\"],\n",
    "    \"Product\": [\"Laptop\", \"Mouse\", \"Laptop\", \"Keyboard\", \"Monitor\", \"Mouse\"],\n",
    "    \"Price\": [1000, 50, 1000, 80, 300, 50],\n",
    "    \"Quantity\": [2, 10, 1, 4, 3, 5]\n",
    "}\n",
    "\n",
    "df = pd.DataFrame(data)\n",
    "\n",
    "# Implement your solution\n"
   ]
  }
 ],
 "metadata": {
  "language_info": {
   "name": "python"
  }
 },
 "nbformat": 4,
 "nbformat_minor": 2
}
