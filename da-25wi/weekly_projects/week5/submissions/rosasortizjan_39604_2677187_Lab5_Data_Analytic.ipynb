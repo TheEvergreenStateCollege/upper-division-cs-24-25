Lab5_Data_Analytic


1)

name = input("Enter your name: ")

age = input("Enter your age: ")

print(f"Hello {name}, you are {age} years old!")


2)

number = float(input("Enter a number: "))

if number > 0:
    print("The number is positive.")
elif number < 0:
    print("The number is negative.")
else:
    print("The number is zero.")


3)

def calculate_area(length, width):
       area = length * width
    return area

length = float(input("Enter the length of the rectangle: "))
width = float(input("Enter the width of the rectangle: "))

area = calculate_area(length, width)
print(f"The area of the rectangle is {area} square units.")


4) 

students_scores = {
    "Alice": 85,
    "Bob": 75,
    "Charlie": 90,
    "Diana": 82,
    "Evan": 78
}

print("Students who scored above 80:")
for student, score in students_scores.items():
    if score > 80:
        print(student)


5)

names = ["Alice", "Bob", "Charlie", "Diana", "Evan"]

with open("names.txt", "w") as file:
    for name in names:
        file.write(name + "\n")

with open("names.txt", "r") as file:
    names_read = file.readlines()

print("Names read from the file:")
for name in names_read:
    print(name.strip())


6)

class Car:
    def __init__(self, brand, year):
        self.brand = brand
        self.year = year

    def display_info(self):
        print(f"Car brand: {self.brand}, Year: {self.year}")

my_car = Car("Toyota", 2022)
my_car.display_info()


7)

def divide_numbers(a, b):
    try:
        result = a / b
    except ZeroDivisionError:
        return "Error: Division by zero is not allowed."
    else:
        return f"The result is {result}"
        
numerator = 10
denominator = 0
print(divide_numbers(numerator, denominator))


8) 

import math

def calculate_square_root(number):
    return math.sqrt(number)

num = 16
print(f"The square root of {num} is {calculate_square_root(num)}")


9)

def square_numbers(n):
    for i in range(n):
        yield i * i

squares = square_numbers(5)
for square in squares:
    print(square)


10)

numbers = [1, 2, 3, 4, 5]
squared_numbers = list(map(lambda x: x ** 2, numbers))

# Output
print(squared_numbers)


11)

def print_message_decorator(func):
    def wrapper(*args, **kwargs):
        print("Function executed!")
        return func(*args, **kwargs)
    return wrapper

@print_message_decorator
def sample_function():
    print("Inside the function")

sample_function()


12)

import random

random_number = random.randint(1, 10)
print(f"Random number between 1 and 10: {random_number}")


13) 

import re

def contains_phone_number(text):
    pattern = re.compile(r"\d{3}-\d{3}-\d{4}")
    if pattern.search(text):
        return True
    return False

text = "Call me at 123-456-7890"
print(contains_phone_number(text))


14)

import numpy as np

array = np.array([1, 2, 3, 4, 5])
mean_value = np.mean(array)

# Output
print(f"Mean of the array: {mean_value}")
