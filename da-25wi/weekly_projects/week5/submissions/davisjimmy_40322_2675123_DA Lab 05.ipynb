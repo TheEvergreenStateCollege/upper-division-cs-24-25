{
 "cells": [
  {
   "cell_type": "markdown",
   "metadata": {},
   "source": [
    "# Lab 5:  Python Review!\n",
    "\n",
    "Thus far we have mostly worked through code written by *other* people.  Ultimately, the goal is for each of you to be able to produce your own Python code with fluency and elegance.  The purpose of this week's lab is to check your own understanding.\n",
    "\n",
    "This notebook asks you to complete a simple exercise for each of the core Python concepts in our Python concepts list.  If you're fluent in Python, you should be able to crank through this very quickly.  If you're still struggling, it's worth taking the time to play with things.  \n",
    "\n",
    "You can work on this task either by yourself, or with one or two partners.  Please do *not* have a groupsize larger than 3, however.  Submission instructions are on Canvas.\n"
   ]
  },
  {
   "cell_type": "markdown",
   "metadata": {
    "vscode": {
     "languageId": "plaintext"
    }
   },
   "source": [
    "1. Basic Syntax and Data Types:  \n",
    "Write a program that takes user input for their name and age, then prints a message."
   ]
  },
  {
   "cell_type": "code",
   "execution_count": 47,
   "metadata": {},
   "outputs": [],
   "source": [
    "# Jimmy Davis 4/2/2025"
   ]
  },
  {
   "cell_type": "code",
   "execution_count": 48,
   "metadata": {},
   "outputs": [
    {
     "name": "stdout",
     "output_type": "stream",
     "text": [
      "Hello, world! You are 2 years old. In case you were wondering\n"
     ]
    }
   ],
   "source": [
    "def get_user_info():\n",
    "    # Inputs\n",
    "    name = input(\"Enter your name: \")\n",
    "    age = input(\"Enter your age: \")\n",
    "\n",
    "    # Print\n",
    "    print(f\"Hello, {name}! You are {age} years old. In case you were wondering\")\n",
    "\n",
    "if __name__ == \"__main__\":\n",
    "    get_user_info()"
   ]
  },
  {
   "cell_type": "markdown",
   "metadata": {},
   "source": [
    "2. Control Flow:  \n",
    "Write a program that checks if a number is positive, negative, or zero."
   ]
  },
  {
   "cell_type": "code",
   "execution_count": 49,
   "metadata": {},
   "outputs": [
    {
     "name": "stdout",
     "output_type": "stream",
     "text": [
      "Positive!\n"
     ]
    }
   ],
   "source": [
    "def what_is_integer(n):\n",
    "    # Negative, Zero, or Positive? and Print\n",
    "    if    n < 0:\n",
    "        print(f\"Negative!\")\n",
    "    elif n == 0:\n",
    "        print(f\"Zero!\")\n",
    "    elif  n > 0:\n",
    "        print(f\"Positive!\")\n",
    "\n",
    "#main\n",
    "if __name__ == \"__main__\":\n",
    "    # Integer\n",
    "    x = 6\n",
    "    \n",
    "    what_is_integer(x)\n",
    "    "
   ]
  },
  {
   "cell_type": "markdown",
   "metadata": {
    "vscode": {
     "languageId": "plaintext"
    }
   },
   "source": [
    "3. Functions:  \n",
    "Write a function to calculate the area of a rectangle."
   ]
  },
  {
   "cell_type": "code",
   "execution_count": 50,
   "metadata": {},
   "outputs": [
    {
     "name": "stdout",
     "output_type": "stream",
     "text": [
      "Area:  72\n"
     ]
    }
   ],
   "source": [
    "# Calculate area of a rectangle\n",
    "def rectangular_area(w, h):\n",
    "    return w * h\n",
    "\n",
    "if __name__ == \"__main__\":\n",
    "    # Initialize Variables\n",
    "    x = 6\n",
    "    y = 12\n",
    "\n",
    "    # Print Area\n",
    "    print(f\"Area: \",rectangular_area(x, y))"
   ]
  },
  {
   "cell_type": "markdown",
   "metadata": {},
   "source": [
    "4. Data Structures:  \n",
    "Create a dictionary to store student names and scores, then print students who scored above 80."
   ]
  },
  {
   "cell_type": "code",
   "execution_count": 51,
   "metadata": {},
   "outputs": [
    {
     "name": "stdout",
     "output_type": "stream",
     "text": [
      "Students who scored above 80:\n",
      "- Alpha: 85\n",
      "- Charlie: 90\n",
      "- Delta: 88\n"
     ]
    }
   ],
   "source": [
    "# Dictionary\n",
    "student_scores = {\n",
    "    \"Alpha\": 85,\n",
    "    \"Bravo\": 72,\n",
    "    \"Charlie\": 90,\n",
    "    \"Delta\": 88,\n",
    "    \"Echo\": 65\n",
    "}\n",
    "\n",
    "if __name__ == \"__main__\":\n",
    "\n",
    "    # Print students who scored above 80\n",
    "    print(\"Students who scored above 80:\")\n",
    "    for name, score in student_scores.items():\n",
    "        if score > 80:\n",
    "            print(f\"- {name}: {score}\")\n",
    "\n",
    "    "
   ]
  },
  {
   "cell_type": "markdown",
   "metadata": {
    "vscode": {
     "languageId": "plaintext"
    }
   },
   "source": [
    "5. File Handling:  \n",
    "Write a program that writes a list of names to a file and then reads it back."
   ]
  },
  {
   "cell_type": "code",
   "execution_count": 52,
   "metadata": {},
   "outputs": [
    {
     "name": "stdout",
     "output_type": "stream",
     "text": [
      "Names have been written to names.txt.\n",
      "\n",
      "\n",
      "Names read from the file:\n",
      "Alpha\n",
      "Bravo\n",
      "Charlie\n",
      "Delta\n"
     ]
    }
   ],
   "source": [
    "def write_names(filename, names):\n",
    "    # Writes list to file\n",
    "    with open(filename, 'w') as file:\n",
    "        for name in names:\n",
    "            file.write(name + '\\n')\n",
    "\n",
    "def read_names(filename):\n",
    "    # Reads file to list \n",
    "    names = []\n",
    "    with open(filename, 'r') as file:\n",
    "        for line in file:\n",
    "            names.append(line.strip())\n",
    "    return names\n",
    "\n",
    "if __name__ == \"__main__\":\n",
    "    # Initialize Variables\n",
    "    names = [\"Alpha\", \"Bravo\", \"Charlie\", \"Delta\"]\n",
    "    filename = \"names.txt\"\n",
    "\n",
    "    # Write names\n",
    "    write_names(filename, names)\n",
    "    print(f\"Names have been written to {filename}.\")\n",
    "    print('\\n')\n",
    "\n",
    "    # Read names\n",
    "    read_names = read_names(filename)\n",
    "    print(\"Names read from the file:\")\n",
    "    for name in read_names:\n",
    "        print(name)"
   ]
  },
  {
   "cell_type": "markdown",
   "metadata": {},
   "source": [
    "6. Object-Oriented Programming (OOP):  \n",
    "Create a Car class with attributes brand and year, and a method to display them."
   ]
  },
  {
   "cell_type": "code",
   "execution_count": 53,
   "metadata": {},
   "outputs": [
    {
     "name": "stdout",
     "output_type": "stream",
     "text": [
      "Year: 1999, Make: Mazda, Drive Type: RWD, Doors: 2\n"
     ]
    }
   ],
   "source": [
    "class car:\n",
    "    def __init__(self, year, make, drive_type, doors):\n",
    "        self.__year_model = year\n",
    "        self.__make = make\n",
    "        self.__drive_type = drive_type\n",
    "        self.__doors = doors\n",
    "\n",
    "    def set_year_model(self, year):\n",
    "        self.__year_model = year\n",
    "\n",
    "    def set_make(self, make):\n",
    "        self.__make = make\n",
    "\n",
    "    def set_drive_type(self, drive_type):\n",
    "        self.__drive_type = drive_type\n",
    "\n",
    "    def set_door(self, doors):\n",
    "        self.__doors = doors\n",
    "\n",
    "    def get_year_model(self):\n",
    "        return self.__year_model\n",
    "\n",
    "    def get_make(self):\n",
    "        return self.__make\n",
    "    \n",
    "    def get_drive_type(self):\n",
    "        return self.__drive_type\n",
    "    \n",
    "    def get_doors(self):\n",
    "        return self.__doors\n",
    "    \n",
    "    def print_car(self):\n",
    "        print(f\"Year: {self.get_year_model()}, Make: {self.get_make()}, Drive Type: {self.get_drive_type()}, Doors: {self.get_doors()}\")\n",
    "\n",
    "if __name__ == \"__main__\":\n",
    "    # Input Variables\n",
    "    year = input('Enter the car year: ')\n",
    "    make = input('Enter the car make: ')\n",
    "    drive_type = input('Enter drive type: ')\n",
    "    doors = input('Enter number of doors:')\n",
    "\n",
    "    # Initialize Car\n",
    "    current_car = car(year, make, drive_type, doors)\n",
    "\n",
    "    # Print\n",
    "    car.print_car(current_car)\n",
    "\n"
   ]
  },
  {
   "cell_type": "markdown",
   "metadata": {
    "vscode": {
     "languageId": "plaintext"
    }
   },
   "source": [
    "7. Exception Handling:\n",
    "Handle division by zero using try-except."
   ]
  },
  {
   "cell_type": "code",
   "execution_count": 54,
   "metadata": {},
   "outputs": [
    {
     "name": "stdout",
     "output_type": "stream",
     "text": [
      "Error: Division by zero is not allowed.\n"
     ]
    }
   ],
   "source": [
    "def divide_numbers(numerator, denominator):\n",
    "    # Divides two numbers and handles division by zero\n",
    "    try:\n",
    "        result = numerator / denominator\n",
    "        print(f\"The result of {numerator} / {denominator} is: {result}\")\n",
    "    except ZeroDivisionError:\n",
    "        print(\"Error: Division by zero is not allowed.\")\n",
    "\n",
    "if __name__ == \"__main__\":\n",
    "    # Input numbers\n",
    "    numerator = float(input(\"Enter the numerator: \"))\n",
    "    denominator = float(input(\"Enter the denominator: \"))\n",
    "\n",
    "    divide_numbers(numerator, denominator)"
   ]
  },
  {
   "cell_type": "markdown",
   "metadata": {
    "vscode": {
     "languageId": "plaintext"
    }
   },
   "source": [
    "8. Modules and Packages:  \n",
    "Import and use the math module to calculate the square root of a number."
   ]
  },
  {
   "cell_type": "code",
   "execution_count": 55,
   "metadata": {},
   "outputs": [
    {
     "name": "stdout",
     "output_type": "stream",
     "text": [
      "The square root of 6.0 is: 2.449489742783178\n"
     ]
    }
   ],
   "source": [
    "import math\n",
    "\n",
    "def calculate_square_root(number):\n",
    "    # Calculates the square root of a number\n",
    "    if number < 0:\n",
    "        print(\"Error: Cannot calculate the square root of a negative number.\")\n",
    "        return \"ERROR\"\n",
    "    else:\n",
    "        return math.sqrt(number)\n",
    "\n",
    "if __name__ == \"__main__\":\n",
    "    # Input number\n",
    "    number = float(input(\"Enter a number to calculate its square root: \"))\n",
    "\n",
    "    # Calculate and display the square root\n",
    "    result = calculate_square_root(number)\n",
    "    print(f\"The square root of {number} is: {result}\")"
   ]
  },
  {
   "cell_type": "markdown",
   "metadata": {},
   "source": [
    "9. Iterators and Generators:  \n",
    "Create a generator function that yields square numbers."
   ]
  },
  {
   "cell_type": "code",
   "execution_count": 56,
   "metadata": {},
   "outputs": [
    {
     "name": "stdout",
     "output_type": "stream",
     "text": [
      "3 square numbers:\n",
      "\n",
      "1\n",
      "4\n",
      "9\n"
     ]
    }
   ],
   "source": [
    "def square_numbers(count):\n",
    "    # Produce square numbers\n",
    "    for i in range(1, count + 1):\n",
    "        yield i ** 2\n",
    "\n",
    "if __name__ == \"__main__\":\n",
    "    numbers = 3\n",
    "\n",
    "    # Call the generator\n",
    "    print(f\"{numbers} square numbers:\\n\")\n",
    "    for square in square_numbers(numbers):\n",
    "        print(square)"
   ]
  },
  {
   "cell_type": "markdown",
   "metadata": {},
   "source": [
    "10.  Functional Programming:  \n",
    "Use map() to square a list of numbers."
   ]
  },
  {
   "cell_type": "code",
   "execution_count": 57,
   "metadata": {},
   "outputs": [
    {
     "name": "stdout",
     "output_type": "stream",
     "text": [
      "Original list: [1, 2, 3, 4, 5, 6]\n",
      "Squared list:  [1, 4, 9, 16, 25, 36]\n"
     ]
    }
   ],
   "source": [
    "# Initialize list\n",
    "numbers = [1, 2, 3, 4, 5, 6]\n",
    "\n",
    "# Square each number\n",
    "squared_numbers = map(lambda x: x ** 2, numbers)\n",
    "# Convert to a list\n",
    "squared_numbers_list = list(squared_numbers)\n",
    "\n",
    "# Print the result\n",
    "print(\"Original list:\", numbers)\n",
    "print(\"Squared list: \", squared_numbers_list)"
   ]
  },
  {
   "cell_type": "markdown",
   "metadata": {
    "vscode": {
     "languageId": "plaintext"
    }
   },
   "source": [
    "11.  Decorators and Closures:  \n",
    "Create a decorator that prints \"Function executed!\" before running a function."
   ]
  },
  {
   "cell_type": "code",
   "execution_count": 62,
   "metadata": {},
   "outputs": [
    {
     "name": "stdout",
     "output_type": "stream",
     "text": [
      "Function executed!\n",
      "Hello, World!\n",
      "\n",
      "\n",
      "Function executed!\n",
      "Result of addition: 18\n"
     ]
    }
   ],
   "source": [
    "# Define the decorator\n",
    "def notify_execution(func):\n",
    "    def wrapper(*args, **kwargs):\n",
    "        print(\"Function executed!\")\n",
    "        return func(*args, **kwargs)\n",
    "    return wrapper\n",
    "\n",
    "# Decorated Functions\n",
    "@notify_execution\n",
    "def alive(name):\n",
    "    print(f\"Hello, {name}!\")\n",
    "\n",
    "@notify_execution\n",
    "def add(a, b):\n",
    "    return a + b\n",
    "\n",
    "# Test the functions\n",
    "alive(\"World\")\n",
    "print(\"\\n\")\n",
    "\n",
    "result = add(6, 12)\n",
    "print(\"Result of addition:\", result)"
   ]
  },
  {
   "cell_type": "markdown",
   "metadata": {
    "vscode": {
     "languageId": "plaintext"
    }
   },
   "source": [
    "12. Working with Libraries:  \n",
    "Use random to generate a random number between 1 and 10."
   ]
  },
  {
   "cell_type": "code",
   "execution_count": 63,
   "metadata": {},
   "outputs": [
    {
     "name": "stdout",
     "output_type": "stream",
     "text": [
      "5\n",
      "9\n",
      "2\n",
      "3\n",
      "4\n"
     ]
    }
   ],
   "source": [
    "import random\n",
    "\n",
    "def random_number(count):\n",
    "    for _ in range(1, count):\n",
    "        print(random.randrange(1, 10))\n",
    "    \n",
    "if __name__ == \"__main__\":\n",
    "    numbers = 6\n",
    "    \n",
    "    random_number(numbers)"
   ]
  },
  {
   "cell_type": "markdown",
   "metadata": {},
   "source": [
    "13. Regular Expressions:  \n",
    "Use regex to check if a string contains a phone number format (123-456-7890)."
   ]
  },
  {
   "cell_type": "code",
   "execution_count": 65,
   "metadata": {},
   "outputs": [
    {
     "name": "stdout",
     "output_type": "stream",
     "text": [
      "'123-456-7890.' contains a valid phone number: True\n",
      "'sdahfsrghwg h   987-654-3210.' contains a valid phone number: True\n",
      "'This is not a phone number: 123-45-6789.' contains a valid phone number: False\n",
      "'No phone number here.' contains a valid phone number: False\n",
      "'Phone: 555-123-4567, 888-999-0000.' contains a valid phone number: True\n"
     ]
    }
   ],
   "source": [
    "import re\n",
    "\n",
    "def contains_phone_number(text):\n",
    "    # Define the pattern for a phone number and look for it in text\n",
    "    pattern = r\"\\b\\d{3}-\\d{3}-\\d{4}\\b\"\n",
    "    match = re.search(pattern, text)\n",
    "    \n",
    "    return match is not None\n",
    "\n",
    "if __name__ == \"__main__\":\n",
    "\n",
    "    # Test cases\n",
    "    test_strings = [\n",
    "        \"123-456-7890.\",\n",
    "        \"sdahfsrghwg h   987-654-3210.\",\n",
    "        \"This is not a phone number: 123-45-6789.\",\n",
    "        \"No phone number here.\",\n",
    "        \"Phone: 555-123-4567, 888-999-0000.\"\n",
    "]\n",
    "    for s in test_strings:\n",
    "        print(f\"'{s}' contains a valid phone number: {contains_phone_number(s)}\")"
   ]
  },
  {
   "cell_type": "markdown",
   "metadata": {},
   "source": [
    "14. Data Science & Machine Learning Basics:  \n",
    "Create a numpy array and compute its mean."
   ]
  },
  {
   "cell_type": "code",
   "execution_count": 68,
   "metadata": {},
   "outputs": [
    {
     "name": "stdout",
     "output_type": "stream",
     "text": [
      "Array: [1 2 3 4 5 6]\n",
      "Mean of the array: 3.5\n"
     ]
    }
   ],
   "source": [
    "import numpy as np\n",
    "\n",
    "# Create a numpy array and compute the mean\n",
    "array = np.array([1, 2, 3, 4, 5, 6])\n",
    "mean_value = np.mean(array)\n",
    "\n",
    "# Print the array and its mean\n",
    "print(\"Array:\", array)\n",
    "print(\"Mean of the array:\", mean_value)"
   ]
  }
 ],
 "metadata": {
  "kernelspec": {
   "display_name": "Python 3",
   "language": "python",
   "name": "python3"
  },
  "language_info": {
   "codemirror_mode": {
    "name": "ipython",
    "version": 3
   },
   "file_extension": ".py",
   "mimetype": "text/x-python",
   "name": "python",
   "nbconvert_exporter": "python",
   "pygments_lexer": "ipython3",
   "version": "3.12.8"
  }
 },
 "nbformat": 4,
 "nbformat_minor": 2
}
