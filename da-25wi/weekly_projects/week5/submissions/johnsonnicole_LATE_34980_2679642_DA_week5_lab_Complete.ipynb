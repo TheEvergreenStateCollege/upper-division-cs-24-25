{
  "cells": [
    {
      "cell_type": "markdown",
      "metadata": {
        "id": "nZeMvRLp4OFs"
      },
      "source": [
        "# Lab 5:  Python Review!\n",
        "\n",
        "Thus far we have mostly worked through code written by *other* people.  Ultimately, the goal is for each of you to be able to produce your own Python code with fluency and elegance.  The purpose of this week's lab is to check your own understanding.\n",
        "\n",
        "This notebook asks you to complete a simple exercise for each of the core Python concepts in our Python concepts list.  If you're fluent in Python, you should be able to crank through this very quickly.  If you're still struggling, it's worth taking the time to play with things.  \n",
        "\n",
        "You can work on this task either by yourself, or with one or two partners.  Please do *not* have a groupsize larger than 3, however.  Submission instructions are on Canvas.\n"
      ]
    },
    {
      "cell_type": "markdown",
      "metadata": {
        "vscode": {
          "languageId": "plaintext"
        },
        "id": "hEhKiLzF4OFu"
      },
      "source": [
        "1. Basic Syntax and Data Types:  \n",
        "Write a program that takes user input for their name and age, then prints a message."
      ]
    },
    {
      "cell_type": "code",
      "execution_count": null,
      "metadata": {
        "colab": {
          "base_uri": "https://localhost:8080/"
        },
        "id": "Z89nIUG04OFu",
        "outputId": "88504800-7ec9-4982-f607-11b40e5cfa7c"
      },
      "outputs": [
        {
          "output_type": "stream",
          "name": "stdout",
          "text": [
            "Enter your name: nicole\n",
            "Enter your age: 29\n",
            "Hello, nicole! You are 29 years old.\n"
          ]
        }
      ],
      "source": [
        "name = input(\"Enter your name: \")\n",
        "age = input(\"Enter your age: \")\n",
        "print(f\"Hello, {name}! You are {age} years old.\")"
      ]
    },
    {
      "cell_type": "markdown",
      "metadata": {
        "id": "B96elqGp4OFu"
      },
      "source": [
        "2. Control Flow:  \n",
        "Write a program that checks if a number is positive, negative, or zero."
      ]
    },
    {
      "cell_type": "code",
      "execution_count": null,
      "metadata": {
        "colab": {
          "base_uri": "https://localhost:8080/"
        },
        "id": "1b9zXu6l4OFv",
        "outputId": "b54f63c6-82f3-46fb-f9b5-e50eec073259"
      },
      "outputs": [
        {
          "output_type": "stream",
          "name": "stdout",
          "text": [
            "Enter a number: 9\n",
            "Positive\n"
          ]
        }
      ],
      "source": [
        "num = float(input(\"Enter a number: \"))\n",
        "if num > 0:\n",
        "    print(\"Positive\")\n",
        "elif num < 0:\n",
        "    print(\"Negative\")\n",
        "else:\n",
        "    print(\"Zero\")"
      ]
    },
    {
      "cell_type": "markdown",
      "metadata": {
        "vscode": {
          "languageId": "plaintext"
        },
        "id": "1_o8H6Fk4OFv"
      },
      "source": [
        "3. Functions:  \n",
        "Write a function to calculate the area of a rectangle."
      ]
    },
    {
      "cell_type": "code",
      "execution_count": null,
      "metadata": {
        "colab": {
          "base_uri": "https://localhost:8080/"
        },
        "id": "bpArQhpQ4OFv",
        "outputId": "ade38d59-6726-4abb-85ac-d5f4301c985b"
      },
      "outputs": [
        {
          "output_type": "stream",
          "name": "stdout",
          "text": [
            "50\n"
          ]
        }
      ],
      "source": [
        "def rectangle_area(length, width):\n",
        "    return length * width\n",
        "\n",
        "# Example usage\n",
        "print(rectangle_area(5, 10))  # Output: 50"
      ]
    },
    {
      "cell_type": "markdown",
      "metadata": {
        "id": "6SnH0ICm4OFv"
      },
      "source": [
        "4. Data Structures:  \n",
        "Create a dictionary to store student names and scores, then print students who scored above 80."
      ]
    },
    {
      "cell_type": "code",
      "execution_count": null,
      "metadata": {
        "colab": {
          "base_uri": "https://localhost:8080/"
        },
        "id": "igb6a2mp4OFv",
        "outputId": "d03b8f94-0e65-48b2-cbda-3a7ffe6f911e"
      },
      "outputs": [
        {
          "output_type": "stream",
          "name": "stdout",
          "text": [
            "Allison: 85\n",
            "Charlie: 90\n"
          ]
        }
      ],
      "source": [
        "students = {\"Allison\": 85, \"Bobby\": 75, \"Charlie\": 90, \"David\": 80}\n",
        "for name, score in students.items():\n",
        "    if score > 80:\n",
        "        print(f\"{name}: {score}\")"
      ]
    },
    {
      "cell_type": "markdown",
      "metadata": {
        "vscode": {
          "languageId": "plaintext"
        },
        "id": "SmJ3wnsN4OFv"
      },
      "source": [
        "5. File Handling:  \n",
        "Write a program that writes a list of names to a file and then reads it back."
      ]
    },
    {
      "cell_type": "code",
      "execution_count": null,
      "metadata": {
        "colab": {
          "base_uri": "https://localhost:8080/"
        },
        "id": "h0UJ2PaF4OFv",
        "outputId": "5ceaf764-17dd-414e-b660-f3b94d40690a"
      },
      "outputs": [
        {
          "output_type": "stream",
          "name": "stdout",
          "text": [
            "Allison\n",
            "Bobby\n",
            "Charlie\n"
          ]
        }
      ],
      "source": [
        "# Write to file\n",
        "names = [\"Allison\", \"Bobby\", \"Charlie\"]\n",
        "with open(\"names.txt\", \"w\") as file:\n",
        "    for name in names:\n",
        "        file.write(name + \"\\n\")\n",
        "\n",
        "# Read from file\n",
        "with open(\"names.txt\", \"r\") as file:\n",
        "    for line in file:\n",
        "        print(line.strip())"
      ]
    },
    {
      "cell_type": "markdown",
      "metadata": {
        "id": "cIbPn5Cw4OFv"
      },
      "source": [
        "6. Object-Oriented Programming (OOP):  \n",
        "Create a Car class with attributes brand and year, and a method to display them."
      ]
    },
    {
      "cell_type": "code",
      "execution_count": null,
      "metadata": {
        "colab": {
          "base_uri": "https://localhost:8080/"
        },
        "id": "O7aKwK9i4OFv",
        "outputId": "e48b2da1-a092-49ce-8007-55bd5d1bf976"
      },
      "outputs": [
        {
          "output_type": "stream",
          "name": "stdout",
          "text": [
            "Brand: Hyundai, Year: 2020\n"
          ]
        }
      ],
      "source": [
        "class Car:\n",
        "    def __init__(self, brand, year):\n",
        "        self.brand = brand\n",
        "        self.year = year\n",
        "\n",
        "    def display(self):\n",
        "        print(f\"Brand: {self.brand}, Year: {self.year}\")\n",
        "\n",
        "# Example usage\n",
        "my_car = Car(\"Hyundai\", 2020)\n",
        "my_car.display()"
      ]
    },
    {
      "cell_type": "markdown",
      "metadata": {
        "vscode": {
          "languageId": "plaintext"
        },
        "id": "RvRRTOc24OFv"
      },
      "source": [
        "7. Exception Handling:\n",
        "Handle division by zero using try-except."
      ]
    },
    {
      "cell_type": "code",
      "execution_count": null,
      "metadata": {
        "colab": {
          "base_uri": "https://localhost:8080/"
        },
        "id": "WtTnCva34OFv",
        "outputId": "d6fac5bf-d901-4168-c5a0-8fc07820f757"
      },
      "outputs": [
        {
          "output_type": "stream",
          "name": "stdout",
          "text": [
            "Cannot divide by zero!\n"
          ]
        }
      ],
      "source": [
        "try:\n",
        "    result = 10 / 0\n",
        "except ZeroDivisionError:\n",
        "    print(\"Cannot divide by zero!\")"
      ]
    },
    {
      "cell_type": "markdown",
      "metadata": {
        "vscode": {
          "languageId": "plaintext"
        },
        "id": "N57T_X864OFv"
      },
      "source": [
        "8. Modules and Packages:  \n",
        "Import and use the math module to calculate the square root of a number."
      ]
    },
    {
      "cell_type": "code",
      "execution_count": null,
      "metadata": {
        "colab": {
          "base_uri": "https://localhost:8080/"
        },
        "id": "_w5npZVW4OFw",
        "outputId": "e030e5de-ff22-4f1c-e5ff-01d03d37652a"
      },
      "outputs": [
        {
          "output_type": "stream",
          "name": "stdout",
          "text": [
            "5.0\n"
          ]
        }
      ],
      "source": [
        "import math\n",
        "num = 25\n",
        "print(math.sqrt(num))  # Output: 5.0"
      ]
    },
    {
      "cell_type": "markdown",
      "metadata": {
        "id": "OyDCTWUp4OFw"
      },
      "source": [
        "9. Iterators and Generators:  \n",
        "Create a generator function that yields square numbers."
      ]
    },
    {
      "cell_type": "code",
      "execution_count": null,
      "metadata": {
        "colab": {
          "base_uri": "https://localhost:8080/"
        },
        "id": "Yuy3U0EH4OFw",
        "outputId": "f66b471f-aea8-4327-be75-4a5816e5814d"
      },
      "outputs": [
        {
          "output_type": "stream",
          "name": "stdout",
          "text": [
            "0\n",
            "1\n",
            "4\n",
            "9\n",
            "16\n"
          ]
        }
      ],
      "source": [
        "def square_generator(n):\n",
        "    for i in range(n):\n",
        "        yield i ** 2\n",
        "\n",
        "# Example usage\n",
        "for num in square_generator(5):\n",
        "    print(num)  # Output: 0, 1, 4, 9, 16"
      ]
    },
    {
      "cell_type": "markdown",
      "metadata": {
        "id": "adFvSDkj4OFw"
      },
      "source": [
        "10.  Functional Programming:  \n",
        "Use map() to square a list of numbers."
      ]
    },
    {
      "cell_type": "code",
      "execution_count": null,
      "metadata": {
        "colab": {
          "base_uri": "https://localhost:8080/"
        },
        "id": "8A2D3qeG4OFw",
        "outputId": "eb957b86-5c45-4e65-9117-57a9d8ba6db5"
      },
      "outputs": [
        {
          "output_type": "stream",
          "name": "stdout",
          "text": [
            "[1, 4, 9, 16, 25]\n"
          ]
        }
      ],
      "source": [
        "numbers = [1, 2, 3, 4, 5]\n",
        "squared = list(map(lambda x: x ** 2, numbers))\n",
        "print(squared)  # Output: [1, 4, 9, 16, 25]"
      ]
    },
    {
      "cell_type": "markdown",
      "metadata": {
        "vscode": {
          "languageId": "plaintext"
        },
        "id": "v6vHTmpl4OFw"
      },
      "source": [
        "11.  Decorators and Closures:  \n",
        "Create a decorator that prints \"Function executed!\" before running a function."
      ]
    },
    {
      "cell_type": "code",
      "execution_count": null,
      "metadata": {
        "colab": {
          "base_uri": "https://localhost:8080/"
        },
        "id": "weCBbzup4OFw",
        "outputId": "16a1273b-1e6f-48b0-f783-860a05b6b1a8"
      },
      "outputs": [
        {
          "output_type": "stream",
          "name": "stdout",
          "text": [
            "Function executed!\n",
            "Hello!\n"
          ]
        }
      ],
      "source": [
        "def my_decorator(func):\n",
        "    def wrapper(*args, **kwargs):\n",
        "        print(\"Function executed!\")\n",
        "        return func(*args, **kwargs)\n",
        "    return wrapper\n",
        "\n",
        "@my_decorator\n",
        "def say_hello():\n",
        "    print(\"Hello!\")\n",
        "\n",
        "# Example usage\n",
        "say_hello()"
      ]
    },
    {
      "cell_type": "markdown",
      "metadata": {
        "vscode": {
          "languageId": "plaintext"
        },
        "id": "UrN1oPvW4OFw"
      },
      "source": [
        "12. Working with Libraries:  \n",
        "Use random to generate a random number between 1 and 10."
      ]
    },
    {
      "cell_type": "code",
      "execution_count": null,
      "metadata": {
        "colab": {
          "base_uri": "https://localhost:8080/"
        },
        "id": "e1Dj0MiL4OFw",
        "outputId": "9a92b9f0-b722-4143-906c-69c91bb2e167"
      },
      "outputs": [
        {
          "output_type": "stream",
          "name": "stdout",
          "text": [
            "1\n"
          ]
        }
      ],
      "source": [
        "import random\n",
        "print(random.randint(1, 10))"
      ]
    },
    {
      "cell_type": "markdown",
      "metadata": {
        "id": "-GYKOK_w4OFw"
      },
      "source": [
        "13. Regular Expressions:  \n",
        "Use regex to check if a string contains a phone number format (123-456-7890)."
      ]
    },
    {
      "cell_type": "code",
      "execution_count": null,
      "metadata": {
        "colab": {
          "base_uri": "https://localhost:8080/"
        },
        "id": "hk8VgQsL4OFw",
        "outputId": "ab81318c-4db5-4512-a078-98d9bf49b09d"
      },
      "outputs": [
        {
          "output_type": "stream",
          "name": "stdout",
          "text": [
            "Phone number found!\n"
          ]
        }
      ],
      "source": [
        "import re\n",
        "pattern = r\"\\d{3}-\\d{3}-\\d{4}\"\n",
        "text = \"My phone number is 123-456-7890.\"\n",
        "if re.search(pattern, text):\n",
        "    print(\"Phone number found!\")\n",
        "else:\n",
        "    print(\"No phone number found.\")"
      ]
    },
    {
      "cell_type": "markdown",
      "metadata": {
        "id": "MTldroMr4OFw"
      },
      "source": [
        "14. Data Science & Machine Learning Basics:  \n",
        "Create a numpy array and compute its mean."
      ]
    },
    {
      "cell_type": "code",
      "execution_count": null,
      "metadata": {
        "colab": {
          "base_uri": "https://localhost:8080/"
        },
        "id": "8WCmD81-4OFw",
        "outputId": "515843cc-c084-433d-f164-cf09ebd477c4"
      },
      "outputs": [
        {
          "output_type": "stream",
          "name": "stdout",
          "text": [
            "3.0\n"
          ]
        }
      ],
      "source": [
        "import numpy as np\n",
        "arr = np.array([1, 2, 3, 4, 5])\n",
        "print(np.mean(arr))  # Output: 3.0"
      ]
    },
    {
      "cell_type": "code",
      "execution_count": null,
      "metadata": {
        "vscode": {
          "languageId": "plaintext"
        },
        "id": "kNrOPOZ74OFw"
      },
      "outputs": [],
      "source": []
    }
  ],
  "metadata": {
    "language_info": {
      "name": "python"
    },
    "colab": {
      "provenance": []
    },
    "kernelspec": {
      "name": "python3",
      "display_name": "Python 3"
    }
  },
  "nbformat": 4,
  "nbformat_minor": 0
}