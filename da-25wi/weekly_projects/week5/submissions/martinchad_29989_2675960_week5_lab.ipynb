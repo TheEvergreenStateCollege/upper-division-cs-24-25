{
 "cells": [
  {
   "cell_type": "markdown",
   "metadata": {},
   "source": [
    "# Lab 5:  Python Review!\n",
    "\n",
    "Thus far we have mostly worked through code written by *other* people.  Ultimately, the goal is for each of you to be able to produce your own Python code with fluency and elegance.  The purpose of this week's lab is to check your own understanding.\n",
    "\n",
    "This notebook asks you to complete a simple exercise for each of the core Python concepts in our Python concepts list.  If you're fluent in Python, you should be able to crank through this very quickly.  If you're still struggling, it's worth taking the time to play with things.  \n",
    "\n",
    "You can work on this task either by yourself, or with one or two partners.  Please do *not* have a groupsize larger than 3, however.  Submission instructions are on Canvas.\n"
   ]
  },
  {
   "cell_type": "markdown",
   "metadata": {
    "vscode": {
     "languageId": "plaintext"
    }
   },
   "source": [
    "1. Basic Syntax and Data Types:  \n",
    "Write a program that takes user input for their name and age, then prints a message."
   ]
  },
  {
   "cell_type": "code",
   "execution_count": 3,
   "metadata": {},
   "outputs": [
    {
     "name": "stdin",
     "output_type": "stream",
     "text": [
      "name:  chad\n",
      "age:  martin\n"
     ]
    },
    {
     "data": {
      "text/plain": [
       "'martin'"
      ]
     },
     "execution_count": 3,
     "metadata": {},
     "output_type": "execute_result"
    }
   ],
   "source": [
    "input(\"name: \")\n",
    "input(\"age: \")\n"
   ]
  },
  {
   "cell_type": "markdown",
   "metadata": {},
   "source": [
    "2. Control Flow:  \n",
    "Write a program that checks if a number is positive, negative, or zero."
   ]
  },
  {
   "cell_type": "code",
   "execution_count": 5,
   "metadata": {},
   "outputs": [
    {
     "name": "stdout",
     "output_type": "stream",
     "text": [
      "number is odd\n"
     ]
    }
   ],
   "source": [
    "x = 2\n",
    "y = 1\n",
    "\n",
    "def isodd(val):\n",
    "    if val % 2 == 0:\n",
    "        print('number is even')\n",
    "    else:\n",
    "        print('number is odd')\n",
    "\n",
    "isodd(y)"
   ]
  },
  {
   "cell_type": "markdown",
   "metadata": {
    "vscode": {
     "languageId": "plaintext"
    }
   },
   "source": [
    "3. Functions:  \n",
    "Write a function to calculate the area of a rectangle."
   ]
  },
  {
   "cell_type": "code",
   "execution_count": 7,
   "metadata": {},
   "outputs": [
    {
     "data": {
      "text/plain": [
       "35"
      ]
     },
     "execution_count": 7,
     "metadata": {},
     "output_type": "execute_result"
    }
   ],
   "source": [
    "L = 5\n",
    "W = 7\n",
    "\n",
    "def calc_area(L, W):\n",
    "    return L * W\n",
    "\n",
    "area = calc_area(L,W)\n",
    "area"
   ]
  },
  {
   "cell_type": "markdown",
   "metadata": {},
   "source": [
    "4. Data Structures:  \n",
    "Create a dictionary to store student names and scores, then print students who scored above 80."
   ]
  },
  {
   "cell_type": "code",
   "execution_count": 9,
   "metadata": {},
   "outputs": [
    {
     "name": "stdout",
     "output_type": "stream",
     "text": [
      "l\n",
      "m\n",
      "{'l': 81, 'm': 82}\n"
     ]
    }
   ],
   "source": [
    "student_scores = {}\n",
    "alph = ['a','b','c','d','e','f','g','h','i','j','k','l','m']\n",
    "\n",
    "def fill_dict(keys):\n",
    "    for letter, i in zip(keys, range(70, 70 + len(keys))):\n",
    "        student_scores[letter] = i\n",
    "        i += 1\n",
    "\n",
    "def filter_dict(dictionary):\n",
    "    new_dict = {}\n",
    "    for name, score in dictionary.items():\n",
    "        if score > 80:\n",
    "            new_dict[name] = score\n",
    "            print(name)\n",
    "    return new_dict\n",
    "fill_dict(alph)\n",
    "test = filter_dict(student_scores)\n",
    "\n",
    "print(test)"
   ]
  },
  {
   "cell_type": "markdown",
   "metadata": {
    "vscode": {
     "languageId": "plaintext"
    }
   },
   "source": [
    "5. File Handling:  \n",
    "Write a program that writes a list of names to a file and then reads it back."
   ]
  },
  {
   "cell_type": "code",
   "execution_count": 11,
   "metadata": {},
   "outputs": [
    {
     "name": "stdout",
     "output_type": "stream",
     "text": [
      "Chad\n",
      "Catherine\n",
      "Rosas\n",
      "Dani\n",
      "Nicole\n",
      "\n"
     ]
    }
   ],
   "source": [
    "names = ['Chad', 'Catherine', 'Rosas', 'Dani', 'Nicole']\n",
    "\n",
    "with open('file.txt', 'w') as file:\n",
    "    for name in names:\n",
    "        file.write(f'{name}\\n')\n",
    "\n",
    "file = open('file.txt', 'r')\n",
    "content = file.read()\n",
    "file.close()\n",
    "\n",
    "print(content)"
   ]
  },
  {
   "cell_type": "markdown",
   "metadata": {},
   "source": [
    "6. Object-Oriented Programming (OOP):  \n",
    "Create a Car class with attributes brand and year, and a method to display them."
   ]
  },
  {
   "cell_type": "code",
   "execution_count": 13,
   "metadata": {},
   "outputs": [
    {
     "name": "stdout",
     "output_type": "stream",
     "text": [
      "Car:\n",
      "2016\n",
      "Kia\n",
      "forte5\n"
     ]
    }
   ],
   "source": [
    "class Car:\n",
    "\n",
    "    def __init__(self):\n",
    "        self.make = 'Kia'\n",
    "        self.model = 'forte5'\n",
    "        self.year = 2016\n",
    "\n",
    "    def car_info(self):\n",
    "        print('Car:')\n",
    "        print(self.year)\n",
    "        print(self.make)\n",
    "        print(self.model)\n",
    "\n",
    "car = Car()\n",
    "car.car_info()"
   ]
  },
  {
   "cell_type": "code",
   "execution_count": 14,
   "metadata": {},
   "outputs": [
    {
     "name": "stdout",
     "output_type": "stream",
     "text": [
      "Car:\n",
      "2016\n",
      "Kia\n",
      "forte5\n"
     ]
    }
   ],
   "source": [
    "class Car:\n",
    "    \n",
    "    make = 'Kia'\n",
    "    model = 'forte5'\n",
    "    year = 2016\n",
    "    \n",
    "    @classmethod\n",
    "    def car_info(cls):\n",
    "        print('Car:')\n",
    "        print(cls.year)\n",
    "        print(cls.make)\n",
    "        print(cls.model)\n",
    "\n",
    "Car.car_info()"
   ]
  },
  {
   "cell_type": "markdown",
   "metadata": {
    "vscode": {
     "languageId": "plaintext"
    }
   },
   "source": [
    "7. Exception Handling:\n",
    "Handle division by zero using try-except."
   ]
  },
  {
   "cell_type": "code",
   "execution_count": 16,
   "metadata": {},
   "outputs": [
    {
     "name": "stdout",
     "output_type": "stream",
     "text": [
      "1.0\n",
      "cannot divide by zero\n",
      "invalid type for division\n"
     ]
    }
   ],
   "source": [
    "def division(x, y):\n",
    "    try: \n",
    "        return x / y\n",
    "    except ZeroDivisionError:\n",
    "        return \"cannot divide by zero\"\n",
    "    except TypeError:\n",
    "        return \"invalid type for division\"\n",
    "\n",
    "print(division(2, 2))\n",
    "print(division(2,0))\n",
    "print(division(2, 'a'))"
   ]
  },
  {
   "cell_type": "markdown",
   "metadata": {
    "vscode": {
     "languageId": "plaintext"
    }
   },
   "source": [
    "8. Modules and Packages:  \n",
    "Import and use the math module to calculate the square root of a number."
   ]
  },
  {
   "cell_type": "code",
   "execution_count": 18,
   "metadata": {},
   "outputs": [
    {
     "data": {
      "text/plain": [
       "2.0"
      ]
     },
     "execution_count": 18,
     "metadata": {},
     "output_type": "execute_result"
    }
   ],
   "source": [
    "import math\n",
    "\n",
    "x = 4\n",
    "root = math.sqrt(x)\n",
    "root"
   ]
  },
  {
   "cell_type": "markdown",
   "metadata": {},
   "source": [
    "9. Iterators and Generators:  \n",
    "Create a generator function that yields square numbers."
   ]
  },
  {
   "cell_type": "code",
   "execution_count": 20,
   "metadata": {},
   "outputs": [
    {
     "name": "stdout",
     "output_type": "stream",
     "text": [
      "0\n",
      "1\n",
      "4\n",
      "9\n",
      "16\n",
      "25\n",
      "36\n",
      "49\n",
      "64\n",
      "81\n"
     ]
    }
   ],
   "source": [
    "def square_generator(limit_, start=0):\n",
    "    num = 0\n",
    "    count = 0\n",
    "    \n",
    "    while count < limit_:\n",
    "        yield num * num\n",
    "        num += 1\n",
    "        count += 1\n",
    "\n",
    "sequence = square_generator(10)\n",
    "\n",
    "for val in sequence:\n",
    "    print(val)"
   ]
  },
  {
   "cell_type": "markdown",
   "metadata": {},
   "source": [
    "10.  Functional Programming:  \n",
    "Use map() to square a list of numbers."
   ]
  },
  {
   "cell_type": "code",
   "execution_count": 22,
   "metadata": {},
   "outputs": [
    {
     "name": "stdout",
     "output_type": "stream",
     "text": [
      "[0, 1, 4, 9, 16, 25, 36, 49, 64, 81]\n"
     ]
    }
   ],
   "source": [
    "# The map() function in Python applies a given function to each item of an iterable (e.g., a list) and returns an iterator.\n",
    "numbers = []\n",
    "\n",
    "for i in range(10):\n",
    "    numbers.append(i)\n",
    "\n",
    "squared_numbers = map(lambda x: x*x, numbers)\n",
    "\n",
    "squared_numbers_list = list(squared_numbers)\n",
    "\n",
    "print(squared_numbers_list)"
   ]
  },
  {
   "cell_type": "markdown",
   "metadata": {
    "vscode": {
     "languageId": "plaintext"
    }
   },
   "source": [
    "11.  Decorators and Closures:  \n",
    "Create a decorator that prints \"Function executed!\" before running a function."
   ]
  },
  {
   "cell_type": "code",
   "execution_count": 24,
   "metadata": {},
   "outputs": [
    {
     "name": "stdout",
     "output_type": "stream",
     "text": [
      "Function executed!\n"
     ]
    },
    {
     "data": {
      "text/plain": [
       "'HELLO, WORLD!'"
      ]
     },
     "execution_count": 24,
     "metadata": {},
     "output_type": "execute_result"
    }
   ],
   "source": [
    "#A decorator in Python is a function that takes another function as input, \n",
    "# adds some behavior to it, and returns the modified function.\n",
    "\n",
    "def print_execution(func):\n",
    "    def wrapper(*argc, **kwargs):\n",
    "        print(\"Function executed!\")\n",
    "        result = func(*argc, **kwargs)\n",
    "        return result.upper()\n",
    "    return wrapper\n",
    "\n",
    "@print_execution\n",
    "def hello_world():\n",
    "    return \"Hello, world!\"\n",
    "\n",
    "hello_world()"
   ]
  },
  {
   "cell_type": "markdown",
   "metadata": {
    "vscode": {
     "languageId": "plaintext"
    }
   },
   "source": [
    "12. Working with Libraries:  \n",
    "Use random to generate a random number between 1 and 10."
   ]
  },
  {
   "cell_type": "code",
   "execution_count": 26,
   "metadata": {},
   "outputs": [
    {
     "name": "stdout",
     "output_type": "stream",
     "text": [
      "2\n"
     ]
    }
   ],
   "source": [
    "import random\n",
    "\n",
    "numbers = random.randint(1, 10)\n",
    "print(numbers)"
   ]
  },
  {
   "cell_type": "markdown",
   "metadata": {},
   "source": [
    "13. Regular Expressions:  \n",
    "Use regex to check if a string contains a phone number format (123-456-7890)."
   ]
  },
  {
   "cell_type": "code",
   "execution_count": 28,
   "metadata": {},
   "outputs": [
    {
     "name": "stdout",
     "output_type": "stream",
     "text": [
      "True\n",
      "True\n",
      "False\n",
      "False\n"
     ]
    }
   ],
   "source": [
    "#\n",
    "import re\n",
    "\n",
    "def phone_num_check(text):\n",
    "    pattern = r\"\\b\\d{3}-\\d{3}-\\d{4}\\b\"\n",
    "\n",
    "    match = re.search(pattern, text)\n",
    "\n",
    "    #Checks if a match was found and returns True or False\n",
    "    return match is not None\n",
    "\n",
    "# Test cases\n",
    "test_strings = [\n",
    "    \"My phone number is 123-456-7890.\",\n",
    "    \"Call me at 555-123-4567 for details.\",\n",
    "    \"This is not a phone number: 123-45-6789.\",\n",
    "    \"No phone number here.\"\n",
    "]\n",
    "\n",
    "for text in test_strings:\n",
    "    print(phone_num_check(text))\n",
    "    "
   ]
  },
  {
   "cell_type": "markdown",
   "metadata": {},
   "source": [
    "14. Data Science & Machine Learning Basics:  \n",
    "Create a numpy array and compute its mean."
   ]
  },
  {
   "cell_type": "code",
   "execution_count": 30,
   "metadata": {},
   "outputs": [
    {
     "name": "stdout",
     "output_type": "stream",
     "text": [
      "[59. 78. 31. 66. 26. 14. 39.  8. 81. 91.]\n",
      "49.3\n"
     ]
    }
   ],
   "source": [
    "import numpy as np\n",
    "import random\n",
    "\n",
    "arr = np.empty((1,0))\n",
    "\n",
    "for _ in range(10):\n",
    "    arr = np.append(arr, random.randint(1, 100))\n",
    "\n",
    "mean = np.mean(arr)\n",
    "print(arr)\n",
    "print(mean)"
   ]
  },
  {
   "cell_type": "code",
   "execution_count": null,
   "metadata": {
    "vscode": {
     "languageId": "plaintext"
    }
   },
   "outputs": [],
   "source": []
  }
 ],
 "metadata": {
  "kernelspec": {
   "display_name": "Python [conda env:base] *",
   "language": "python",
   "name": "conda-base-py"
  },
  "language_info": {
   "codemirror_mode": {
    "name": "ipython",
    "version": 3
   },
   "file_extension": ".py",
   "mimetype": "text/x-python",
   "name": "python",
   "nbconvert_exporter": "python",
   "pygments_lexer": "ipython3",
   "version": "3.12.7"
  }
 },
 "nbformat": 4,
 "nbformat_minor": 4
}
