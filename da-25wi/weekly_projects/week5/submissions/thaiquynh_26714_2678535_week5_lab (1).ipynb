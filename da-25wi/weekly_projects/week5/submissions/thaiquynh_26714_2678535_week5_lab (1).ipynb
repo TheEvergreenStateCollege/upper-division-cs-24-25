{
 "cells": [
  {
   "cell_type": "markdown",
   "metadata": {},
   "source": [
    "# Lab 5:  Python Review!\n",
    "\n",
    "Thus far we have mostly worked through code written by *other* people.  Ultimately, the goal is for each of you to be able to produce your own Python code with fluency and elegance.  The purpose of this week's lab is to check your own understanding.\n",
    "\n",
    "This notebook asks you to complete a simple exercise for each of the core Python concepts in our Python concepts list.  If you're fluent in Python, you should be able to crank through this very quickly.  If you're still struggling, it's worth taking the time to play with things.  \n",
    "\n",
    "You can work on this task either by yourself, or with one or two partners.  Please do *not* have a groupsize larger than 3, however.  Submission instructions are on Canvas.\n"
   ]
  },
  {
   "cell_type": "markdown",
   "metadata": {
    "vscode": {
     "languageId": "plaintext"
    }
   },
   "source": [
    "1. Basic Syntax and Data Types:  \n",
    "Write a program that takes user input for their name and age, then prints a message."
   ]
  },
  {
   "cell_type": "code",
   "execution_count": 4,
   "metadata": {},
   "outputs": [
    {
     "name": "stdin",
     "output_type": "stream",
     "text": [
      " Quynh\n"
     ]
    },
    {
     "name": "stdout",
     "output_type": "stream",
     "text": [
      "Hello Quynh\n"
     ]
    }
   ],
   "source": [
    "x = input()\n",
    "print('Hello ' + x)"
   ]
  },
  {
   "cell_type": "markdown",
   "metadata": {},
   "source": [
    "2. Control Flow:  \n",
    "Write a program that checks if a number is positive, negative, or zero."
   ]
  },
  {
   "cell_type": "code",
   "execution_count": 29,
   "metadata": {},
   "outputs": [
    {
     "name": "stdin",
     "output_type": "stream",
     "text": [
      " 0\n"
     ]
    },
    {
     "name": "stdout",
     "output_type": "stream",
     "text": [
      "zero\n"
     ]
    }
   ],
   "source": [
    "num = float(input())\n",
    "if num > 0:\n",
    "    print('positive')\n",
    "elif num < 0:\n",
    "    print('negative')\n",
    "else:\n",
    "    print('zero')"
   ]
  },
  {
   "cell_type": "markdown",
   "metadata": {
    "vscode": {
     "languageId": "plaintext"
    }
   },
   "source": [
    "3. Functions:  \n",
    "Write a function to calculate the area of a rectangle."
   ]
  },
  {
   "cell_type": "code",
   "execution_count": 24,
   "metadata": {},
   "outputs": [
    {
     "name": "stdin",
     "output_type": "stream",
     "text": [
      " 3\n",
      " 5\n"
     ]
    },
    {
     "name": "stdout",
     "output_type": "stream",
     "text": [
      "15.0\n"
     ]
    }
   ],
   "source": [
    "l = float(input())\n",
    "w = float(input())\n",
    "area = l * w\n",
    "print(area)"
   ]
  },
  {
   "cell_type": "markdown",
   "metadata": {},
   "source": [
    "4. Data Structures:  \n",
    "Create a dictionary to store student names and scores, then print students who scored above 80."
   ]
  },
  {
   "cell_type": "code",
   "execution_count": 37,
   "metadata": {},
   "outputs": [
    {
     "name": "stdout",
     "output_type": "stream",
     "text": [
      "{'name': 'Quynh', 'score': 100}\n",
      "{'name': 'Carlos', 'score': 85}\n"
     ]
    }
   ],
   "source": [
    "student = {\"student1\" : {\"name\" : \"Quynh\",\n",
    "                         \"score\" : 100},\n",
    "           \"student2\": {\"name\" : \"Carlos\",\n",
    "                        \"score\" : 85},\n",
    "           \"student3\": {\"name\" : \"Ann\",\n",
    "                        \"score\" : 70}\n",
    "          }\n",
    "if int(student[\"student1\"][\"score\"]) > 80:\n",
    "    print(student[\"student1\"])\n",
    "if int(student[\"student2\"][\"score\"]) > 80:\n",
    "    print(student[\"student2\"])\n",
    "if int(student[\"student3\"][\"score\"]) > 80:\n",
    "    print(student[\"student3\"])"
   ]
  },
  {
   "cell_type": "markdown",
   "metadata": {
    "vscode": {
     "languageId": "plaintext"
    }
   },
   "source": [
    "5. File Handling:  \n",
    "Write a program that writes a list of names to a file and then reads it back."
   ]
  },
  {
   "cell_type": "code",
   "execution_count": 39,
   "metadata": {},
   "outputs": [
    {
     "name": "stdout",
     "output_type": "stream",
     "text": [
      "Names read from file:\n",
      "Quynh\n",
      "Ann\n",
      "Charlie\n",
      "Mei\n"
     ]
    }
   ],
   "source": [
    "names = [\"Quynh\", \"Ann\", \"Charlie\", \"Mei\"]\n",
    "\n",
    "# Write the names to a file\n",
    "with open(\"names.txt\", \"w\") as file:\n",
    "    for name in names:\n",
    "        file.write(name + \"\\n\")\n",
    "\n",
    "# Read the names back\n",
    "with open(\"names.txt\", \"r\") as file:\n",
    "    read_names = file.readlines()\n",
    "\n",
    "read_names = [name.strip() for name in read_names]\n",
    "print(\"Names read from file:\")\n",
    "for name in read_names:\n",
    "    print(name)\n"
   ]
  },
  {
   "cell_type": "markdown",
   "metadata": {},
   "source": [
    "6. Object-Oriented Programming (OOP):  \n",
    "Create a Car class with attributes brand and year, and a method to display them."
   ]
  },
  {
   "cell_type": "code",
   "execution_count": 43,
   "metadata": {},
   "outputs": [
    {
     "name": "stdout",
     "output_type": "stream",
     "text": [
      "Brand: Toyota\n",
      "Year: 2020\n"
     ]
    }
   ],
   "source": [
    "class Car:\n",
    "    def __init__(self, brand, year):\n",
    "        self.brand = brand\n",
    "        self.year = year\n",
    "\n",
    "    # Method ro display the car's info\n",
    "    def display_car(self):\n",
    "        print(f\"Brand: {self.brand}\")\n",
    "        print(f\"Year: {self.year}\")\n",
    "\n",
    "my_car = Car(\"Toyota\", 2020)\n",
    "my_car.display_car()\n"
   ]
  },
  {
   "cell_type": "markdown",
   "metadata": {
    "vscode": {
     "languageId": "plaintext"
    }
   },
   "source": [
    "7. Exception Handling:\n",
    "Handle division by zero using try-except."
   ]
  },
  {
   "cell_type": "code",
   "execution_count": 49,
   "metadata": {},
   "outputs": [
    {
     "name": "stdin",
     "output_type": "stream",
     "text": [
      " 1\n",
      " 0\n"
     ]
    },
    {
     "name": "stdout",
     "output_type": "stream",
     "text": [
      "Error: Cannot divide by zero!\n"
     ]
    }
   ],
   "source": [
    "def divide_numbers(num1, num2):\n",
    "    try:\n",
    "        result = num1 / num2\n",
    "    except ZeroDivisionError:\n",
    "        print(\"Error: Cannot divide by zero!\")\n",
    "        return None\n",
    "    else:\n",
    "        return result\n",
    "\n",
    "num1 = int(input())\n",
    "num2 = int(input())\n",
    "\n",
    "result = divide_numbers(num1, num2)\n",
    "\n",
    "if result is not None:\n",
    "    print(f\"Result: {result}\")\n"
   ]
  },
  {
   "cell_type": "markdown",
   "metadata": {
    "vscode": {
     "languageId": "plaintext"
    }
   },
   "source": [
    "8. Modules and Packages:  \n",
    "Import and use the math module to calculate the square root of a number."
   ]
  },
  {
   "cell_type": "code",
   "execution_count": 53,
   "metadata": {},
   "outputs": [
    {
     "name": "stdin",
     "output_type": "stream",
     "text": [
      " 4\n"
     ]
    },
    {
     "name": "stdout",
     "output_type": "stream",
     "text": [
      "The square root of 4 is 2.0\n"
     ]
    }
   ],
   "source": [
    "import math\n",
    "\n",
    "def square_root(number):\n",
    "    if number < 0:\n",
    "        return \"Error: Cannot calculate the square root of a negative number.\"\n",
    "    else:\n",
    "        return math.sqrt(number)\n",
    "\n",
    "number = int(input())\n",
    "result = square_root(number)\n",
    "\n",
    "print(f\"The square root of {number} is {result}\")\n"
   ]
  },
  {
   "cell_type": "markdown",
   "metadata": {},
   "source": [
    "9. Iterators and Generators:  \n",
    "Create a generator function that yields square numbers."
   ]
  },
  {
   "cell_type": "code",
   "execution_count": 59,
   "metadata": {},
   "outputs": [
    {
     "name": "stdin",
     "output_type": "stream",
     "text": [
      " 10\n"
     ]
    },
    {
     "name": "stdout",
     "output_type": "stream",
     "text": [
      "1\n",
      "4\n",
      "9\n",
      "16\n",
      "25\n",
      "36\n",
      "49\n",
      "64\n",
      "81\n",
      "100\n"
     ]
    }
   ],
   "source": [
    "def square_numbers(limit):\n",
    "    num = 1\n",
    "    while num <= limit:\n",
    "        yield num ** 2\n",
    "        num += 1\n",
    "\n",
    "limit = int(input())\n",
    "squares = square_numbers(limit)\n",
    "\n",
    "for square in squares:\n",
    "    print(square)\n"
   ]
  },
  {
   "cell_type": "markdown",
   "metadata": {},
   "source": [
    "10.  Functional Programming:  \n",
    "Use map() to square a list of numbers."
   ]
  },
  {
   "cell_type": "code",
   "execution_count": 57,
   "metadata": {},
   "outputs": [
    {
     "name": "stdout",
     "output_type": "stream",
     "text": [
      "[1, 4, 9, 16]\n"
     ]
    }
   ],
   "source": [
    "numbers = [1, 2, 3, 4]\n",
    "\n",
    "squared_nums = map(lambda x: x ** 2, numbers)\n",
    "\n",
    "squared_num_list = list(squared_nums)\n",
    "print(squared_num_list)\n"
   ]
  },
  {
   "cell_type": "markdown",
   "metadata": {
    "vscode": {
     "languageId": "plaintext"
    }
   },
   "source": [
    "11.  Decorators and Closures:  \n",
    "Create a decorator that prints \"Function executed!\" before running a function."
   ]
  },
  {
   "cell_type": "code",
   "execution_count": 63,
   "metadata": {},
   "outputs": [
    {
     "name": "stdout",
     "output_type": "stream",
     "text": [
      "Function executed!\n",
      "Hello, Quynh!\n"
     ]
    }
   ],
   "source": [
    "# Decorator\n",
    "def print_before_execution(func):\n",
    "    def wrapper(*args, **kwargs):\n",
    "        print(\"Function executed!\")\n",
    "        return func(*args, **kwargs)\n",
    "    return wrapper\n",
    "\n",
    "@print_before_execution\n",
    "def say_hello(name):\n",
    "    print(f\"Hello, {name}!\")\n",
    "    \n",
    "say_hello(\"Quynh\")\n"
   ]
  },
  {
   "cell_type": "markdown",
   "metadata": {
    "vscode": {
     "languageId": "plaintext"
    }
   },
   "source": [
    "12. Working with Libraries:  \n",
    "Use random to generate a random number between 1 and 10."
   ]
  },
  {
   "cell_type": "code",
   "execution_count": 65,
   "metadata": {},
   "outputs": [
    {
     "name": "stdout",
     "output_type": "stream",
     "text": [
      "4\n"
     ]
    }
   ],
   "source": [
    "import random\n",
    "\n",
    "random_num = random.randint(1, 10)\n",
    "print(random_num)\n"
   ]
  },
  {
   "cell_type": "markdown",
   "metadata": {},
   "source": [
    "13. Regular Expressions:  \n",
    "Use regex to check if a string contains a phone number format (123-456-7890)."
   ]
  },
  {
   "cell_type": "code",
   "execution_count": 75,
   "metadata": {},
   "outputs": [
    {
     "name": "stdout",
     "output_type": "stream",
     "text": [
      "Phone number found!\n"
     ]
    }
   ],
   "source": [
    "import re\n",
    "\n",
    "def phone_number(text):\n",
    "    phone_pattern = r\"\\b\\d{3}-\\d{3}-\\d{4}\\b\"\n",
    "\n",
    "    if re.search(phone_pattern, string):\n",
    "        return True\n",
    "    else:\n",
    "        return False\n",
    "\n",
    "string = \"Call 123-456-7890 for more info.\"\n",
    "if phone_number(text):\n",
    "    print(\"Phone number found!\")\n",
    "else:\n",
    "    print(\"No phone number found!\")\n"
   ]
  },
  {
   "cell_type": "markdown",
   "metadata": {},
   "source": [
    "14. Data Science & Machine Learning Basics:  \n",
    "Create a numpy array and compute its mean."
   ]
  },
  {
   "cell_type": "code",
   "execution_count": 77,
   "metadata": {},
   "outputs": [
    {
     "name": "stdout",
     "output_type": "stream",
     "text": [
      "The mean is: 2.5\n"
     ]
    }
   ],
   "source": [
    "import numpy as np\n",
    "\n",
    "arr = np.array([1, 2, 3, 4])\n",
    "\n",
    "mean_val = np.mean(arr)\n",
    "\n",
    "print(f\"The mean is: {mean_val}\")\n"
   ]
  },
  {
   "cell_type": "code",
   "execution_count": null,
   "metadata": {
    "vscode": {
     "languageId": "plaintext"
    }
   },
   "outputs": [],
   "source": []
  }
 ],
 "metadata": {
  "kernelspec": {
   "display_name": "Python 3 (ipykernel)",
   "language": "python",
   "name": "python3"
  },
  "language_info": {
   "codemirror_mode": {
    "name": "ipython",
    "version": 3
   },
   "file_extension": ".py",
   "mimetype": "text/x-python",
   "name": "python",
   "nbconvert_exporter": "python",
   "pygments_lexer": "ipython3",
   "version": "3.12.7"
  }
 },
 "nbformat": 4,
 "nbformat_minor": 4
}
