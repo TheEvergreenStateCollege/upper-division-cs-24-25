{
 "cells": [
  {
   "cell_type": "markdown",
   "metadata": {},
   "source": [
    "Lab 5: Python Review!\n",
    "Thus far we have mostly worked through code written by other people. Ultimately, the goal is for each of you to be able to produce your own Python code with fluency and elegance. The purpose of this week's lab is to check your own understanding.\n",
    "\n",
    "This notebook asks you to complete a simple exercise for each of the core Python concepts in our Python concepts list. If you're fluent in Python, you should be able to crank through this very quickly. If you're still struggling, it's worth taking the time to play with things.\n",
    "\n",
    "You can work on this task either by yourself, or with one or two partners. Please do not have a groupsize larger than 3, however. Submission instructions are on Canvas.\n"
   ]
  },
  {
   "cell_type": "markdown",
   "metadata": {},
   "source": [
    "1) Basic Syntax and Data Types:\n",
    "Write a program that takes user input for their name and age, then prints a message."
   ]
  },
  {
   "cell_type": "code",
   "execution_count": null,
   "metadata": {},
   "outputs": [],
   "source": [
    "name = input(\"Type your name: \")\n",
    "age = int(input(\"Type your age: \"))\n",
    "\n",
    "print(f\"Nice to meet you, {name}, you've told me you are {age} years old\")"
   ]
  },
  {
   "cell_type": "markdown",
   "metadata": {},
   "source": [
    "2) Control Flow:\n",
    "Write a program that checks if a number is positive, negative, or zero."
   ]
  },
  {
   "cell_type": "code",
   "execution_count": null,
   "metadata": {},
   "outputs": [],
   "source": [
    "def number_check(num):\n",
    "    if num > 0:\n",
    "        print(\"Number is positive\")\n",
    "    elif num < 0:\n",
    "        print(\"Number is negative\")\n",
    "    else:\n",
    "        print(\"Number is zero\")\n",
    "\n",
    "number = float(input(\"Give a number: \"))\n",
    "number_check(number)"
   ]
  },
  {
   "cell_type": "markdown",
   "metadata": {},
   "source": [
    "3) Functions:\n",
    "Write a function to calculate the area of a rectangle."
   ]
  },
  {
   "cell_type": "code",
   "execution_count": null,
   "metadata": {},
   "outputs": [],
   "source": [
    "def calc_rectangle_area(length, width):\n",
    "    area = length * width\n",
    "    return area\n",
    "\n",
    "\n",
    "\n",
    "\n",
    "length = 10\n",
    "width = 15\n",
    "area = calc_rectangle_area(length, width)\n",
    "print(\"Area of your rectangle is: {area}\")\n",
    "                           "
   ]
  },
  {
   "cell_type": "markdown",
   "metadata": {},
   "source": [
    "4) Data Structures:\n",
    "Create a dictionary to store student names and scores, then print students who scored above 80."
   ]
  },
  {
   "cell_type": "code",
   "execution_count": null,
   "metadata": {},
   "outputs": [],
   "source": [
    "\n",
    "students = {\n",
    "    \"Heath\": 83,\n",
    "    \"Beau\": 79,\n",
    "    \"Kimberlee\": 99,\n",
    "    \"Jerry\": 71,\n",
    "    \"Carol\": 90,\n",
    "    \"Andrea\": 80\n",
    "}\n",
    "\n",
    "\n",
    "print(\"These are the students that had a score above 80:\")\n",
    "for student, score in students.items():\n",
    "    if score > 80:\n",
    "        print(f\"{student}: {score}\")"
   ]
  },
  {
   "cell_type": "markdown",
   "metadata": {},
   "source": [
    "5) File Handling:\n",
    "Write a program that writes a list of names to a file and then reads it back."
   ]
  },
  {
   "cell_type": "code",
   "execution_count": null,
   "metadata": {},
   "outputs": [],
   "source": [
    "\n",
    "names = [\"Heath\", \"Beau\", \"Chance\", \"Kim\", \"Jerry\"]\n",
    "\n",
    "\n",
    "with open(\"names.txt\", \"w\") as file:\n",
    "    \n",
    "    for name in names:\n",
    "        file.write(name + \"\\n\")\n",
    "\n",
    "print(\"Your names have now been written to a file.\")\n",
    "\n",
    "\n",
    "print(\"\\ncurrently reading the names from the file:\")\n",
    "with open(\"names.txt\", \"r\") as file:\n",
    "   \n",
    "    names_from_file = file.readlines()\n",
    "    \n",
    "  \n",
    "    for name in names_from_file:\n",
    "        print(name.strip())"
   ]
  },
  {
   "cell_type": "markdown",
   "metadata": {},
   "source": [
    "6) Object-Oriented Programming (OOP):\n",
    "Create a Car class with attributes brand and year, and a method to display them."
   ]
  },
  {
   "cell_type": "code",
   "execution_count": null,
   "metadata": {},
   "outputs": [],
   "source": [
    "class Car:\n",
    "    def __init__(self, brand, year):\n",
    "        self.brand = brand\n",
    "        self.year = year\n",
    "    \n",
    "    def show_info(self):\n",
    "        print(f\"brand: {self.brand}\")\n",
    "        print(f\"year: {self.year}\")\n",
    "\n",
    "\n",
    "my_car = Car(\"Nissan\", 2012)\n",
    "my_car.show_info()"
   ]
  },
  {
   "cell_type": "markdown",
   "metadata": {},
   "source": [
    "7) Exception Handling: Handle division by zero using try-except"
   ]
  },
  {
   "cell_type": "code",
   "execution_count": null,
   "metadata": {},
   "outputs": [],
   "source": [
    "def divide_nums(numerator, denominator):\n",
    "    try:\n",
    "        result = numerator / denominator\n",
    "        return result\n",
    "    except ZeroDivisionError:\n",
    "        return \"error: can't divide by 0\"\n",
    "\n",
    "print(divide_nums(578, 5)) \n",
    "print(divide_nums(999, 0))  "
   ]
  },
  {
   "cell_type": "markdown",
   "metadata": {},
   "source": [
    "8) Modules and Packages:\n",
    "Import and use the math module to calculate the square root of a number."
   ]
  },
  {
   "cell_type": "code",
   "execution_count": null,
   "metadata": {},
   "outputs": [],
   "source": [
    "import math\n",
    "\n",
    "number = 16\n",
    "square_root = math.sqrt(number)\n",
    "print(f\"sqaure root of {number} is {square_root}\")  "
   ]
  },
  {
   "cell_type": "markdown",
   "metadata": {},
   "source": [
    "9) Iterators and Generators:\n",
    "Create a generator function that yields square numbers."
   ]
  },
  {
   "cell_type": "code",
   "execution_count": null,
   "metadata": {},
   "outputs": [],
   "source": [
    "def square_generate():\n",
    "    n = 1\n",
    "    while True:\n",
    "        yield n * n\n",
    "        n += 1\n",
    "\n"
   ]
  },
  {
   "cell_type": "markdown",
   "metadata": {},
   "source": [
    "10) Functional Programming:\n",
    "Use map() to square a list of numbers."
   ]
  },
  {
   "cell_type": "code",
   "execution_count": null,
   "metadata": {},
   "outputs": [],
   "source": [
    "def square(x):\n",
    "    return x**2\n",
    "\n",
    "numbers = [10, 11, 12, 13, 14]\n",
    "squared = list(map(square, numbers))"
   ]
  },
  {
   "cell_type": "markdown",
   "metadata": {},
   "source": [
    "11) Create a decorator that prints \"Function executed!\" before running a function."
   ]
  },
  {
   "cell_type": "code",
   "execution_count": null,
   "metadata": {},
   "outputs": [],
   "source": [
    "def print_execute(func):\n",
    "    def wrapper(*args, **kwargs):\n",
    "        print(\"Function executed!\")\n",
    "        return func(*args, **kwargs)\n",
    "    return wrapper"
   ]
  },
  {
   "cell_type": "markdown",
   "metadata": {},
   "source": [
    "12) Working with Libraries:\n",
    "Use random to generate a random number between 1 and 10."
   ]
  },
  {
   "cell_type": "code",
   "execution_count": 1,
   "metadata": {},
   "outputs": [],
   "source": [
    "import random\n",
    "random_number = random.randint(1, 10)"
   ]
  },
  {
   "cell_type": "markdown",
   "metadata": {},
   "source": [
    "13) Regular Expressions:\n",
    "Use regex to check if a string contains a phone number format (123-456-7890)."
   ]
  },
  {
   "cell_type": "code",
   "execution_count": null,
   "metadata": {},
   "outputs": [],
   "source": [
    "import re\n",
    "\n",
    "def check_ifphone_number(text):\n",
    "   \n",
    "    pattern = r'\\b\\d{3}-\\d{3}-\\d{4}\\b'\n",
    "    \n",
    "   \n",
    "    match = re.search(pattern, text)\n",
    "    \n",
    "    return bool(match)"
   ]
  },
  {
   "cell_type": "markdown",
   "metadata": {},
   "source": [
    "14) Data Science & Machine Learning Basics:\n",
    "Create a numpy array and compute its mean."
   ]
  },
  {
   "cell_type": "code",
   "execution_count": null,
   "metadata": {},
   "outputs": [],
   "source": [
    "import numpy as np\n",
    "\n",
    "\n",
    "array = np.array([5, 6, 7, 8, 9])\n",
    "\n",
    "\n",
    "mean_number = np.mean(array)\n",
    "\n",
    "print(f\"the array is: {array}\")\n",
    "print(f\"the mean is: {mean_number}\")"
   ]
  }
 ],
 "metadata": {
  "kernelspec": {
   "display_name": "base",
   "language": "python",
   "name": "python3"
  },
  "language_info": {
   "codemirror_mode": {
    "name": "ipython",
    "version": 3
   },
   "file_extension": ".py",
   "mimetype": "text/x-python",
   "name": "python",
   "nbconvert_exporter": "python",
   "pygments_lexer": "ipython3",
   "version": "3.12.7"
  }
 },
 "nbformat": 4,
 "nbformat_minor": 2
}
