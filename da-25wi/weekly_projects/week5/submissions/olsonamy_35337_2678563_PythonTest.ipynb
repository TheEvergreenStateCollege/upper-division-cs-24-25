{
  "nbformat": 4,
  "nbformat_minor": 0,
  "metadata": {
    "colab": {
      "provenance": []
    },
    "kernelspec": {
      "name": "python3",
      "display_name": "Python 3"
    },
    "language_info": {
      "name": "python"
    }
  },
  "cells": [
    {
      "cell_type": "code",
      "execution_count": null,
      "metadata": {
        "colab": {
          "base_uri": "https://localhost:8080/"
        },
        "id": "tO0koBG9U0Ko",
        "outputId": "10413b7b-b748-4ac5-b58a-a48db50c68e2"
      },
      "outputs": [
        {
          "output_type": "stream",
          "name": "stdout",
          "text": [
            "Enter your name: Bob\n",
            "You entered:  Bob\n",
            "Enter your age:42\n",
            "You entered:  42\n"
          ]
        }
      ],
      "source": [
        "#Amy\n",
        "#takes user input of name and age prints msg\n",
        "name = input(\"Enter your name: \")\n",
        "print(\"You entered: \", name)\n",
        "\n",
        "age = input(\"Enter your age:\")\n",
        "print(\"You entered: \", age)"
      ]
    },
    {
      "cell_type": "code",
      "source": [
        "#DJ\n",
        "#Write a program that checks if a number is positive, negative, or zero.\n",
        "num = int(input(\"Enter a number: \"))\n",
        "if num > 0;\n",
        "    print(\"The number is positive\")\n",
        "elif num < 0:\n",
        "    print(\"The number is negative\")\n",
        "else:\n",
        "    print(\"The number is zero\")"
      ],
      "metadata": {
        "id": "2eVMGSFRXVwL"
      },
      "execution_count": null,
      "outputs": []
    },
    {
      "cell_type": "code",
      "source": [
        "#Amy\n",
        "#Write a rectngle\n",
        "def rectangy():\n",
        "\n",
        "  length = input(\"Enter the length of the rectangle: \")\n",
        "  width = input(\"Enter the width of the rectangle: \")\n",
        "\n",
        "  length = float(length)\n",
        "  width = float(width)\n",
        "\n",
        "  area = length * width\n",
        "  print(\"The area of the rectangle is: \", area)\n",
        "\n",
        "\n",
        "rectangy()"
      ],
      "metadata": {
        "id": "8mcyn8RlZWGi",
        "colab": {
          "base_uri": "https://localhost:8080/"
        },
        "outputId": "7ea0dcf4-b3f8-4bfc-8b05-e8e1545d9bc8"
      },
      "execution_count": null,
      "outputs": [
        {
          "output_type": "stream",
          "name": "stdout",
          "text": [
            "Enter the length of the rectangle: 5\n",
            "Enter the width of the rectangle: 5\n",
            "The area of the rectangle is:  25.0\n"
          ]
        }
      ]
    },
    {
      "cell_type": "code",
      "source": [
        "#DJ\n",
        "#Create a dictionary to store student names and scores, then print students who scored above 80.\n",
        "student_dict = {'jeff' : 95,\n",
        "                'Andersun' : 20,\n",
        "                'Dylun' : 79,\n",
        "                'unga' : 81,}\n",
        "for name, score in student_dict.items():\n",
        "    if score > 80:\n",
        "      print(name + ' didnt fail the assignment')\n",
        "    if score < 80:\n",
        "      print(name + \"<--- gettaload of this guy\")"
      ],
      "metadata": {
        "id": "D4xsBSKbdrS3",
        "colab": {
          "base_uri": "https://localhost:8080/"
        },
        "outputId": "3e2e86a2-1e72-4645-bc6e-27c54a4443f0"
      },
      "execution_count": null,
      "outputs": [
        {
          "output_type": "stream",
          "name": "stdout",
          "text": [
            "jeff didnt fail the assignment\n",
            "Andersun<--- gettaload of this guy\n",
            "Dylun<--- gettaload of this guy\n",
            "unga didnt fail the assignment\n"
          ]
        }
      ]
    },
    {
      "cell_type": "code",
      "source": [
        "#Amy\n",
        "#file handeling\n",
        "lines = ['Billy Bob\\n', 'Gang Green Gang\\n', 'Ooonga Boonga\\n']\n",
        "with open('shrek.txt', 'w') as file:\n",
        "  file.writelines(lines)\n",
        "\n",
        "file = open('shrek.txt', 'r')\n",
        "print(file.read())\n",
        "file.close()"
      ],
      "metadata": {
        "colab": {
          "base_uri": "https://localhost:8080/"
        },
        "id": "auQaq9x3Z9eq",
        "outputId": "fd4c2634-dbb4-43ca-b541-dd8ebcd74d28"
      },
      "execution_count": null,
      "outputs": [
        {
          "output_type": "stream",
          "name": "stdout",
          "text": [
            "Billy Bob\n",
            "Gang Green Gang\n",
            "Ooonga Boonga\n",
            "\n"
          ]
        }
      ]
    },
    {
      "cell_type": "code",
      "source": [
        "#DJ\n",
        "#Object-Oriented Programming\n",
        "class Car:\n",
        "    def __init__(self, brand, year):\n",
        "        self.brand = brand\n",
        "        self.year = year\n",
        "\n",
        "    def CarCaller3000(self):\n",
        "        print(\"hocus pocus your car is now the focus\")\n",
        "        print(self.brand)\n",
        "        print(self.year)\n",
        "\n",
        "\n",
        "my_car = Car(\"Toyota\", 2017) #hey thats my car\n",
        "my_car.CarCaller3000()"
      ],
      "metadata": {
        "id": "ld9l5plLTRfh"
      },
      "execution_count": null,
      "outputs": []
    },
    {
      "cell_type": "code",
      "source": [
        "#Amy\n",
        "#zero div\n",
        "try:\n",
        "  x = int(input(\"TYPE ZERO HERE: \"))\n",
        "  y = 10 / x\n",
        "  print(y)\n",
        "\n",
        "except ZeroDivisionError:\n",
        "  print(\"NO!!!!!!!\")\n",
        "\n"
      ],
      "metadata": {
        "colab": {
          "base_uri": "https://localhost:8080/"
        },
        "id": "IUtgr1CIvuDl",
        "outputId": "509bfeb9-d658-40f4-f97c-b158de5e6572"
      },
      "execution_count": null,
      "outputs": [
        {
          "output_type": "stream",
          "name": "stdout",
          "text": [
            "TYPE ZERO HERE: 0\n",
            "NO!!!!!!!\n"
          ]
        }
      ]
    },
    {
      "cell_type": "code",
      "source": [
        "#DJ\n",
        "#Modules and Packages\n",
        "import math\n",
        "import random\n",
        "\n",
        "magicnumber = random.randint(1, 20000)\n",
        "\n",
        "sqrtmn = math.sqrt(magicnumber)\n",
        "\n",
        "print(\"In the grim darkness of the far future there is only squareroots:\", magicnumber, sqrtmn)"
      ],
      "metadata": {
        "colab": {
          "base_uri": "https://localhost:8080/"
        },
        "id": "IspwFSF5Z5XK",
        "outputId": "8b484a15-7a4d-475e-a880-e1dbc9a331da"
      },
      "execution_count": null,
      "outputs": [
        {
          "output_type": "stream",
          "name": "stdout",
          "text": [
            "In the grim darkness of the far future there is only squareroots: 12447 111.56612389072231\n"
          ]
        }
      ]
    },
    {
      "cell_type": "code",
      "source": [
        "#Amy\n",
        "def square():\n",
        "    num_list = []\n",
        "\n",
        "    n = int(input(\"How big of a list do you want: \"))\n",
        "\n",
        "    for i in range(n):\n",
        "        element = int(input(\"Enter a number: \"))\n",
        "        num_list.append(element)\n",
        "\n",
        "    print(\"List before squaring:\", num_list)\n",
        "\n",
        "    final_list = [num ** 2 for num in num_list]\n",
        "\n",
        "    print(\"List after squaring:\", final_list)\n",
        "\n",
        "square()\n"
      ],
      "metadata": {
        "colab": {
          "base_uri": "https://localhost:8080/"
        },
        "id": "FKtCu3-91Tgw",
        "outputId": "00d36308-84e6-4ed1-e8e8-6919c81b99f9"
      },
      "execution_count": null,
      "outputs": [
        {
          "output_type": "stream",
          "name": "stdout",
          "text": [
            "How big of a list do you want: 2\n",
            "Enter a number: 3\n",
            "Enter a number: 5\n",
            "List before squaring: [3, 5]\n",
            "List after squaring: [9, 25]\n"
          ]
        }
      ]
    },
    {
      "cell_type": "code",
      "source": [
        "#DJ\n",
        "#Functional Formatting\n",
        "numbers = [2, 3, 4, 5, 13]\n",
        "squared_numbers = list(map(lambda x: x**2, numbers))\n",
        "print(squared_numbers)\n"
      ],
      "metadata": {
        "colab": {
          "base_uri": "https://localhost:8080/"
        },
        "id": "IfNk3LKscs4A",
        "outputId": "7e955e8f-c19b-427b-8f2f-6db21584f04e"
      },
      "execution_count": null,
      "outputs": [
        {
          "output_type": "stream",
          "name": "stdout",
          "text": [
            "[4, 9, 16, 25, 169]\n"
          ]
        }
      ]
    },
    {
      "cell_type": "code",
      "source": [
        "#DJ\n",
        "#Decorators and Closures\n",
        "def annnounce_thine_EXECUTION(func):\n",
        "      def wrapper(*args, **kwargs):\n",
        "        print(\"Function executed!\")\n",
        "        return func(*args, **kwargs)\n",
        "      return wrapper\n",
        "def Executonee(name):\n",
        "    print(f\"Hello, {name}! Goodbye!\")\n",
        "\n",
        "Executonee(\"me\")"
      ],
      "metadata": {
        "colab": {
          "base_uri": "https://localhost:8080/"
        },
        "id": "sqlsvPWiffmf",
        "outputId": "e841b6e0-dc7d-4234-c7c7-353d1c8754c9"
      },
      "execution_count": null,
      "outputs": [
        {
          "output_type": "stream",
          "name": "stdout",
          "text": [
            "Hello, me! Goodbye!\n"
          ]
        }
      ]
    },
    {
      "cell_type": "code",
      "source": [
        "#Amy\n",
        "#random number\n",
        "\n",
        "import random\n",
        "num = random.randint(1, 10)\n",
        "print(num)"
      ],
      "metadata": {
        "colab": {
          "base_uri": "https://localhost:8080/"
        },
        "id": "pJyW4Zyw1soU",
        "outputId": "aea5be88-f29b-44ba-8c7e-62d1299bed39"
      },
      "execution_count": null,
      "outputs": [
        {
          "output_type": "stream",
          "name": "stdout",
          "text": [
            "1\n"
          ]
        }
      ]
    },
    {
      "cell_type": "code",
      "source": [
        "#Amy\n",
        "#Phone number format\n",
        "\n",
        "import re\n",
        "\n",
        "phone_number = input(\"Enter your phone number: \")\n",
        "\n",
        "x = re.search(\"^...-...-....$\", phone_number)\n",
        "\n",
        "if x:\n",
        "  print(\"Prepare for spam you imbecile!\", x.group())\n",
        "else:\n",
        "  print(\"Why did you give me a fake number.\")"
      ],
      "metadata": {
        "colab": {
          "base_uri": "https://localhost:8080/"
        },
        "id": "qsxhAr3y2IwJ",
        "outputId": "fe8e9301-61e4-4193-aa9f-6bf3bf8534b0"
      },
      "execution_count": null,
      "outputs": [
        {
          "output_type": "stream",
          "name": "stdout",
          "text": [
            "Enter your phone number: 555678-6667\n",
            "Why did you give me a fake number.\n"
          ]
        }
      ]
    },
    {
      "cell_type": "code",
      "source": [
        "#DJ\n",
        "#Data Science & Machine Learning Basics:\n",
        "import numpy as np\n",
        "array = np.array([3, 13, 23, 33, 43, 53, 63, 73])\n",
        "mean = np.mean(array)\n",
        "print(mean)"
      ],
      "metadata": {
        "colab": {
          "base_uri": "https://localhost:8080/"
        },
        "id": "xPuH1ilshRwD",
        "outputId": "dfcdbc82-0d85-4b68-f656-dcd38625a8c1"
      },
      "execution_count": null,
      "outputs": [
        {
          "output_type": "stream",
          "name": "stdout",
          "text": [
            "38.0\n"
          ]
        }
      ]
    },
    {
      "cell_type": "markdown",
      "source": [
        "EXTRA"
      ],
      "metadata": {
        "id": "FEPhGng3h2TV"
      }
    },
    {
      "cell_type": "markdown",
      "source": [
        "1. Data Cleaning: Handling Missing Values\n",
        "Exercise: You are given a dataset with missing values. Write a program to:\n",
        "\n",
        "Drop rows where more than one column has a missing value. Fill remaining missing values with the mean of their respective columns."
      ],
      "metadata": {
        "id": "yu0n8b8Gh52r"
      }
    },
    {
      "cell_type": "code",
      "source": [
        "#DJ\n",
        "import pandas as pd\n",
        "import numpy as np\n",
        "\n",
        "# Sample DataFrame\n",
        "data = {\n",
        "    \"Employee\": [\"Alice\", \"Bob\", \"Charlie\", \"David\", \"Emma\"],\n",
        "    \"Age\": [25, 40, np.nan, 28, 22],\n",
        "    \"Salary\": [45000, np.nan, 48000, 72000, np.nan] # modify the data sets to remove some values\n",
        "}\n",
        "\n",
        "df = pd.DataFrame(data)\n",
        "\n",
        "# Implement your solution\n",
        "df.dropna(thresh=2, inplace=True)\n",
        "df.fillna(df.select_dtypes(include=[np.number]).mean(), inplace=True) # tricky thing here. It wouldnt allow me to modify non numerical values so you have to specify when filling\n",
        "\n",
        "print(df)\n"
      ],
      "metadata": {
        "colab": {
          "base_uri": "https://localhost:8080/"
        },
        "id": "L_-dyqM-h7EF",
        "outputId": "6d7e50cc-32db-4413-80cf-75f590989410"
      },
      "execution_count": null,
      "outputs": [
        {
          "output_type": "stream",
          "name": "stdout",
          "text": [
            "  Employee    Age   Salary\n",
            "0    Alice  25.00  45000.0\n",
            "1      Bob  40.00  55000.0\n",
            "2  Charlie  28.75  48000.0\n",
            "3    David  28.00  72000.0\n",
            "4     Emma  22.00  55000.0\n"
          ]
        }
      ]
    },
    {
      "cell_type": "markdown",
      "source": [
        "Exercise: Given a DataFrame of employees' salaries, filter and display:\n",
        "\n",
        "Employees who earn more than 50,000, under the age of 30 who earn more than 40,000."
      ],
      "metadata": {
        "id": "s_6y6945mbMQ"
      }
    },
    {
      "cell_type": "code",
      "source": [
        "#DJ\n",
        "import pandas as pd\n",
        "import numpy as np\n",
        "\n",
        "# Sample data\n",
        "data = {\n",
        "    \"Name\": [\"Alice\", \"Bob\", \"Charlie\", \"David\", \"Emma\"],\n",
        "    \"Age\": [25, np.nan, 30, 28, np.nan],\n",
        "    \"Salary\": [50000, 60000, np.nan, 70000, 80000]\n",
        "}\n",
        "\n",
        "df = pd.DataFrame(data)\n",
        "\n",
        "# Implement your solution\n",
        "df_filtered = df[(df[\"Salary\"] > 50000) | ((df[\"Age\"] < 30) & (df[\"Salary\"] > 40000))]\n",
        "\n",
        "print(df_filtered)\n"
      ],
      "metadata": {
        "colab": {
          "base_uri": "https://localhost:8080/"
        },
        "id": "VfkqDPuZmYD0",
        "outputId": "e2e42487-10bd-47ee-9262-69addecedaa8"
      },
      "execution_count": null,
      "outputs": [
        {
          "output_type": "stream",
          "name": "stdout",
          "text": [
            "    Name   Age   Salary\n",
            "0  Alice  25.0  50000.0\n",
            "1    Bob   NaN  60000.0\n",
            "3  David  28.0  70000.0\n",
            "4   Emma   NaN  80000.0\n"
          ]
        }
      ]
    },
    {
      "cell_type": "markdown",
      "source": [
        "Exercise: Given a DataFrame of sales transactions, calculate:\n",
        "\n",
        "The total sales (Price * Quantity) for each Category The average quantity sold per category."
      ],
      "metadata": {
        "id": "Zw9hFhHGorDV"
      }
    },
    {
      "cell_type": "code",
      "source": [
        "#DJ\n",
        "# Sample DataFrame\n",
        "data = {\n",
        "    \"Product\": [\"Laptop\", \"Mouse\", \"Keyboard\", \"Monitor\", \"Headphones\"],\n",
        "    \"Category\": [\"Electronics\", \"Accessories\", \"Accessories\", \"Electronics\", \"Accessories\"],\n",
        "    \"Price\": [1000, 50, 80, 300, 100],\n",
        "    \"Quantity\": [3, 10, 5, 2, 8]\n",
        "}\n",
        "\n",
        "df = pd.DataFrame(data)\n",
        "\n",
        "# Implement your solution\n",
        "df[\"Total Sales\"] = df[\"Price\"] * df[\"Quantity\"]\n",
        "total_sales_by_category = df.groupby(\"Category\")[\"Total Sales\"].sum()\n",
        "average_quantity_by_category = df.groupby(\"Category\")[\"Quantity\"].mean()\n",
        "\n",
        "print(total_sales_by_category)\n",
        "print(average_quantity_by_category)"
      ],
      "metadata": {
        "colab": {
          "base_uri": "https://localhost:8080/"
        },
        "id": "zt6_Eap3ouhU",
        "outputId": "004dd075-2ec9-410a-cd9a-3840d346eeff"
      },
      "execution_count": null,
      "outputs": [
        {
          "output_type": "stream",
          "name": "stdout",
          "text": [
            "Category\n",
            "Accessories    1700\n",
            "Electronics    3600\n",
            "Name: Total Sales, dtype: int64\n",
            "Category\n",
            "Accessories    7.666667\n",
            "Electronics    2.500000\n",
            "Name: Quantity, dtype: float64\n"
          ]
        }
      ]
    },
    {
      "cell_type": "markdown",
      "source": [
        "Exercise: You have two datasets: Employee Details and Employee Departments. Merge them into a single DataFrame on \"Employee_ID\", keeping all employees from the first dataset."
      ],
      "metadata": {
        "id": "MAS1_my8qocF"
      }
    },
    {
      "cell_type": "code",
      "source": [
        "#DJ\n",
        "import pandas as pd\n",
        "\n",
        "# Employee Details\n",
        "employees = pd.DataFrame({\n",
        "    \"Employee_ID\": [101, 102, 103, 104, 105],\n",
        "    \"Name\": [\"Alice\", \"Bob\", \"Charlie\", \"David\", \"Emma\"],\n",
        "    \"Salary\": [60000, 70000, 65000, 72000, 50000]\n",
        "})\n",
        "\n",
        "# Employee Departments\n",
        "departments = pd.DataFrame({\n",
        "    \"Employee_ID\": [101, 102, 104, 105],\n",
        "    \"Department\": [\"HR\", \"Finance\", \"IT\", \"Marketing\"]\n",
        "})\n",
        "\n",
        "# Implement your solution\n",
        "merged_dataset = pd.merge(employees, departments, on=\"Employee_ID\", how=\"left\")\n",
        "\n",
        "print(merged_dataset)"
      ],
      "metadata": {
        "colab": {
          "base_uri": "https://localhost:8080/"
        },
        "id": "UDUPez9XqvHy",
        "outputId": "c8e2ccff-6ebb-40ce-e7b4-8d27b810838b"
      },
      "execution_count": null,
      "outputs": [
        {
          "output_type": "stream",
          "name": "stdout",
          "text": [
            "   Employee_ID     Name  Salary Department\n",
            "0          101    Alice   60000         HR\n",
            "1          102      Bob   70000    Finance\n",
            "2          103  Charlie   65000        NaN\n",
            "3          104    David   72000         IT\n",
            "4          105     Emma   50000  Marketing\n"
          ]
        }
      ]
    },
    {
      "cell_type": "markdown",
      "source": [
        "Exercise: Given a sales DataFrame, create a pivot table to summarize:\n",
        "\n",
        "The total sales (Price * Quantity) per Region and Product."
      ],
      "metadata": {
        "id": "RoiDhM2HrzOU"
      }
    },
    {
      "cell_type": "code",
      "source": [
        "#DJ\n",
        "import pandas as pd\n",
        "\n",
        "# Sample DataFrame\n",
        "data = {\n",
        "    \"Region\": [\"North\", \"South\", \"North\", \"East\", \"West\", \"South\"],\n",
        "    \"Product\": [\"Laptop\", \"Mouse\", \"Laptop\", \"Keyboard\", \"Monitor\", \"Mouse\"],\n",
        "    \"Price\": [1000, 50, 1000, 80, 300, 50],\n",
        "    \"Quantity\": [2, 10, 1, 4, 3, 5]\n",
        "}\n",
        "\n",
        "df = pd.DataFrame(data)\n",
        "\n",
        "df['Total Sales'] = df['Price'] * df['Quantity']\n",
        "\n",
        "pivot_table = df.pivot_table(values='Total Sales', index='Region', columns='Product', aggfunc='sum', fill_value=0)\n",
        "\n",
        "print(pivot_table)"
      ],
      "metadata": {
        "colab": {
          "base_uri": "https://localhost:8080/"
        },
        "id": "FeGrdee2ry_Z",
        "outputId": "5c8856e1-9106-48b8-abf6-a9cf5285397f"
      },
      "execution_count": null,
      "outputs": [
        {
          "output_type": "stream",
          "name": "stdout",
          "text": [
            "Product  Keyboard  Laptop  Monitor  Mouse\n",
            "Region                                   \n",
            "East          320       0        0      0\n",
            "North           0    3000        0      0\n",
            "South           0       0        0    750\n",
            "West            0       0      900      0\n"
          ]
        }
      ]
    }
  ]
}