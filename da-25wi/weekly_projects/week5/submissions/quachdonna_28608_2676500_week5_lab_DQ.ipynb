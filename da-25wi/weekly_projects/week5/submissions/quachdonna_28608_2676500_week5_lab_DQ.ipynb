{
 "cells": [
  {
   "cell_type": "markdown",
   "metadata": {},
   "source": [
    "# Lab 5:  Python Review!\n",
    "\n",
    "Thus far we have mostly worked through code written by *other* people.  Ultimately, the goal is for each of you to be able to produce your own Python code with fluency and elegance.  The purpose of this week's lab is to check your own understanding.\n",
    "\n",
    "This notebook asks you to complete a simple exercise for each of the core Python concepts in our Python concepts list.  If you're fluent in Python, you should be able to crank through this very quickly.  If you're still struggling, it's worth taking the time to play with things.  \n",
    "\n",
    "You can work on this task either by yourself, or with one or two partners.  Please do *not* have a groupsize larger than 3, however.  Submission instructions are on Canvas.\n"
   ]
  },
  {
   "cell_type": "markdown",
   "metadata": {},
   "source": [
    "# Donna Quach\n",
    "\n",
    "Advanced Computing and Machine Learning \n",
    "\n",
    "Data Analysis Thread\n"
   ]
  },
  {
   "cell_type": "markdown",
   "metadata": {
    "vscode": {
     "languageId": "plaintext"
    }
   },
   "source": [
    "1. Basic Syntax and Data Types:  \n",
    "Write a program that takes user input for their name and age, then prints a message."
   ]
  },
  {
   "cell_type": "code",
   "execution_count": null,
   "metadata": {
    "scrolled": true
   },
   "outputs": [],
   "source": [
    "name = input(\"Please enter name:\")\n",
    "age = input(\"Please enter age:\")\n",
    "print(\"Name is: \" + name + \"; \" + \"Age is: \" + age)"
   ]
  },
  {
   "cell_type": "markdown",
   "metadata": {},
   "source": [
    "2. Control Flow:  \n",
    "Write a program that checks if a number is positive, negative, or zero."
   ]
  },
  {
   "cell_type": "code",
   "execution_count": null,
   "metadata": {},
   "outputs": [],
   "source": [
    "number = int(input(\"Please enter a number:\"))\n",
    "if number == 0:\n",
    "    print(\"A number is zero.\")\n",
    "elif number > 0:\n",
    "    print(\"A number is positive.\")\n",
    "else:\n",
    "    print(\"A number is negative.\")"
   ]
  },
  {
   "cell_type": "markdown",
   "metadata": {
    "vscode": {
     "languageId": "plaintext"
    }
   },
   "source": [
    "3. Functions:  \n",
    "Write a function to calculate the area of a rectangle."
   ]
  },
  {
   "cell_type": "code",
   "execution_count": null,
   "metadata": {},
   "outputs": [],
   "source": [
    "length = int(input(\"Please enter a number for length:\"))\n",
    "width = int(input(\"Please enter a number for width:\"))\n",
    "area = length * width\n",
    "print(\"Area of a rectangle that is \" + str(length) + \" by \" + str(width) + \" is \" + str(area))"
   ]
  },
  {
   "cell_type": "markdown",
   "metadata": {},
   "source": [
    "4. Data Structures:  \n",
    "Create a dictionary to store student names and scores, then print students who scored above 80."
   ]
  },
  {
   "cell_type": "code",
   "execution_count": null,
   "metadata": {
    "scrolled": true
   },
   "outputs": [],
   "source": [
    "studentdictionary = {\n",
    "    \"John\" : 88,\n",
    "    \"Jane\" : 77, \n",
    "    \"Mary\" : 50,\n",
    "    \"Allen\" : 90 \n",
    "}\n",
    "\n",
    "for student in studentdictionary: \n",
    "    if(studentdictionary[student] > 80):\n",
    "        print(student)"
   ]
  },
  {
   "cell_type": "markdown",
   "metadata": {
    "vscode": {
     "languageId": "plaintext"
    }
   },
   "source": [
    "5. File Handling:  \n",
    "Write a program that writes a list of names to a file and then reads it back."
   ]
  },
  {
   "cell_type": "code",
   "execution_count": null,
   "metadata": {},
   "outputs": [],
   "source": [
    "file = open(\"filehandling_test.txt\", \"a\") # \"a\" because we do not want to overwrite the contents of the file\n",
    "nameList = [\"John\", \"Jane\", \"Mary\", \"Allen\", \"Suzette\", \"Carrie\"]\n",
    "\n",
    "for name in nameList:\n",
    "    file.write(name + \"\\r\") # need to add carriage return after each name we add to the file \n",
    "\n",
    "file.close()\n",
    "\n",
    "file = open(\"filehandling_test.txt\", \"r\")\n",
    "print(file.read())"
   ]
  },
  {
   "cell_type": "markdown",
   "metadata": {},
   "source": [
    "6. Object-Oriented Programming (OOP):  \n",
    "Create a Car class with attributes brand and year, and a method to display them."
   ]
  },
  {
   "cell_type": "code",
   "execution_count": null,
   "metadata": {},
   "outputs": [],
   "source": [
    "class Car:\n",
    "    def __init__ (self, brand, year):\n",
    "        self.brand = brand\n",
    "        self.year = year\n",
    "\n",
    "    def theMethod(self):\n",
    "        print(\"Brand is: \" + self.brand + \" and Year is: \" + str(self.year))\n",
    "\n",
    "theCar = Car(\"Chevy\", 2020)\n",
    "theCar.theMethod()"
   ]
  },
  {
   "cell_type": "markdown",
   "metadata": {
    "vscode": {
     "languageId": "plaintext"
    }
   },
   "source": [
    "7. Exception Handling:\n",
    "Handle division by zero using try-except."
   ]
  },
  {
   "cell_type": "code",
   "execution_count": null,
   "metadata": {},
   "outputs": [],
   "source": [
    "try:\n",
    "    numerator = int(input(\"Please enter in a number:\"))\n",
    "    denominator = int(input(\"Please enter in another number:\"))\n",
    "    division = numerator / denominator  \n",
    "    print(\"Numerator entered: \" + str(numerator)) \n",
    "    print(\"Denominator entered: \" + str(denominator))\n",
    "    print(\"Will now divide \" + str(numerator) + \" over \" + str(denominator) + \"...\")\n",
    "    print(\"Division Result: \" + str(division))\n",
    "except ZeroDivisionError: \n",
    "    print(\"Cannot divide by 0!!\")\n",
    "          "
   ]
  },
  {
   "cell_type": "markdown",
   "metadata": {
    "vscode": {
     "languageId": "plaintext"
    }
   },
   "source": [
    "8. Modules and Packages:  \n",
    "Import and use the math module to calculate the square root of a number."
   ]
  },
  {
   "cell_type": "code",
   "execution_count": null,
   "metadata": {},
   "outputs": [],
   "source": [
    "import math\n",
    "\n",
    "numberToSquare = int(input(\"Please enter a number:\"))\n",
    "print(\"Number to square: \" + str(numberToSquare) + \"...\")\n",
    "\n",
    "numberSquared = math.pow(numberToSquare, 2)\n",
    "print(\"Number squared: \" + str(numberSquared))"
   ]
  },
  {
   "cell_type": "markdown",
   "metadata": {},
   "source": [
    "9. Iterators and Generators:  \n",
    "Create a generator function that yields square numbers."
   ]
  },
  {
   "cell_type": "code",
   "execution_count": null,
   "metadata": {
    "scrolled": true
   },
   "outputs": [],
   "source": [
    "import math  \n",
    "\n",
    "# How to create a generator function \n",
    "# Source: https://www.geeksforgeeks.org/generators-in-python/\n",
    "# Source: https://builtin.com/software-engineering-perspectives/python-generators\n",
    "def get_squared_generator(maxSquaredNumber):\n",
    "    squaredNumber = 0 #Initial value\n",
    "    n = 1 #Starting number to square\n",
    "    \n",
    "    while squaredNumber < maxSquaredNumber:\n",
    "        squaredNumber = math.pow(n, 2) #Square the number \n",
    "        yield squaredNumber \n",
    "        n += 1 #Increment the counter variable n before getting the next squared number   \n",
    "        #print(\"n after incrementing by 1 is now: \" + str(n)) #For tracking value of n after squaring number\n",
    "        #print(\"squaredNumber is now: \" + str(squaredNumber)) #For tracking squaredNumber\n",
    "\n",
    "squaredNumbers = get_squared_generator(100) #Get squared numbers up to but including 100\n",
    "        \n",
    "# Get squared numbers until the squared number reaches 100\n",
    "# Source: https://www.geeksforgeeks.org/iterators-in-python/\n",
    "while True: \n",
    "    try:  \n",
    "        print(next(squaredNumbers))\n",
    "    except StopIteration:\n",
    "        print(\"This is the end of squaring numbers.\") \n",
    "        break "
   ]
  },
  {
   "cell_type": "markdown",
   "metadata": {},
   "source": [
    "10.  Functional Programming:  \n",
    "Use map() to square a list of numbers."
   ]
  },
  {
   "cell_type": "code",
   "execution_count": null,
   "metadata": {},
   "outputs": [],
   "source": [
    "import math\n",
    "\n",
    "def squareNum(number):\n",
    "    return math.pow(number,2)\n",
    "\n",
    "listToSquare = map(squareNum, (10, 20, 30, 40, 50)) \n",
    "\n",
    "print(list(listToSquare)) # Need to cast as list before print otherwise it will print \"map object\" instead of the squared numbers"
   ]
  },
  {
   "cell_type": "markdown",
   "metadata": {
    "vscode": {
     "languageId": "plaintext"
    }
   },
   "source": [
    "11.  Decorators and Closures:  \n",
    "Create a decorator that prints \"Function executed!\" before running a function."
   ]
  },
  {
   "cell_type": "code",
   "execution_count": null,
   "metadata": {},
   "outputs": [],
   "source": [
    "# Source: https://www.geeksforgeeks.org/decorators-in-python/\n",
    "\n",
    "def decorator(funcParam):\n",
    "\n",
    "    def wrapper():\n",
    "        print(\"Function executed!\") # Before running function parameter \n",
    "        funcParam() # Running function parameter \n",
    "    return wrapper \n",
    "\n",
    "# Using decorator \n",
    "@decorator \n",
    "\n",
    "def remark():\n",
    "    print(\"This is the result of the function being run within the decorator!\")\n",
    "\n",
    "remark()\n",
    "        "
   ]
  },
  {
   "cell_type": "markdown",
   "metadata": {
    "vscode": {
     "languageId": "plaintext"
    }
   },
   "source": [
    "12. Working with Libraries:  \n",
    "Use random to generate a random number between 1 and 10."
   ]
  },
  {
   "cell_type": "code",
   "execution_count": null,
   "metadata": {},
   "outputs": [],
   "source": [
    "import random \n",
    "\n",
    "print(random.randrange(1, 10)) # Note that the upper bound is excluded "
   ]
  },
  {
   "cell_type": "markdown",
   "metadata": {},
   "source": [
    "13. Regular Expressions:  \n",
    "Use regex to check if a string contains a phone number format (123-456-7890)."
   ]
  },
  {
   "cell_type": "code",
   "execution_count": null,
   "metadata": {},
   "outputs": [],
   "source": [
    "import re\n",
    "\n",
    "theString = \"123-456-7890\" \n",
    "theString2 = \"a23-b56-c890\"\n",
    "\n",
    "regexValidate = re.search(\"[0-9][0-9][0-9]-[0-9][0-9][0-9]-[0-9][0-9][0-9][0-9]\", theString) \n",
    "regexValidate2 = re.search(\"[0-9][0-9][0-9]-[0-9][0-9][0-9]-[0-9][0-9][0-9][0-9]\", theString2) \n",
    "\n",
    "print(regexValidate) # Should return a match\n",
    "print(regexValidate2) # Should NOT return a match\n",
    "\n",
    "# Return statement that lets user know the first provided string is in a phone number format \n",
    "if(regexValidate):\n",
    "    print(\"String 1 is in a phone number format!\")\n",
    "else:\n",
    "    print(\"String 1 is NOT in a phone number format!\")\n",
    "\n",
    "\n",
    "# Return statement that lets user know the second provided string is in a phone number format \n",
    "if(regexValidate2):\n",
    "    print(\"String 2 is in a phone number format!\")\n",
    "else:\n",
    "    print(\"String 2 is NOT in a phone number format!\")"
   ]
  },
  {
   "cell_type": "markdown",
   "metadata": {},
   "source": [
    "14. Data Science & Machine Learning Basics:  \n",
    "Create a numpy array and compute its mean."
   ]
  },
  {
   "cell_type": "code",
   "execution_count": null,
   "metadata": {},
   "outputs": [],
   "source": [
    "import numpy as np \n",
    "\n",
    "theArray = np.array([2, 4, 6, 8, 10])\n",
    "\n",
    "theSum = 0; # Initial value\n",
    "theMean = 0 # Initial value \n",
    "\n",
    "# Get the sum of all numbers within the array \n",
    "for number in theArray:\n",
    "    theSum += number\n",
    "\n",
    "print(\"The sum of all numbers is: \" + str(theSum))\n",
    "print(\"There are \" + str(theArray.size) + \" numbers in the array.\")\n",
    "\n",
    "# Then, calculate the mean\n",
    "theMean = theSum / theArray.size\n",
    "\n",
    "# Display the mean\n",
    "print(\"The mean is: \" + str(theMean))"
   ]
  }
 ],
 "metadata": {
  "kernelspec": {
   "display_name": "Python 3 (ipykernel)",
   "language": "python",
   "name": "python3"
  },
  "language_info": {
   "codemirror_mode": {
    "name": "ipython",
    "version": 3
   },
   "file_extension": ".py",
   "mimetype": "text/x-python",
   "name": "python",
   "nbconvert_exporter": "python",
   "pygments_lexer": "ipython3",
   "version": "3.12.7"
  }
 },
 "nbformat": 4,
 "nbformat_minor": 4
}
