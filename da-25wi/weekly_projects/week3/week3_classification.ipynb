{
 "cells": [
  {
   "cell_type": "markdown",
   "metadata": {},
   "source": [
    "# Week 3: building a classifier\n",
    "\n",
    "#### Data Analytics, Winter 2025, weekly computational task\n",
    "\n",
    "## Description\n",
    "\n",
    "Your task this week is to get some practice building a classifier using the MNIST hand written image set.  The lab has two parts:\n",
    "\n",
    "Part 1:  with your group, run this notebook \n",
    "\n",
    "https://github.com/TheEvergreenStateCollege/upper-division-cs-24-25/blob/main/da-25wi/weekly_projects/week3/03_classification.ipynb\n",
    "\n",
    "(which is essentially the Chapter 3 accompanyment from the text) and answer the questions I've inserted in Markdown. \n",
    "\n",
    "Part 2: with your group, do Exercise 2 (Chapter 3) in the text, and report on your results.  Specifically:  write a function that can shift an MNIST image in any direction (left, right, up, down) by one pixel.  For each image in the set, create four shifted copies, one per direction, and add them to the training set.  Finally, train your best model on this set.  Find an appropriate metric, and do a thorough job summarizing your findings \n",
    "\n",
    "You should feel free to steal ideas and techniques from the \"Chapter 2\" Jupyter notebook from the text (https://github.com/ageron/handson-ml3/blob/main/02_end_to_end_machine_learning_project.ipynb)\n",
    "\n",
    "## Submission details\n",
    "\n",
    "You will work in groups of 4, and I will assign the groups.  You can start you work during class, and will need to finish it outside of class.  I recommend leaving class today with a clear plan of how you want to work, and getting together on zoom at least once before you turn this in.  \n",
    "\n",
    "Your final submission will be two things:  one, a pdf copy of your ipynb notebook, and two, a copy of the ipynb file itself.  Everyone in the group is welcome to turn in a copy of their work, but it should be the same work across the group.  I'll provide one set of comments and one grade for each group. \n"
   ]
  },
  {
   "cell_type": "markdown",
   "metadata": {},
   "source": []
  }
 ],
 "metadata": {
  "language_info": {
   "name": "python"
  }
 },
 "nbformat": 4,
 "nbformat_minor": 2
}
