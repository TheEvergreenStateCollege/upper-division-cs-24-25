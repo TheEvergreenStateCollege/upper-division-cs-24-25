{
 "cells": [
  {
   "cell_type": "code",
   "execution_count": null,
   "id": "e665da59-6a7e-42b9-aee1-1c1d65624b27",
   "metadata": {},
   "outputs": [],
   "source": []
  },
  {
   "cell_type": "code",
   "execution_count": 2,
   "id": "c015e8e5-2e64-4475-82cf-f2e2dd1e5f0e",
   "metadata": {},
   "outputs": [],
   "source": [
    "import sys\n",
    "\n",
    "assert sys.version_info >= (3, 7)"
   ]
  },
  {
   "cell_type": "markdown",
   "id": "8928c6be-58ed-4e92-92b0-58812cbc6775",
   "metadata": {},
   "source": [
    "It also requires Scikit-Learn ≥ 1.0.1:"
   ]
  },
  {
   "cell_type": "code",
   "execution_count": 3,
   "id": "7b5cf115-0d58-45a2-a2cf-93ad43959d30",
   "metadata": {},
   "outputs": [],
   "source": [
    "from packaging import version\n",
    "import sklearn\n",
    "\n",
    "assert version.parse(sklearn.__version__) >= version.parse(\"1.0.1\")"
   ]
  },
  {
   "cell_type": "markdown",
   "id": "ceb6b85c-8849-4702-97c5-ced9f40a83bb",
   "metadata": {},
   "source": [
    "Just like in the previous chapter, let's define the default font sizes to make the figures prettier:"
   ]
  },
  {
   "cell_type": "code",
   "execution_count": 4,
   "id": "072b8237-7e8c-4030-bf72-c1e3ddf64d85",
   "metadata": {},
   "outputs": [],
   "source": [
    "import matplotlib.pyplot as plt\n",
    "\n",
    "plt.rc('font', size=14)\n",
    "plt.rc('axes', labelsize=14, titlesize=14)\n",
    "plt.rc('legend', fontsize=14)\n",
    "plt.rc('xtick', labelsize=10)\n",
    "plt.rc('ytick', labelsize=10)"
   ]
  },
  {
   "cell_type": "markdown",
   "id": "30671510-24b4-49c8-ae5c-e6c9a03b4e94",
   "metadata": {},
   "source": [
    "And let's create the `images/classification` folder (if it doesn't already exist), and define the `save_fig()` function which is used through this notebook to save the figures in high-res for the book:"
   ]
  },
  {
   "cell_type": "code",
   "execution_count": 5,
   "id": "ef2c45de-4ea3-4377-92c2-dbcc2bdc2e4b",
   "metadata": {},
   "outputs": [],
   "source": [
    "from pathlib import Path\n",
    "\n",
    "IMAGES_PATH = Path() / \"images\" / \"classification\"\n",
    "IMAGES_PATH.mkdir(parents=True, exist_ok=True)\n",
    "\n",
    "def save_fig(fig_id, tight_layout=True, fig_extension=\"png\", resolution=300):\n",
    "    path = IMAGES_PATH / f\"{fig_id}.{fig_extension}\"\n",
    "    if tight_layout:\n",
    "        plt.tight_layout()\n",
    "    plt.savefig(path, format=fig_extension, dpi=resolution)"
   ]
  },
  {
   "cell_type": "markdown",
   "id": "a4142070-772e-4df0-8f3e-fdfccbd64179",
   "metadata": {},
   "source": [
    "# MNIST\n",
    "\n",
    "The website hosting the MNIST data seems to be down at the moment.  You can load the data in from a csv that I've put into github."
   ]
  },
  {
   "cell_type": "code",
   "execution_count": 6,
   "id": "8cab58f6-fa65-4974-af85-8cefc751650d",
   "metadata": {},
   "outputs": [],
   "source": [
    "# from sklearn.datasets import fetch_openml\n",
    "# mnist = fetch_openml('mnist_784', as_frame=False)\n",
    "\n",
    "# # extra code – it's a bit too long\n",
    "# print(mnist.DESCR)\n",
    "\n",
    "# mnist.keys()  # extra code – we only use data and target in this notebook\n",
    "\n",
    "# X, y = mnist.data, mnist.target"
   ]
  },
  {
   "cell_type": "code",
   "execution_count": null,
   "id": "bd04b323-0484-498a-9410-3baa94c45721",
   "metadata": {
    "scrolled": true
   },
   "outputs": [],
   "source": [
    "import pandas as pd\n",
    "df = pd.read_csv('C:/Users/heath/Documents/mnist_784.csv')\n",
    "df.head(1000)"
   ]
  },
  {
   "cell_type": "code",
   "execution_count": null,
   "id": "4e17d606-c327-4bf5-99cb-fd990170921e",
   "metadata": {},
   "outputs": [],
   "source": [
    "df.describe()\n"
   ]
  },
  {
   "cell_type": "code",
   "execution_count": null,
   "id": "f665f36a-9dc4-4377-bb7b-cb600b1f7bca",
   "metadata": {},
   "outputs": [],
   "source": [
    "df.info()"
   ]
  },
  {
   "cell_type": "code",
   "execution_count": null,
   "id": "08e7f3c4-03d0-4ff4-a4a2-988ec4322827",
   "metadata": {},
   "outputs": [],
   "source": [
    "df.shape[0]"
   ]
  },
  {
   "cell_type": "markdown",
   "id": "a43c6868-b659-4d0e-b6fd-ba8e345a5804",
   "metadata": {},
   "source": [
    "### Q1:\n",
    "What does `head(2)` do?\n",
    "\n",
    "### A1:\n",
    "head(2) shows the first 2 entries of a data frame. "
   ]
  },
  {
   "cell_type": "code",
   "execution_count": 11,
   "id": "ad712b54-57ff-4db1-a930-704d297afbd8",
   "metadata": {},
   "outputs": [],
   "source": [
    "X = df.iloc[:, 0:784].values\n",
    "y = df['class'].astype(str).values"
   ]
  },
  {
   "cell_type": "markdown",
   "id": "55c2215c-ceed-4edd-bbc3-7652baf64067",
   "metadata": {},
   "source": [
    "### Q2:\n",
    " What is the `iloc` operator?  How is it different from the `loc` operator?\n",
    "\n",
    "### A2:\n",
    "Both iloc and loc are slicing operators that pull out the specified rows and columns in the given square brackets. \"iloc' does this based on index, hence the \"i\". While \"loc\" does this based on label."
   ]
  },
  {
   "cell_type": "code",
   "execution_count": null,
   "id": "603b5180-1d49-49b1-a126-5414454a5c27",
   "metadata": {},
   "outputs": [],
   "source": [
    "X"
   ]
  },
  {
   "cell_type": "code",
   "execution_count": null,
   "id": "eee3b1bd-302b-4d59-afb9-2b06cfeb7363",
   "metadata": {},
   "outputs": [],
   "source": [
    "X.shape"
   ]
  },
  {
   "cell_type": "code",
   "execution_count": null,
   "id": "a3c339a5-acc1-4b59-b824-25d6fb5e7156",
   "metadata": {},
   "outputs": [],
   "source": [
    "y"
   ]
  },
  {
   "cell_type": "code",
   "execution_count": null,
   "id": "37d901d6-fea1-4e0e-a789-7870339358ff",
   "metadata": {},
   "outputs": [],
   "source": [
    "y.shape"
   ]
  },
  {
   "cell_type": "code",
   "execution_count": null,
   "id": "2bf6abc3-cbf4-4c9a-87e3-069464f344c5",
   "metadata": {},
   "outputs": [],
   "source": [
    "28 * 28"
   ]
  },
  {
   "cell_type": "code",
   "execution_count": null,
   "id": "16612cd3-8443-48ec-8873-f2bbe8fa718a",
   "metadata": {},
   "outputs": [],
   "source": [
    "X[0].shape"
   ]
  },
  {
   "cell_type": "code",
   "execution_count": null,
   "id": "789f6a8b-e8a3-4c9e-b921-ef9ca9981db4",
   "metadata": {},
   "outputs": [],
   "source": [
    "test = df[0]\n",
    "final_el = test[-1]\n",
    "print(final_el)\n",
    "print(X[0])"
   ]
  },
  {
   "cell_type": "code",
   "execution_count": null,
   "id": "8cb08580-8732-439d-9067-20b975d1002e",
   "metadata": {},
   "outputs": [],
   "source": [
    "import matplotlib.pyplot as plt\n",
    "\n",
    "def plot_digit(image_data):\n",
    "    image = image_data.reshape(28, 28)\n",
    "    plt.imshow(image, cmap=\"binary\")\n",
    "    plt.axis(\"off\")\n",
    "\n",
    "some_digit = X[0]\n",
    "plot_digit(some_digit)\n",
    "save_fig(\"some_digit_plot\")  # extra code\n",
    "plt.show()"
   ]
  },
  {
   "cell_type": "markdown",
   "id": "f717d93d-52e5-4434-957f-ed734d556db9",
   "metadata": {},
   "source": [
    "# **Modified Cell**"
   ]
  },
  {
   "cell_type": "code",
   "execution_count": 37,
   "id": "64440711-d2fa-45b3-83d2-315acab8796e",
   "metadata": {},
   "outputs": [],
   "source": [
    "import numpy as np\n",
    "\n",
    "def shift_image(image):\n",
    "\n",
    "    # if image.shape != (28, 28):\n",
    "    #     raise ValueError(f\"Invalid pixel dimensions on image {image}\")\n",
    "\n",
    "    # capture class value\n",
    "    target = image[-1]\n",
    "    # remove class value from row of data so can isolate image pixels\n",
    "    shift_image = image[1:-1]\n",
    "    # make pixel array into 2d array for simplicity to work with\n",
    "    shift_image = shift_image.reshape(28, 28)\n",
    "\n",
    "    # fill padded variables\n",
    "    up_image = np.zeros_like(shift_image)\n",
    "    down_image = np.zeros_like(shift_image)\n",
    "    left_image = np.zeros_like(shift_image)\n",
    "    right_image = np.zeros_like(shift_image)\n",
    "\n",
    "    # shift images and reformat them to be added to data set\n",
    "    # then add the target value back in\n",
    "    # ups\n",
    "    up_image[:-1, :] = shift_image[1:, :]\n",
    "    up_image.reshape(784,)\n",
    "    up_image = np.append(up_image, target)\n",
    "    # downs\n",
    "    down_image[1:, :] = shift_image[:-1, :]\n",
    "    down_image.reshape(784,)\n",
    "    down_image = np.append(down_image, target)\n",
    "    # lefts\n",
    "    left_image[:, :-1] = shift_image[:, 1:]\n",
    "    left_image.reshape(784,)\n",
    "    left_image = np.append(left_image, target)\n",
    "    # rights\n",
    "    right_image[:, 1:] = shift_image[:, :-1]\n",
    "    right_image.reshape(784,)\n",
    "    right_image = np.append(right_image, target)\n",
    "\n",
    "    # pd.concat only accepts series and data frames \n",
    "    # so i converted all the numpy arrays into dataframes\n",
    "    up = pd.DataFrame(up_image)\n",
    "    down = pd.DataFrame(down_image)\n",
    "    left = pd.DataFrame(left_image)\n",
    "    right = pd.DataFrame(right_image)   \n",
    "\n",
    "    ret = numpy.concatenate([image.reshape(1,sz**2) for image in [digit_image, digit_image_u, digit_image_d, digit_image_l, digit_image_r]])\n",
    "    return ret\n",
    "    return up, down, left, right\n",
    "    # plt.imshow(down_image, cmap='binary')\n",
    "    # plt.axis('off')\n",
    "\n",
    "    \n",
    "\n",
    "# shift_image(X[0])\n",
    "# plt.show()"
   ]
  },
  {
   "cell_type": "code",
   "execution_count": 21,
   "id": "1acc09b9-c497-4662-8a12-85640918d3ab",
   "metadata": {},
   "outputs": [],
   "source": [
    "# row = df.iloc[0].values\n",
    "# up, down, left, right = shift_image(row)\n",
    "# print(up)\n",
    "# print(down)\n",
    "# # concatonate 4 copies to original dataframe\n",
    "# df = pd.concat([df, up])\n",
    "# df = pd.concat([df, down])\n",
    "# df = pd.concat([df, left])\n",
    "# df = pd.concat([df, right])\n",
    "\n",
    "# df.info()"
   ]
  },
  {
   "cell_type": "code",
   "execution_count": null,
   "id": "585f0d08-b889-4691-8aa4-8c5174ba3a3f",
   "metadata": {},
   "outputs": [],
   "source": [
    "rows = df.shape[0]\n",
    "for i in range(rows):\n",
    "    row = np.array(df.iloc[i].values)\n",
    "    up, down, left, right = shift_image(row)\n",
    "    # concatonate 4 copies to original dataframe\n",
    "    df = pd.concat([df, up])\n",
    "    df = pd.concat([df, down])\n",
    "    df = pd.concat([df, left])\n",
    "    df = pd.concat([df, right])\n",
    "\n",
    "df.info()"
   ]
  },
  {
   "cell_type": "code",
   "execution_count": null,
   "id": "6984c98b-b99c-420d-b325-62c1454bda8b",
   "metadata": {},
   "outputs": [],
   "source": [
    "df.info()"
   ]
  },
  {
   "cell_type": "code",
   "execution_count": null,
   "id": "9509fef0-ac1e-461e-9311-aba7abcec5a3",
   "metadata": {},
   "outputs": [],
   "source": [
    "# extra code – this cell generates and saves Figure 3–2\n",
    "plt.figure(figsize=(9, 9))\n",
    "for idx, image_data in enumerate(X[:100]):\n",
    "    plt.subplot(10, 10, idx + 1)\n",
    "    plot_digit(image_data)\n",
    "plt.subplots_adjust(wspace=0, hspace=0)\n",
    "save_fig(\"more_digits_plot\", tight_layout=False)\n",
    "plt.show()"
   ]
  },
  {
   "cell_type": "markdown",
   "id": "9ac42854-2cd2-47a8-99d7-f7148e774a24",
   "metadata": {},
   "source": [
    "### Q3: \n",
    "What does the Python function `enumerate` do?\n",
    "\n",
    "### A3:\n",
    "Enumerate is a built-in function that makes it simpler to keep track of the indices when iterating over an iterable object. "
   ]
  },
  {
   "cell_type": "markdown",
   "id": "085893a7",
   "metadata": {},
   "source": [
    "### Q4: \n",
    "What is an SGD Classifier?  (Hint:  go to the documentation on the sklearn website).  \n",
    "\n",
    "\n",
    "### A4: An SGD classifier is an algorithm that can process large datasets efficiently by taking random point data. It classifies by finding dividing lines suitable for the dataset. Three methods are batch gradient descent, stochastic gradient descent, and mini-batch gradient descent"
   ]
  },
  {
   "cell_type": "markdown",
   "id": "d8731e68",
   "metadata": {},
   "source": [
    "### Q5:\n",
    "Describe what is going on inside the `for` loop \n",
    "\n",
    "\n",
    "\n",
    "### A5: The for loop creates a classifier using the clone and validates predictions using training sets and validation sets"
   ]
  },
  {
   "cell_type": "markdown",
   "id": "a8b9ab50",
   "metadata": {},
   "source": [
    "### Q6:\n",
    "Give an example of how you would use the confusion matrix in a report on your model, i.e. write a sentence that gives the reader an idea of performance on the task of predicting 5s\n",
    "\n",
    "The Confusion Matrix is telling us that the model is imperfect because false negatives and false positives are being picked up. Model is imperfect. We can further get a calculation of precision by dividing the number of true positives by the total positives\n",
    "\n",
    "### A6:"
   ]
  },
  {
   "cell_type": "markdown",
   "id": "e6799a8e",
   "metadata": {},
   "source": [
    "### Q7:\n",
    "What's going on with the funky blue squiggles in the upper right hand corner?\n",
    "\n",
    "### A7:\n",
    "\n",
    "In general, precision will increase with threshold, but isn't guaranteed. The blue squiggles are indicative of an imperfect relationship. Has to do with false negatives becoming true negatives when the threshold increases. Some true positives are going to become false negatives as threshold increases. "
   ]
  },
  {
   "cell_type": "markdown",
   "id": "952f3302",
   "metadata": {},
   "source": [
    "### Q8:\n",
    "Explain in simple words why the precision does *not* go to zero as the threshold moves lower, but the recall *does* always go to one\n",
    "\n",
    "### A8:\n",
    "even with a low threshold, the model  still could correctly identify some positive cases, meaning it won't classify everything as positive, maintains some level of precision. recall always reacesh one at a threshold at a low enough levl because when almost everything is classified as positive, model captures all true positive cases, leads to perfect recall even when it also includes many false positives. "
   ]
  },
  {
   "cell_type": "markdown",
   "id": "71081b20",
   "metadata": {},
   "source": [
    "### Q9: \n",
    "Which do you find more informative, the precision recall curve or the ROC curve?  Why?\n",
    "\n",
    "### A9:\n",
    "\n",
    "Since the positive class is not rare in our dataset, the ROC graph is more informative for us. We also don't particulary care about false positives more than negatives"
   ]
  },
  {
   "cell_type": "code",
   "execution_count": 27,
   "id": "54f777ab-747d-45b7-8207-97235e706767",
   "metadata": {},
   "outputs": [],
   "source": [
    "X_train, X_test, y_train, y_test = X[:60000], X[60000:], y[:60000], y[60000:]\n",
    "shuffle_index = np.random.permutation(len(X_train))\n",
    "X_train, y_train = X_train[shuffle_index], y_train[shuffle_index]"
   ]
  },
  {
   "cell_type": "code",
   "execution_count": null,
   "id": "f7133372",
   "metadata": {},
   "outputs": [],
   "source": [
    "X_train_shifted = np.concatenate([shift_image(image) for image in X_train])"
   ]
  },
  {
   "cell_type": "code",
   "execution_count": null,
   "id": "090064d6",
   "metadata": {},
   "outputs": [],
   "source": [
    "X_train_shifted.shape "
   ]
  },
  {
   "cell_type": "code",
   "execution_count": null,
   "id": "903e8cc2",
   "metadata": {},
   "outputs": [],
   "source": [
    "a = np.asarray([[0], [1]])\n",
    "a.repeat(2, axis=1).reshape(-1, 1)"
   ]
  },
  {
   "cell_type": "code",
   "execution_count": null,
   "id": "144113a0",
   "metadata": {},
   "outputs": [],
   "source": [
    "y_train_shifed = y_train.repeat(5, axis=1).reshape(-1, 1)\n",
    "y_train_shifed.shape"
   ]
  },
  {
   "cell_type": "code",
   "execution_count": 44,
   "id": "30a99510",
   "metadata": {},
   "outputs": [],
   "source": [
    "from sklearn.ensemble import RandomForestClassifier\n",
    "from sklearn.model_selection import cross_val_score\n",
    "\n",
    "forest_clf = RandomForestClassifier(random_state=42)"
   ]
  },
  {
   "cell_type": "code",
   "execution_count": null,
   "id": "078ae060",
   "metadata": {},
   "outputs": [],
   "source": [
    "cross_val_score(forest_clf, X_train, y_train, cv=3, scoring=\"accuracy\")"
   ]
  },
  {
   "cell_type": "code",
   "execution_count": null,
   "id": "fa9744b0",
   "metadata": {},
   "outputs": [],
   "source": [
    "cross_val_score(forest_clf, X_train_shifted, y_train_shifed, cv=3, scoring=\"accuracy\")"
   ]
  }
 ],
 "metadata": {
  "kernelspec": {
   "display_name": "base",
   "language": "python",
   "name": "python3"
  },
  "language_info": {
   "codemirror_mode": {
    "name": "ipython",
    "version": 3
   },
   "file_extension": ".py",
   "mimetype": "text/x-python",
   "name": "python",
   "nbconvert_exporter": "python",
   "pygments_lexer": "ipython3",
   "version": "3.12.7"
  }
 },
 "nbformat": 4,
 "nbformat_minor": 5
}
