{
  "nbformat": 4,
  "nbformat_minor": 0,
  "metadata": {
    "colab": {
      "provenance": [],
      "collapsed_sections": [
        "xSkeXwA-2Ssi",
        "Q6FLL6oUig3R",
        "Rld0t2CvmXhM",
        "B3sSMnOalWvp",
        "528FcCZLnbMZ",
        "iBy4GBPtnmx0",
        "eu9_pwuClp_b",
        "Mtn9pvE_lwiK",
        "vK2JoWC5huxy",
        "E9GLWUAoibhX",
        "_ugcF8odjocx",
        "KAuefDEYkQc-",
        "eYfE6xlyk0l_",
        "9WPVEptTlBVW"
      ]
    },
    "kernelspec": {
      "name": "python3",
      "display_name": "Python 3"
    },
    "language_info": {
      "name": "python"
    }
  },
  "cells": [
    {
      "cell_type": "markdown",
      "source": [
        "# Conclusions"
      ],
      "metadata": {
        "id": "wr80QRj2oqKE"
      }
    },
    {
      "cell_type": "markdown",
      "source": [
        "## Group Members"
      ],
      "metadata": {
        "id": "ylOBnUO-osuK"
      }
    },
    {
      "cell_type": "markdown",
      "source": [
        "DJ, Donna, Etienne, Andersen"
      ],
      "metadata": {
        "id": "s5y7adKSo9Qs"
      }
    },
    {
      "cell_type": "markdown",
      "source": [
        "## Write-up\n"
      ],
      "metadata": {
        "id": "hLONiQMDozKG"
      }
    },
    {
      "cell_type": "markdown",
      "source": [
        "To start our project, we are setting up the images classification folder and setting up the plots themselves. We then import the mnist data, and we set it up for the shift code. (Based on the output of the cell, we are working with 70,000 images!)\n",
        "\n",
        "For the Refactored Shifting, we found this to be a bit challenging because the Pandas dataframes have very specific requirements for interacting with each other. In order to get them to append a newly shifted image to the dataframe, a significant amount of fiddling with the code is required. Also, because of the scale of the dataset, it takes a prohibitive amount of time for it to run, and it also costs a prohibitive amount of RAM. (Please refer to our code comment in this section.)\n",
        "\n",
        "Then, we continue to implement MNIST because we want to prep our data for training. For our training, we decided to train our model using the SGDClassifier from sklearn so that it learns how to detect if the image is indeed the number \"5.\"   \n",
        "\n",
        "Finally, we used various performance measures. We started with cross validation. Scores were calculated for the SGDClassifier and DummyClassifer. It turns out that the SGDClassifier had around 95-96% accuracy while the DummyClassifer had nearly 91% accuracy. We produced 2 confusion matrixes with one of them assuming that we reached \"perfection.\" The first confusion matrix produced 687 false positives, 3530 true positives, 1891 false negatives, and 53,892 true negatives. On the other hand, the second confusion matrix (the one pretending that we have reached perfection), it actually produced ZERO false positives and false negatives (which should not be all that surprising.) It had 5,421 true positives and 54,579 true negatives. We calculated the precision and recall based on the amount of true positives, false positives, and false negatives we got using numbers from the first confusion matrix (i.e. not the one where we pretended we had reached \"perfection.\") Precision came out to be around 83.7% while Recall came out to be around 65.1%. We also computed the f1 score which came out to be 73.2%.\n",
        "\n",
        "**Note: There are a few non-functional bits of code under the comments section (basically code that is part of the Questions section.)  For this reason, run-all won't work, but one can run all below the Model section and those will work just fine - the time it takes to run this however will depend on the environment you are in!**"
      ],
      "metadata": {
        "id": "Fq9N2evto8eL"
      }
    },
    {
      "cell_type": "markdown",
      "source": [
        "#Questions"
      ],
      "metadata": {
        "id": "xSkeXwA-2Ssi"
      }
    },
    {
      "cell_type": "markdown",
      "source": [
        "Q1: What does head(2) do?\n",
        "\n",
        "**It will obtain the first 2 records/rows of the dataframe.**"
      ],
      "metadata": {
        "id": "mV6iINLPIOc8"
      }
    },
    {
      "cell_type": "markdown",
      "source": [
        "Q2: What is the iloc operator? How is it different from the loc operator?\n",
        "\n",
        "**The iloc operator returns a group of rows and columns by index integer positions. On the other hand, the loc operator returns a group of rows and columns by index label(s).**"
      ],
      "metadata": {
        "id": "mAt0GMis3acG"
      }
    },
    {
      "cell_type": "markdown",
      "source": [
        "Q3: What does the Python function enumerate do?\n",
        "\n",
        "**It takes an iterable and assigns a counter to each element in the iterable. As a result, this allows for looping to obtain the index and the element's value.**\n"
      ],
      "metadata": {
        "id": "2JONXna33fAL"
      }
    },
    {
      "cell_type": "markdown",
      "source": [
        "Q4: What is an SGD Classifier? (Hint: go to the documentation on the sklearn website). List three methods in the SGDClassifier class.\n",
        "\n",
        "an SGD Classifier is a machine learning model from the scikit-learn library that prides itself on ease of use, efficiency, and optimization of linear models. Some methods from the SGDClassifier class are, .fit(x,y), .predict(x), and .coef_\n"
      ],
      "metadata": {
        "id": "doZ0dCC23x3Q"
      }
    },
    {
      "cell_type": "markdown",
      "source": [
        "Q5: Describe what is going on inside the for loop\n",
        "\n",
        "The for loop is a cross validation test that breaks the data down into three folds. Each iteration there are two training folds and one test fold. The model is then trained on those two folds. Next, it  makes predictions about the test fold and then compares its prediction against the actual fold.\n"
      ],
      "metadata": {
        "id": "XhwHlCIe32E6"
      }
    },
    {
      "cell_type": "code",
      "source": [
        "from sklearn.model_selection import StratifiedKFold\n",
        "from sklearn.base import clone\n",
        "\n",
        "skfolds = StratifiedKFold(n_splits=3)  # add shuffle=True if the dataset is not\n",
        "# already shuffled\n",
        "for train_index, test_index in skfolds.split(X_train, y_train_5):\n",
        "    clone_clf = clone(sgd_clf)\n",
        "    X_train_folds = X_train[train_index]\n",
        "    y_train_folds = y_train_5[train_index]\n",
        "    X_test_fold = X_train[test_index]\n",
        "    y_test_fold = y_train_5[test_index] #\n",
        "\n",
        "    clone_clf.fit(X_train_folds, y_train_folds)\n",
        "    y_pred = clone_clf.predict(X_test_fold)\n",
        "    n_correct = sum(y_pred == y_test_fold)\n",
        "    print(n_correct / len(y_pred))"
      ],
      "metadata": {
        "id": "zx6kgKVJ4ixg",
        "collapsed": true
      },
      "execution_count": null,
      "outputs": []
    },
    {
      "cell_type": "markdown",
      "source": [
        "Q6: Give an example of how you would use the confusion matrix in a report on your model, i.e. write a sentence that gives the reader an idea of performance on the task of predicting 5s\n",
        "\n",
        "Our model would benefit from a confusion matrix by providing a spreadsheet like report on our models ability to predict 5s and highlights areas where we can improve."
      ],
      "metadata": {
        "id": "ueKBEjDv3dq0"
      }
    },
    {
      "cell_type": "markdown",
      "source": [
        "Q7: What's going on with the funky blue squiggles in the upper right hand corner?![image.png](data:image/png;base64,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)\n",
        "\n",
        "Those funky blue lines are what happens when recall is low and precision is high. This essentially shows that many true cases are being missed to how high precision is."
      ],
      "metadata": {
        "id": "NUo7xScM5RkG"
      }
    },
    {
      "cell_type": "markdown",
      "source": [
        "Q8: Explain in simple words why the precision does not go to zero as the threshold moves lower, but the recall does always go to one\n",
        "\n",
        "Precision is the measure in which it accurately predicts true values. If it was at zero then everything would be a true value. However, recall is the measure of true cases actually identified and a model can accurately predict all of the right outcomes."
      ],
      "metadata": {
        "id": "xXr2yduX5qLs"
      }
    },
    {
      "cell_type": "markdown",
      "source": [
        "Q9: Which do you find more informative, the precision recall curve or the ROC curve? Why?\n",
        "\n",
        "I prefer the precision recall curve. For me visually, it is more appealing and I am able to understand the data better. However, that does not mean that the ROC curve is not just as informative."
      ],
      "metadata": {
        "id": "FC3ZtGk-8WdN"
      }
    },
    {
      "cell_type": "code",
      "source": [],
      "metadata": {
        "id": "N380Tkb9iiA8"
      },
      "execution_count": null,
      "outputs": []
    },
    {
      "cell_type": "markdown",
      "source": [
        "# DJ's Code"
      ],
      "metadata": {
        "id": "Q6FLL6oUig3R"
      }
    },
    {
      "cell_type": "code",
      "source": [
        "#Davids code for moving images by a pixel in all four directions.\n",
        "import numpy as np\n",
        "from PIL import Image\n",
        "\n",
        "filename = 'mnistfile.png'\n",
        "image = Image.open(filename)\n",
        "\n",
        "pixels = image.load()\n",
        "\n",
        "width, height = image.size\n",
        "weights = [[-1, 0], [1,0], [0,-1],[0,1]] #each direction to shift\n",
        "\n",
        "def shift_it(image, weight):\n",
        "  shifted_image = np.zeros(image.shape)\n",
        "  shifted_pixels = shifted_image.load() # create a copy to save\n",
        "  dx, dy = weight\n",
        "  for x in range(width):\n",
        "      for y in range(height):\n",
        "        new_y = y + dy # change the values\n",
        "        new_x = x + dx\n",
        "  return shifted_image\n",
        "\n",
        "for i, weight in enumerate(weights):\n",
        "  shifted_image = shift_it(image, weight)\n",
        "  shifted_image.save(\"shimmyshammy{i}.png\") # save and done"
      ],
      "metadata": {
        "id": "l6_6vz6jILhM",
        "collapsed": true,
        "colab": {
          "base_uri": "https://localhost:8080/"
        },
        "outputId": "1767a2c0-ebce-404f-8e18-b407062a58c6"
      },
      "execution_count": null,
      "outputs": [
        {
          "output_type": "stream",
          "name": "stdout",
          "text": [
            "1920 1440\n"
          ]
        }
      ]
    },
    {
      "cell_type": "markdown",
      "source": [
        "# Model"
      ],
      "metadata": {
        "id": "M4F-B8kgimOP"
      }
    },
    {
      "cell_type": "markdown",
      "source": [
        "## Initialization"
      ],
      "metadata": {
        "id": "Rld0t2CvmXhM"
      }
    },
    {
      "cell_type": "code",
      "source": [
        "import sys\n",
        "\n",
        "assert sys.version_info >= (3, 7)"
      ],
      "metadata": {
        "id": "dtC0C-ykLuTt"
      },
      "execution_count": null,
      "outputs": []
    },
    {
      "cell_type": "code",
      "source": [
        "from packaging import version\n",
        "import sklearn\n",
        "\n",
        "assert version.parse(sklearn.__version__) >= version.parse(\"1.0.1\")"
      ],
      "metadata": {
        "id": "kHorRX-AT_qu"
      },
      "execution_count": null,
      "outputs": []
    },
    {
      "cell_type": "code",
      "source": [
        "import matplotlib.pyplot as plt\n",
        "\n",
        "plt.rc('font', size=14)\n",
        "plt.rc('axes', labelsize=14, titlesize=14)\n",
        "plt.rc('legend', fontsize=14)\n",
        "plt.rc('xtick', labelsize=10)\n",
        "plt.rc('ytick', labelsize=10)"
      ],
      "metadata": {
        "id": "D8_ijE-5UAQz"
      },
      "execution_count": null,
      "outputs": []
    },
    {
      "cell_type": "code",
      "source": [
        "from pathlib import Path\n",
        "\n",
        "IMAGES_PATH = Path() / \"images\" / \"classification\"\n",
        "IMAGES_PATH.mkdir(parents=True, exist_ok=True)\n",
        "\n",
        "def save_fig(fig_id, tight_layout=True, fig_extension=\"png\", resolution=300):\n",
        "    path = IMAGES_PATH / f\"{fig_id}.{fig_extension}\"\n",
        "    if tight_layout:\n",
        "        plt.tight_layout()\n",
        "    plt.savefig(path, format=fig_extension, dpi=resolution)"
      ],
      "metadata": {
        "id": "DVxHGQOuUD0t"
      },
      "execution_count": null,
      "outputs": []
    },
    {
      "cell_type": "markdown",
      "source": [
        "## MNIST"
      ],
      "metadata": {
        "id": "B3sSMnOalWvp"
      }
    },
    {
      "cell_type": "code",
      "source": [
        "import pandas as pd\n",
        "odf = pd.read_csv('./mnist_784.csv')\n",
        "odf.head(2)"
      ],
      "metadata": {
        "colab": {
          "base_uri": "https://localhost:8080/",
          "height": 161
        },
        "id": "3Dq4Y-2PUJ-r",
        "outputId": "2d50b0be-ec72-4168-ac44-a2a3ac431219"
      },
      "execution_count": null,
      "outputs": [
        {
          "output_type": "execute_result",
          "data": {
            "text/plain": [
              "   pixel1  pixel2  pixel3  pixel4  pixel5  pixel6  pixel7  pixel8  pixel9  \\\n",
              "0       0       0       0       0       0       0       0       0       0   \n",
              "1       0       0       0       0       0       0       0       0       0   \n",
              "\n",
              "   pixel10  ...  pixel776  pixel777  pixel778  pixel779  pixel780  pixel781  \\\n",
              "0        0  ...         0         0         0         0         0         0   \n",
              "1        0  ...         0         0         0         0         0         0   \n",
              "\n",
              "   pixel782  pixel783  pixel784  class  \n",
              "0         0         0         0      5  \n",
              "1         0         0         0      0  \n",
              "\n",
              "[2 rows x 785 columns]"
            ],
            "text/html": [
              "\n",
              "  <div id=\"df-d22254df-82ce-422e-a164-bb59d66d6721\" class=\"colab-df-container\">\n",
              "    <div>\n",
              "<style scoped>\n",
              "    .dataframe tbody tr th:only-of-type {\n",
              "        vertical-align: middle;\n",
              "    }\n",
              "\n",
              "    .dataframe tbody tr th {\n",
              "        vertical-align: top;\n",
              "    }\n",
              "\n",
              "    .dataframe thead th {\n",
              "        text-align: right;\n",
              "    }\n",
              "</style>\n",
              "<table border=\"1\" class=\"dataframe\">\n",
              "  <thead>\n",
              "    <tr style=\"text-align: right;\">\n",
              "      <th></th>\n",
              "      <th>pixel1</th>\n",
              "      <th>pixel2</th>\n",
              "      <th>pixel3</th>\n",
              "      <th>pixel4</th>\n",
              "      <th>pixel5</th>\n",
              "      <th>pixel6</th>\n",
              "      <th>pixel7</th>\n",
              "      <th>pixel8</th>\n",
              "      <th>pixel9</th>\n",
              "      <th>pixel10</th>\n",
              "      <th>...</th>\n",
              "      <th>pixel776</th>\n",
              "      <th>pixel777</th>\n",
              "      <th>pixel778</th>\n",
              "      <th>pixel779</th>\n",
              "      <th>pixel780</th>\n",
              "      <th>pixel781</th>\n",
              "      <th>pixel782</th>\n",
              "      <th>pixel783</th>\n",
              "      <th>pixel784</th>\n",
              "      <th>class</th>\n",
              "    </tr>\n",
              "  </thead>\n",
              "  <tbody>\n",
              "    <tr>\n",
              "      <th>0</th>\n",
              "      <td>0</td>\n",
              "      <td>0</td>\n",
              "      <td>0</td>\n",
              "      <td>0</td>\n",
              "      <td>0</td>\n",
              "      <td>0</td>\n",
              "      <td>0</td>\n",
              "      <td>0</td>\n",
              "      <td>0</td>\n",
              "      <td>0</td>\n",
              "      <td>...</td>\n",
              "      <td>0</td>\n",
              "      <td>0</td>\n",
              "      <td>0</td>\n",
              "      <td>0</td>\n",
              "      <td>0</td>\n",
              "      <td>0</td>\n",
              "      <td>0</td>\n",
              "      <td>0</td>\n",
              "      <td>0</td>\n",
              "      <td>5</td>\n",
              "    </tr>\n",
              "    <tr>\n",
              "      <th>1</th>\n",
              "      <td>0</td>\n",
              "      <td>0</td>\n",
              "      <td>0</td>\n",
              "      <td>0</td>\n",
              "      <td>0</td>\n",
              "      <td>0</td>\n",
              "      <td>0</td>\n",
              "      <td>0</td>\n",
              "      <td>0</td>\n",
              "      <td>0</td>\n",
              "      <td>...</td>\n",
              "      <td>0</td>\n",
              "      <td>0</td>\n",
              "      <td>0</td>\n",
              "      <td>0</td>\n",
              "      <td>0</td>\n",
              "      <td>0</td>\n",
              "      <td>0</td>\n",
              "      <td>0</td>\n",
              "      <td>0</td>\n",
              "      <td>0</td>\n",
              "    </tr>\n",
              "  </tbody>\n",
              "</table>\n",
              "<p>2 rows × 785 columns</p>\n",
              "</div>\n",
              "    <div class=\"colab-df-buttons\">\n",
              "\n",
              "  <div class=\"colab-df-container\">\n",
              "    <button class=\"colab-df-convert\" onclick=\"convertToInteractive('df-d22254df-82ce-422e-a164-bb59d66d6721')\"\n",
              "            title=\"Convert this dataframe to an interactive table.\"\n",
              "            style=\"display:none;\">\n",
              "\n",
              "  <svg xmlns=\"http://www.w3.org/2000/svg\" height=\"24px\" viewBox=\"0 -960 960 960\">\n",
              "    <path d=\"M120-120v-720h720v720H120Zm60-500h600v-160H180v160Zm220 220h160v-160H400v160Zm0 220h160v-160H400v160ZM180-400h160v-160H180v160Zm440 0h160v-160H620v160ZM180-180h160v-160H180v160Zm440 0h160v-160H620v160Z\"/>\n",
              "  </svg>\n",
              "    </button>\n",
              "\n",
              "  <style>\n",
              "    .colab-df-container {\n",
              "      display:flex;\n",
              "      gap: 12px;\n",
              "    }\n",
              "\n",
              "    .colab-df-convert {\n",
              "      background-color: #E8F0FE;\n",
              "      border: none;\n",
              "      border-radius: 50%;\n",
              "      cursor: pointer;\n",
              "      display: none;\n",
              "      fill: #1967D2;\n",
              "      height: 32px;\n",
              "      padding: 0 0 0 0;\n",
              "      width: 32px;\n",
              "    }\n",
              "\n",
              "    .colab-df-convert:hover {\n",
              "      background-color: #E2EBFA;\n",
              "      box-shadow: 0px 1px 2px rgba(60, 64, 67, 0.3), 0px 1px 3px 1px rgba(60, 64, 67, 0.15);\n",
              "      fill: #174EA6;\n",
              "    }\n",
              "\n",
              "    .colab-df-buttons div {\n",
              "      margin-bottom: 4px;\n",
              "    }\n",
              "\n",
              "    [theme=dark] .colab-df-convert {\n",
              "      background-color: #3B4455;\n",
              "      fill: #D2E3FC;\n",
              "    }\n",
              "\n",
              "    [theme=dark] .colab-df-convert:hover {\n",
              "      background-color: #434B5C;\n",
              "      box-shadow: 0px 1px 3px 1px rgba(0, 0, 0, 0.15);\n",
              "      filter: drop-shadow(0px 1px 2px rgba(0, 0, 0, 0.3));\n",
              "      fill: #FFFFFF;\n",
              "    }\n",
              "  </style>\n",
              "\n",
              "    <script>\n",
              "      const buttonEl =\n",
              "        document.querySelector('#df-d22254df-82ce-422e-a164-bb59d66d6721 button.colab-df-convert');\n",
              "      buttonEl.style.display =\n",
              "        google.colab.kernel.accessAllowed ? 'block' : 'none';\n",
              "\n",
              "      async function convertToInteractive(key) {\n",
              "        const element = document.querySelector('#df-d22254df-82ce-422e-a164-bb59d66d6721');\n",
              "        const dataTable =\n",
              "          await google.colab.kernel.invokeFunction('convertToInteractive',\n",
              "                                                    [key], {});\n",
              "        if (!dataTable) return;\n",
              "\n",
              "        const docLinkHtml = 'Like what you see? Visit the ' +\n",
              "          '<a target=\"_blank\" href=https://colab.research.google.com/notebooks/data_table.ipynb>data table notebook</a>'\n",
              "          + ' to learn more about interactive tables.';\n",
              "        element.innerHTML = '';\n",
              "        dataTable['output_type'] = 'display_data';\n",
              "        await google.colab.output.renderOutput(dataTable, element);\n",
              "        const docLink = document.createElement('div');\n",
              "        docLink.innerHTML = docLinkHtml;\n",
              "        element.appendChild(docLink);\n",
              "      }\n",
              "    </script>\n",
              "  </div>\n",
              "\n",
              "\n",
              "<div id=\"df-f191297c-2f42-463c-a475-edc6474eca01\">\n",
              "  <button class=\"colab-df-quickchart\" onclick=\"quickchart('df-f191297c-2f42-463c-a475-edc6474eca01')\"\n",
              "            title=\"Suggest charts\"\n",
              "            style=\"display:none;\">\n",
              "\n",
              "<svg xmlns=\"http://www.w3.org/2000/svg\" height=\"24px\"viewBox=\"0 0 24 24\"\n",
              "     width=\"24px\">\n",
              "    <g>\n",
              "        <path d=\"M19 3H5c-1.1 0-2 .9-2 2v14c0 1.1.9 2 2 2h14c1.1 0 2-.9 2-2V5c0-1.1-.9-2-2-2zM9 17H7v-7h2v7zm4 0h-2V7h2v10zm4 0h-2v-4h2v4z\"/>\n",
              "    </g>\n",
              "</svg>\n",
              "  </button>\n",
              "\n",
              "<style>\n",
              "  .colab-df-quickchart {\n",
              "      --bg-color: #E8F0FE;\n",
              "      --fill-color: #1967D2;\n",
              "      --hover-bg-color: #E2EBFA;\n",
              "      --hover-fill-color: #174EA6;\n",
              "      --disabled-fill-color: #AAA;\n",
              "      --disabled-bg-color: #DDD;\n",
              "  }\n",
              "\n",
              "  [theme=dark] .colab-df-quickchart {\n",
              "      --bg-color: #3B4455;\n",
              "      --fill-color: #D2E3FC;\n",
              "      --hover-bg-color: #434B5C;\n",
              "      --hover-fill-color: #FFFFFF;\n",
              "      --disabled-bg-color: #3B4455;\n",
              "      --disabled-fill-color: #666;\n",
              "  }\n",
              "\n",
              "  .colab-df-quickchart {\n",
              "    background-color: var(--bg-color);\n",
              "    border: none;\n",
              "    border-radius: 50%;\n",
              "    cursor: pointer;\n",
              "    display: none;\n",
              "    fill: var(--fill-color);\n",
              "    height: 32px;\n",
              "    padding: 0;\n",
              "    width: 32px;\n",
              "  }\n",
              "\n",
              "  .colab-df-quickchart:hover {\n",
              "    background-color: var(--hover-bg-color);\n",
              "    box-shadow: 0 1px 2px rgba(60, 64, 67, 0.3), 0 1px 3px 1px rgba(60, 64, 67, 0.15);\n",
              "    fill: var(--button-hover-fill-color);\n",
              "  }\n",
              "\n",
              "  .colab-df-quickchart-complete:disabled,\n",
              "  .colab-df-quickchart-complete:disabled:hover {\n",
              "    background-color: var(--disabled-bg-color);\n",
              "    fill: var(--disabled-fill-color);\n",
              "    box-shadow: none;\n",
              "  }\n",
              "\n",
              "  .colab-df-spinner {\n",
              "    border: 2px solid var(--fill-color);\n",
              "    border-color: transparent;\n",
              "    border-bottom-color: var(--fill-color);\n",
              "    animation:\n",
              "      spin 1s steps(1) infinite;\n",
              "  }\n",
              "\n",
              "  @keyframes spin {\n",
              "    0% {\n",
              "      border-color: transparent;\n",
              "      border-bottom-color: var(--fill-color);\n",
              "      border-left-color: var(--fill-color);\n",
              "    }\n",
              "    20% {\n",
              "      border-color: transparent;\n",
              "      border-left-color: var(--fill-color);\n",
              "      border-top-color: var(--fill-color);\n",
              "    }\n",
              "    30% {\n",
              "      border-color: transparent;\n",
              "      border-left-color: var(--fill-color);\n",
              "      border-top-color: var(--fill-color);\n",
              "      border-right-color: var(--fill-color);\n",
              "    }\n",
              "    40% {\n",
              "      border-color: transparent;\n",
              "      border-right-color: var(--fill-color);\n",
              "      border-top-color: var(--fill-color);\n",
              "    }\n",
              "    60% {\n",
              "      border-color: transparent;\n",
              "      border-right-color: var(--fill-color);\n",
              "    }\n",
              "    80% {\n",
              "      border-color: transparent;\n",
              "      border-right-color: var(--fill-color);\n",
              "      border-bottom-color: var(--fill-color);\n",
              "    }\n",
              "    90% {\n",
              "      border-color: transparent;\n",
              "      border-bottom-color: var(--fill-color);\n",
              "    }\n",
              "  }\n",
              "</style>\n",
              "\n",
              "  <script>\n",
              "    async function quickchart(key) {\n",
              "      const quickchartButtonEl =\n",
              "        document.querySelector('#' + key + ' button');\n",
              "      quickchartButtonEl.disabled = true;  // To prevent multiple clicks.\n",
              "      quickchartButtonEl.classList.add('colab-df-spinner');\n",
              "      try {\n",
              "        const charts = await google.colab.kernel.invokeFunction(\n",
              "            'suggestCharts', [key], {});\n",
              "      } catch (error) {\n",
              "        console.error('Error during call to suggestCharts:', error);\n",
              "      }\n",
              "      quickchartButtonEl.classList.remove('colab-df-spinner');\n",
              "      quickchartButtonEl.classList.add('colab-df-quickchart-complete');\n",
              "    }\n",
              "    (() => {\n",
              "      let quickchartButtonEl =\n",
              "        document.querySelector('#df-f191297c-2f42-463c-a475-edc6474eca01 button');\n",
              "      quickchartButtonEl.style.display =\n",
              "        google.colab.kernel.accessAllowed ? 'block' : 'none';\n",
              "    })();\n",
              "  </script>\n",
              "</div>\n",
              "\n",
              "    </div>\n",
              "  </div>\n"
            ],
            "application/vnd.google.colaboratory.intrinsic+json": {
              "type": "dataframe",
              "variable_name": "odf"
            }
          },
          "metadata": {},
          "execution_count": 5
        }
      ]
    },
    {
      "cell_type": "code",
      "source": [
        "odf.shape"
      ],
      "metadata": {
        "colab": {
          "base_uri": "https://localhost:8080/"
        },
        "id": "iHRFYOrtgI-q",
        "outputId": "eae07d3c-327c-4ed2-ee95-853dfdbd7e7e"
      },
      "execution_count": null,
      "outputs": [
        {
          "output_type": "execute_result",
          "data": {
            "text/plain": [
              "(70000, 785)"
            ]
          },
          "metadata": {},
          "execution_count": 6
        }
      ]
    },
    {
      "cell_type": "code",
      "source": [
        "df = pd.read_csv('./mnist_784.csv')\n",
        "df.head(2)"
      ],
      "metadata": {
        "colab": {
          "base_uri": "https://localhost:8080/",
          "height": 161
        },
        "id": "mLN1V2QrshKY",
        "outputId": "6bd92885-9e8c-43a2-a5e8-6a5594d4d66c"
      },
      "execution_count": null,
      "outputs": [
        {
          "output_type": "execute_result",
          "data": {
            "text/plain": [
              "   pixel1  pixel2  pixel3  pixel4  pixel5  pixel6  pixel7  pixel8  pixel9  \\\n",
              "0       0       0       0       0       0       0       0       0       0   \n",
              "1       0       0       0       0       0       0       0       0       0   \n",
              "\n",
              "   pixel10  ...  pixel776  pixel777  pixel778  pixel779  pixel780  pixel781  \\\n",
              "0        0  ...         0         0         0         0         0         0   \n",
              "1        0  ...         0         0         0         0         0         0   \n",
              "\n",
              "   pixel782  pixel783  pixel784  class  \n",
              "0         0         0         0      5  \n",
              "1         0         0         0      0  \n",
              "\n",
              "[2 rows x 785 columns]"
            ],
            "text/html": [
              "\n",
              "  <div id=\"df-0b91b089-c3f2-4824-9889-38d057f12d54\" class=\"colab-df-container\">\n",
              "    <div>\n",
              "<style scoped>\n",
              "    .dataframe tbody tr th:only-of-type {\n",
              "        vertical-align: middle;\n",
              "    }\n",
              "\n",
              "    .dataframe tbody tr th {\n",
              "        vertical-align: top;\n",
              "    }\n",
              "\n",
              "    .dataframe thead th {\n",
              "        text-align: right;\n",
              "    }\n",
              "</style>\n",
              "<table border=\"1\" class=\"dataframe\">\n",
              "  <thead>\n",
              "    <tr style=\"text-align: right;\">\n",
              "      <th></th>\n",
              "      <th>pixel1</th>\n",
              "      <th>pixel2</th>\n",
              "      <th>pixel3</th>\n",
              "      <th>pixel4</th>\n",
              "      <th>pixel5</th>\n",
              "      <th>pixel6</th>\n",
              "      <th>pixel7</th>\n",
              "      <th>pixel8</th>\n",
              "      <th>pixel9</th>\n",
              "      <th>pixel10</th>\n",
              "      <th>...</th>\n",
              "      <th>pixel776</th>\n",
              "      <th>pixel777</th>\n",
              "      <th>pixel778</th>\n",
              "      <th>pixel779</th>\n",
              "      <th>pixel780</th>\n",
              "      <th>pixel781</th>\n",
              "      <th>pixel782</th>\n",
              "      <th>pixel783</th>\n",
              "      <th>pixel784</th>\n",
              "      <th>class</th>\n",
              "    </tr>\n",
              "  </thead>\n",
              "  <tbody>\n",
              "    <tr>\n",
              "      <th>0</th>\n",
              "      <td>0</td>\n",
              "      <td>0</td>\n",
              "      <td>0</td>\n",
              "      <td>0</td>\n",
              "      <td>0</td>\n",
              "      <td>0</td>\n",
              "      <td>0</td>\n",
              "      <td>0</td>\n",
              "      <td>0</td>\n",
              "      <td>0</td>\n",
              "      <td>...</td>\n",
              "      <td>0</td>\n",
              "      <td>0</td>\n",
              "      <td>0</td>\n",
              "      <td>0</td>\n",
              "      <td>0</td>\n",
              "      <td>0</td>\n",
              "      <td>0</td>\n",
              "      <td>0</td>\n",
              "      <td>0</td>\n",
              "      <td>5</td>\n",
              "    </tr>\n",
              "    <tr>\n",
              "      <th>1</th>\n",
              "      <td>0</td>\n",
              "      <td>0</td>\n",
              "      <td>0</td>\n",
              "      <td>0</td>\n",
              "      <td>0</td>\n",
              "      <td>0</td>\n",
              "      <td>0</td>\n",
              "      <td>0</td>\n",
              "      <td>0</td>\n",
              "      <td>0</td>\n",
              "      <td>...</td>\n",
              "      <td>0</td>\n",
              "      <td>0</td>\n",
              "      <td>0</td>\n",
              "      <td>0</td>\n",
              "      <td>0</td>\n",
              "      <td>0</td>\n",
              "      <td>0</td>\n",
              "      <td>0</td>\n",
              "      <td>0</td>\n",
              "      <td>0</td>\n",
              "    </tr>\n",
              "  </tbody>\n",
              "</table>\n",
              "<p>2 rows × 785 columns</p>\n",
              "</div>\n",
              "    <div class=\"colab-df-buttons\">\n",
              "\n",
              "  <div class=\"colab-df-container\">\n",
              "    <button class=\"colab-df-convert\" onclick=\"convertToInteractive('df-0b91b089-c3f2-4824-9889-38d057f12d54')\"\n",
              "            title=\"Convert this dataframe to an interactive table.\"\n",
              "            style=\"display:none;\">\n",
              "\n",
              "  <svg xmlns=\"http://www.w3.org/2000/svg\" height=\"24px\" viewBox=\"0 -960 960 960\">\n",
              "    <path d=\"M120-120v-720h720v720H120Zm60-500h600v-160H180v160Zm220 220h160v-160H400v160Zm0 220h160v-160H400v160ZM180-400h160v-160H180v160Zm440 0h160v-160H620v160ZM180-180h160v-160H180v160Zm440 0h160v-160H620v160Z\"/>\n",
              "  </svg>\n",
              "    </button>\n",
              "\n",
              "  <style>\n",
              "    .colab-df-container {\n",
              "      display:flex;\n",
              "      gap: 12px;\n",
              "    }\n",
              "\n",
              "    .colab-df-convert {\n",
              "      background-color: #E8F0FE;\n",
              "      border: none;\n",
              "      border-radius: 50%;\n",
              "      cursor: pointer;\n",
              "      display: none;\n",
              "      fill: #1967D2;\n",
              "      height: 32px;\n",
              "      padding: 0 0 0 0;\n",
              "      width: 32px;\n",
              "    }\n",
              "\n",
              "    .colab-df-convert:hover {\n",
              "      background-color: #E2EBFA;\n",
              "      box-shadow: 0px 1px 2px rgba(60, 64, 67, 0.3), 0px 1px 3px 1px rgba(60, 64, 67, 0.15);\n",
              "      fill: #174EA6;\n",
              "    }\n",
              "\n",
              "    .colab-df-buttons div {\n",
              "      margin-bottom: 4px;\n",
              "    }\n",
              "\n",
              "    [theme=dark] .colab-df-convert {\n",
              "      background-color: #3B4455;\n",
              "      fill: #D2E3FC;\n",
              "    }\n",
              "\n",
              "    [theme=dark] .colab-df-convert:hover {\n",
              "      background-color: #434B5C;\n",
              "      box-shadow: 0px 1px 3px 1px rgba(0, 0, 0, 0.15);\n",
              "      filter: drop-shadow(0px 1px 2px rgba(0, 0, 0, 0.3));\n",
              "      fill: #FFFFFF;\n",
              "    }\n",
              "  </style>\n",
              "\n",
              "    <script>\n",
              "      const buttonEl =\n",
              "        document.querySelector('#df-0b91b089-c3f2-4824-9889-38d057f12d54 button.colab-df-convert');\n",
              "      buttonEl.style.display =\n",
              "        google.colab.kernel.accessAllowed ? 'block' : 'none';\n",
              "\n",
              "      async function convertToInteractive(key) {\n",
              "        const element = document.querySelector('#df-0b91b089-c3f2-4824-9889-38d057f12d54');\n",
              "        const dataTable =\n",
              "          await google.colab.kernel.invokeFunction('convertToInteractive',\n",
              "                                                    [key], {});\n",
              "        if (!dataTable) return;\n",
              "\n",
              "        const docLinkHtml = 'Like what you see? Visit the ' +\n",
              "          '<a target=\"_blank\" href=https://colab.research.google.com/notebooks/data_table.ipynb>data table notebook</a>'\n",
              "          + ' to learn more about interactive tables.';\n",
              "        element.innerHTML = '';\n",
              "        dataTable['output_type'] = 'display_data';\n",
              "        await google.colab.output.renderOutput(dataTable, element);\n",
              "        const docLink = document.createElement('div');\n",
              "        docLink.innerHTML = docLinkHtml;\n",
              "        element.appendChild(docLink);\n",
              "      }\n",
              "    </script>\n",
              "  </div>\n",
              "\n",
              "\n",
              "<div id=\"df-f19f86f4-1760-46bb-bb4b-23bcf60d537a\">\n",
              "  <button class=\"colab-df-quickchart\" onclick=\"quickchart('df-f19f86f4-1760-46bb-bb4b-23bcf60d537a')\"\n",
              "            title=\"Suggest charts\"\n",
              "            style=\"display:none;\">\n",
              "\n",
              "<svg xmlns=\"http://www.w3.org/2000/svg\" height=\"24px\"viewBox=\"0 0 24 24\"\n",
              "     width=\"24px\">\n",
              "    <g>\n",
              "        <path d=\"M19 3H5c-1.1 0-2 .9-2 2v14c0 1.1.9 2 2 2h14c1.1 0 2-.9 2-2V5c0-1.1-.9-2-2-2zM9 17H7v-7h2v7zm4 0h-2V7h2v10zm4 0h-2v-4h2v4z\"/>\n",
              "    </g>\n",
              "</svg>\n",
              "  </button>\n",
              "\n",
              "<style>\n",
              "  .colab-df-quickchart {\n",
              "      --bg-color: #E8F0FE;\n",
              "      --fill-color: #1967D2;\n",
              "      --hover-bg-color: #E2EBFA;\n",
              "      --hover-fill-color: #174EA6;\n",
              "      --disabled-fill-color: #AAA;\n",
              "      --disabled-bg-color: #DDD;\n",
              "  }\n",
              "\n",
              "  [theme=dark] .colab-df-quickchart {\n",
              "      --bg-color: #3B4455;\n",
              "      --fill-color: #D2E3FC;\n",
              "      --hover-bg-color: #434B5C;\n",
              "      --hover-fill-color: #FFFFFF;\n",
              "      --disabled-bg-color: #3B4455;\n",
              "      --disabled-fill-color: #666;\n",
              "  }\n",
              "\n",
              "  .colab-df-quickchart {\n",
              "    background-color: var(--bg-color);\n",
              "    border: none;\n",
              "    border-radius: 50%;\n",
              "    cursor: pointer;\n",
              "    display: none;\n",
              "    fill: var(--fill-color);\n",
              "    height: 32px;\n",
              "    padding: 0;\n",
              "    width: 32px;\n",
              "  }\n",
              "\n",
              "  .colab-df-quickchart:hover {\n",
              "    background-color: var(--hover-bg-color);\n",
              "    box-shadow: 0 1px 2px rgba(60, 64, 67, 0.3), 0 1px 3px 1px rgba(60, 64, 67, 0.15);\n",
              "    fill: var(--button-hover-fill-color);\n",
              "  }\n",
              "\n",
              "  .colab-df-quickchart-complete:disabled,\n",
              "  .colab-df-quickchart-complete:disabled:hover {\n",
              "    background-color: var(--disabled-bg-color);\n",
              "    fill: var(--disabled-fill-color);\n",
              "    box-shadow: none;\n",
              "  }\n",
              "\n",
              "  .colab-df-spinner {\n",
              "    border: 2px solid var(--fill-color);\n",
              "    border-color: transparent;\n",
              "    border-bottom-color: var(--fill-color);\n",
              "    animation:\n",
              "      spin 1s steps(1) infinite;\n",
              "  }\n",
              "\n",
              "  @keyframes spin {\n",
              "    0% {\n",
              "      border-color: transparent;\n",
              "      border-bottom-color: var(--fill-color);\n",
              "      border-left-color: var(--fill-color);\n",
              "    }\n",
              "    20% {\n",
              "      border-color: transparent;\n",
              "      border-left-color: var(--fill-color);\n",
              "      border-top-color: var(--fill-color);\n",
              "    }\n",
              "    30% {\n",
              "      border-color: transparent;\n",
              "      border-left-color: var(--fill-color);\n",
              "      border-top-color: var(--fill-color);\n",
              "      border-right-color: var(--fill-color);\n",
              "    }\n",
              "    40% {\n",
              "      border-color: transparent;\n",
              "      border-right-color: var(--fill-color);\n",
              "      border-top-color: var(--fill-color);\n",
              "    }\n",
              "    60% {\n",
              "      border-color: transparent;\n",
              "      border-right-color: var(--fill-color);\n",
              "    }\n",
              "    80% {\n",
              "      border-color: transparent;\n",
              "      border-right-color: var(--fill-color);\n",
              "      border-bottom-color: var(--fill-color);\n",
              "    }\n",
              "    90% {\n",
              "      border-color: transparent;\n",
              "      border-bottom-color: var(--fill-color);\n",
              "    }\n",
              "  }\n",
              "</style>\n",
              "\n",
              "  <script>\n",
              "    async function quickchart(key) {\n",
              "      const quickchartButtonEl =\n",
              "        document.querySelector('#' + key + ' button');\n",
              "      quickchartButtonEl.disabled = true;  // To prevent multiple clicks.\n",
              "      quickchartButtonEl.classList.add('colab-df-spinner');\n",
              "      try {\n",
              "        const charts = await google.colab.kernel.invokeFunction(\n",
              "            'suggestCharts', [key], {});\n",
              "      } catch (error) {\n",
              "        console.error('Error during call to suggestCharts:', error);\n",
              "      }\n",
              "      quickchartButtonEl.classList.remove('colab-df-spinner');\n",
              "      quickchartButtonEl.classList.add('colab-df-quickchart-complete');\n",
              "    }\n",
              "    (() => {\n",
              "      let quickchartButtonEl =\n",
              "        document.querySelector('#df-f19f86f4-1760-46bb-bb4b-23bcf60d537a button');\n",
              "      quickchartButtonEl.style.display =\n",
              "        google.colab.kernel.accessAllowed ? 'block' : 'none';\n",
              "    })();\n",
              "  </script>\n",
              "</div>\n",
              "\n",
              "    </div>\n",
              "  </div>\n"
            ],
            "application/vnd.google.colaboratory.intrinsic+json": {
              "type": "dataframe",
              "variable_name": "df"
            }
          },
          "metadata": {},
          "execution_count": 7
        }
      ]
    },
    {
      "cell_type": "code",
      "source": [
        "df.shape"
      ],
      "metadata": {
        "colab": {
          "base_uri": "https://localhost:8080/"
        },
        "id": "INyYINLrgHmK",
        "outputId": "530b1937-ea5d-4a30-ca74-e6a9c8b554c9"
      },
      "execution_count": null,
      "outputs": [
        {
          "output_type": "execute_result",
          "data": {
            "text/plain": [
              "(70000, 785)"
            ]
          },
          "metadata": {},
          "execution_count": 8
        }
      ]
    },
    {
      "cell_type": "markdown",
      "source": [
        "## Refactored Shift Code"
      ],
      "metadata": {
        "id": "528FcCZLnbMZ"
      }
    },
    {
      "cell_type": "markdown",
      "source": [
        "This code if run will generate the ~250,000 shifted images.  Due to python and code inefficiences it will take between 12 and 24 hours and for that reason is not run here."
      ],
      "metadata": {
        "id": "qlVfeRC70TSy"
      }
    },
    {
      "cell_type": "code",
      "source": [
        "import numpy as np\n",
        "\n",
        "weights = [[-1, 0], [1,0], [0,-1],[0,1]]\n",
        "\n",
        "for z in range(len(odf)):\n",
        "  for i, weight in enumerate(weights):\n",
        "    new_row = odf.iloc[z, 0:785]\n",
        "    image_data = new_row[0:784].values\n",
        "    columns = df.columns.tolist()\n",
        "    columns.remove('class')\n",
        "    image_data = image_data.reshape(28, 28)\n",
        "    dx, dy = weight\n",
        "    shifted_image = np.zeros(image_data.shape)\n",
        "    for x in range(1, 27):\n",
        "      for y in range(1, 27):\n",
        "        new_y = y + dy\n",
        "        new_x = x + dx\n",
        "        shifted_image[new_x, new_y] = image_data[x, y]\n",
        "    shifted_image = shifted_image.reshape(1, 784)\n",
        "    sh_img = pd.DataFrame(shifted_image, columns=columns)\n",
        "    sh_img['class'] = new_row['class']\n",
        "    new_row = sh_img\n",
        "    df = pd.concat([df, new_row], ignore_index=True)"
      ],
      "metadata": {
        "id": "YCyqWTTnnY-x"
      },
      "execution_count": null,
      "outputs": []
    },
    {
      "cell_type": "markdown",
      "source": [
        "## MNIST Cont."
      ],
      "metadata": {
        "id": "iBy4GBPtnmx0"
      }
    },
    {
      "cell_type": "code",
      "source": [
        "X = df.iloc[:, 0:784].values\n",
        "y = df['class'].astype(str).values"
      ],
      "metadata": {
        "id": "4GuXqE3MVFb2"
      },
      "execution_count": null,
      "outputs": []
    },
    {
      "cell_type": "code",
      "source": [
        "X\n",
        "X.shape"
      ],
      "metadata": {
        "colab": {
          "base_uri": "https://localhost:8080/"
        },
        "id": "E_yvnlh2VJhT",
        "outputId": "aeda2e6d-0008-4c33-c3ad-4a0ea65a4274"
      },
      "execution_count": null,
      "outputs": [
        {
          "output_type": "execute_result",
          "data": {
            "text/plain": [
              "(70000, 784)"
            ]
          },
          "metadata": {},
          "execution_count": 10
        }
      ]
    },
    {
      "cell_type": "code",
      "source": [
        "y\n",
        "y.shape"
      ],
      "metadata": {
        "colab": {
          "base_uri": "https://localhost:8080/"
        },
        "id": "PifkHrQwVVPT",
        "outputId": "9629270e-016f-4132-b8ed-9318fe31af2a"
      },
      "execution_count": null,
      "outputs": [
        {
          "output_type": "execute_result",
          "data": {
            "text/plain": [
              "(70000,)"
            ]
          },
          "metadata": {},
          "execution_count": 11
        }
      ]
    },
    {
      "cell_type": "code",
      "source": [
        "import matplotlib.pyplot as plt\n",
        "\n",
        "def plot_digit(image_data):\n",
        "    image = image_data.reshape(28, 28)\n",
        "    plt.imshow(image, cmap=\"binary\")\n",
        "    plt.axis(\"off\")\n",
        "\n",
        "some_digit = X[0]\n",
        "plot_digit(some_digit)\n",
        "save_fig(\"some_digit_plot\")  # extra code\n",
        "plt.show()"
      ],
      "metadata": {
        "colab": {
          "base_uri": "https://localhost:8080/",
          "height": 475
        },
        "id": "FiahGs6HVTlp",
        "outputId": "04b1b8c5-27e0-417e-c323-2f00994ba689"
      },
      "execution_count": null,
      "outputs": [
        {
          "output_type": "display_data",
          "data": {
            "text/plain": [
              "<Figure size 640x480 with 1 Axes>"
            ],
            "image/png": "[encoded data removed]"
          },
          "metadata": {}
        }
      ]
    },
    {
      "cell_type": "code",
      "source": [
        "X_train, X_test, y_train, y_test = X[:60000], X[60000:], y[:60000], y[60000:]"
      ],
      "metadata": {
        "id": "jkA9HUcKXS6A"
      },
      "execution_count": null,
      "outputs": []
    },
    {
      "cell_type": "markdown",
      "source": [
        "## Training"
      ],
      "metadata": {
        "id": "9KvD8nbElaWG"
      }
    },
    {
      "cell_type": "code",
      "source": [
        "y_train_5 = (y_train == '5')  # True for all 5s, False for all other digits\n",
        "y_test_5 = (y_test == '5')"
      ],
      "metadata": {
        "id": "H_aGy3J-XXJB"
      },
      "execution_count": null,
      "outputs": []
    },
    {
      "cell_type": "code",
      "source": [
        "from sklearn.linear_model import SGDClassifier\n",
        "\n",
        "sgd_clf = SGDClassifier(random_state=42)\n",
        "sgd_clf.fit(X_train, y_train_5)"
      ],
      "metadata": {
        "colab": {
          "base_uri": "https://localhost:8080/",
          "height": 80
        },
        "id": "0W_AzRbJXZaK",
        "outputId": "706e2b9e-b577-4c27-db9a-d71d7f55555a"
      },
      "execution_count": null,
      "outputs": [
        {
          "output_type": "execute_result",
          "data": {
            "text/plain": [
              "SGDClassifier(random_state=42)"
            ],
            "text/html": [
              "<style>#sk-container-id-1 {\n",
              "  /* Definition of color scheme common for light and dark mode */\n",
              "  --sklearn-color-text: #000;\n",
              "  --sklearn-color-text-muted: #666;\n",
              "  --sklearn-color-line: gray;\n",
              "  /* Definition of color scheme for unfitted estimators */\n",
              "  --sklearn-color-unfitted-level-0: #fff5e6;\n",
              "  --sklearn-color-unfitted-level-1: #f6e4d2;\n",
              "  --sklearn-color-unfitted-level-2: #ffe0b3;\n",
              "  --sklearn-color-unfitted-level-3: chocolate;\n",
              "  /* Definition of color scheme for fitted estimators */\n",
              "  --sklearn-color-fitted-level-0: #f0f8ff;\n",
              "  --sklearn-color-fitted-level-1: #d4ebff;\n",
              "  --sklearn-color-fitted-level-2: #b3dbfd;\n",
              "  --sklearn-color-fitted-level-3: cornflowerblue;\n",
              "\n",
              "  /* Specific color for light theme */\n",
              "  --sklearn-color-text-on-default-background: var(--sg-text-color, var(--theme-code-foreground, var(--jp-content-font-color1, black)));\n",
              "  --sklearn-color-background: var(--sg-background-color, var(--theme-background, var(--jp-layout-color0, white)));\n",
              "  --sklearn-color-border-box: var(--sg-text-color, var(--theme-code-foreground, var(--jp-content-font-color1, black)));\n",
              "  --sklearn-color-icon: #696969;\n",
              "\n",
              "  @media (prefers-color-scheme: dark) {\n",
              "    /* Redefinition of color scheme for dark theme */\n",
              "    --sklearn-color-text-on-default-background: var(--sg-text-color, var(--theme-code-foreground, var(--jp-content-font-color1, white)));\n",
              "    --sklearn-color-background: var(--sg-background-color, var(--theme-background, var(--jp-layout-color0, #111)));\n",
              "    --sklearn-color-border-box: var(--sg-text-color, var(--theme-code-foreground, var(--jp-content-font-color1, white)));\n",
              "    --sklearn-color-icon: #878787;\n",
              "  }\n",
              "}\n",
              "\n",
              "#sk-container-id-1 {\n",
              "  color: var(--sklearn-color-text);\n",
              "}\n",
              "\n",
              "#sk-container-id-1 pre {\n",
              "  padding: 0;\n",
              "}\n",
              "\n",
              "#sk-container-id-1 input.sk-hidden--visually {\n",
              "  border: 0;\n",
              "  clip: rect(1px 1px 1px 1px);\n",
              "  clip: rect(1px, 1px, 1px, 1px);\n",
              "  height: 1px;\n",
              "  margin: -1px;\n",
              "  overflow: hidden;\n",
              "  padding: 0;\n",
              "  position: absolute;\n",
              "  width: 1px;\n",
              "}\n",
              "\n",
              "#sk-container-id-1 div.sk-dashed-wrapped {\n",
              "  border: 1px dashed var(--sklearn-color-line);\n",
              "  margin: 0 0.4em 0.5em 0.4em;\n",
              "  box-sizing: border-box;\n",
              "  padding-bottom: 0.4em;\n",
              "  background-color: var(--sklearn-color-background);\n",
              "}\n",
              "\n",
              "#sk-container-id-1 div.sk-container {\n",
              "  /* jupyter's `normalize.less` sets `[hidden] { display: none; }`\n",
              "     but bootstrap.min.css set `[hidden] { display: none !important; }`\n",
              "     so we also need the `!important` here to be able to override the\n",
              "     default hidden behavior on the sphinx rendered scikit-learn.org.\n",
              "     See: https://github.com/scikit-learn/scikit-learn/issues/21755 */\n",
              "  display: inline-block !important;\n",
              "  position: relative;\n",
              "}\n",
              "\n",
              "#sk-container-id-1 div.sk-text-repr-fallback {\n",
              "  display: none;\n",
              "}\n",
              "\n",
              "div.sk-parallel-item,\n",
              "div.sk-serial,\n",
              "div.sk-item {\n",
              "  /* draw centered vertical line to link estimators */\n",
              "  background-image: linear-gradient(var(--sklearn-color-text-on-default-background), var(--sklearn-color-text-on-default-background));\n",
              "  background-size: 2px 100%;\n",
              "  background-repeat: no-repeat;\n",
              "  background-position: center center;\n",
              "}\n",
              "\n",
              "/* Parallel-specific style estimator block */\n",
              "\n",
              "#sk-container-id-1 div.sk-parallel-item::after {\n",
              "  content: \"\";\n",
              "  width: 100%;\n",
              "  border-bottom: 2px solid var(--sklearn-color-text-on-default-background);\n",
              "  flex-grow: 1;\n",
              "}\n",
              "\n",
              "#sk-container-id-1 div.sk-parallel {\n",
              "  display: flex;\n",
              "  align-items: stretch;\n",
              "  justify-content: center;\n",
              "  background-color: var(--sklearn-color-background);\n",
              "  position: relative;\n",
              "}\n",
              "\n",
              "#sk-container-id-1 div.sk-parallel-item {\n",
              "  display: flex;\n",
              "  flex-direction: column;\n",
              "}\n",
              "\n",
              "#sk-container-id-1 div.sk-parallel-item:first-child::after {\n",
              "  align-self: flex-end;\n",
              "  width: 50%;\n",
              "}\n",
              "\n",
              "#sk-container-id-1 div.sk-parallel-item:last-child::after {\n",
              "  align-self: flex-start;\n",
              "  width: 50%;\n",
              "}\n",
              "\n",
              "#sk-container-id-1 div.sk-parallel-item:only-child::after {\n",
              "  width: 0;\n",
              "}\n",
              "\n",
              "/* Serial-specific style estimator block */\n",
              "\n",
              "#sk-container-id-1 div.sk-serial {\n",
              "  display: flex;\n",
              "  flex-direction: column;\n",
              "  align-items: center;\n",
              "  background-color: var(--sklearn-color-background);\n",
              "  padding-right: 1em;\n",
              "  padding-left: 1em;\n",
              "}\n",
              "\n",
              "\n",
              "/* Toggleable style: style used for estimator/Pipeline/ColumnTransformer box that is\n",
              "clickable and can be expanded/collapsed.\n",
              "- Pipeline and ColumnTransformer use this feature and define the default style\n",
              "- Estimators will overwrite some part of the style using the `sk-estimator` class\n",
              "*/\n",
              "\n",
              "/* Pipeline and ColumnTransformer style (default) */\n",
              "\n",
              "#sk-container-id-1 div.sk-toggleable {\n",
              "  /* Default theme specific background. It is overwritten whether we have a\n",
              "  specific estimator or a Pipeline/ColumnTransformer */\n",
              "  background-color: var(--sklearn-color-background);\n",
              "}\n",
              "\n",
              "/* Toggleable label */\n",
              "#sk-container-id-1 label.sk-toggleable__label {\n",
              "  cursor: pointer;\n",
              "  display: flex;\n",
              "  width: 100%;\n",
              "  margin-bottom: 0;\n",
              "  padding: 0.5em;\n",
              "  box-sizing: border-box;\n",
              "  text-align: center;\n",
              "  align-items: start;\n",
              "  justify-content: space-between;\n",
              "  gap: 0.5em;\n",
              "}\n",
              "\n",
              "#sk-container-id-1 label.sk-toggleable__label .caption {\n",
              "  font-size: 0.6rem;\n",
              "  font-weight: lighter;\n",
              "  color: var(--sklearn-color-text-muted);\n",
              "}\n",
              "\n",
              "#sk-container-id-1 label.sk-toggleable__label-arrow:before {\n",
              "  /* Arrow on the left of the label */\n",
              "  content: \"▸\";\n",
              "  float: left;\n",
              "  margin-right: 0.25em;\n",
              "  color: var(--sklearn-color-icon);\n",
              "}\n",
              "\n",
              "#sk-container-id-1 label.sk-toggleable__label-arrow:hover:before {\n",
              "  color: var(--sklearn-color-text);\n",
              "}\n",
              "\n",
              "/* Toggleable content - dropdown */\n",
              "\n",
              "#sk-container-id-1 div.sk-toggleable__content {\n",
              "  max-height: 0;\n",
              "  max-width: 0;\n",
              "  overflow: hidden;\n",
              "  text-align: left;\n",
              "  /* unfitted */\n",
              "  background-color: var(--sklearn-color-unfitted-level-0);\n",
              "}\n",
              "\n",
              "#sk-container-id-1 div.sk-toggleable__content.fitted {\n",
              "  /* fitted */\n",
              "  background-color: var(--sklearn-color-fitted-level-0);\n",
              "}\n",
              "\n",
              "#sk-container-id-1 div.sk-toggleable__content pre {\n",
              "  margin: 0.2em;\n",
              "  border-radius: 0.25em;\n",
              "  color: var(--sklearn-color-text);\n",
              "  /* unfitted */\n",
              "  background-color: var(--sklearn-color-unfitted-level-0);\n",
              "}\n",
              "\n",
              "#sk-container-id-1 div.sk-toggleable__content.fitted pre {\n",
              "  /* unfitted */\n",
              "  background-color: var(--sklearn-color-fitted-level-0);\n",
              "}\n",
              "\n",
              "#sk-container-id-1 input.sk-toggleable__control:checked~div.sk-toggleable__content {\n",
              "  /* Expand drop-down */\n",
              "  max-height: 200px;\n",
              "  max-width: 100%;\n",
              "  overflow: auto;\n",
              "}\n",
              "\n",
              "#sk-container-id-1 input.sk-toggleable__control:checked~label.sk-toggleable__label-arrow:before {\n",
              "  content: \"▾\";\n",
              "}\n",
              "\n",
              "/* Pipeline/ColumnTransformer-specific style */\n",
              "\n",
              "#sk-container-id-1 div.sk-label input.sk-toggleable__control:checked~label.sk-toggleable__label {\n",
              "  color: var(--sklearn-color-text);\n",
              "  background-color: var(--sklearn-color-unfitted-level-2);\n",
              "}\n",
              "\n",
              "#sk-container-id-1 div.sk-label.fitted input.sk-toggleable__control:checked~label.sk-toggleable__label {\n",
              "  background-color: var(--sklearn-color-fitted-level-2);\n",
              "}\n",
              "\n",
              "/* Estimator-specific style */\n",
              "\n",
              "/* Colorize estimator box */\n",
              "#sk-container-id-1 div.sk-estimator input.sk-toggleable__control:checked~label.sk-toggleable__label {\n",
              "  /* unfitted */\n",
              "  background-color: var(--sklearn-color-unfitted-level-2);\n",
              "}\n",
              "\n",
              "#sk-container-id-1 div.sk-estimator.fitted input.sk-toggleable__control:checked~label.sk-toggleable__label {\n",
              "  /* fitted */\n",
              "  background-color: var(--sklearn-color-fitted-level-2);\n",
              "}\n",
              "\n",
              "#sk-container-id-1 div.sk-label label.sk-toggleable__label,\n",
              "#sk-container-id-1 div.sk-label label {\n",
              "  /* The background is the default theme color */\n",
              "  color: var(--sklearn-color-text-on-default-background);\n",
              "}\n",
              "\n",
              "/* On hover, darken the color of the background */\n",
              "#sk-container-id-1 div.sk-label:hover label.sk-toggleable__label {\n",
              "  color: var(--sklearn-color-text);\n",
              "  background-color: var(--sklearn-color-unfitted-level-2);\n",
              "}\n",
              "\n",
              "/* Label box, darken color on hover, fitted */\n",
              "#sk-container-id-1 div.sk-label.fitted:hover label.sk-toggleable__label.fitted {\n",
              "  color: var(--sklearn-color-text);\n",
              "  background-color: var(--sklearn-color-fitted-level-2);\n",
              "}\n",
              "\n",
              "/* Estimator label */\n",
              "\n",
              "#sk-container-id-1 div.sk-label label {\n",
              "  font-family: monospace;\n",
              "  font-weight: bold;\n",
              "  display: inline-block;\n",
              "  line-height: 1.2em;\n",
              "}\n",
              "\n",
              "#sk-container-id-1 div.sk-label-container {\n",
              "  text-align: center;\n",
              "}\n",
              "\n",
              "/* Estimator-specific */\n",
              "#sk-container-id-1 div.sk-estimator {\n",
              "  font-family: monospace;\n",
              "  border: 1px dotted var(--sklearn-color-border-box);\n",
              "  border-radius: 0.25em;\n",
              "  box-sizing: border-box;\n",
              "  margin-bottom: 0.5em;\n",
              "  /* unfitted */\n",
              "  background-color: var(--sklearn-color-unfitted-level-0);\n",
              "}\n",
              "\n",
              "#sk-container-id-1 div.sk-estimator.fitted {\n",
              "  /* fitted */\n",
              "  background-color: var(--sklearn-color-fitted-level-0);\n",
              "}\n",
              "\n",
              "/* on hover */\n",
              "#sk-container-id-1 div.sk-estimator:hover {\n",
              "  /* unfitted */\n",
              "  background-color: var(--sklearn-color-unfitted-level-2);\n",
              "}\n",
              "\n",
              "#sk-container-id-1 div.sk-estimator.fitted:hover {\n",
              "  /* fitted */\n",
              "  background-color: var(--sklearn-color-fitted-level-2);\n",
              "}\n",
              "\n",
              "/* Specification for estimator info (e.g. \"i\" and \"?\") */\n",
              "\n",
              "/* Common style for \"i\" and \"?\" */\n",
              "\n",
              ".sk-estimator-doc-link,\n",
              "a:link.sk-estimator-doc-link,\n",
              "a:visited.sk-estimator-doc-link {\n",
              "  float: right;\n",
              "  font-size: smaller;\n",
              "  line-height: 1em;\n",
              "  font-family: monospace;\n",
              "  background-color: var(--sklearn-color-background);\n",
              "  border-radius: 1em;\n",
              "  height: 1em;\n",
              "  width: 1em;\n",
              "  text-decoration: none !important;\n",
              "  margin-left: 0.5em;\n",
              "  text-align: center;\n",
              "  /* unfitted */\n",
              "  border: var(--sklearn-color-unfitted-level-1) 1pt solid;\n",
              "  color: var(--sklearn-color-unfitted-level-1);\n",
              "}\n",
              "\n",
              ".sk-estimator-doc-link.fitted,\n",
              "a:link.sk-estimator-doc-link.fitted,\n",
              "a:visited.sk-estimator-doc-link.fitted {\n",
              "  /* fitted */\n",
              "  border: var(--sklearn-color-fitted-level-1) 1pt solid;\n",
              "  color: var(--sklearn-color-fitted-level-1);\n",
              "}\n",
              "\n",
              "/* On hover */\n",
              "div.sk-estimator:hover .sk-estimator-doc-link:hover,\n",
              ".sk-estimator-doc-link:hover,\n",
              "div.sk-label-container:hover .sk-estimator-doc-link:hover,\n",
              ".sk-estimator-doc-link:hover {\n",
              "  /* unfitted */\n",
              "  background-color: var(--sklearn-color-unfitted-level-3);\n",
              "  color: var(--sklearn-color-background);\n",
              "  text-decoration: none;\n",
              "}\n",
              "\n",
              "div.sk-estimator.fitted:hover .sk-estimator-doc-link.fitted:hover,\n",
              ".sk-estimator-doc-link.fitted:hover,\n",
              "div.sk-label-container:hover .sk-estimator-doc-link.fitted:hover,\n",
              ".sk-estimator-doc-link.fitted:hover {\n",
              "  /* fitted */\n",
              "  background-color: var(--sklearn-color-fitted-level-3);\n",
              "  color: var(--sklearn-color-background);\n",
              "  text-decoration: none;\n",
              "}\n",
              "\n",
              "/* Span, style for the box shown on hovering the info icon */\n",
              ".sk-estimator-doc-link span {\n",
              "  display: none;\n",
              "  z-index: 9999;\n",
              "  position: relative;\n",
              "  font-weight: normal;\n",
              "  right: .2ex;\n",
              "  padding: .5ex;\n",
              "  margin: .5ex;\n",
              "  width: min-content;\n",
              "  min-width: 20ex;\n",
              "  max-width: 50ex;\n",
              "  color: var(--sklearn-color-text);\n",
              "  box-shadow: 2pt 2pt 4pt #999;\n",
              "  /* unfitted */\n",
              "  background: var(--sklearn-color-unfitted-level-0);\n",
              "  border: .5pt solid var(--sklearn-color-unfitted-level-3);\n",
              "}\n",
              "\n",
              ".sk-estimator-doc-link.fitted span {\n",
              "  /* fitted */\n",
              "  background: var(--sklearn-color-fitted-level-0);\n",
              "  border: var(--sklearn-color-fitted-level-3);\n",
              "}\n",
              "\n",
              ".sk-estimator-doc-link:hover span {\n",
              "  display: block;\n",
              "}\n",
              "\n",
              "/* \"?\"-specific style due to the `<a>` HTML tag */\n",
              "\n",
              "#sk-container-id-1 a.estimator_doc_link {\n",
              "  float: right;\n",
              "  font-size: 1rem;\n",
              "  line-height: 1em;\n",
              "  font-family: monospace;\n",
              "  background-color: var(--sklearn-color-background);\n",
              "  border-radius: 1rem;\n",
              "  height: 1rem;\n",
              "  width: 1rem;\n",
              "  text-decoration: none;\n",
              "  /* unfitted */\n",
              "  color: var(--sklearn-color-unfitted-level-1);\n",
              "  border: var(--sklearn-color-unfitted-level-1) 1pt solid;\n",
              "}\n",
              "\n",
              "#sk-container-id-1 a.estimator_doc_link.fitted {\n",
              "  /* fitted */\n",
              "  border: var(--sklearn-color-fitted-level-1) 1pt solid;\n",
              "  color: var(--sklearn-color-fitted-level-1);\n",
              "}\n",
              "\n",
              "/* On hover */\n",
              "#sk-container-id-1 a.estimator_doc_link:hover {\n",
              "  /* unfitted */\n",
              "  background-color: var(--sklearn-color-unfitted-level-3);\n",
              "  color: var(--sklearn-color-background);\n",
              "  text-decoration: none;\n",
              "}\n",
              "\n",
              "#sk-container-id-1 a.estimator_doc_link.fitted:hover {\n",
              "  /* fitted */\n",
              "  background-color: var(--sklearn-color-fitted-level-3);\n",
              "}\n",
              "</style><div id=\"sk-container-id-1\" class=\"sk-top-container\"><div class=\"sk-text-repr-fallback\"><pre>SGDClassifier(random_state=42)</pre><b>In a Jupyter environment, please rerun this cell to show the HTML representation or trust the notebook. <br />On GitHub, the HTML representation is unable to render, please try loading this page with nbviewer.org.</b></div><div class=\"sk-container\" hidden><div class=\"sk-item\"><div class=\"sk-estimator fitted sk-toggleable\"><input class=\"sk-toggleable__control sk-hidden--visually\" id=\"sk-estimator-id-1\" type=\"checkbox\" checked><label for=\"sk-estimator-id-1\" class=\"sk-toggleable__label fitted sk-toggleable__label-arrow\"><div><div>SGDClassifier</div></div><div><a class=\"sk-estimator-doc-link fitted\" rel=\"noreferrer\" target=\"_blank\" href=\"https://scikit-learn.org/1.6/modules/generated/sklearn.linear_model.SGDClassifier.html\">?<span>Documentation for SGDClassifier</span></a><span class=\"sk-estimator-doc-link fitted\">i<span>Fitted</span></span></div></label><div class=\"sk-toggleable__content fitted\"><pre>SGDClassifier(random_state=42)</pre></div> </div></div></div></div>"
            ]
          },
          "metadata": {},
          "execution_count": 15
        }
      ]
    },
    {
      "cell_type": "code",
      "source": [
        "sgd_clf.predict([some_digit])"
      ],
      "metadata": {
        "colab": {
          "base_uri": "https://localhost:8080/"
        },
        "id": "5L5Mla8kXdbb",
        "outputId": "fdaaa7a1-50f1-47a8-97c4-1f3391b8ccc7"
      },
      "execution_count": null,
      "outputs": [
        {
          "output_type": "execute_result",
          "data": {
            "text/plain": [
              "array([ True])"
            ]
          },
          "metadata": {},
          "execution_count": 16
        }
      ]
    },
    {
      "cell_type": "markdown",
      "source": [
        "## Performance Measures"
      ],
      "metadata": {
        "id": "5TAlJe2tlfAC"
      }
    },
    {
      "cell_type": "markdown",
      "source": [
        "### Cross Validation"
      ],
      "metadata": {
        "id": "iyjPJslqljT0"
      }
    },
    {
      "cell_type": "code",
      "source": [
        "from sklearn.model_selection import cross_val_score\n",
        "\n",
        "cross_val_score(sgd_clf, X_train, y_train_5, cv=3, scoring=\"accuracy\")"
      ],
      "metadata": {
        "colab": {
          "base_uri": "https://localhost:8080/"
        },
        "id": "1EJUoWn_XoWp",
        "outputId": "5a08c1ba-c98b-4385-8e09-8718855122e0"
      },
      "execution_count": null,
      "outputs": [
        {
          "output_type": "execute_result",
          "data": {
            "text/plain": [
              "array([0.95035, 0.96035, 0.9604 ])"
            ]
          },
          "metadata": {},
          "execution_count": 17
        }
      ]
    },
    {
      "cell_type": "code",
      "source": [
        "from sklearn.model_selection import StratifiedKFold\n",
        "from sklearn.base import clone\n",
        "\n",
        "skfolds = StratifiedKFold(n_splits=3)  # add shuffle=True if the dataset is not\n",
        "                                       # already shuffled\n",
        "for train_index, test_index in skfolds.split(X_train, y_train_5):\n",
        "    clone_clf = clone(sgd_clf)\n",
        "    X_train_folds = X_train[train_index]\n",
        "    y_train_folds = y_train_5[train_index]\n",
        "    X_test_fold = X_train[test_index]\n",
        "    y_test_fold = y_train_5[test_index]\n",
        "\n",
        "    clone_clf.fit(X_train_folds, y_train_folds)\n",
        "    y_pred = clone_clf.predict(X_test_fold)\n",
        "    n_correct = sum(y_pred == y_test_fold)\n",
        "    print(n_correct / len(y_pred))"
      ],
      "metadata": {
        "colab": {
          "base_uri": "https://localhost:8080/"
        },
        "id": "Wl4zfG3PXy-l",
        "outputId": "8d266b1a-bb59-4708-f60d-6868b1f5f676"
      },
      "execution_count": null,
      "outputs": [
        {
          "output_type": "stream",
          "name": "stdout",
          "text": [
            "0.95035\n",
            "0.96035\n",
            "0.9604\n"
          ]
        }
      ]
    },
    {
      "cell_type": "code",
      "source": [
        "from sklearn.dummy import DummyClassifier\n",
        "\n",
        "dummy_clf = DummyClassifier()\n",
        "dummy_clf.fit(X_train, y_train_5)\n",
        "print(any(dummy_clf.predict(X_train)))"
      ],
      "metadata": {
        "colab": {
          "base_uri": "https://localhost:8080/"
        },
        "id": "kaUBxHZlYFWW",
        "outputId": "37ed7ac8-c6d2-4b5c-c593-3d2d04a2667d"
      },
      "execution_count": null,
      "outputs": [
        {
          "output_type": "stream",
          "name": "stdout",
          "text": [
            "False\n"
          ]
        }
      ]
    },
    {
      "cell_type": "code",
      "source": [
        "cross_val_score(dummy_clf, X_train, y_train_5, cv=3, scoring=\"accuracy\")"
      ],
      "metadata": {
        "colab": {
          "base_uri": "https://localhost:8080/"
        },
        "id": "uTg90PvJYKhU",
        "outputId": "b7575333-227d-419a-ffe2-e7abd0c23abe"
      },
      "execution_count": null,
      "outputs": [
        {
          "output_type": "execute_result",
          "data": {
            "text/plain": [
              "array([0.90965, 0.90965, 0.90965])"
            ]
          },
          "metadata": {},
          "execution_count": 20
        }
      ]
    },
    {
      "cell_type": "markdown",
      "source": [
        "### Confusion Matrix"
      ],
      "metadata": {
        "id": "eu9_pwuClp_b"
      }
    },
    {
      "cell_type": "code",
      "source": [
        "from sklearn.model_selection import cross_val_predict\n",
        "\n",
        "y_train_pred = cross_val_predict(sgd_clf, X_train, y_train_5, cv=3)"
      ],
      "metadata": {
        "id": "s1gYMDtyYLln"
      },
      "execution_count": null,
      "outputs": []
    },
    {
      "cell_type": "code",
      "source": [
        "from sklearn.metrics import confusion_matrix\n",
        "\n",
        "cm = confusion_matrix(y_train_5, y_train_pred)\n",
        "cm"
      ],
      "metadata": {
        "colab": {
          "base_uri": "https://localhost:8080/"
        },
        "id": "iRfvAjt7YPlh",
        "outputId": "ee4483eb-0178-48b4-86e3-b62ee99bd6b8"
      },
      "execution_count": null,
      "outputs": [
        {
          "output_type": "execute_result",
          "data": {
            "text/plain": [
              "array([[53892,   687],\n",
              "       [ 1891,  3530]])"
            ]
          },
          "metadata": {},
          "execution_count": 33
        }
      ]
    },
    {
      "cell_type": "code",
      "source": [
        "y_train_perfect_predictions = y_train_5  # pretend we reached perfection\n",
        "confusion_matrix(y_train_5, y_train_perfect_predictions)"
      ],
      "metadata": {
        "colab": {
          "base_uri": "https://localhost:8080/"
        },
        "id": "8wRWpnX5YQMl",
        "outputId": "cdeb26c2-8e5a-4600-fbcc-d72fa35dba97"
      },
      "execution_count": null,
      "outputs": [
        {
          "output_type": "execute_result",
          "data": {
            "text/plain": [
              "array([[54579,     0],\n",
              "       [    0,  5421]])"
            ]
          },
          "metadata": {},
          "execution_count": 34
        }
      ]
    },
    {
      "cell_type": "markdown",
      "source": [
        "### Precision & Recall"
      ],
      "metadata": {
        "id": "Mtn9pvE_lwiK"
      }
    },
    {
      "cell_type": "code",
      "source": [
        "from sklearn.metrics import precision_score, recall_score\n",
        "\n",
        "precision_score(y_train_5, y_train_pred)  # == 3530 / (687 + 3530)"
      ],
      "metadata": {
        "colab": {
          "base_uri": "https://localhost:8080/"
        },
        "id": "dgJWdxfZYYpw",
        "outputId": "e9f825ea-0376-4674-c1f1-a71d58af0295"
      },
      "execution_count": null,
      "outputs": [
        {
          "output_type": "execute_result",
          "data": {
            "text/plain": [
              "0.8370879772350012"
            ]
          },
          "metadata": {},
          "execution_count": 35
        }
      ]
    },
    {
      "cell_type": "code",
      "source": [
        "# extra code – this cell also computes the precision: TP / (FP + TP)\n",
        "cm[1, 1] / (cm[0, 1] + cm[1, 1])"
      ],
      "metadata": {
        "colab": {
          "base_uri": "https://localhost:8080/"
        },
        "id": "MqmTaVNDYeFp",
        "outputId": "ec03b91f-aa3a-4915-b8b8-275dc0755312"
      },
      "execution_count": null,
      "outputs": [
        {
          "output_type": "execute_result",
          "data": {
            "text/plain": [
              "0.8370879772350012"
            ]
          },
          "metadata": {},
          "execution_count": 36
        }
      ]
    },
    {
      "cell_type": "code",
      "source": [
        "recall_score(y_train_5, y_train_pred)  # == 3530 / (1891 + 3530)"
      ],
      "metadata": {
        "colab": {
          "base_uri": "https://localhost:8080/"
        },
        "id": "3Yq4yvCzYfBp",
        "outputId": "db973c33-9e42-48bd-d0e5-d3160ae925f8"
      },
      "execution_count": null,
      "outputs": [
        {
          "output_type": "execute_result",
          "data": {
            "text/plain": [
              "0.6511713705958311"
            ]
          },
          "metadata": {},
          "execution_count": 37
        }
      ]
    },
    {
      "cell_type": "code",
      "source": [
        "# extra code – this cell also computes the recall: TP / (FN + TP)\n",
        "cm[1, 1] / (cm[1, 0] + cm[1, 1])"
      ],
      "metadata": {
        "colab": {
          "base_uri": "https://localhost:8080/"
        },
        "id": "-NVgBNaxYjNi",
        "outputId": "0b564e92-c2f9-41da-8cb0-38d020ba2945"
      },
      "execution_count": null,
      "outputs": [
        {
          "output_type": "execute_result",
          "data": {
            "text/plain": [
              "0.6511713705958311"
            ]
          },
          "metadata": {},
          "execution_count": 38
        }
      ]
    },
    {
      "cell_type": "code",
      "source": [
        "from sklearn.metrics import f1_score\n",
        "\n",
        "f1_score(y_train_5, y_train_pred)"
      ],
      "metadata": {
        "colab": {
          "base_uri": "https://localhost:8080/"
        },
        "id": "sz5YDovAYlJu",
        "outputId": "02bdf526-1a0e-4692-9c9d-642085fbd9f6"
      },
      "execution_count": null,
      "outputs": [
        {
          "output_type": "execute_result",
          "data": {
            "text/plain": [
              "0.7325171197343847"
            ]
          },
          "metadata": {},
          "execution_count": 39
        }
      ]
    },
    {
      "cell_type": "code",
      "source": [
        "# extra code – this cell also computes the f1 score\n",
        "cm[1, 1] / (cm[1, 1] + (cm[1, 0] + cm[0, 1]) / 2)"
      ],
      "metadata": {
        "colab": {
          "base_uri": "https://localhost:8080/"
        },
        "id": "RGvMKMJ0YmNK",
        "outputId": "6e7ffd64-5e0d-410d-86ec-5a2ff2418551"
      },
      "execution_count": null,
      "outputs": [
        {
          "output_type": "execute_result",
          "data": {
            "text/plain": [
              "0.7325171197343847"
            ]
          },
          "metadata": {},
          "execution_count": 40
        }
      ]
    },
    {
      "cell_type": "markdown",
      "source": [
        "### Precision / Recall Trade-off"
      ],
      "metadata": {
        "id": "vK2JoWC5huxy"
      }
    },
    {
      "cell_type": "code",
      "source": [
        "y_scores = sgd_clf.decision_function([some_digit])\n",
        "y_scores"
      ],
      "metadata": {
        "colab": {
          "base_uri": "https://localhost:8080/"
        },
        "id": "2_er7CZGhrGZ",
        "outputId": "1554fdb2-2dee-4c9a-8928-9a7667c6da0a"
      },
      "execution_count": null,
      "outputs": [
        {
          "output_type": "execute_result",
          "data": {
            "text/plain": [
              "array([2164.22030239])"
            ]
          },
          "metadata": {},
          "execution_count": 41
        }
      ]
    },
    {
      "cell_type": "code",
      "source": [
        "threshold = 0\n",
        "y_some_digit_pred = (y_scores > threshold)"
      ],
      "metadata": {
        "id": "Faxxj99EhsEX"
      },
      "execution_count": null,
      "outputs": []
    },
    {
      "cell_type": "code",
      "source": [
        "y_some_digit_pred"
      ],
      "metadata": {
        "colab": {
          "base_uri": "https://localhost:8080/"
        },
        "id": "9DPBYSJTh6AT",
        "outputId": "9ef7535a-8461-442c-a574-97adba6ebf45"
      },
      "execution_count": null,
      "outputs": [
        {
          "output_type": "execute_result",
          "data": {
            "text/plain": [
              "array([ True])"
            ]
          },
          "metadata": {},
          "execution_count": 43
        }
      ]
    },
    {
      "cell_type": "code",
      "source": [
        "y_scores > 0"
      ],
      "metadata": {
        "colab": {
          "base_uri": "https://localhost:8080/"
        },
        "id": "ZLx9yxF0h7Ph",
        "outputId": "85c64c43-42e7-4517-f9ca-60bd9605e49b"
      },
      "execution_count": null,
      "outputs": [
        {
          "output_type": "execute_result",
          "data": {
            "text/plain": [
              "array([ True])"
            ]
          },
          "metadata": {},
          "execution_count": 44
        }
      ]
    },
    {
      "cell_type": "code",
      "source": [
        "threshold = 3000\n",
        "y_some_digit_pred = (y_scores > threshold)\n",
        "y_some_digit_pred"
      ],
      "metadata": {
        "colab": {
          "base_uri": "https://localhost:8080/"
        },
        "id": "TbMx-Rcah9kb",
        "outputId": "f45dc3ee-3e79-4106-a2a5-fce7dc361c68"
      },
      "execution_count": null,
      "outputs": [
        {
          "output_type": "execute_result",
          "data": {
            "text/plain": [
              "array([False])"
            ]
          },
          "metadata": {},
          "execution_count": 45
        }
      ]
    },
    {
      "cell_type": "code",
      "source": [
        "y_scores = cross_val_predict(sgd_clf, X_train, y_train_5, cv=3,\n",
        "                             method=\"decision_function\")"
      ],
      "metadata": {
        "id": "o_clMWBniCRd"
      },
      "execution_count": null,
      "outputs": []
    },
    {
      "cell_type": "code",
      "source": [
        "from sklearn.metrics import precision_recall_curve\n",
        "\n",
        "precisions, recalls, thresholds = precision_recall_curve(y_train_5, y_scores)"
      ],
      "metadata": {
        "id": "DwA1W9P0iDxP"
      },
      "execution_count": null,
      "outputs": []
    },
    {
      "cell_type": "code",
      "source": [
        "plt.figure(figsize=(8, 4))  # extra code – it's not needed, just formatting\n",
        "plt.plot(thresholds, precisions[:-1], \"b--\", label=\"Precision\", linewidth=2)\n",
        "plt.plot(thresholds, recalls[:-1], \"g-\", label=\"Recall\", linewidth=2)\n",
        "plt.vlines(threshold, 0, 1.0, \"k\", \"dotted\", label=\"threshold\")\n",
        "\n",
        "# extra code – this section just beautifies and saves Figure 3–5\n",
        "idx = (thresholds >= threshold).argmax()  # first index ≥ threshold\n",
        "plt.plot(thresholds[idx], precisions[idx], \"bo\")\n",
        "plt.plot(thresholds[idx], recalls[idx], \"go\")\n",
        "plt.axis([-50000, 50000, 0, 1])\n",
        "plt.grid()\n",
        "plt.xlabel(\"Threshold\")\n",
        "plt.legend(loc=\"center right\")\n",
        "save_fig(\"precision_recall_vs_threshold_plot\")\n",
        "\n",
        "plt.show()"
      ],
      "metadata": {
        "colab": {
          "base_uri": "https://localhost:8080/",
          "height": 395
        },
        "id": "J5ke7q5ZiF8U",
        "outputId": "5078dc01-8bed-4b56-c7d3-b18b23dbef08"
      },
      "execution_count": null,
      "outputs": [
        {
          "output_type": "display_data",
          "data": {
            "text/plain": [
              "<Figure size 800x400 with 1 Axes>"
            ],
            "image/png": "[encoded data removed]"
          },
          "metadata": {}
        }
      ]
    },
    {
      "cell_type": "code",
      "source": [
        "import matplotlib.patches as patches  # extra code – for the curved arrow\n",
        "\n",
        "plt.figure(figsize=(6, 5))  # extra code – not needed, just formatting\n",
        "\n",
        "plt.plot(recalls, precisions, linewidth=2, label=\"Precision/Recall curve\")\n",
        "\n",
        "# extra code – just beautifies and saves Figure 3–6\n",
        "plt.plot([recalls[idx], recalls[idx]], [0., precisions[idx]], \"k:\")\n",
        "plt.plot([0.0, recalls[idx]], [precisions[idx], precisions[idx]], \"k:\")\n",
        "plt.plot([recalls[idx]], [precisions[idx]], \"ko\",\n",
        "         label=\"Point at threshold 3,000\")\n",
        "plt.gca().add_patch(patches.FancyArrowPatch(\n",
        "    (0.79, 0.60), (0.61, 0.78),\n",
        "    connectionstyle=\"arc3,rad=.2\",\n",
        "    arrowstyle=\"Simple, tail_width=1.5, head_width=8, head_length=10\",\n",
        "    color=\"#444444\"))\n",
        "plt.text(0.56, 0.62, \"Higher\\nthreshold\", color=\"#333333\")\n",
        "plt.xlabel(\"Recall\")\n",
        "plt.ylabel(\"Precision\")\n",
        "plt.axis([0, 1, 0, 1])\n",
        "plt.grid()\n",
        "plt.legend(loc=\"lower left\")\n",
        "save_fig(\"precision_vs_recall_plot\")\n",
        "\n",
        "plt.show()"
      ],
      "metadata": {
        "colab": {
          "base_uri": "https://localhost:8080/",
          "height": 494
        },
        "id": "q5SKaR7wiIso",
        "outputId": "5915e9ed-f181-47a5-a4d9-123dffbb67f3"
      },
      "execution_count": null,
      "outputs": [
        {
          "output_type": "display_data",
          "data": {
            "text/plain": [
              "<Figure size 600x500 with 1 Axes>"
            ],
            "image/png": "[encoded data removed]"
          },
          "metadata": {}
        }
      ]
    },
    {
      "cell_type": "code",
      "source": [
        "idx_for_90_precision = (precisions >= 0.90).argmax()\n",
        "threshold_for_90_precision = thresholds[idx_for_90_precision]\n",
        "threshold_for_90_precision"
      ],
      "metadata": {
        "colab": {
          "base_uri": "https://localhost:8080/"
        },
        "id": "Ejzc9uXBiLSj",
        "outputId": "09f149dc-9090-4b54-d450-0ae71c40fb94"
      },
      "execution_count": null,
      "outputs": [
        {
          "output_type": "execute_result",
          "data": {
            "text/plain": [
              "3370.0194991439557"
            ]
          },
          "metadata": {},
          "execution_count": 50
        }
      ]
    },
    {
      "cell_type": "code",
      "source": [
        "y_train_pred_90 = (y_scores >= threshold_for_90_precision)"
      ],
      "metadata": {
        "id": "3H0ZXkZriPE8"
      },
      "execution_count": null,
      "outputs": []
    },
    {
      "cell_type": "code",
      "source": [
        "precision_score(y_train_5, y_train_pred_90)"
      ],
      "metadata": {
        "colab": {
          "base_uri": "https://localhost:8080/"
        },
        "id": "I25lEE-siQ30",
        "outputId": "d474989a-a164-43ca-df9b-3012c4922463"
      },
      "execution_count": null,
      "outputs": [
        {
          "output_type": "execute_result",
          "data": {
            "text/plain": [
              "0.9000345901072293"
            ]
          },
          "metadata": {},
          "execution_count": 52
        }
      ]
    },
    {
      "cell_type": "code",
      "source": [
        "recall_at_90_precision = recall_score(y_train_5, y_train_pred_90)\n",
        "recall_at_90_precision"
      ],
      "metadata": {
        "colab": {
          "base_uri": "https://localhost:8080/"
        },
        "id": "c3prdHLBiTgk",
        "outputId": "15c9e02e-0e8a-4e21-d43b-46195170d083"
      },
      "execution_count": null,
      "outputs": [
        {
          "output_type": "execute_result",
          "data": {
            "text/plain": [
              "0.4799852425751706"
            ]
          },
          "metadata": {},
          "execution_count": 53
        }
      ]
    },
    {
      "cell_type": "markdown",
      "source": [
        "### The ROC Curve"
      ],
      "metadata": {
        "id": "E9GLWUAoibhX"
      }
    },
    {
      "cell_type": "code",
      "source": [
        "from sklearn.metrics import roc_curve\n",
        "\n",
        "fpr, tpr, thresholds = roc_curve(y_train_5, y_scores)"
      ],
      "metadata": {
        "id": "f9WJteY_iVU8"
      },
      "execution_count": null,
      "outputs": []
    },
    {
      "cell_type": "code",
      "source": [
        "idx_for_threshold_at_90 = (thresholds <= threshold_for_90_precision).argmax()\n",
        "tpr_90, fpr_90 = tpr[idx_for_threshold_at_90], fpr[idx_for_threshold_at_90]\n",
        "\n",
        "plt.figure(figsize=(6, 5))  # extra code – not needed, just formatting\n",
        "plt.plot(fpr, tpr, linewidth=2, label=\"ROC curve\")\n",
        "plt.plot([0, 1], [0, 1], 'k:', label=\"Random classifier's ROC curve\")\n",
        "plt.plot([fpr_90], [tpr_90], \"ko\", label=\"Threshold for 90% precision\")\n",
        "\n",
        "# extra code – just beautifies and saves Figure 3–7\n",
        "plt.gca().add_patch(patches.FancyArrowPatch(\n",
        "    (0.20, 0.89), (0.07, 0.70),\n",
        "    connectionstyle=\"arc3,rad=.4\",\n",
        "    arrowstyle=\"Simple, tail_width=1.5, head_width=8, head_length=10\",\n",
        "    color=\"#444444\"))\n",
        "plt.text(0.12, 0.71, \"Higher\\nthreshold\", color=\"#333333\")\n",
        "plt.xlabel('False Positive Rate (Fall-Out)')\n",
        "plt.ylabel('True Positive Rate (Recall)')\n",
        "plt.grid()\n",
        "plt.axis([0, 1, 0, 1])\n",
        "plt.legend(loc=\"lower right\", fontsize=13)\n",
        "save_fig(\"roc_curve_plot\")\n",
        "\n",
        "plt.show()"
      ],
      "metadata": {
        "colab": {
          "base_uri": "https://localhost:8080/",
          "height": 494
        },
        "id": "O30n9nI-jLKB",
        "outputId": "59a1b770-52dd-42b0-9e79-3a0f64015aa9"
      },
      "execution_count": null,
      "outputs": [
        {
          "output_type": "display_data",
          "data": {
            "text/plain": [
              "<Figure size 600x500 with 1 Axes>"
            ],
            "image/png": "[encoded data removed]"
          },
          "metadata": {}
        }
      ]
    },
    {
      "cell_type": "code",
      "source": [
        "from sklearn.metrics import roc_auc_score\n",
        "\n",
        "roc_auc_score(y_train_5, y_scores)"
      ],
      "metadata": {
        "colab": {
          "base_uri": "https://localhost:8080/"
        },
        "id": "eK_H0GL6jMUw",
        "outputId": "3867d74c-4d89-4f8c-d6a2-422c45d07b94"
      },
      "execution_count": null,
      "outputs": [
        {
          "output_type": "execute_result",
          "data": {
            "text/plain": [
              "0.9604938554008616"
            ]
          },
          "metadata": {},
          "execution_count": 56
        }
      ]
    },
    {
      "cell_type": "code",
      "source": [
        "from sklearn.ensemble import RandomForestClassifier\n",
        "\n",
        "forest_clf = RandomForestClassifier(random_state=42)"
      ],
      "metadata": {
        "id": "A4aNSwPsjOLy"
      },
      "execution_count": null,
      "outputs": []
    },
    {
      "cell_type": "code",
      "source": [
        "y_probas_forest = cross_val_predict(forest_clf, X_train, y_train_5, cv=3,\n",
        "                                    method=\"predict_proba\")"
      ],
      "metadata": {
        "id": "IGnkObajjQTv"
      },
      "execution_count": null,
      "outputs": []
    },
    {
      "cell_type": "code",
      "source": [
        "y_probas_forest[:2]"
      ],
      "metadata": {
        "colab": {
          "base_uri": "https://localhost:8080/"
        },
        "id": "-mrZh_d9jSpt",
        "outputId": "a39226e6-c580-469c-e0b9-f5ebfc95a362"
      },
      "execution_count": null,
      "outputs": [
        {
          "output_type": "execute_result",
          "data": {
            "text/plain": [
              "array([[0.11, 0.89],\n",
              "       [0.99, 0.01]])"
            ]
          },
          "metadata": {},
          "execution_count": 59
        }
      ]
    },
    {
      "cell_type": "code",
      "source": [
        "idx_50_to_60 = (y_probas_forest[:, 1] > 0.50) & (y_probas_forest[:, 1] < 0.60)\n",
        "print(f\"{(y_train_5[idx_50_to_60]).sum() / idx_50_to_60.sum():.1%}\")"
      ],
      "metadata": {
        "colab": {
          "base_uri": "https://localhost:8080/"
        },
        "id": "CnHZS7lpjWTQ",
        "outputId": "7686e349-1c0f-4f0a-df23-c78d7655b360"
      },
      "execution_count": null,
      "outputs": [
        {
          "output_type": "stream",
          "name": "stdout",
          "text": [
            "94.0%\n"
          ]
        }
      ]
    },
    {
      "cell_type": "code",
      "source": [
        "y_scores_forest = y_probas_forest[:, 1]\n",
        "precisions_forest, recalls_forest, thresholds_forest = precision_recall_curve(\n",
        "    y_train_5, y_scores_forest)"
      ],
      "metadata": {
        "id": "Y8QaRzqMjYq0"
      },
      "execution_count": null,
      "outputs": []
    },
    {
      "cell_type": "code",
      "source": [
        "plt.figure(figsize=(6, 5))  # extra code – not needed, just formatting\n",
        "\n",
        "plt.plot(recalls_forest, precisions_forest, \"b-\", linewidth=2,\n",
        "         label=\"Random Forest\")\n",
        "plt.plot(recalls, precisions, \"--\", linewidth=2, label=\"SGD\")\n",
        "\n",
        "# extra code – just beautifies and saves Figure 3–8\n",
        "plt.xlabel(\"Recall\")\n",
        "plt.ylabel(\"Precision\")\n",
        "plt.axis([0, 1, 0, 1])\n",
        "plt.grid()\n",
        "plt.legend(loc=\"lower left\")\n",
        "save_fig(\"pr_curve_comparison_plot\")\n",
        "\n",
        "plt.show()"
      ],
      "metadata": {
        "colab": {
          "base_uri": "https://localhost:8080/",
          "height": 494
        },
        "id": "JUCz38DxjbEe",
        "outputId": "b3602ef1-b8d4-46dc-a9a5-6cf130a138bc"
      },
      "execution_count": null,
      "outputs": [
        {
          "output_type": "display_data",
          "data": {
            "text/plain": [
              "<Figure size 600x500 with 1 Axes>"
            ],
            "image/png": "[encoded data removed]"
          },
          "metadata": {}
        }
      ]
    },
    {
      "cell_type": "code",
      "source": [
        "plt.figure(figsize=(6, 5))  # extra code – not needed, just formatting\n",
        "\n",
        "plt.plot(recalls_forest, precisions_forest, \"b-\", linewidth=2,\n",
        "         label=\"Random Forest\")\n",
        "plt.plot(recalls, precisions, \"--\", linewidth=2, label=\"SGD\")\n",
        "\n",
        "# extra code – just beautifies and saves Figure 3–8\n",
        "plt.xlabel(\"Recall\")\n",
        "plt.ylabel(\"Precision\")\n",
        "plt.axis([0, 1, 0, 1])\n",
        "plt.grid()\n",
        "plt.legend(loc=\"lower left\")\n",
        "save_fig(\"pr_curve_comparison_plot\")\n",
        "\n",
        "plt.show()"
      ],
      "metadata": {
        "colab": {
          "base_uri": "https://localhost:8080/",
          "height": 494
        },
        "id": "rJZLVYBAjdE8",
        "outputId": "ea9bd3a8-3b79-4cc6-fd0d-ec3b4f4ad29c"
      },
      "execution_count": null,
      "outputs": [
        {
          "output_type": "display_data",
          "data": {
            "text/plain": [
              "<Figure size 600x500 with 1 Axes>"
            ],
            "image/png": "[encoded data removed]"
          },
          "metadata": {}
        }
      ]
    },
    {
      "cell_type": "code",
      "source": [
        "y_train_pred_forest = y_probas_forest[:, 1] >= 0.5  # positive proba ≥ 50%\n",
        "f1_score(y_train_5, y_train_pred_forest)"
      ],
      "metadata": {
        "colab": {
          "base_uri": "https://localhost:8080/"
        },
        "id": "vOxAQp5NjfkK",
        "outputId": "bb21a2fc-37cb-4142-d6af-c11b352ac13a"
      },
      "execution_count": null,
      "outputs": [
        {
          "output_type": "execute_result",
          "data": {
            "text/plain": [
              "0.9274509803921569"
            ]
          },
          "metadata": {},
          "execution_count": 64
        }
      ]
    },
    {
      "cell_type": "code",
      "source": [
        "roc_auc_score(y_train_5, y_scores_forest)"
      ],
      "metadata": {
        "colab": {
          "base_uri": "https://localhost:8080/"
        },
        "id": "pVMIhQxNjjGz",
        "outputId": "cb452121-ba7f-48d6-cf72-7120a64f0fb4"
      },
      "execution_count": null,
      "outputs": [
        {
          "output_type": "execute_result",
          "data": {
            "text/plain": [
              "0.9983436731328145"
            ]
          },
          "metadata": {},
          "execution_count": 65
        }
      ]
    },
    {
      "cell_type": "code",
      "source": [
        "precision_score(y_train_5, y_train_pred_forest)"
      ],
      "metadata": {
        "colab": {
          "base_uri": "https://localhost:8080/"
        },
        "id": "oiW5nzpgjkuP",
        "outputId": "f6292eec-fc60-42a2-f2a5-a7f4cf77b61f"
      },
      "execution_count": null,
      "outputs": [
        {
          "output_type": "execute_result",
          "data": {
            "text/plain": [
              "0.9897468089558485"
            ]
          },
          "metadata": {},
          "execution_count": 66
        }
      ]
    },
    {
      "cell_type": "code",
      "source": [
        "recall_score(y_train_5, y_train_pred_forest)"
      ],
      "metadata": {
        "colab": {
          "base_uri": "https://localhost:8080/"
        },
        "id": "mQSz8432jm88",
        "outputId": "aa98aa17-b0e3-4389-b448-21f357530c01"
      },
      "execution_count": null,
      "outputs": [
        {
          "output_type": "execute_result",
          "data": {
            "text/plain": [
              "0.8725327430363402"
            ]
          },
          "metadata": {},
          "execution_count": 67
        }
      ]
    },
    {
      "cell_type": "markdown",
      "source": [
        "### Multiclass Classification"
      ],
      "metadata": {
        "id": "_ugcF8odjocx"
      }
    },
    {
      "cell_type": "code",
      "source": [
        "from sklearn.svm import SVC\n",
        "\n",
        "svm_clf = SVC(random_state=42)\n",
        "svm_clf.fit(X_train[:2000], y_train[:2000])  # y_train, not y_train_5"
      ],
      "metadata": {
        "colab": {
          "base_uri": "https://localhost:8080/",
          "height": 80
        },
        "id": "oMTTOSEhjrtJ",
        "outputId": "ba0e285e-aaef-4247-b710-32d1becc67e8"
      },
      "execution_count": null,
      "outputs": [
        {
          "output_type": "execute_result",
          "data": {
            "text/plain": [
              "SVC(random_state=42)"
            ],
            "text/html": [
              "<style>#sk-container-id-2 {\n",
              "  /* Definition of color scheme common for light and dark mode */\n",
              "  --sklearn-color-text: #000;\n",
              "  --sklearn-color-text-muted: #666;\n",
              "  --sklearn-color-line: gray;\n",
              "  /* Definition of color scheme for unfitted estimators */\n",
              "  --sklearn-color-unfitted-level-0: #fff5e6;\n",
              "  --sklearn-color-unfitted-level-1: #f6e4d2;\n",
              "  --sklearn-color-unfitted-level-2: #ffe0b3;\n",
              "  --sklearn-color-unfitted-level-3: chocolate;\n",
              "  /* Definition of color scheme for fitted estimators */\n",
              "  --sklearn-color-fitted-level-0: #f0f8ff;\n",
              "  --sklearn-color-fitted-level-1: #d4ebff;\n",
              "  --sklearn-color-fitted-level-2: #b3dbfd;\n",
              "  --sklearn-color-fitted-level-3: cornflowerblue;\n",
              "\n",
              "  /* Specific color for light theme */\n",
              "  --sklearn-color-text-on-default-background: var(--sg-text-color, var(--theme-code-foreground, var(--jp-content-font-color1, black)));\n",
              "  --sklearn-color-background: var(--sg-background-color, var(--theme-background, var(--jp-layout-color0, white)));\n",
              "  --sklearn-color-border-box: var(--sg-text-color, var(--theme-code-foreground, var(--jp-content-font-color1, black)));\n",
              "  --sklearn-color-icon: #696969;\n",
              "\n",
              "  @media (prefers-color-scheme: dark) {\n",
              "    /* Redefinition of color scheme for dark theme */\n",
              "    --sklearn-color-text-on-default-background: var(--sg-text-color, var(--theme-code-foreground, var(--jp-content-font-color1, white)));\n",
              "    --sklearn-color-background: var(--sg-background-color, var(--theme-background, var(--jp-layout-color0, #111)));\n",
              "    --sklearn-color-border-box: var(--sg-text-color, var(--theme-code-foreground, var(--jp-content-font-color1, white)));\n",
              "    --sklearn-color-icon: #878787;\n",
              "  }\n",
              "}\n",
              "\n",
              "#sk-container-id-2 {\n",
              "  color: var(--sklearn-color-text);\n",
              "}\n",
              "\n",
              "#sk-container-id-2 pre {\n",
              "  padding: 0;\n",
              "}\n",
              "\n",
              "#sk-container-id-2 input.sk-hidden--visually {\n",
              "  border: 0;\n",
              "  clip: rect(1px 1px 1px 1px);\n",
              "  clip: rect(1px, 1px, 1px, 1px);\n",
              "  height: 1px;\n",
              "  margin: -1px;\n",
              "  overflow: hidden;\n",
              "  padding: 0;\n",
              "  position: absolute;\n",
              "  width: 1px;\n",
              "}\n",
              "\n",
              "#sk-container-id-2 div.sk-dashed-wrapped {\n",
              "  border: 1px dashed var(--sklearn-color-line);\n",
              "  margin: 0 0.4em 0.5em 0.4em;\n",
              "  box-sizing: border-box;\n",
              "  padding-bottom: 0.4em;\n",
              "  background-color: var(--sklearn-color-background);\n",
              "}\n",
              "\n",
              "#sk-container-id-2 div.sk-container {\n",
              "  /* jupyter's `normalize.less` sets `[hidden] { display: none; }`\n",
              "     but bootstrap.min.css set `[hidden] { display: none !important; }`\n",
              "     so we also need the `!important` here to be able to override the\n",
              "     default hidden behavior on the sphinx rendered scikit-learn.org.\n",
              "     See: https://github.com/scikit-learn/scikit-learn/issues/21755 */\n",
              "  display: inline-block !important;\n",
              "  position: relative;\n",
              "}\n",
              "\n",
              "#sk-container-id-2 div.sk-text-repr-fallback {\n",
              "  display: none;\n",
              "}\n",
              "\n",
              "div.sk-parallel-item,\n",
              "div.sk-serial,\n",
              "div.sk-item {\n",
              "  /* draw centered vertical line to link estimators */\n",
              "  background-image: linear-gradient(var(--sklearn-color-text-on-default-background), var(--sklearn-color-text-on-default-background));\n",
              "  background-size: 2px 100%;\n",
              "  background-repeat: no-repeat;\n",
              "  background-position: center center;\n",
              "}\n",
              "\n",
              "/* Parallel-specific style estimator block */\n",
              "\n",
              "#sk-container-id-2 div.sk-parallel-item::after {\n",
              "  content: \"\";\n",
              "  width: 100%;\n",
              "  border-bottom: 2px solid var(--sklearn-color-text-on-default-background);\n",
              "  flex-grow: 1;\n",
              "}\n",
              "\n",
              "#sk-container-id-2 div.sk-parallel {\n",
              "  display: flex;\n",
              "  align-items: stretch;\n",
              "  justify-content: center;\n",
              "  background-color: var(--sklearn-color-background);\n",
              "  position: relative;\n",
              "}\n",
              "\n",
              "#sk-container-id-2 div.sk-parallel-item {\n",
              "  display: flex;\n",
              "  flex-direction: column;\n",
              "}\n",
              "\n",
              "#sk-container-id-2 div.sk-parallel-item:first-child::after {\n",
              "  align-self: flex-end;\n",
              "  width: 50%;\n",
              "}\n",
              "\n",
              "#sk-container-id-2 div.sk-parallel-item:last-child::after {\n",
              "  align-self: flex-start;\n",
              "  width: 50%;\n",
              "}\n",
              "\n",
              "#sk-container-id-2 div.sk-parallel-item:only-child::after {\n",
              "  width: 0;\n",
              "}\n",
              "\n",
              "/* Serial-specific style estimator block */\n",
              "\n",
              "#sk-container-id-2 div.sk-serial {\n",
              "  display: flex;\n",
              "  flex-direction: column;\n",
              "  align-items: center;\n",
              "  background-color: var(--sklearn-color-background);\n",
              "  padding-right: 1em;\n",
              "  padding-left: 1em;\n",
              "}\n",
              "\n",
              "\n",
              "/* Toggleable style: style used for estimator/Pipeline/ColumnTransformer box that is\n",
              "clickable and can be expanded/collapsed.\n",
              "- Pipeline and ColumnTransformer use this feature and define the default style\n",
              "- Estimators will overwrite some part of the style using the `sk-estimator` class\n",
              "*/\n",
              "\n",
              "/* Pipeline and ColumnTransformer style (default) */\n",
              "\n",
              "#sk-container-id-2 div.sk-toggleable {\n",
              "  /* Default theme specific background. It is overwritten whether we have a\n",
              "  specific estimator or a Pipeline/ColumnTransformer */\n",
              "  background-color: var(--sklearn-color-background);\n",
              "}\n",
              "\n",
              "/* Toggleable label */\n",
              "#sk-container-id-2 label.sk-toggleable__label {\n",
              "  cursor: pointer;\n",
              "  display: flex;\n",
              "  width: 100%;\n",
              "  margin-bottom: 0;\n",
              "  padding: 0.5em;\n",
              "  box-sizing: border-box;\n",
              "  text-align: center;\n",
              "  align-items: start;\n",
              "  justify-content: space-between;\n",
              "  gap: 0.5em;\n",
              "}\n",
              "\n",
              "#sk-container-id-2 label.sk-toggleable__label .caption {\n",
              "  font-size: 0.6rem;\n",
              "  font-weight: lighter;\n",
              "  color: var(--sklearn-color-text-muted);\n",
              "}\n",
              "\n",
              "#sk-container-id-2 label.sk-toggleable__label-arrow:before {\n",
              "  /* Arrow on the left of the label */\n",
              "  content: \"▸\";\n",
              "  float: left;\n",
              "  margin-right: 0.25em;\n",
              "  color: var(--sklearn-color-icon);\n",
              "}\n",
              "\n",
              "#sk-container-id-2 label.sk-toggleable__label-arrow:hover:before {\n",
              "  color: var(--sklearn-color-text);\n",
              "}\n",
              "\n",
              "/* Toggleable content - dropdown */\n",
              "\n",
              "#sk-container-id-2 div.sk-toggleable__content {\n",
              "  max-height: 0;\n",
              "  max-width: 0;\n",
              "  overflow: hidden;\n",
              "  text-align: left;\n",
              "  /* unfitted */\n",
              "  background-color: var(--sklearn-color-unfitted-level-0);\n",
              "}\n",
              "\n",
              "#sk-container-id-2 div.sk-toggleable__content.fitted {\n",
              "  /* fitted */\n",
              "  background-color: var(--sklearn-color-fitted-level-0);\n",
              "}\n",
              "\n",
              "#sk-container-id-2 div.sk-toggleable__content pre {\n",
              "  margin: 0.2em;\n",
              "  border-radius: 0.25em;\n",
              "  color: var(--sklearn-color-text);\n",
              "  /* unfitted */\n",
              "  background-color: var(--sklearn-color-unfitted-level-0);\n",
              "}\n",
              "\n",
              "#sk-container-id-2 div.sk-toggleable__content.fitted pre {\n",
              "  /* unfitted */\n",
              "  background-color: var(--sklearn-color-fitted-level-0);\n",
              "}\n",
              "\n",
              "#sk-container-id-2 input.sk-toggleable__control:checked~div.sk-toggleable__content {\n",
              "  /* Expand drop-down */\n",
              "  max-height: 200px;\n",
              "  max-width: 100%;\n",
              "  overflow: auto;\n",
              "}\n",
              "\n",
              "#sk-container-id-2 input.sk-toggleable__control:checked~label.sk-toggleable__label-arrow:before {\n",
              "  content: \"▾\";\n",
              "}\n",
              "\n",
              "/* Pipeline/ColumnTransformer-specific style */\n",
              "\n",
              "#sk-container-id-2 div.sk-label input.sk-toggleable__control:checked~label.sk-toggleable__label {\n",
              "  color: var(--sklearn-color-text);\n",
              "  background-color: var(--sklearn-color-unfitted-level-2);\n",
              "}\n",
              "\n",
              "#sk-container-id-2 div.sk-label.fitted input.sk-toggleable__control:checked~label.sk-toggleable__label {\n",
              "  background-color: var(--sklearn-color-fitted-level-2);\n",
              "}\n",
              "\n",
              "/* Estimator-specific style */\n",
              "\n",
              "/* Colorize estimator box */\n",
              "#sk-container-id-2 div.sk-estimator input.sk-toggleable__control:checked~label.sk-toggleable__label {\n",
              "  /* unfitted */\n",
              "  background-color: var(--sklearn-color-unfitted-level-2);\n",
              "}\n",
              "\n",
              "#sk-container-id-2 div.sk-estimator.fitted input.sk-toggleable__control:checked~label.sk-toggleable__label {\n",
              "  /* fitted */\n",
              "  background-color: var(--sklearn-color-fitted-level-2);\n",
              "}\n",
              "\n",
              "#sk-container-id-2 div.sk-label label.sk-toggleable__label,\n",
              "#sk-container-id-2 div.sk-label label {\n",
              "  /* The background is the default theme color */\n",
              "  color: var(--sklearn-color-text-on-default-background);\n",
              "}\n",
              "\n",
              "/* On hover, darken the color of the background */\n",
              "#sk-container-id-2 div.sk-label:hover label.sk-toggleable__label {\n",
              "  color: var(--sklearn-color-text);\n",
              "  background-color: var(--sklearn-color-unfitted-level-2);\n",
              "}\n",
              "\n",
              "/* Label box, darken color on hover, fitted */\n",
              "#sk-container-id-2 div.sk-label.fitted:hover label.sk-toggleable__label.fitted {\n",
              "  color: var(--sklearn-color-text);\n",
              "  background-color: var(--sklearn-color-fitted-level-2);\n",
              "}\n",
              "\n",
              "/* Estimator label */\n",
              "\n",
              "#sk-container-id-2 div.sk-label label {\n",
              "  font-family: monospace;\n",
              "  font-weight: bold;\n",
              "  display: inline-block;\n",
              "  line-height: 1.2em;\n",
              "}\n",
              "\n",
              "#sk-container-id-2 div.sk-label-container {\n",
              "  text-align: center;\n",
              "}\n",
              "\n",
              "/* Estimator-specific */\n",
              "#sk-container-id-2 div.sk-estimator {\n",
              "  font-family: monospace;\n",
              "  border: 1px dotted var(--sklearn-color-border-box);\n",
              "  border-radius: 0.25em;\n",
              "  box-sizing: border-box;\n",
              "  margin-bottom: 0.5em;\n",
              "  /* unfitted */\n",
              "  background-color: var(--sklearn-color-unfitted-level-0);\n",
              "}\n",
              "\n",
              "#sk-container-id-2 div.sk-estimator.fitted {\n",
              "  /* fitted */\n",
              "  background-color: var(--sklearn-color-fitted-level-0);\n",
              "}\n",
              "\n",
              "/* on hover */\n",
              "#sk-container-id-2 div.sk-estimator:hover {\n",
              "  /* unfitted */\n",
              "  background-color: var(--sklearn-color-unfitted-level-2);\n",
              "}\n",
              "\n",
              "#sk-container-id-2 div.sk-estimator.fitted:hover {\n",
              "  /* fitted */\n",
              "  background-color: var(--sklearn-color-fitted-level-2);\n",
              "}\n",
              "\n",
              "/* Specification for estimator info (e.g. \"i\" and \"?\") */\n",
              "\n",
              "/* Common style for \"i\" and \"?\" */\n",
              "\n",
              ".sk-estimator-doc-link,\n",
              "a:link.sk-estimator-doc-link,\n",
              "a:visited.sk-estimator-doc-link {\n",
              "  float: right;\n",
              "  font-size: smaller;\n",
              "  line-height: 1em;\n",
              "  font-family: monospace;\n",
              "  background-color: var(--sklearn-color-background);\n",
              "  border-radius: 1em;\n",
              "  height: 1em;\n",
              "  width: 1em;\n",
              "  text-decoration: none !important;\n",
              "  margin-left: 0.5em;\n",
              "  text-align: center;\n",
              "  /* unfitted */\n",
              "  border: var(--sklearn-color-unfitted-level-1) 1pt solid;\n",
              "  color: var(--sklearn-color-unfitted-level-1);\n",
              "}\n",
              "\n",
              ".sk-estimator-doc-link.fitted,\n",
              "a:link.sk-estimator-doc-link.fitted,\n",
              "a:visited.sk-estimator-doc-link.fitted {\n",
              "  /* fitted */\n",
              "  border: var(--sklearn-color-fitted-level-1) 1pt solid;\n",
              "  color: var(--sklearn-color-fitted-level-1);\n",
              "}\n",
              "\n",
              "/* On hover */\n",
              "div.sk-estimator:hover .sk-estimator-doc-link:hover,\n",
              ".sk-estimator-doc-link:hover,\n",
              "div.sk-label-container:hover .sk-estimator-doc-link:hover,\n",
              ".sk-estimator-doc-link:hover {\n",
              "  /* unfitted */\n",
              "  background-color: var(--sklearn-color-unfitted-level-3);\n",
              "  color: var(--sklearn-color-background);\n",
              "  text-decoration: none;\n",
              "}\n",
              "\n",
              "div.sk-estimator.fitted:hover .sk-estimator-doc-link.fitted:hover,\n",
              ".sk-estimator-doc-link.fitted:hover,\n",
              "div.sk-label-container:hover .sk-estimator-doc-link.fitted:hover,\n",
              ".sk-estimator-doc-link.fitted:hover {\n",
              "  /* fitted */\n",
              "  background-color: var(--sklearn-color-fitted-level-3);\n",
              "  color: var(--sklearn-color-background);\n",
              "  text-decoration: none;\n",
              "}\n",
              "\n",
              "/* Span, style for the box shown on hovering the info icon */\n",
              ".sk-estimator-doc-link span {\n",
              "  display: none;\n",
              "  z-index: 9999;\n",
              "  position: relative;\n",
              "  font-weight: normal;\n",
              "  right: .2ex;\n",
              "  padding: .5ex;\n",
              "  margin: .5ex;\n",
              "  width: min-content;\n",
              "  min-width: 20ex;\n",
              "  max-width: 50ex;\n",
              "  color: var(--sklearn-color-text);\n",
              "  box-shadow: 2pt 2pt 4pt #999;\n",
              "  /* unfitted */\n",
              "  background: var(--sklearn-color-unfitted-level-0);\n",
              "  border: .5pt solid var(--sklearn-color-unfitted-level-3);\n",
              "}\n",
              "\n",
              ".sk-estimator-doc-link.fitted span {\n",
              "  /* fitted */\n",
              "  background: var(--sklearn-color-fitted-level-0);\n",
              "  border: var(--sklearn-color-fitted-level-3);\n",
              "}\n",
              "\n",
              ".sk-estimator-doc-link:hover span {\n",
              "  display: block;\n",
              "}\n",
              "\n",
              "/* \"?\"-specific style due to the `<a>` HTML tag */\n",
              "\n",
              "#sk-container-id-2 a.estimator_doc_link {\n",
              "  float: right;\n",
              "  font-size: 1rem;\n",
              "  line-height: 1em;\n",
              "  font-family: monospace;\n",
              "  background-color: var(--sklearn-color-background);\n",
              "  border-radius: 1rem;\n",
              "  height: 1rem;\n",
              "  width: 1rem;\n",
              "  text-decoration: none;\n",
              "  /* unfitted */\n",
              "  color: var(--sklearn-color-unfitted-level-1);\n",
              "  border: var(--sklearn-color-unfitted-level-1) 1pt solid;\n",
              "}\n",
              "\n",
              "#sk-container-id-2 a.estimator_doc_link.fitted {\n",
              "  /* fitted */\n",
              "  border: var(--sklearn-color-fitted-level-1) 1pt solid;\n",
              "  color: var(--sklearn-color-fitted-level-1);\n",
              "}\n",
              "\n",
              "/* On hover */\n",
              "#sk-container-id-2 a.estimator_doc_link:hover {\n",
              "  /* unfitted */\n",
              "  background-color: var(--sklearn-color-unfitted-level-3);\n",
              "  color: var(--sklearn-color-background);\n",
              "  text-decoration: none;\n",
              "}\n",
              "\n",
              "#sk-container-id-2 a.estimator_doc_link.fitted:hover {\n",
              "  /* fitted */\n",
              "  background-color: var(--sklearn-color-fitted-level-3);\n",
              "}\n",
              "</style><div id=\"sk-container-id-2\" class=\"sk-top-container\"><div class=\"sk-text-repr-fallback\"><pre>SVC(random_state=42)</pre><b>In a Jupyter environment, please rerun this cell to show the HTML representation or trust the notebook. <br />On GitHub, the HTML representation is unable to render, please try loading this page with nbviewer.org.</b></div><div class=\"sk-container\" hidden><div class=\"sk-item\"><div class=\"sk-estimator fitted sk-toggleable\"><input class=\"sk-toggleable__control sk-hidden--visually\" id=\"sk-estimator-id-2\" type=\"checkbox\" checked><label for=\"sk-estimator-id-2\" class=\"sk-toggleable__label fitted sk-toggleable__label-arrow\"><div><div>SVC</div></div><div><a class=\"sk-estimator-doc-link fitted\" rel=\"noreferrer\" target=\"_blank\" href=\"https://scikit-learn.org/1.6/modules/generated/sklearn.svm.SVC.html\">?<span>Documentation for SVC</span></a><span class=\"sk-estimator-doc-link fitted\">i<span>Fitted</span></span></div></label><div class=\"sk-toggleable__content fitted\"><pre>SVC(random_state=42)</pre></div> </div></div></div></div>"
            ]
          },
          "metadata": {},
          "execution_count": 68
        }
      ]
    },
    {
      "cell_type": "code",
      "source": [
        "svm_clf.predict([some_digit])"
      ],
      "metadata": {
        "colab": {
          "base_uri": "https://localhost:8080/"
        },
        "id": "1X2QvOd6jt5P",
        "outputId": "35405a8b-2467-4c26-c30d-4917302fafa8"
      },
      "execution_count": null,
      "outputs": [
        {
          "output_type": "execute_result",
          "data": {
            "text/plain": [
              "array(['5'], dtype=object)"
            ]
          },
          "metadata": {},
          "execution_count": 69
        }
      ]
    },
    {
      "cell_type": "code",
      "source": [
        "some_digit_scores = svm_clf.decision_function([some_digit])\n",
        "some_digit_scores.round(2)"
      ],
      "metadata": {
        "colab": {
          "base_uri": "https://localhost:8080/"
        },
        "id": "jMMvfxh6jwUN",
        "outputId": "66af1695-59d9-4419-85b7-ac75d5cc2fb2"
      },
      "execution_count": null,
      "outputs": [
        {
          "output_type": "execute_result",
          "data": {
            "text/plain": [
              "array([[ 3.79,  0.73,  6.06,  8.3 , -0.29,  9.3 ,  1.75,  2.77,  7.21,\n",
              "         4.82]])"
            ]
          },
          "metadata": {},
          "execution_count": 70
        }
      ]
    },
    {
      "cell_type": "code",
      "source": [
        "class_id = some_digit_scores.argmax()\n",
        "class_id"
      ],
      "metadata": {
        "colab": {
          "base_uri": "https://localhost:8080/"
        },
        "id": "L5whRzQ5jyJo",
        "outputId": "068901aa-e96c-438a-922b-9e0938d93d96"
      },
      "execution_count": null,
      "outputs": [
        {
          "output_type": "execute_result",
          "data": {
            "text/plain": [
              "5"
            ]
          },
          "metadata": {},
          "execution_count": 71
        }
      ]
    },
    {
      "cell_type": "code",
      "source": [
        "svm_clf.classes_"
      ],
      "metadata": {
        "colab": {
          "base_uri": "https://localhost:8080/"
        },
        "id": "h2PNNIuUjzmW",
        "outputId": "f65d28b1-fc3f-4b13-f045-5c3aeffc2e9c"
      },
      "execution_count": null,
      "outputs": [
        {
          "output_type": "execute_result",
          "data": {
            "text/plain": [
              "array(['0', '1', '2', '3', '4', '5', '6', '7', '8', '9'], dtype=object)"
            ]
          },
          "metadata": {},
          "execution_count": 72
        }
      ]
    },
    {
      "cell_type": "code",
      "source": [
        "svm_clf.classes_[class_id]"
      ],
      "metadata": {
        "colab": {
          "base_uri": "https://localhost:8080/",
          "height": 35
        },
        "id": "T0KHJN2Wj1Fq",
        "outputId": "26d91711-b9b0-4a19-f917-1dcf7c426460"
      },
      "execution_count": null,
      "outputs": [
        {
          "output_type": "execute_result",
          "data": {
            "text/plain": [
              "'5'"
            ],
            "application/vnd.google.colaboratory.intrinsic+json": {
              "type": "string"
            }
          },
          "metadata": {},
          "execution_count": 73
        }
      ]
    },
    {
      "cell_type": "code",
      "source": [
        "# extra code – shows how to get all 45 OvO scores if needed\n",
        "svm_clf.decision_function_shape = \"ovo\"\n",
        "some_digit_scores_ovo = svm_clf.decision_function([some_digit])\n",
        "some_digit_scores_ovo.round(2)"
      ],
      "metadata": {
        "colab": {
          "base_uri": "https://localhost:8080/"
        },
        "id": "hfFG2kKNj3Bm",
        "outputId": "f30e965f-d5db-4f44-96cc-356f93034c5e"
      },
      "execution_count": null,
      "outputs": [
        {
          "output_type": "execute_result",
          "data": {
            "text/plain": [
              "array([[ 0.11, -0.21, -0.97,  0.51, -1.01,  0.19,  0.09, -0.31, -0.04,\n",
              "        -0.45, -1.28,  0.25, -1.01, -0.13, -0.32, -0.9 , -0.36, -0.93,\n",
              "         0.79, -1.  ,  0.45,  0.24, -0.24,  0.25,  1.54, -0.77,  1.11,\n",
              "         1.13,  1.04,  1.2 , -1.42, -0.53, -0.45, -0.99, -0.95,  1.21,\n",
              "         1.  ,  1.  ,  1.08, -0.02, -0.67, -0.14, -0.3 , -0.13,  0.25]])"
            ]
          },
          "metadata": {},
          "execution_count": 74
        }
      ]
    },
    {
      "cell_type": "code",
      "source": [
        "from sklearn.multiclass import OneVsRestClassifier\n",
        "\n",
        "ovr_clf = OneVsRestClassifier(SVC(random_state=42))\n",
        "ovr_clf.fit(X_train[:2000], y_train[:2000])"
      ],
      "metadata": {
        "colab": {
          "base_uri": "https://localhost:8080/",
          "height": 183
        },
        "id": "Pterlsqzj5F6",
        "outputId": "b9c0131a-2d80-413f-8290-9fb551edf2ba"
      },
      "execution_count": null,
      "outputs": [
        {
          "output_type": "execute_result",
          "data": {
            "text/plain": [
              "OneVsRestClassifier(estimator=SVC(random_state=42))"
            ],
            "text/html": [
              "<style>#sk-container-id-3 {\n",
              "  /* Definition of color scheme common for light and dark mode */\n",
              "  --sklearn-color-text: #000;\n",
              "  --sklearn-color-text-muted: #666;\n",
              "  --sklearn-color-line: gray;\n",
              "  /* Definition of color scheme for unfitted estimators */\n",
              "  --sklearn-color-unfitted-level-0: #fff5e6;\n",
              "  --sklearn-color-unfitted-level-1: #f6e4d2;\n",
              "  --sklearn-color-unfitted-level-2: #ffe0b3;\n",
              "  --sklearn-color-unfitted-level-3: chocolate;\n",
              "  /* Definition of color scheme for fitted estimators */\n",
              "  --sklearn-color-fitted-level-0: #f0f8ff;\n",
              "  --sklearn-color-fitted-level-1: #d4ebff;\n",
              "  --sklearn-color-fitted-level-2: #b3dbfd;\n",
              "  --sklearn-color-fitted-level-3: cornflowerblue;\n",
              "\n",
              "  /* Specific color for light theme */\n",
              "  --sklearn-color-text-on-default-background: var(--sg-text-color, var(--theme-code-foreground, var(--jp-content-font-color1, black)));\n",
              "  --sklearn-color-background: var(--sg-background-color, var(--theme-background, var(--jp-layout-color0, white)));\n",
              "  --sklearn-color-border-box: var(--sg-text-color, var(--theme-code-foreground, var(--jp-content-font-color1, black)));\n",
              "  --sklearn-color-icon: #696969;\n",
              "\n",
              "  @media (prefers-color-scheme: dark) {\n",
              "    /* Redefinition of color scheme for dark theme */\n",
              "    --sklearn-color-text-on-default-background: var(--sg-text-color, var(--theme-code-foreground, var(--jp-content-font-color1, white)));\n",
              "    --sklearn-color-background: var(--sg-background-color, var(--theme-background, var(--jp-layout-color0, #111)));\n",
              "    --sklearn-color-border-box: var(--sg-text-color, var(--theme-code-foreground, var(--jp-content-font-color1, white)));\n",
              "    --sklearn-color-icon: #878787;\n",
              "  }\n",
              "}\n",
              "\n",
              "#sk-container-id-3 {\n",
              "  color: var(--sklearn-color-text);\n",
              "}\n",
              "\n",
              "#sk-container-id-3 pre {\n",
              "  padding: 0;\n",
              "}\n",
              "\n",
              "#sk-container-id-3 input.sk-hidden--visually {\n",
              "  border: 0;\n",
              "  clip: rect(1px 1px 1px 1px);\n",
              "  clip: rect(1px, 1px, 1px, 1px);\n",
              "  height: 1px;\n",
              "  margin: -1px;\n",
              "  overflow: hidden;\n",
              "  padding: 0;\n",
              "  position: absolute;\n",
              "  width: 1px;\n",
              "}\n",
              "\n",
              "#sk-container-id-3 div.sk-dashed-wrapped {\n",
              "  border: 1px dashed var(--sklearn-color-line);\n",
              "  margin: 0 0.4em 0.5em 0.4em;\n",
              "  box-sizing: border-box;\n",
              "  padding-bottom: 0.4em;\n",
              "  background-color: var(--sklearn-color-background);\n",
              "}\n",
              "\n",
              "#sk-container-id-3 div.sk-container {\n",
              "  /* jupyter's `normalize.less` sets `[hidden] { display: none; }`\n",
              "     but bootstrap.min.css set `[hidden] { display: none !important; }`\n",
              "     so we also need the `!important` here to be able to override the\n",
              "     default hidden behavior on the sphinx rendered scikit-learn.org.\n",
              "     See: https://github.com/scikit-learn/scikit-learn/issues/21755 */\n",
              "  display: inline-block !important;\n",
              "  position: relative;\n",
              "}\n",
              "\n",
              "#sk-container-id-3 div.sk-text-repr-fallback {\n",
              "  display: none;\n",
              "}\n",
              "\n",
              "div.sk-parallel-item,\n",
              "div.sk-serial,\n",
              "div.sk-item {\n",
              "  /* draw centered vertical line to link estimators */\n",
              "  background-image: linear-gradient(var(--sklearn-color-text-on-default-background), var(--sklearn-color-text-on-default-background));\n",
              "  background-size: 2px 100%;\n",
              "  background-repeat: no-repeat;\n",
              "  background-position: center center;\n",
              "}\n",
              "\n",
              "/* Parallel-specific style estimator block */\n",
              "\n",
              "#sk-container-id-3 div.sk-parallel-item::after {\n",
              "  content: \"\";\n",
              "  width: 100%;\n",
              "  border-bottom: 2px solid var(--sklearn-color-text-on-default-background);\n",
              "  flex-grow: 1;\n",
              "}\n",
              "\n",
              "#sk-container-id-3 div.sk-parallel {\n",
              "  display: flex;\n",
              "  align-items: stretch;\n",
              "  justify-content: center;\n",
              "  background-color: var(--sklearn-color-background);\n",
              "  position: relative;\n",
              "}\n",
              "\n",
              "#sk-container-id-3 div.sk-parallel-item {\n",
              "  display: flex;\n",
              "  flex-direction: column;\n",
              "}\n",
              "\n",
              "#sk-container-id-3 div.sk-parallel-item:first-child::after {\n",
              "  align-self: flex-end;\n",
              "  width: 50%;\n",
              "}\n",
              "\n",
              "#sk-container-id-3 div.sk-parallel-item:last-child::after {\n",
              "  align-self: flex-start;\n",
              "  width: 50%;\n",
              "}\n",
              "\n",
              "#sk-container-id-3 div.sk-parallel-item:only-child::after {\n",
              "  width: 0;\n",
              "}\n",
              "\n",
              "/* Serial-specific style estimator block */\n",
              "\n",
              "#sk-container-id-3 div.sk-serial {\n",
              "  display: flex;\n",
              "  flex-direction: column;\n",
              "  align-items: center;\n",
              "  background-color: var(--sklearn-color-background);\n",
              "  padding-right: 1em;\n",
              "  padding-left: 1em;\n",
              "}\n",
              "\n",
              "\n",
              "/* Toggleable style: style used for estimator/Pipeline/ColumnTransformer box that is\n",
              "clickable and can be expanded/collapsed.\n",
              "- Pipeline and ColumnTransformer use this feature and define the default style\n",
              "- Estimators will overwrite some part of the style using the `sk-estimator` class\n",
              "*/\n",
              "\n",
              "/* Pipeline and ColumnTransformer style (default) */\n",
              "\n",
              "#sk-container-id-3 div.sk-toggleable {\n",
              "  /* Default theme specific background. It is overwritten whether we have a\n",
              "  specific estimator or a Pipeline/ColumnTransformer */\n",
              "  background-color: var(--sklearn-color-background);\n",
              "}\n",
              "\n",
              "/* Toggleable label */\n",
              "#sk-container-id-3 label.sk-toggleable__label {\n",
              "  cursor: pointer;\n",
              "  display: flex;\n",
              "  width: 100%;\n",
              "  margin-bottom: 0;\n",
              "  padding: 0.5em;\n",
              "  box-sizing: border-box;\n",
              "  text-align: center;\n",
              "  align-items: start;\n",
              "  justify-content: space-between;\n",
              "  gap: 0.5em;\n",
              "}\n",
              "\n",
              "#sk-container-id-3 label.sk-toggleable__label .caption {\n",
              "  font-size: 0.6rem;\n",
              "  font-weight: lighter;\n",
              "  color: var(--sklearn-color-text-muted);\n",
              "}\n",
              "\n",
              "#sk-container-id-3 label.sk-toggleable__label-arrow:before {\n",
              "  /* Arrow on the left of the label */\n",
              "  content: \"▸\";\n",
              "  float: left;\n",
              "  margin-right: 0.25em;\n",
              "  color: var(--sklearn-color-icon);\n",
              "}\n",
              "\n",
              "#sk-container-id-3 label.sk-toggleable__label-arrow:hover:before {\n",
              "  color: var(--sklearn-color-text);\n",
              "}\n",
              "\n",
              "/* Toggleable content - dropdown */\n",
              "\n",
              "#sk-container-id-3 div.sk-toggleable__content {\n",
              "  max-height: 0;\n",
              "  max-width: 0;\n",
              "  overflow: hidden;\n",
              "  text-align: left;\n",
              "  /* unfitted */\n",
              "  background-color: var(--sklearn-color-unfitted-level-0);\n",
              "}\n",
              "\n",
              "#sk-container-id-3 div.sk-toggleable__content.fitted {\n",
              "  /* fitted */\n",
              "  background-color: var(--sklearn-color-fitted-level-0);\n",
              "}\n",
              "\n",
              "#sk-container-id-3 div.sk-toggleable__content pre {\n",
              "  margin: 0.2em;\n",
              "  border-radius: 0.25em;\n",
              "  color: var(--sklearn-color-text);\n",
              "  /* unfitted */\n",
              "  background-color: var(--sklearn-color-unfitted-level-0);\n",
              "}\n",
              "\n",
              "#sk-container-id-3 div.sk-toggleable__content.fitted pre {\n",
              "  /* unfitted */\n",
              "  background-color: var(--sklearn-color-fitted-level-0);\n",
              "}\n",
              "\n",
              "#sk-container-id-3 input.sk-toggleable__control:checked~div.sk-toggleable__content {\n",
              "  /* Expand drop-down */\n",
              "  max-height: 200px;\n",
              "  max-width: 100%;\n",
              "  overflow: auto;\n",
              "}\n",
              "\n",
              "#sk-container-id-3 input.sk-toggleable__control:checked~label.sk-toggleable__label-arrow:before {\n",
              "  content: \"▾\";\n",
              "}\n",
              "\n",
              "/* Pipeline/ColumnTransformer-specific style */\n",
              "\n",
              "#sk-container-id-3 div.sk-label input.sk-toggleable__control:checked~label.sk-toggleable__label {\n",
              "  color: var(--sklearn-color-text);\n",
              "  background-color: var(--sklearn-color-unfitted-level-2);\n",
              "}\n",
              "\n",
              "#sk-container-id-3 div.sk-label.fitted input.sk-toggleable__control:checked~label.sk-toggleable__label {\n",
              "  background-color: var(--sklearn-color-fitted-level-2);\n",
              "}\n",
              "\n",
              "/* Estimator-specific style */\n",
              "\n",
              "/* Colorize estimator box */\n",
              "#sk-container-id-3 div.sk-estimator input.sk-toggleable__control:checked~label.sk-toggleable__label {\n",
              "  /* unfitted */\n",
              "  background-color: var(--sklearn-color-unfitted-level-2);\n",
              "}\n",
              "\n",
              "#sk-container-id-3 div.sk-estimator.fitted input.sk-toggleable__control:checked~label.sk-toggleable__label {\n",
              "  /* fitted */\n",
              "  background-color: var(--sklearn-color-fitted-level-2);\n",
              "}\n",
              "\n",
              "#sk-container-id-3 div.sk-label label.sk-toggleable__label,\n",
              "#sk-container-id-3 div.sk-label label {\n",
              "  /* The background is the default theme color */\n",
              "  color: var(--sklearn-color-text-on-default-background);\n",
              "}\n",
              "\n",
              "/* On hover, darken the color of the background */\n",
              "#sk-container-id-3 div.sk-label:hover label.sk-toggleable__label {\n",
              "  color: var(--sklearn-color-text);\n",
              "  background-color: var(--sklearn-color-unfitted-level-2);\n",
              "}\n",
              "\n",
              "/* Label box, darken color on hover, fitted */\n",
              "#sk-container-id-3 div.sk-label.fitted:hover label.sk-toggleable__label.fitted {\n",
              "  color: var(--sklearn-color-text);\n",
              "  background-color: var(--sklearn-color-fitted-level-2);\n",
              "}\n",
              "\n",
              "/* Estimator label */\n",
              "\n",
              "#sk-container-id-3 div.sk-label label {\n",
              "  font-family: monospace;\n",
              "  font-weight: bold;\n",
              "  display: inline-block;\n",
              "  line-height: 1.2em;\n",
              "}\n",
              "\n",
              "#sk-container-id-3 div.sk-label-container {\n",
              "  text-align: center;\n",
              "}\n",
              "\n",
              "/* Estimator-specific */\n",
              "#sk-container-id-3 div.sk-estimator {\n",
              "  font-family: monospace;\n",
              "  border: 1px dotted var(--sklearn-color-border-box);\n",
              "  border-radius: 0.25em;\n",
              "  box-sizing: border-box;\n",
              "  margin-bottom: 0.5em;\n",
              "  /* unfitted */\n",
              "  background-color: var(--sklearn-color-unfitted-level-0);\n",
              "}\n",
              "\n",
              "#sk-container-id-3 div.sk-estimator.fitted {\n",
              "  /* fitted */\n",
              "  background-color: var(--sklearn-color-fitted-level-0);\n",
              "}\n",
              "\n",
              "/* on hover */\n",
              "#sk-container-id-3 div.sk-estimator:hover {\n",
              "  /* unfitted */\n",
              "  background-color: var(--sklearn-color-unfitted-level-2);\n",
              "}\n",
              "\n",
              "#sk-container-id-3 div.sk-estimator.fitted:hover {\n",
              "  /* fitted */\n",
              "  background-color: var(--sklearn-color-fitted-level-2);\n",
              "}\n",
              "\n",
              "/* Specification for estimator info (e.g. \"i\" and \"?\") */\n",
              "\n",
              "/* Common style for \"i\" and \"?\" */\n",
              "\n",
              ".sk-estimator-doc-link,\n",
              "a:link.sk-estimator-doc-link,\n",
              "a:visited.sk-estimator-doc-link {\n",
              "  float: right;\n",
              "  font-size: smaller;\n",
              "  line-height: 1em;\n",
              "  font-family: monospace;\n",
              "  background-color: var(--sklearn-color-background);\n",
              "  border-radius: 1em;\n",
              "  height: 1em;\n",
              "  width: 1em;\n",
              "  text-decoration: none !important;\n",
              "  margin-left: 0.5em;\n",
              "  text-align: center;\n",
              "  /* unfitted */\n",
              "  border: var(--sklearn-color-unfitted-level-1) 1pt solid;\n",
              "  color: var(--sklearn-color-unfitted-level-1);\n",
              "}\n",
              "\n",
              ".sk-estimator-doc-link.fitted,\n",
              "a:link.sk-estimator-doc-link.fitted,\n",
              "a:visited.sk-estimator-doc-link.fitted {\n",
              "  /* fitted */\n",
              "  border: var(--sklearn-color-fitted-level-1) 1pt solid;\n",
              "  color: var(--sklearn-color-fitted-level-1);\n",
              "}\n",
              "\n",
              "/* On hover */\n",
              "div.sk-estimator:hover .sk-estimator-doc-link:hover,\n",
              ".sk-estimator-doc-link:hover,\n",
              "div.sk-label-container:hover .sk-estimator-doc-link:hover,\n",
              ".sk-estimator-doc-link:hover {\n",
              "  /* unfitted */\n",
              "  background-color: var(--sklearn-color-unfitted-level-3);\n",
              "  color: var(--sklearn-color-background);\n",
              "  text-decoration: none;\n",
              "}\n",
              "\n",
              "div.sk-estimator.fitted:hover .sk-estimator-doc-link.fitted:hover,\n",
              ".sk-estimator-doc-link.fitted:hover,\n",
              "div.sk-label-container:hover .sk-estimator-doc-link.fitted:hover,\n",
              ".sk-estimator-doc-link.fitted:hover {\n",
              "  /* fitted */\n",
              "  background-color: var(--sklearn-color-fitted-level-3);\n",
              "  color: var(--sklearn-color-background);\n",
              "  text-decoration: none;\n",
              "}\n",
              "\n",
              "/* Span, style for the box shown on hovering the info icon */\n",
              ".sk-estimator-doc-link span {\n",
              "  display: none;\n",
              "  z-index: 9999;\n",
              "  position: relative;\n",
              "  font-weight: normal;\n",
              "  right: .2ex;\n",
              "  padding: .5ex;\n",
              "  margin: .5ex;\n",
              "  width: min-content;\n",
              "  min-width: 20ex;\n",
              "  max-width: 50ex;\n",
              "  color: var(--sklearn-color-text);\n",
              "  box-shadow: 2pt 2pt 4pt #999;\n",
              "  /* unfitted */\n",
              "  background: var(--sklearn-color-unfitted-level-0);\n",
              "  border: .5pt solid var(--sklearn-color-unfitted-level-3);\n",
              "}\n",
              "\n",
              ".sk-estimator-doc-link.fitted span {\n",
              "  /* fitted */\n",
              "  background: var(--sklearn-color-fitted-level-0);\n",
              "  border: var(--sklearn-color-fitted-level-3);\n",
              "}\n",
              "\n",
              ".sk-estimator-doc-link:hover span {\n",
              "  display: block;\n",
              "}\n",
              "\n",
              "/* \"?\"-specific style due to the `<a>` HTML tag */\n",
              "\n",
              "#sk-container-id-3 a.estimator_doc_link {\n",
              "  float: right;\n",
              "  font-size: 1rem;\n",
              "  line-height: 1em;\n",
              "  font-family: monospace;\n",
              "  background-color: var(--sklearn-color-background);\n",
              "  border-radius: 1rem;\n",
              "  height: 1rem;\n",
              "  width: 1rem;\n",
              "  text-decoration: none;\n",
              "  /* unfitted */\n",
              "  color: var(--sklearn-color-unfitted-level-1);\n",
              "  border: var(--sklearn-color-unfitted-level-1) 1pt solid;\n",
              "}\n",
              "\n",
              "#sk-container-id-3 a.estimator_doc_link.fitted {\n",
              "  /* fitted */\n",
              "  border: var(--sklearn-color-fitted-level-1) 1pt solid;\n",
              "  color: var(--sklearn-color-fitted-level-1);\n",
              "}\n",
              "\n",
              "/* On hover */\n",
              "#sk-container-id-3 a.estimator_doc_link:hover {\n",
              "  /* unfitted */\n",
              "  background-color: var(--sklearn-color-unfitted-level-3);\n",
              "  color: var(--sklearn-color-background);\n",
              "  text-decoration: none;\n",
              "}\n",
              "\n",
              "#sk-container-id-3 a.estimator_doc_link.fitted:hover {\n",
              "  /* fitted */\n",
              "  background-color: var(--sklearn-color-fitted-level-3);\n",
              "}\n",
              "</style><div id=\"sk-container-id-3\" class=\"sk-top-container\"><div class=\"sk-text-repr-fallback\"><pre>OneVsRestClassifier(estimator=SVC(random_state=42))</pre><b>In a Jupyter environment, please rerun this cell to show the HTML representation or trust the notebook. <br />On GitHub, the HTML representation is unable to render, please try loading this page with nbviewer.org.</b></div><div class=\"sk-container\" hidden><div class=\"sk-item sk-dashed-wrapped\"><div class=\"sk-label-container\"><div class=\"sk-label fitted sk-toggleable\"><input class=\"sk-toggleable__control sk-hidden--visually\" id=\"sk-estimator-id-3\" type=\"checkbox\" ><label for=\"sk-estimator-id-3\" class=\"sk-toggleable__label fitted sk-toggleable__label-arrow\"><div><div>OneVsRestClassifier</div></div><div><a class=\"sk-estimator-doc-link fitted\" rel=\"noreferrer\" target=\"_blank\" href=\"https://scikit-learn.org/1.6/modules/generated/sklearn.multiclass.OneVsRestClassifier.html\">?<span>Documentation for OneVsRestClassifier</span></a><span class=\"sk-estimator-doc-link fitted\">i<span>Fitted</span></span></div></label><div class=\"sk-toggleable__content fitted\"><pre>OneVsRestClassifier(estimator=SVC(random_state=42))</pre></div> </div></div><div class=\"sk-parallel\"><div class=\"sk-parallel-item\"><div class=\"sk-item\"><div class=\"sk-label-container\"><div class=\"sk-label fitted sk-toggleable\"><input class=\"sk-toggleable__control sk-hidden--visually\" id=\"sk-estimator-id-4\" type=\"checkbox\" ><label for=\"sk-estimator-id-4\" class=\"sk-toggleable__label fitted sk-toggleable__label-arrow\"><div><div>estimator: SVC</div></div></label><div class=\"sk-toggleable__content fitted\"><pre>SVC(random_state=42)</pre></div> </div></div><div class=\"sk-serial\"><div class=\"sk-item\"><div class=\"sk-estimator fitted sk-toggleable\"><input class=\"sk-toggleable__control sk-hidden--visually\" id=\"sk-estimator-id-5\" type=\"checkbox\" ><label for=\"sk-estimator-id-5\" class=\"sk-toggleable__label fitted sk-toggleable__label-arrow\"><div><div>SVC</div></div><div><a class=\"sk-estimator-doc-link fitted\" rel=\"noreferrer\" target=\"_blank\" href=\"https://scikit-learn.org/1.6/modules/generated/sklearn.svm.SVC.html\">?<span>Documentation for SVC</span></a></div></label><div class=\"sk-toggleable__content fitted\"><pre>SVC(random_state=42)</pre></div> </div></div></div></div></div></div></div></div></div>"
            ]
          },
          "metadata": {},
          "execution_count": 75
        }
      ]
    },
    {
      "cell_type": "code",
      "source": [
        "ovr_clf.predict([some_digit])"
      ],
      "metadata": {
        "colab": {
          "base_uri": "https://localhost:8080/"
        },
        "id": "l-A7IxX4j8of",
        "outputId": "4fb8b6a1-f4e6-4223-98d4-5c4c3243fff1"
      },
      "execution_count": null,
      "outputs": [
        {
          "output_type": "execute_result",
          "data": {
            "text/plain": [
              "array(['5'], dtype='<U1')"
            ]
          },
          "metadata": {},
          "execution_count": 76
        }
      ]
    },
    {
      "cell_type": "code",
      "source": [
        "len(ovr_clf.estimators_)"
      ],
      "metadata": {
        "colab": {
          "base_uri": "https://localhost:8080/"
        },
        "id": "6OrkxwWGj-mx",
        "outputId": "111b9c03-1670-44c5-a5d1-fff965ca7e50"
      },
      "execution_count": null,
      "outputs": [
        {
          "output_type": "execute_result",
          "data": {
            "text/plain": [
              "10"
            ]
          },
          "metadata": {},
          "execution_count": 77
        }
      ]
    },
    {
      "cell_type": "code",
      "source": [
        "sgd_clf = SGDClassifier(random_state=42)\n",
        "sgd_clf.fit(X_train, y_train)\n",
        "sgd_clf.predict([some_digit])"
      ],
      "metadata": {
        "colab": {
          "base_uri": "https://localhost:8080/"
        },
        "id": "TOOhpXhpkBJh",
        "outputId": "101a9d8c-afa3-40db-d9bb-e00dfe236433"
      },
      "execution_count": null,
      "outputs": [
        {
          "output_type": "execute_result",
          "data": {
            "text/plain": [
              "array(['3'], dtype='<U1')"
            ]
          },
          "metadata": {},
          "execution_count": 78
        }
      ]
    },
    {
      "cell_type": "code",
      "source": [
        "sgd_clf.decision_function([some_digit]).round()"
      ],
      "metadata": {
        "colab": {
          "base_uri": "https://localhost:8080/"
        },
        "id": "o3LecvMikCnz",
        "outputId": "20b417f1-f8bd-40b3-db3f-fc99618f9514"
      },
      "execution_count": null,
      "outputs": [
        {
          "output_type": "execute_result",
          "data": {
            "text/plain": [
              "array([[-31893., -34420.,  -9531.,   1824., -22320.,  -1386., -26189.,\n",
              "        -16148.,  -4604., -12051.]])"
            ]
          },
          "metadata": {},
          "execution_count": 79
        }
      ]
    },
    {
      "cell_type": "code",
      "source": [
        "cross_val_score(sgd_clf, X_train, y_train, cv=3, scoring=\"accuracy\")"
      ],
      "metadata": {
        "id": "o9laqaFHkEWw",
        "colab": {
          "base_uri": "https://localhost:8080/",
          "height": 311
        },
        "outputId": "cf6b09bb-7773-462f-e6d8-7c5cc5829810"
      },
      "execution_count": null,
      "outputs": [
        {
          "ename": "KeyboardInterrupt",
          "evalue": "",
          "output_type": "error",
          "traceback": [
            "\u001b[0;31m---------------------------------------------------------------------------\u001b[0m",
            "\u001b[0;31mKeyboardInterrupt\u001b[0m                         Traceback (most recent call last)",
            "\u001b[0;32m<ipython-input-81-1d6ec2b75547>\u001b[0m in \u001b[0;36m<cell line: 0>\u001b[0;34m()\u001b[0m\n\u001b[0;32m----> 1\u001b[0;31m \u001b[0mcross_val_score\u001b[0m\u001b[0;34m(\u001b[0m\u001b[0msgd_clf\u001b[0m\u001b[0;34m,\u001b[0m \u001b[0mX_train\u001b[0m\u001b[0;34m,\u001b[0m \u001b[0my_train\u001b[0m\u001b[0;34m,\u001b[0m \u001b[0mcv\u001b[0m\u001b[0;34m=\u001b[0m\u001b[0;36m3\u001b[0m\u001b[0;34m,\u001b[0m \u001b[0mscoring\u001b[0m\u001b[0;34m=\u001b[0m\u001b[0;34m\"accuracy\"\u001b[0m\u001b[0;34m)\u001b[0m\u001b[0;34m\u001b[0m\u001b[0;34m\u001b[0m\u001b[0m\n\u001b[0m",
            "\u001b[0;32m/usr/local/lib/python3.11/dist-packages/sklearn/utils/_param_validation.py\u001b[0m in \u001b[0;36mwrapper\u001b[0;34m(*args, **kwargs)\u001b[0m\n\u001b[1;32m    214\u001b[0m                     )\n\u001b[1;32m    215\u001b[0m                 ):\n\u001b[0;32m--> 216\u001b[0;31m                     \u001b[0;32mreturn\u001b[0m \u001b[0mfunc\u001b[0m\u001b[0;34m(\u001b[0m\u001b[0;34m*\u001b[0m\u001b[0margs\u001b[0m\u001b[0;34m,\u001b[0m \u001b[0;34m**\u001b[0m\u001b[0mkwargs\u001b[0m\u001b[0;34m)\u001b[0m\u001b[0;34m\u001b[0m\u001b[0;34m\u001b[0m\u001b[0m\n\u001b[0m\u001b[1;32m    217\u001b[0m             \u001b[0;32mexcept\u001b[0m \u001b[0mInvalidParameterError\u001b[0m \u001b[0;32mas\u001b[0m \u001b[0me\u001b[0m\u001b[0;34m:\u001b[0m\u001b[0;34m\u001b[0m\u001b[0;34m\u001b[0m\u001b[0m\n\u001b[1;32m    218\u001b[0m                 \u001b[0;31m# When the function is just a wrapper around an estimator, we allow\u001b[0m\u001b[0;34m\u001b[0m\u001b[0;34m\u001b[0m\u001b[0m\n",
            "\u001b[0;32m/usr/local/lib/python3.11/dist-packages/sklearn/model_selection/_validation.py\u001b[0m in \u001b[0;36mcross_val_score\u001b[0;34m(estimator, X, y, groups, scoring, cv, n_jobs, verbose, params, pre_dispatch, error_score)\u001b[0m\n\u001b[1;32m    682\u001b[0m     \u001b[0mscorer\u001b[0m \u001b[0;34m=\u001b[0m \u001b[0mcheck_scoring\u001b[0m\u001b[0;34m(\u001b[0m\u001b[0mestimator\u001b[0m\u001b[0;34m,\u001b[0m \u001b[0mscoring\u001b[0m\u001b[0;34m=\u001b[0m\u001b[0mscoring\u001b[0m\u001b[0;34m)\u001b[0m\u001b[0;34m\u001b[0m\u001b[0;34m\u001b[0m\u001b[0m\n\u001b[1;32m    683\u001b[0m \u001b[0;34m\u001b[0m\u001b[0m\n\u001b[0;32m--> 684\u001b[0;31m     cv_results = cross_validate(\n\u001b[0m\u001b[1;32m    685\u001b[0m         \u001b[0mestimator\u001b[0m\u001b[0;34m=\u001b[0m\u001b[0mestimator\u001b[0m\u001b[0;34m,\u001b[0m\u001b[0;34m\u001b[0m\u001b[0;34m\u001b[0m\u001b[0m\n\u001b[1;32m    686\u001b[0m         \u001b[0mX\u001b[0m\u001b[0;34m=\u001b[0m\u001b[0mX\u001b[0m\u001b[0;34m,\u001b[0m\u001b[0;34m\u001b[0m\u001b[0;34m\u001b[0m\u001b[0m\n",
            "\u001b[0;32m/usr/local/lib/python3.11/dist-packages/sklearn/utils/_param_validation.py\u001b[0m in \u001b[0;36mwrapper\u001b[0;34m(*args, **kwargs)\u001b[0m\n\u001b[1;32m    214\u001b[0m                     )\n\u001b[1;32m    215\u001b[0m                 ):\n\u001b[0;32m--> 216\u001b[0;31m                     \u001b[0;32mreturn\u001b[0m \u001b[0mfunc\u001b[0m\u001b[0;34m(\u001b[0m\u001b[0;34m*\u001b[0m\u001b[0margs\u001b[0m\u001b[0;34m,\u001b[0m \u001b[0;34m**\u001b[0m\u001b[0mkwargs\u001b[0m\u001b[0;34m)\u001b[0m\u001b[0;34m\u001b[0m\u001b[0;34m\u001b[0m\u001b[0m\n\u001b[0m\u001b[1;32m    217\u001b[0m             \u001b[0;32mexcept\u001b[0m \u001b[0mInvalidParameterError\u001b[0m \u001b[0;32mas\u001b[0m \u001b[0me\u001b[0m\u001b[0;34m:\u001b[0m\u001b[0;34m\u001b[0m\u001b[0;34m\u001b[0m\u001b[0m\n\u001b[1;32m    218\u001b[0m                 \u001b[0;31m# When the function is just a wrapper around an estimator, we allow\u001b[0m\u001b[0;34m\u001b[0m\u001b[0;34m\u001b[0m\u001b[0m\n",
            "\u001b[0;32m/usr/local/lib/python3.11/dist-packages/sklearn/model_selection/_validation.py\u001b[0m in \u001b[0;36mcross_validate\u001b[0;34m(estimator, X, y, groups, scoring, cv, n_jobs, verbose, params, pre_dispatch, return_train_score, return_estimator, return_indices, error_score)\u001b[0m\n\u001b[1;32m    409\u001b[0m     \u001b[0;31m# independent, and that it is pickle-able.\u001b[0m\u001b[0;34m\u001b[0m\u001b[0;34m\u001b[0m\u001b[0m\n\u001b[1;32m    410\u001b[0m     \u001b[0mparallel\u001b[0m \u001b[0;34m=\u001b[0m \u001b[0mParallel\u001b[0m\u001b[0;34m(\u001b[0m\u001b[0mn_jobs\u001b[0m\u001b[0;34m=\u001b[0m\u001b[0mn_jobs\u001b[0m\u001b[0;34m,\u001b[0m \u001b[0mverbose\u001b[0m\u001b[0;34m=\u001b[0m\u001b[0mverbose\u001b[0m\u001b[0;34m,\u001b[0m \u001b[0mpre_dispatch\u001b[0m\u001b[0;34m=\u001b[0m\u001b[0mpre_dispatch\u001b[0m\u001b[0;34m)\u001b[0m\u001b[0;34m\u001b[0m\u001b[0;34m\u001b[0m\u001b[0m\n\u001b[0;32m--> 411\u001b[0;31m     results = parallel(\n\u001b[0m\u001b[1;32m    412\u001b[0m         delayed(_fit_and_score)(\n\u001b[1;32m    413\u001b[0m             \u001b[0mclone\u001b[0m\u001b[0;34m(\u001b[0m\u001b[0mestimator\u001b[0m\u001b[0;34m)\u001b[0m\u001b[0;34m,\u001b[0m\u001b[0;34m\u001b[0m\u001b[0;34m\u001b[0m\u001b[0m\n",
            "\u001b[0;32m/usr/local/lib/python3.11/dist-packages/sklearn/utils/parallel.py\u001b[0m in \u001b[0;36m__call__\u001b[0;34m(self, iterable)\u001b[0m\n\u001b[1;32m     75\u001b[0m             \u001b[0;32mfor\u001b[0m \u001b[0mdelayed_func\u001b[0m\u001b[0;34m,\u001b[0m \u001b[0margs\u001b[0m\u001b[0;34m,\u001b[0m \u001b[0mkwargs\u001b[0m \u001b[0;32min\u001b[0m \u001b[0miterable\u001b[0m\u001b[0;34m\u001b[0m\u001b[0;34m\u001b[0m\u001b[0m\n\u001b[1;32m     76\u001b[0m         )\n\u001b[0;32m---> 77\u001b[0;31m         \u001b[0;32mreturn\u001b[0m \u001b[0msuper\u001b[0m\u001b[0;34m(\u001b[0m\u001b[0;34m)\u001b[0m\u001b[0;34m.\u001b[0m\u001b[0m__call__\u001b[0m\u001b[0;34m(\u001b[0m\u001b[0miterable_with_config\u001b[0m\u001b[0;34m)\u001b[0m\u001b[0;34m\u001b[0m\u001b[0;34m\u001b[0m\u001b[0m\n\u001b[0m\u001b[1;32m     78\u001b[0m \u001b[0;34m\u001b[0m\u001b[0m\n\u001b[1;32m     79\u001b[0m \u001b[0;34m\u001b[0m\u001b[0m\n",
            "\u001b[0;32m/usr/local/lib/python3.11/dist-packages/joblib/parallel.py\u001b[0m in \u001b[0;36m__call__\u001b[0;34m(self, iterable)\u001b[0m\n\u001b[1;32m   1916\u001b[0m             \u001b[0moutput\u001b[0m \u001b[0;34m=\u001b[0m \u001b[0mself\u001b[0m\u001b[0;34m.\u001b[0m\u001b[0m_get_sequential_output\u001b[0m\u001b[0;34m(\u001b[0m\u001b[0miterable\u001b[0m\u001b[0;34m)\u001b[0m\u001b[0;34m\u001b[0m\u001b[0;34m\u001b[0m\u001b[0m\n\u001b[1;32m   1917\u001b[0m             \u001b[0mnext\u001b[0m\u001b[0;34m(\u001b[0m\u001b[0moutput\u001b[0m\u001b[0;34m)\u001b[0m\u001b[0;34m\u001b[0m\u001b[0;34m\u001b[0m\u001b[0m\n\u001b[0;32m-> 1918\u001b[0;31m             \u001b[0;32mreturn\u001b[0m \u001b[0moutput\u001b[0m \u001b[0;32mif\u001b[0m \u001b[0mself\u001b[0m\u001b[0;34m.\u001b[0m\u001b[0mreturn_generator\u001b[0m \u001b[0;32melse\u001b[0m \u001b[0mlist\u001b[0m\u001b[0;34m(\u001b[0m\u001b[0moutput\u001b[0m\u001b[0;34m)\u001b[0m\u001b[0;34m\u001b[0m\u001b[0;34m\u001b[0m\u001b[0m\n\u001b[0m\u001b[1;32m   1919\u001b[0m \u001b[0;34m\u001b[0m\u001b[0m\n\u001b[1;32m   1920\u001b[0m         \u001b[0;31m# Let's create an ID that uniquely identifies the current call. If the\u001b[0m\u001b[0;34m\u001b[0m\u001b[0;34m\u001b[0m\u001b[0m\n",
            "\u001b[0;32m/usr/local/lib/python3.11/dist-packages/joblib/parallel.py\u001b[0m in \u001b[0;36m_get_sequential_output\u001b[0;34m(self, iterable)\u001b[0m\n\u001b[1;32m   1845\u001b[0m                 \u001b[0mself\u001b[0m\u001b[0;34m.\u001b[0m\u001b[0mn_dispatched_batches\u001b[0m \u001b[0;34m+=\u001b[0m \u001b[0;36m1\u001b[0m\u001b[0;34m\u001b[0m\u001b[0;34m\u001b[0m\u001b[0m\n\u001b[1;32m   1846\u001b[0m                 \u001b[0mself\u001b[0m\u001b[0;34m.\u001b[0m\u001b[0mn_dispatched_tasks\u001b[0m \u001b[0;34m+=\u001b[0m \u001b[0;36m1\u001b[0m\u001b[0;34m\u001b[0m\u001b[0;34m\u001b[0m\u001b[0m\n\u001b[0;32m-> 1847\u001b[0;31m                 \u001b[0mres\u001b[0m \u001b[0;34m=\u001b[0m \u001b[0mfunc\u001b[0m\u001b[0;34m(\u001b[0m\u001b[0;34m*\u001b[0m\u001b[0margs\u001b[0m\u001b[0;34m,\u001b[0m \u001b[0;34m**\u001b[0m\u001b[0mkwargs\u001b[0m\u001b[0;34m)\u001b[0m\u001b[0;34m\u001b[0m\u001b[0;34m\u001b[0m\u001b[0m\n\u001b[0m\u001b[1;32m   1848\u001b[0m                 \u001b[0mself\u001b[0m\u001b[0;34m.\u001b[0m\u001b[0mn_completed_tasks\u001b[0m \u001b[0;34m+=\u001b[0m \u001b[0;36m1\u001b[0m\u001b[0;34m\u001b[0m\u001b[0;34m\u001b[0m\u001b[0m\n\u001b[1;32m   1849\u001b[0m                 \u001b[0mself\u001b[0m\u001b[0;34m.\u001b[0m\u001b[0mprint_progress\u001b[0m\u001b[0;34m(\u001b[0m\u001b[0;34m)\u001b[0m\u001b[0;34m\u001b[0m\u001b[0;34m\u001b[0m\u001b[0m\n",
            "\u001b[0;32m/usr/local/lib/python3.11/dist-packages/sklearn/utils/parallel.py\u001b[0m in \u001b[0;36m__call__\u001b[0;34m(self, *args, **kwargs)\u001b[0m\n\u001b[1;32m    137\u001b[0m             \u001b[0mconfig\u001b[0m \u001b[0;34m=\u001b[0m \u001b[0;34m{\u001b[0m\u001b[0;34m}\u001b[0m\u001b[0;34m\u001b[0m\u001b[0;34m\u001b[0m\u001b[0m\n\u001b[1;32m    138\u001b[0m         \u001b[0;32mwith\u001b[0m \u001b[0mconfig_context\u001b[0m\u001b[0;34m(\u001b[0m\u001b[0;34m**\u001b[0m\u001b[0mconfig\u001b[0m\u001b[0;34m)\u001b[0m\u001b[0;34m:\u001b[0m\u001b[0;34m\u001b[0m\u001b[0;34m\u001b[0m\u001b[0m\n\u001b[0;32m--> 139\u001b[0;31m             \u001b[0;32mreturn\u001b[0m \u001b[0mself\u001b[0m\u001b[0;34m.\u001b[0m\u001b[0mfunction\u001b[0m\u001b[0;34m(\u001b[0m\u001b[0;34m*\u001b[0m\u001b[0margs\u001b[0m\u001b[0;34m,\u001b[0m \u001b[0;34m**\u001b[0m\u001b[0mkwargs\u001b[0m\u001b[0;34m)\u001b[0m\u001b[0;34m\u001b[0m\u001b[0;34m\u001b[0m\u001b[0m\n\u001b[0m\u001b[1;32m    140\u001b[0m \u001b[0;34m\u001b[0m\u001b[0m\n\u001b[1;32m    141\u001b[0m \u001b[0;34m\u001b[0m\u001b[0m\n",
            "\u001b[0;32m/usr/local/lib/python3.11/dist-packages/sklearn/model_selection/_validation.py\u001b[0m in \u001b[0;36m_fit_and_score\u001b[0;34m(estimator, X, y, scorer, train, test, verbose, parameters, fit_params, score_params, return_train_score, return_parameters, return_n_test_samples, return_times, return_estimator, split_progress, candidate_progress, error_score)\u001b[0m\n\u001b[1;32m    864\u001b[0m             \u001b[0mestimator\u001b[0m\u001b[0;34m.\u001b[0m\u001b[0mfit\u001b[0m\u001b[0;34m(\u001b[0m\u001b[0mX_train\u001b[0m\u001b[0;34m,\u001b[0m \u001b[0;34m**\u001b[0m\u001b[0mfit_params\u001b[0m\u001b[0;34m)\u001b[0m\u001b[0;34m\u001b[0m\u001b[0;34m\u001b[0m\u001b[0m\n\u001b[1;32m    865\u001b[0m         \u001b[0;32melse\u001b[0m\u001b[0;34m:\u001b[0m\u001b[0;34m\u001b[0m\u001b[0;34m\u001b[0m\u001b[0m\n\u001b[0;32m--> 866\u001b[0;31m             \u001b[0mestimator\u001b[0m\u001b[0;34m.\u001b[0m\u001b[0mfit\u001b[0m\u001b[0;34m(\u001b[0m\u001b[0mX_train\u001b[0m\u001b[0;34m,\u001b[0m \u001b[0my_train\u001b[0m\u001b[0;34m,\u001b[0m \u001b[0;34m**\u001b[0m\u001b[0mfit_params\u001b[0m\u001b[0;34m)\u001b[0m\u001b[0;34m\u001b[0m\u001b[0;34m\u001b[0m\u001b[0m\n\u001b[0m\u001b[1;32m    867\u001b[0m \u001b[0;34m\u001b[0m\u001b[0m\n\u001b[1;32m    868\u001b[0m     \u001b[0;32mexcept\u001b[0m \u001b[0mException\u001b[0m\u001b[0;34m:\u001b[0m\u001b[0;34m\u001b[0m\u001b[0;34m\u001b[0m\u001b[0m\n",
            "\u001b[0;32m/usr/local/lib/python3.11/dist-packages/sklearn/base.py\u001b[0m in \u001b[0;36mwrapper\u001b[0;34m(estimator, *args, **kwargs)\u001b[0m\n\u001b[1;32m   1387\u001b[0m                 )\n\u001b[1;32m   1388\u001b[0m             ):\n\u001b[0;32m-> 1389\u001b[0;31m                 \u001b[0;32mreturn\u001b[0m \u001b[0mfit_method\u001b[0m\u001b[0;34m(\u001b[0m\u001b[0mestimator\u001b[0m\u001b[0;34m,\u001b[0m \u001b[0;34m*\u001b[0m\u001b[0margs\u001b[0m\u001b[0;34m,\u001b[0m \u001b[0;34m**\u001b[0m\u001b[0mkwargs\u001b[0m\u001b[0;34m)\u001b[0m\u001b[0;34m\u001b[0m\u001b[0;34m\u001b[0m\u001b[0m\n\u001b[0m\u001b[1;32m   1390\u001b[0m \u001b[0;34m\u001b[0m\u001b[0m\n\u001b[1;32m   1391\u001b[0m         \u001b[0;32mreturn\u001b[0m \u001b[0mwrapper\u001b[0m\u001b[0;34m\u001b[0m\u001b[0;34m\u001b[0m\u001b[0m\n",
            "\u001b[0;32m/usr/local/lib/python3.11/dist-packages/sklearn/linear_model/_stochastic_gradient.py\u001b[0m in \u001b[0;36mfit\u001b[0;34m(self, X, y, coef_init, intercept_init, sample_weight)\u001b[0m\n\u001b[1;32m    930\u001b[0m         \u001b[0mself\u001b[0m\u001b[0;34m.\u001b[0m\u001b[0m_more_validate_params\u001b[0m\u001b[0;34m(\u001b[0m\u001b[0;34m)\u001b[0m\u001b[0;34m\u001b[0m\u001b[0;34m\u001b[0m\u001b[0m\n\u001b[1;32m    931\u001b[0m \u001b[0;34m\u001b[0m\u001b[0m\n\u001b[0;32m--> 932\u001b[0;31m         return self._fit(\n\u001b[0m\u001b[1;32m    933\u001b[0m             \u001b[0mX\u001b[0m\u001b[0;34m,\u001b[0m\u001b[0;34m\u001b[0m\u001b[0;34m\u001b[0m\u001b[0m\n\u001b[1;32m    934\u001b[0m             \u001b[0my\u001b[0m\u001b[0;34m,\u001b[0m\u001b[0;34m\u001b[0m\u001b[0;34m\u001b[0m\u001b[0m\n",
            "\u001b[0;32m/usr/local/lib/python3.11/dist-packages/sklearn/linear_model/_stochastic_gradient.py\u001b[0m in \u001b[0;36m_fit\u001b[0;34m(self, X, y, alpha, C, loss, learning_rate, coef_init, intercept_init, sample_weight)\u001b[0m\n\u001b[1;32m    717\u001b[0m         \u001b[0mself\u001b[0m\u001b[0;34m.\u001b[0m\u001b[0mt_\u001b[0m \u001b[0;34m=\u001b[0m \u001b[0;36m1.0\u001b[0m\u001b[0;34m\u001b[0m\u001b[0;34m\u001b[0m\u001b[0m\n\u001b[1;32m    718\u001b[0m \u001b[0;34m\u001b[0m\u001b[0m\n\u001b[0;32m--> 719\u001b[0;31m         self._partial_fit(\n\u001b[0m\u001b[1;32m    720\u001b[0m             \u001b[0mX\u001b[0m\u001b[0;34m,\u001b[0m\u001b[0;34m\u001b[0m\u001b[0;34m\u001b[0m\u001b[0m\n\u001b[1;32m    721\u001b[0m             \u001b[0my\u001b[0m\u001b[0;34m,\u001b[0m\u001b[0;34m\u001b[0m\u001b[0;34m\u001b[0m\u001b[0m\n",
            "\u001b[0;32m/usr/local/lib/python3.11/dist-packages/sklearn/linear_model/_stochastic_gradient.py\u001b[0m in \u001b[0;36m_partial_fit\u001b[0;34m(self, X, y, alpha, C, loss, learning_rate, max_iter, classes, sample_weight, coef_init, intercept_init)\u001b[0m\n\u001b[1;32m    641\u001b[0m         \u001b[0;31m# delegate to concrete training procedure\u001b[0m\u001b[0;34m\u001b[0m\u001b[0;34m\u001b[0m\u001b[0m\n\u001b[1;32m    642\u001b[0m         \u001b[0;32mif\u001b[0m \u001b[0mn_classes\u001b[0m \u001b[0;34m>\u001b[0m \u001b[0;36m2\u001b[0m\u001b[0;34m:\u001b[0m\u001b[0;34m\u001b[0m\u001b[0;34m\u001b[0m\u001b[0m\n\u001b[0;32m--> 643\u001b[0;31m             self._fit_multiclass(\n\u001b[0m\u001b[1;32m    644\u001b[0m                 \u001b[0mX\u001b[0m\u001b[0;34m,\u001b[0m\u001b[0;34m\u001b[0m\u001b[0;34m\u001b[0m\u001b[0m\n\u001b[1;32m    645\u001b[0m                 \u001b[0my\u001b[0m\u001b[0;34m,\u001b[0m\u001b[0;34m\u001b[0m\u001b[0;34m\u001b[0m\u001b[0m\n",
            "\u001b[0;32m/usr/local/lib/python3.11/dist-packages/sklearn/linear_model/_stochastic_gradient.py\u001b[0m in \u001b[0;36m_fit_multiclass\u001b[0;34m(self, X, y, alpha, C, learning_rate, sample_weight, max_iter)\u001b[0m\n\u001b[1;32m    796\u001b[0m         \u001b[0mrandom_state\u001b[0m \u001b[0;34m=\u001b[0m \u001b[0mcheck_random_state\u001b[0m\u001b[0;34m(\u001b[0m\u001b[0mself\u001b[0m\u001b[0;34m.\u001b[0m\u001b[0mrandom_state\u001b[0m\u001b[0;34m)\u001b[0m\u001b[0;34m\u001b[0m\u001b[0;34m\u001b[0m\u001b[0m\n\u001b[1;32m    797\u001b[0m         \u001b[0mseeds\u001b[0m \u001b[0;34m=\u001b[0m \u001b[0mrandom_state\u001b[0m\u001b[0;34m.\u001b[0m\u001b[0mrandint\u001b[0m\u001b[0;34m(\u001b[0m\u001b[0mMAX_INT\u001b[0m\u001b[0;34m,\u001b[0m \u001b[0msize\u001b[0m\u001b[0;34m=\u001b[0m\u001b[0mlen\u001b[0m\u001b[0;34m(\u001b[0m\u001b[0mself\u001b[0m\u001b[0;34m.\u001b[0m\u001b[0mclasses_\u001b[0m\u001b[0;34m)\u001b[0m\u001b[0;34m)\u001b[0m\u001b[0;34m\u001b[0m\u001b[0;34m\u001b[0m\u001b[0m\n\u001b[0;32m--> 798\u001b[0;31m         result = Parallel(\n\u001b[0m\u001b[1;32m    799\u001b[0m             \u001b[0mn_jobs\u001b[0m\u001b[0;34m=\u001b[0m\u001b[0mself\u001b[0m\u001b[0;34m.\u001b[0m\u001b[0mn_jobs\u001b[0m\u001b[0;34m,\u001b[0m \u001b[0mverbose\u001b[0m\u001b[0;34m=\u001b[0m\u001b[0mself\u001b[0m\u001b[0;34m.\u001b[0m\u001b[0mverbose\u001b[0m\u001b[0;34m,\u001b[0m \u001b[0mrequire\u001b[0m\u001b[0;34m=\u001b[0m\u001b[0;34m\"sharedmem\"\u001b[0m\u001b[0;34m\u001b[0m\u001b[0;34m\u001b[0m\u001b[0m\n\u001b[1;32m    800\u001b[0m         \u001b[0;34m)\u001b[0m\u001b[0;34m(\u001b[0m\u001b[0;34m\u001b[0m\u001b[0;34m\u001b[0m\u001b[0m\n",
            "\u001b[0;32m/usr/local/lib/python3.11/dist-packages/sklearn/utils/parallel.py\u001b[0m in \u001b[0;36m__call__\u001b[0;34m(self, iterable)\u001b[0m\n\u001b[1;32m     75\u001b[0m             \u001b[0;32mfor\u001b[0m \u001b[0mdelayed_func\u001b[0m\u001b[0;34m,\u001b[0m \u001b[0margs\u001b[0m\u001b[0;34m,\u001b[0m \u001b[0mkwargs\u001b[0m \u001b[0;32min\u001b[0m \u001b[0miterable\u001b[0m\u001b[0;34m\u001b[0m\u001b[0;34m\u001b[0m\u001b[0m\n\u001b[1;32m     76\u001b[0m         )\n\u001b[0;32m---> 77\u001b[0;31m         \u001b[0;32mreturn\u001b[0m \u001b[0msuper\u001b[0m\u001b[0;34m(\u001b[0m\u001b[0;34m)\u001b[0m\u001b[0;34m.\u001b[0m\u001b[0m__call__\u001b[0m\u001b[0;34m(\u001b[0m\u001b[0miterable_with_config\u001b[0m\u001b[0;34m)\u001b[0m\u001b[0;34m\u001b[0m\u001b[0;34m\u001b[0m\u001b[0m\n\u001b[0m\u001b[1;32m     78\u001b[0m \u001b[0;34m\u001b[0m\u001b[0m\n\u001b[1;32m     79\u001b[0m \u001b[0;34m\u001b[0m\u001b[0m\n",
            "\u001b[0;32m/usr/local/lib/python3.11/dist-packages/joblib/parallel.py\u001b[0m in \u001b[0;36m__call__\u001b[0;34m(self, iterable)\u001b[0m\n\u001b[1;32m   1916\u001b[0m             \u001b[0moutput\u001b[0m \u001b[0;34m=\u001b[0m \u001b[0mself\u001b[0m\u001b[0;34m.\u001b[0m\u001b[0m_get_sequential_output\u001b[0m\u001b[0;34m(\u001b[0m\u001b[0miterable\u001b[0m\u001b[0;34m)\u001b[0m\u001b[0;34m\u001b[0m\u001b[0;34m\u001b[0m\u001b[0m\n\u001b[1;32m   1917\u001b[0m             \u001b[0mnext\u001b[0m\u001b[0;34m(\u001b[0m\u001b[0moutput\u001b[0m\u001b[0;34m)\u001b[0m\u001b[0;34m\u001b[0m\u001b[0;34m\u001b[0m\u001b[0m\n\u001b[0;32m-> 1918\u001b[0;31m             \u001b[0;32mreturn\u001b[0m \u001b[0moutput\u001b[0m \u001b[0;32mif\u001b[0m \u001b[0mself\u001b[0m\u001b[0;34m.\u001b[0m\u001b[0mreturn_generator\u001b[0m \u001b[0;32melse\u001b[0m \u001b[0mlist\u001b[0m\u001b[0;34m(\u001b[0m\u001b[0moutput\u001b[0m\u001b[0;34m)\u001b[0m\u001b[0;34m\u001b[0m\u001b[0;34m\u001b[0m\u001b[0m\n\u001b[0m\u001b[1;32m   1919\u001b[0m \u001b[0;34m\u001b[0m\u001b[0m\n\u001b[1;32m   1920\u001b[0m         \u001b[0;31m# Let's create an ID that uniquely identifies the current call. If the\u001b[0m\u001b[0;34m\u001b[0m\u001b[0;34m\u001b[0m\u001b[0m\n",
            "\u001b[0;32m/usr/local/lib/python3.11/dist-packages/joblib/parallel.py\u001b[0m in \u001b[0;36m_get_sequential_output\u001b[0;34m(self, iterable)\u001b[0m\n\u001b[1;32m   1845\u001b[0m                 \u001b[0mself\u001b[0m\u001b[0;34m.\u001b[0m\u001b[0mn_dispatched_batches\u001b[0m \u001b[0;34m+=\u001b[0m \u001b[0;36m1\u001b[0m\u001b[0;34m\u001b[0m\u001b[0;34m\u001b[0m\u001b[0m\n\u001b[1;32m   1846\u001b[0m                 \u001b[0mself\u001b[0m\u001b[0;34m.\u001b[0m\u001b[0mn_dispatched_tasks\u001b[0m \u001b[0;34m+=\u001b[0m \u001b[0;36m1\u001b[0m\u001b[0;34m\u001b[0m\u001b[0;34m\u001b[0m\u001b[0m\n\u001b[0;32m-> 1847\u001b[0;31m                 \u001b[0mres\u001b[0m \u001b[0;34m=\u001b[0m \u001b[0mfunc\u001b[0m\u001b[0;34m(\u001b[0m\u001b[0;34m*\u001b[0m\u001b[0margs\u001b[0m\u001b[0;34m,\u001b[0m \u001b[0;34m**\u001b[0m\u001b[0mkwargs\u001b[0m\u001b[0;34m)\u001b[0m\u001b[0;34m\u001b[0m\u001b[0;34m\u001b[0m\u001b[0m\n\u001b[0m\u001b[1;32m   1848\u001b[0m                 \u001b[0mself\u001b[0m\u001b[0;34m.\u001b[0m\u001b[0mn_completed_tasks\u001b[0m \u001b[0;34m+=\u001b[0m \u001b[0;36m1\u001b[0m\u001b[0;34m\u001b[0m\u001b[0;34m\u001b[0m\u001b[0m\n\u001b[1;32m   1849\u001b[0m                 \u001b[0mself\u001b[0m\u001b[0;34m.\u001b[0m\u001b[0mprint_progress\u001b[0m\u001b[0;34m(\u001b[0m\u001b[0;34m)\u001b[0m\u001b[0;34m\u001b[0m\u001b[0;34m\u001b[0m\u001b[0m\n",
            "\u001b[0;32m/usr/local/lib/python3.11/dist-packages/sklearn/utils/parallel.py\u001b[0m in \u001b[0;36m__call__\u001b[0;34m(self, *args, **kwargs)\u001b[0m\n\u001b[1;32m    137\u001b[0m             \u001b[0mconfig\u001b[0m \u001b[0;34m=\u001b[0m \u001b[0;34m{\u001b[0m\u001b[0;34m}\u001b[0m\u001b[0;34m\u001b[0m\u001b[0;34m\u001b[0m\u001b[0m\n\u001b[1;32m    138\u001b[0m         \u001b[0;32mwith\u001b[0m \u001b[0mconfig_context\u001b[0m\u001b[0;34m(\u001b[0m\u001b[0;34m**\u001b[0m\u001b[0mconfig\u001b[0m\u001b[0;34m)\u001b[0m\u001b[0;34m:\u001b[0m\u001b[0;34m\u001b[0m\u001b[0;34m\u001b[0m\u001b[0m\n\u001b[0;32m--> 139\u001b[0;31m             \u001b[0;32mreturn\u001b[0m \u001b[0mself\u001b[0m\u001b[0;34m.\u001b[0m\u001b[0mfunction\u001b[0m\u001b[0;34m(\u001b[0m\u001b[0;34m*\u001b[0m\u001b[0margs\u001b[0m\u001b[0;34m,\u001b[0m \u001b[0;34m**\u001b[0m\u001b[0mkwargs\u001b[0m\u001b[0;34m)\u001b[0m\u001b[0;34m\u001b[0m\u001b[0;34m\u001b[0m\u001b[0m\n\u001b[0m\u001b[1;32m    140\u001b[0m \u001b[0;34m\u001b[0m\u001b[0m\n\u001b[1;32m    141\u001b[0m \u001b[0;34m\u001b[0m\u001b[0m\n",
            "\u001b[0;32m/usr/local/lib/python3.11/dist-packages/sklearn/linear_model/_stochastic_gradient.py\u001b[0m in \u001b[0;36mfit_binary\u001b[0;34m(est, i, X, y, alpha, C, learning_rate, max_iter, pos_weight, neg_weight, sample_weight, validation_mask, random_state)\u001b[0m\n\u001b[1;32m    454\u001b[0m \u001b[0;34m\u001b[0m\u001b[0m\n\u001b[1;32m    455\u001b[0m     \u001b[0m_plain_sgd\u001b[0m \u001b[0;34m=\u001b[0m \u001b[0m_get_plain_sgd_function\u001b[0m\u001b[0;34m(\u001b[0m\u001b[0minput_dtype\u001b[0m\u001b[0;34m=\u001b[0m\u001b[0mcoef\u001b[0m\u001b[0;34m.\u001b[0m\u001b[0mdtype\u001b[0m\u001b[0;34m)\u001b[0m\u001b[0;34m\u001b[0m\u001b[0;34m\u001b[0m\u001b[0m\n\u001b[0;32m--> 456\u001b[0;31m     coef, intercept, average_coef, average_intercept, n_iter_ = _plain_sgd(\n\u001b[0m\u001b[1;32m    457\u001b[0m         \u001b[0mcoef\u001b[0m\u001b[0;34m,\u001b[0m\u001b[0;34m\u001b[0m\u001b[0;34m\u001b[0m\u001b[0m\n\u001b[1;32m    458\u001b[0m         \u001b[0mintercept\u001b[0m\u001b[0;34m,\u001b[0m\u001b[0;34m\u001b[0m\u001b[0;34m\u001b[0m\u001b[0m\n",
            "\u001b[0;31mKeyboardInterrupt\u001b[0m: "
          ]
        }
      ]
    },
    {
      "cell_type": "code",
      "source": [
        "from sklearn.preprocessing import StandardScaler\n",
        "\n",
        "scaler = StandardScaler()\n",
        "X_train_scaled = scaler.fit_transform(X_train.astype(\"float64\"))\n",
        "cross_val_score(sgd_clf, X_train_scaled, y_train, cv=3, scoring=\"accuracy\")"
      ],
      "metadata": {
        "id": "PZ1Vv3pJkGF7"
      },
      "execution_count": null,
      "outputs": []
    },
    {
      "cell_type": "markdown",
      "source": [
        "### Error Analysis"
      ],
      "metadata": {
        "id": "KAuefDEYkQc-"
      }
    },
    {
      "cell_type": "code",
      "source": [
        "from sklearn.metrics import ConfusionMatrixDisplay\n",
        "\n",
        "y_train_pred = cross_val_predict(sgd_clf, X_train_scaled, y_train, cv=3)\n",
        "plt.rc('font', size=9)  # extra code – make the text smaller\n",
        "ConfusionMatrixDisplay.from_predictions(y_train, y_train_pred)\n",
        "plt.show()"
      ],
      "metadata": {
        "id": "STUIDTAbkVo-"
      },
      "execution_count": null,
      "outputs": []
    },
    {
      "cell_type": "code",
      "source": [
        "plt.rc('font', size=10)  # extra code\n",
        "ConfusionMatrixDisplay.from_predictions(y_train, y_train_pred,\n",
        "                                        normalize=\"true\", values_format=\".0%\")\n",
        "plt.show()"
      ],
      "metadata": {
        "id": "IxqPW-v1kgh3"
      },
      "execution_count": null,
      "outputs": []
    },
    {
      "cell_type": "code",
      "source": [
        "sample_weight = (y_train_pred != y_train)\n",
        "plt.rc('font', size=10)  # extra code\n",
        "ConfusionMatrixDisplay.from_predictions(y_train, y_train_pred,\n",
        "                                        sample_weight=sample_weight,\n",
        "                                        normalize=\"true\", values_format=\".0%\")\n",
        "plt.show()"
      ],
      "metadata": {
        "id": "ybcXkeFmkiDA"
      },
      "execution_count": null,
      "outputs": []
    },
    {
      "cell_type": "code",
      "source": [
        "# extra code – this cell generates and saves Figure 3–9\n",
        "fig, axs = plt.subplots(nrows=1, ncols=2, figsize=(9, 4))\n",
        "plt.rc('font', size=9)\n",
        "ConfusionMatrixDisplay.from_predictions(y_train, y_train_pred, ax=axs[0])\n",
        "axs[0].set_title(\"Confusion matrix\")\n",
        "plt.rc('font', size=10)\n",
        "ConfusionMatrixDisplay.from_predictions(y_train, y_train_pred, ax=axs[1],\n",
        "                                        normalize=\"true\", values_format=\".0%\")\n",
        "axs[1].set_title(\"CM normalized by row\")\n",
        "save_fig(\"confusion_matrix_plot_1\")\n",
        "plt.show()"
      ],
      "metadata": {
        "id": "5Xql-x3gkoPG"
      },
      "execution_count": null,
      "outputs": []
    },
    {
      "cell_type": "code",
      "source": [
        "# extra code – this cell generates and saves Figure 3–10\n",
        "fig, axs = plt.subplots(nrows=1, ncols=2, figsize=(9, 4))\n",
        "plt.rc('font', size=10)\n",
        "ConfusionMatrixDisplay.from_predictions(y_train, y_train_pred, ax=axs[0],\n",
        "                                        sample_weight=sample_weight,\n",
        "                                        normalize=\"true\", values_format=\".0%\")\n",
        "axs[0].set_title(\"Errors normalized by row\")\n",
        "ConfusionMatrixDisplay.from_predictions(y_train, y_train_pred, ax=axs[1],\n",
        "                                        sample_weight=sample_weight,\n",
        "                                        normalize=\"pred\", values_format=\".0%\")\n",
        "axs[1].set_title(\"Errors normalized by column\")\n",
        "save_fig(\"confusion_matrix_plot_2\")\n",
        "plt.show()\n",
        "plt.rc('font', size=14)  # make fonts great again"
      ],
      "metadata": {
        "id": "tJmE7RLbkqpi"
      },
      "execution_count": null,
      "outputs": []
    },
    {
      "cell_type": "code",
      "source": [
        "cl_a, cl_b = '3', '5'\n",
        "X_aa = X_train[(y_train == cl_a) & (y_train_pred == cl_a)]\n",
        "X_ab = X_train[(y_train == cl_a) & (y_train_pred == cl_b)]\n",
        "X_ba = X_train[(y_train == cl_b) & (y_train_pred == cl_a)]\n",
        "X_bb = X_train[(y_train == cl_b) & (y_train_pred == cl_b)]"
      ],
      "metadata": {
        "id": "_rP71-68ksr-"
      },
      "execution_count": null,
      "outputs": []
    },
    {
      "cell_type": "code",
      "source": [
        "# extra code – this cell generates and saves Figure 3–11\n",
        "size = 5\n",
        "pad = 0.2\n",
        "plt.figure(figsize=(size, size))\n",
        "for images, (label_col, label_row) in [(X_ba, (0, 0)), (X_bb, (1, 0)),\n",
        "                                       (X_aa, (0, 1)), (X_ab, (1, 1))]:\n",
        "    for idx, image_data in enumerate(images[:size*size]):\n",
        "        x = idx % size + label_col * (size + pad)\n",
        "        y = idx // size + label_row * (size + pad)\n",
        "        plt.imshow(image_data.reshape(28, 28), cmap=\"binary\",\n",
        "                   extent=(x, x + 1, y, y + 1))\n",
        "plt.xticks([size / 2, size + pad + size / 2], [str(cl_a), str(cl_b)])\n",
        "plt.yticks([size / 2, size + pad + size / 2], [str(cl_b), str(cl_a)])\n",
        "plt.plot([size + pad / 2, size + pad / 2], [0, 2 * size + pad], \"k:\")\n",
        "plt.plot([0, 2 * size + pad], [size + pad / 2, size + pad / 2], \"k:\")\n",
        "plt.axis([0, 2 * size + pad, 0, 2 * size + pad])\n",
        "plt.xlabel(\"Predicted label\")\n",
        "plt.ylabel(\"True label\")\n",
        "save_fig(\"error_analysis_digits_plot\")\n",
        "plt.show()"
      ],
      "metadata": {
        "id": "m07Vtzo5ku-3"
      },
      "execution_count": null,
      "outputs": []
    },
    {
      "cell_type": "markdown",
      "source": [
        "### Multilabel Classification"
      ],
      "metadata": {
        "id": "eYfE6xlyk0l_"
      }
    },
    {
      "cell_type": "code",
      "source": [
        "import numpy as np\n",
        "from sklearn.neighbors import KNeighborsClassifier\n",
        "\n",
        "y_train_large = (y_train >= '7')\n",
        "y_train_odd = (y_train.astype('int8') % 2 == 1)\n",
        "y_multilabel = np.c_[y_train_large, y_train_odd]\n",
        "\n",
        "knn_clf = KNeighborsClassifier()\n",
        "knn_clf.fit(X_train, y_multilabel)"
      ],
      "metadata": {
        "id": "0M-Pn-QEkxiq"
      },
      "execution_count": null,
      "outputs": []
    },
    {
      "cell_type": "code",
      "source": [
        "knn_clf.predict([some_digit])"
      ],
      "metadata": {
        "id": "RGg0YcQsk3RT"
      },
      "execution_count": null,
      "outputs": []
    },
    {
      "cell_type": "code",
      "source": [
        "y_train_knn_pred = cross_val_predict(knn_clf, X_train, y_multilabel, cv=3)\n",
        "f1_score(y_multilabel, y_train_knn_pred, average=\"macro\")"
      ],
      "metadata": {
        "id": "ACrFsVh5k47l"
      },
      "execution_count": null,
      "outputs": []
    },
    {
      "cell_type": "code",
      "source": [
        "# extra code – shows that we get a negligible performance improvement when we\n",
        "#              set average=\"weighted\" because the classes are already pretty\n",
        "#              well balanced.\n",
        "f1_score(y_multilabel, y_train_knn_pred, average=\"weighted\")"
      ],
      "metadata": {
        "id": "dt0jNE_uk6vN"
      },
      "execution_count": null,
      "outputs": []
    },
    {
      "cell_type": "code",
      "source": [
        "from sklearn.multioutput import ClassifierChain\n",
        "\n",
        "chain_clf = ClassifierChain(SVC(), cv=3, random_state=42)\n",
        "chain_clf.fit(X_train[:2000], y_multilabel[:2000])"
      ],
      "metadata": {
        "id": "hg6j71enk9CW"
      },
      "execution_count": null,
      "outputs": []
    },
    {
      "cell_type": "code",
      "source": [
        "chain_clf.predict([some_digit])"
      ],
      "metadata": {
        "id": "OtYYAkFpk-9z"
      },
      "execution_count": null,
      "outputs": []
    },
    {
      "cell_type": "markdown",
      "source": [
        "### Multioutput Classification"
      ],
      "metadata": {
        "id": "9WPVEptTlBVW"
      }
    },
    {
      "cell_type": "code",
      "source": [
        "np.random.seed(42)  # to make this code example reproducible\n",
        "noise = np.random.randint(0, 100, (len(X_train), 784))\n",
        "X_train_mod = X_train + noise\n",
        "noise = np.random.randint(0, 100, (len(X_test), 784))\n",
        "X_test_mod = X_test + noise\n",
        "y_train_mod = X_train\n",
        "y_test_mod = X_test"
      ],
      "metadata": {
        "id": "E6eO7ObDlA9q"
      },
      "execution_count": null,
      "outputs": []
    },
    {
      "cell_type": "code",
      "source": [
        "# extra code – this cell generates and saves Figure 3–12\n",
        "plt.subplot(121); plot_digit(X_test_mod[0])\n",
        "plt.subplot(122); plot_digit(y_test_mod[0])\n",
        "save_fig(\"noisy_digit_example_plot\")\n",
        "plt.show()"
      ],
      "metadata": {
        "id": "92AThE71lGJ_"
      },
      "execution_count": null,
      "outputs": []
    }
  ]
}