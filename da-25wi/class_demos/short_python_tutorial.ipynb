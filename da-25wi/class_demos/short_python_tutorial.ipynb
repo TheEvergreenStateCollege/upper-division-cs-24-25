{
 "cells": [
  {
   "cell_type": "markdown",
   "metadata": {
    "collapsed": false
   },
   "source": [
    "#  A Short Python Tutorial \n",
    "\n",
    "\n",
    "### Overview: \n",
    "\n",
    "<i>This tutorial is designed to provide a gentle introduction to scientific programming in Python for students in my Math 471 class.  As such, it provides a cursory overview of \n",
    "1.  basic algebraic operations\n",
    "2.  vectors and matrices\n",
    "3.  plots\n",
    "4.  control structures (`if` statements, `for` and `while` loops)\n",
    "5.  functions\n",
    "\n",
    "Students who are currently taking CSCI 161 should be able to make it through the tutorial, but might wish to meet with me afterwards to discuss some of these structures in greater detail.  Students who have already taken CSCI 161 really just need to get up to speed on Python syntax, and should be able to whiz through this tutorial quickly.</i>\n",
    "\n",
    "\n",
    "### Introduction\n",
    "\n",
    "Python is a powerful and popular open-source programming language.  It is particularly effective for *scientific prototyping*, i.e. the process of performing first-pass explorations of a scientific problem through numerics, graphics, and simulations. \n",
    "\n",
    "Python syntax is fairly intuitive, though the language has some quirks.  This tutorial is designed to help the complete novice get comfortable with select elements of the language.  The Web is awash with additional tutorials, and the student who wishes to master the language should work through a more detailed tutorial after finishing this one.  Recommended tutorials include the following:\n",
    "\n",
    "1.  The Official Python Tutorial:  https://docs.python.org/2/tutorial/\n",
    "2.  The Code Academy:  https://www.codecademy.com/learn/python\n",
    "3.  Wikibooks:  https://en.wikibooks.org/wiki/A_Beginner's_Python_Tutorial\n",
    "\n",
    "There are many others great options as well:  a google search is a good place to start.  Ultimately,  one learns to code by coding:  after working through a tutorial, you need to set yourself a project, sit down at a terminal, and try to bring it to completion. It is only by stumbling, and then figuring how to correct things, that you will gain a true mastery of the language.\n",
    "\n",
    "### I.  Basic algebraic operations\n",
    "\n",
    "We will be using Python 2 in this tutorial.  There is actually a Python 3 which has lots of improvements over Python 2; the problem is that many applications are built on Python 2, and are not ready for Python 3.  The good news is that much of the higher functionality of Python 3 is available to Python 2 by \"importing\" certain modules.  This is what we do in the following code cell.  To run the cell, click on it, and then click on the arrow button at the top of the page (or hit \"Shift-Enter\".)"
   ]
  },
  {
   "cell_type": "code",
   "execution_count": null,
   "metadata": {
    "collapsed": false
   },
   "outputs": [],
   "source": [
    "from __future__ import division, print_function # good defensive measure\n",
    "\n",
    "print(\"You imported a little functionality that will make your life easier.  Congratulations!\")"
   ]
  },
  {
   "cell_type": "markdown",
   "metadata": {},
   "source": [
    "Note that we have just imported \"divison\" and \"print_function\" from the \"_future_\" module. Always import these if you're using Python 2--they will save you some significant headaches.\n",
    "\n",
    "Having imported some useful functionality, let's start by using Python as a calculator.  Run each of the following cells, and study the output to see what each bit of code does."
   ]
  },
  {
   "cell_type": "code",
   "execution_count": null,
   "metadata": {
    "collapsed": false
   },
   "outputs": [],
   "source": [
    "3 + 2"
   ]
  },
  {
   "cell_type": "markdown",
   "metadata": {},
   "source": [
    "Often, we assign values to *variables* and then perform calculations with the variables."
   ]
  },
  {
   "cell_type": "code",
   "execution_count": null,
   "metadata": {
    "collapsed": true
   },
   "outputs": [],
   "source": [
    "x = 3\n",
    "y = 2\n",
    "z = x+y"
   ]
  },
  {
   "cell_type": "markdown",
   "metadata": {},
   "source": [
    "Note that unlike in the previous cell, there is no output when you run this code:  the values of the variables are stored in the 'workspace', but not printed to the screen.  To see the values of these variables, use the `print` command:"
   ]
  },
  {
   "cell_type": "code",
   "execution_count": null,
   "metadata": {
    "collapsed": false
   },
   "outputs": [],
   "source": [
    "print(\"x: \",x)\n",
    "print(\"y: \",y)\n",
    "print(\"z: \",z)"
   ]
  },
  {
   "cell_type": "markdown",
   "metadata": {},
   "source": [
    "The `print` command is very useful for everything to displaying output to debugging.  In general, `print` takes as many arguments as you wish to give it, each separated by a comma.  Here, I included an identifying \"string\" (e.g. \"x: \", \"y: \", etc.) before printing each variable value, so the output would be clearer to read.  This is a good habit to get into.  \n",
    "\n",
    "To see all the variables in workspace, use the `whos` command:"
   ]
  },
  {
   "cell_type": "code",
   "execution_count": null,
   "metadata": {
    "collapsed": false
   },
   "outputs": [],
   "source": [
    "whos"
   ]
  },
  {
   "cell_type": "markdown",
   "metadata": {},
   "source": [
    "Note that $x$, $y$, and $z$ show up, as do a few other things.  These other things are the fruits of the `import` commands we gave above.  \n",
    "\n",
    "We can do other calculuations:"
   ]
  },
  {
   "cell_type": "code",
   "execution_count": null,
   "metadata": {
    "collapsed": false
   },
   "outputs": [],
   "source": [
    "# exponention\n",
    "x**3  "
   ]
  },
  {
   "cell_type": "code",
   "execution_count": null,
   "metadata": {
    "collapsed": false
   },
   "outputs": [],
   "source": [
    "# division\n",
    "x/z   "
   ]
  },
  {
   "cell_type": "code",
   "execution_count": null,
   "metadata": {
    "collapsed": false
   },
   "outputs": [],
   "source": [
    "# multiplication\n",
    "x*z   "
   ]
  },
  {
   "cell_type": "markdown",
   "metadata": {},
   "source": [
    "Note that if we do a calculation without assigning the output to a variable name, the output is printed by default.  Also note that one can add \"comments\" to a code cell by inserting a \"#\" symbol.\n",
    "\n",
    "Sometimes we want to do more advanced basic calculations, like take square roots, exponentials, logs, etc.  Most of this \"advanced\" functionality exists in a module called `numpy`.  We import it below, and then show how to use some of its features. "
   ]
  },
  {
   "cell_type": "code",
   "execution_count": null,
   "metadata": {
    "collapsed": true
   },
   "outputs": [],
   "source": [
    "import numpy as np      # numpy is Python's numerical library; always import it"
   ]
  },
  {
   "cell_type": "markdown",
   "metadata": {},
   "source": [
    "Note the we imported `numpy` as `np`.  When we invoke any of the functions contained in the numpy module, we thus prefix them with `np`, as illustrated below."
   ]
  },
  {
   "cell_type": "code",
   "execution_count": null,
   "metadata": {
    "collapsed": false
   },
   "outputs": [],
   "source": [
    "np.sqrt(x)  # square root function"
   ]
  },
  {
   "cell_type": "code",
   "execution_count": null,
   "metadata": {
    "collapsed": false
   },
   "outputs": [],
   "source": [
    "np.exp(x)   # exponentiating e to the power of x"
   ]
  },
  {
   "cell_type": "code",
   "execution_count": null,
   "metadata": {
    "collapsed": false
   },
   "outputs": [],
   "source": [
    "np.log(x)  # taking a log of x"
   ]
  },
  {
   "cell_type": "markdown",
   "metadata": {},
   "source": [
    "Suppose you weren't sure if `np.log` gave you the natural log or a base 10 log.  There are at least three ways to figure this out:\n",
    "\n",
    "1.  You could find out by checking the numpy documentation:\n",
    "http://www.numpy.org/\n",
    "\n",
    "2. You could do a Google search of `np.log`--it should take you directly to the relevant help page.  \n",
    "\n",
    "3. You could just play around with the code, as follows:"
   ]
  },
  {
   "cell_type": "code",
   "execution_count": null,
   "metadata": {
    "collapsed": false
   },
   "outputs": [],
   "source": [
    "# the log of 10\n",
    "np.log(10)"
   ]
  },
  {
   "cell_type": "code",
   "execution_count": null,
   "metadata": {
    "collapsed": false
   },
   "outputs": [],
   "source": [
    "# the log of e\n",
    "np.log(np.exp(1))"
   ]
  },
  {
   "cell_type": "markdown",
   "metadata": {},
   "source": [
    "Based on these outputs, it looks like `np.log` is a natural log, not a base 10 log.  Never underestimate the power of \"playing around\" as you learn how work with Python.\n",
    "\n",
    "### II.  Vectors and Matrices\n",
    "\n",
    "Vectors and matrices play a fundamental role in scientific computing.  You need to become familiar with how these things are formed, and how to manipulate them.\n",
    "\n",
    "Once again, the package `numpy` has most of the functionality we need.  The basic vector object is a \"numpy array\".  The following cell shows one way to form such an array.  "
   ]
  },
  {
   "cell_type": "code",
   "execution_count": null,
   "metadata": {
    "collapsed": false
   },
   "outputs": [],
   "source": [
    "v = np.array([1,2,4])\n",
    "print(\"v: \",v)"
   ]
  },
  {
   "cell_type": "markdown",
   "metadata": {},
   "source": [
    "Python is an \"object oriented\" language.  Many objects carry around their own methods that can be used to give information about that object.  Here are ways to get information about the vector `v`:"
   ]
  },
  {
   "cell_type": "code",
   "execution_count": null,
   "metadata": {
    "collapsed": false
   },
   "outputs": [],
   "source": [
    "# how many elements does v have?\n",
    "v.size"
   ]
  },
  {
   "cell_type": "code",
   "execution_count": null,
   "metadata": {
    "collapsed": false
   },
   "outputs": [],
   "source": [
    "# what shape does v have?\n",
    "v.shape"
   ]
  },
  {
   "cell_type": "code",
   "execution_count": null,
   "metadata": {
    "collapsed": false
   },
   "outputs": [],
   "source": [
    "# what other methods does v have?\n",
    "dir(v)"
   ]
  },
  {
   "cell_type": "markdown",
   "metadata": {
    "collapsed": true
   },
   "source": [
    "That's a lot of methods.  (If you want to get rid of the long list, activate the cell by clicking on it, then on the pulldown menu above click \"Cell --> Current Output --> Clear.\")  It probably isn't clear to you what each one does.  If you're curious, you can use the `?` symbol to get further information:"
   ]
  },
  {
   "cell_type": "code",
   "execution_count": null,
   "metadata": {
    "collapsed": false
   },
   "outputs": [],
   "source": [
    "?v.max"
   ]
  },
  {
   "cell_type": "markdown",
   "metadata": {},
   "source": [
    "Based on the output, it looks like the `max` method returns the maximum element.  Let's try it:"
   ]
  },
  {
   "cell_type": "code",
   "execution_count": null,
   "metadata": {
    "collapsed": false
   },
   "outputs": [],
   "source": [
    "v.max()"
   ]
  },
  {
   "cell_type": "markdown",
   "metadata": {},
   "source": [
    "Matrices are constructed similarly:"
   ]
  },
  {
   "cell_type": "code",
   "execution_count": null,
   "metadata": {
    "collapsed": false
   },
   "outputs": [],
   "source": [
    "A = np.array([[1,2,3],[4,5,6],[7,8,9]])\n",
    "print(\"A: \",A)"
   ]
  },
  {
   "cell_type": "markdown",
   "metadata": {},
   "source": [
    "Note the syntax:  each row of the matrix has three numbers within square brackets, and each set of square brackets is separated by a comma and again set within square brackets.   \n",
    "\n",
    "Now that we have matrices and vectors, we can do linear algebra.  For example, matrix-vector multiplication is achieved via the `np.dot` command:"
   ]
  },
  {
   "cell_type": "code",
   "execution_count": null,
   "metadata": {
    "collapsed": false
   },
   "outputs": [],
   "source": [
    "b = np.dot(A,v)\n",
    "print(\"b: \",b)"
   ]
  },
  {
   "cell_type": "markdown",
   "metadata": {},
   "source": [
    "### III. Plots"
   ]
  },
  {
   "cell_type": "markdown",
   "metadata": {},
   "source": [
    "One of the main things we will do with Python is to form scientific plots.  Most of the plotting functionality that we will need is contained in the library `matplotlib`, which we import below:"
   ]
  },
  {
   "cell_type": "code",
   "execution_count": null,
   "metadata": {
    "collapsed": true
   },
   "outputs": [],
   "source": [
    "import matplotlib as mpl        # a big library with plotting functionality\n",
    "import matplotlib.pyplot as plt # a subset of matplotlib with most of the useful tools\n",
    "%matplotlib inline              # this command makes sure that plots show up in this notebook"
   ]
  },
  {
   "cell_type": "markdown",
   "metadata": {},
   "source": [
    "To generate a plot, we essentially need to generate a bunch of ordered pairs, and then feed these pairs to the plot function.  For example, let's plot the graph of $\\sin x$ on the interval $[0,2\\pi]$.  To do this, we want a dense sampling of $x$ values, and for each $x$ value, we need to calculate $\\sin x$.  The command `np.linspace` is an efficient way to generate a dense sample of $x$ values, as the following code illustrates:"
   ]
  },
  {
   "cell_type": "code",
   "execution_count": null,
   "metadata": {
    "collapsed": false
   },
   "outputs": [],
   "source": [
    "# generate 100 evenly spaced points between 0 and 2\\pi\n",
    "x = np.linspace(0,2*np.pi,100)\n",
    "print(\"x: \",x)"
   ]
  },
  {
   "cell_type": "markdown",
   "metadata": {},
   "source": [
    "Note that `np.linspace(0,2*np.pi,100)` gave us 100 uniformly spaced samples of $x$ between $0$ and $2\\pi$.  The function `np.linspace` returns a numpy array.  To plot the graph of $\\sin x$, we now feed $x$ into the $np.sin$ function, and then call the `plot` function (which is part of the `plt` library, and thus is called as `plt.plot`.)"
   ]
  },
  {
   "cell_type": "code",
   "execution_count": null,
   "metadata": {
    "collapsed": false
   },
   "outputs": [],
   "source": [
    "# plot the graph of sin(x) in the interval [0,2pi]\n",
    "y = np.sin(x)     # recall that the variable x contains dense samples of the interval [0,2pi]\n",
    "plt.plot(x,y)\n",
    "plt.title('The graph of $sin x$',fontsize=24)\n",
    "plt.xlabel('X',fontsize=18)\n",
    "plt.ylabel('Y',fontsize=18)"
   ]
  },
  {
   "cell_type": "markdown",
   "metadata": {},
   "source": [
    "Note that the syntax for the commands to add a title, labels, etc.  There is a lot more you can do:  type `?plt.plot` for further documentation.\n",
    "\n",
    "### IV. Functions\n",
    "\n",
    "One of the things we'll need to do in this class is write functions.  The following code defines a function that squares its input and adds three to it:"
   ]
  },
  {
   "cell_type": "code",
   "execution_count": null,
   "metadata": {
    "collapsed": false
   },
   "outputs": [],
   "source": [
    "def test_function(x):\n",
    "    z = x**2 + 3\n",
    "    return z"
   ]
  },
  {
   "cell_type": "markdown",
   "metadata": {},
   "source": [
    "Note the presence of the keyword `def`, the colon at the end of the first line, and a return statement.  These are all key elements of a function definition.  Also note that the code in the body of the function is indented.  This is important:  Python requires such indentations, and everything needs to be indented by the same amount.\n",
    "\n",
    "To call this function, we do the following:"
   ]
  },
  {
   "cell_type": "code",
   "execution_count": null,
   "metadata": {
    "collapsed": false
   },
   "outputs": [],
   "source": [
    "output = test_function(3)\n",
    "print(\"output: \", output)"
   ]
  },
  {
   "cell_type": "markdown",
   "metadata": {},
   "source": [
    "Sometimes we'll want functions that take parameter values.  For example, maybe we want to modify our function so that instead of adding 3, it adds some number $r$. We can rewrite the function as follows:"
   ]
  },
  {
   "cell_type": "code",
   "execution_count": null,
   "metadata": {
    "collapsed": true
   },
   "outputs": [],
   "source": [
    "def test_function2(x):\n",
    "    return x**2 + r"
   ]
  },
  {
   "cell_type": "markdown",
   "metadata": {},
   "source": [
    "Python assumes that when we invoke this function there will be a defined value of $r$ in the workspace.  So we can call the function as follows:"
   ]
  },
  {
   "cell_type": "code",
   "execution_count": null,
   "metadata": {
    "collapsed": false
   },
   "outputs": [],
   "source": [
    "r = 2\n",
    "output2 = test_function2(3)\n",
    "print(\"output2: \", output2)"
   ]
  },
  {
   "cell_type": "markdown",
   "metadata": {},
   "source": [
    "This approach will be very useful when we wish to explore the impact of certain parameters on a model.\n",
    "\n",
    "###  V. Control structures \n",
    "\n",
    "#### `if` Statements\n",
    "\n",
    "`if` statements play an important role in scientific computing.   The following code illustrates an `if` statement in Python:"
   ]
  },
  {
   "cell_type": "code",
   "execution_count": null,
   "metadata": {
    "collapsed": false
   },
   "outputs": [],
   "source": [
    "x = 370        # x is just some number I pulled out of a hat\n",
    "y = np.sin(x)  # y is the sin of x.  I have no idea how big sin(370) is.\n",
    "if ( y < .1):  # if it is small....\n",
    "    z = 0      # ... I'll set z equal to 0\n",
    "else:          # otherwise...\n",
    "    z = y      # ... I'll set z = y\n",
    "    \n",
    "print(\"z: \",z)"
   ]
  },
  {
   "cell_type": "markdown",
   "metadata": {},
   "source": [
    "Note what the code is doing:  it sends $x$ into the $\\sin$ function, and looks at the output.  If the output is small enough, $z$ is set to 0, and otherwise, $z$ is set to the output.   This kind of `if-then` logic is important in a variety of scientific applications, as you will see.  Note too the syntax:  `if`, followed by a condition, followed by a colon. The `else` part of the statement is optional.  As with function definitions, indentation is important.\n",
    "\n",
    "#### For and While loops\n",
    "\n",
    "Loops are also important control structures in scientific computing.  A `for` loop performs a task a prescribed number of times; a `while` loop checks some condition, and performs the task as long as that condition is true.  The following code illustrates both types of loop:\n"
   ]
  },
  {
   "cell_type": "code",
   "execution_count": null,
   "metadata": {
    "collapsed": false
   },
   "outputs": [],
   "source": [
    "# for loop\n",
    "for i in range(10):  # google 'Python range command' to learn about the range command\n",
    "    print(\"i: \",i)"
   ]
  },
  {
   "cell_type": "code",
   "execution_count": null,
   "metadata": {
    "collapsed": false
   },
   "outputs": [],
   "source": [
    "# while loop\n",
    "i=0\n",
    "while (i < 10):\n",
    "    print(\"i: \",i)\n",
    "    i = i+1"
   ]
  },
  {
   "cell_type": "markdown",
   "metadata": {},
   "source": [
    "Note that both loops do the same things, but they use different control structures.  The syntax is similar:  both involve a key word (`for` or `while`) followed by a condition and a colon.  The conditions are different, however:  the `for` loop uses the keyword `in`, followed by a set of values, while the `while` loop uses a logical condition.  In both cases, the \"work\" of the loop is defined in the code that follows the colon."
   ]
  },
  {
   "cell_type": "markdown",
   "metadata": {},
   "source": [
    "### Exercises:\n",
    "\n",
    "1\\.  Use Python to calculate $\\cos(\\pi/6)$.\n",
    "\n",
    "2\\. Write a function called `mytest` that takes a real number $x$ as input and returns the value $y = \\cos(x/2) - 3$.\n",
    "\n",
    "3\\. Write  code to plot a graph of `mytest` over the interval $[-1,3]$. Make sure to include a title and labels on the $x-$ and $y-$axis.\n",
    "\n",
    "4\\.  Write a loop that evaluates `mytest` for each integer between 1 and 15, and prints the results to the screen."
   ]
  },
  {
   "cell_type": "code",
   "execution_count": null,
   "metadata": {
    "collapsed": true
   },
   "outputs": [],
   "source": []
  }
 ],
 "metadata": {
  "kernelspec": {
   "display_name": "Python 2.7",
   "language": "python",
   "name": "python2"
  },
  "language_info": {
   "codemirror_mode": {
    "name": "ipython",
    "version": 2
   },
   "file_extension": ".py",
   "mimetype": "text/x-python",
   "name": "python",
   "nbconvert_exporter": "python",
   "pygments_lexer": "ipython2",
   "version": "2.7.11"
  },
  "name": "short_python_tutorial.ipynb"
 },
 "nbformat": 4,
 "nbformat_minor": 0
}
