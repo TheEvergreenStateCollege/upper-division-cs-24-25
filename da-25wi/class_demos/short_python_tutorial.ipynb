{
 "cells": [
  {
   "cell_type": "markdown",
   "metadata": {
    "collapsed": false
   },
   "source": [
    "#  A Short Python Tutorial \n",
    "\n",
    "\n",
    "### Overview: \n",
    "\n",
    "<i>This tutorial is designed to provide a gentle introduction to scientific programming in Python for students in data analytics.  As such, it provides a cursory overview of \n",
    "1.  basic algebraic operations\n",
    "2.  vectors and matrices\n",
    "3.  plots\n",
    "4.  control structures (`if` statements, `for` and `while` loops)\n",
    "5.  functions\n",
    "6.  pandas\n",
    "</i>\n",
    "\n",
    "\n",
    "### Introduction\n",
    "\n",
    "Python is a powerful and popular open-source programming language.  It is particularly effective for *scientific prototyping*, i.e. the process of performing first-pass explorations of a scientific problem through numerics, graphics, and simulations. \n",
    "\n",
    "Python syntax is fairly intuitive, though the language has some quirks.  This tutorial is designed to help the complete novice get comfortable with select elements of the language.  The Web is awash with additional tutorials, and the student who wishes to master the language should work through a more detailed tutorial after finishing this one.  Recommended tutorials include the following:\n",
    "\n",
    "1.  The Official Python Tutorial:  https://docs.python.org/2/tutorial/\n",
    "2.  The Code Academy:  https://www.codecademy.com/learn/python\n",
    "3.  Wikibooks:  https://en.wikibooks.org/wiki/A_Beginner's_Python_Tutorial\n",
    "\n",
    "There are many others great options as well:  a google search is a good place to start.  Ultimately,  one learns to code by coding:  after working through a tutorial, you need to set yourself a project, sit down at a terminal, and try to bring it to completion. It is only by stumbling, and then figuring how to correct things, that you will gain a true mastery of the language.\n",
    "\n",
    "### I.  Basic algebraic operations\n",
    "\n",
    " To run a cell, click on it, and then click on the arrow button at the top of the page (or hit \"Shift-Enter\".)"
   ]
  },
  {
   "cell_type": "markdown",
   "metadata": {},
   "source": [
    "Note that we have just imported \"divison\" and \"print_function\" from the \"_future_\" module. Always import these if you're using Python 2--they will save you some significant headaches.\n",
    "\n",
    "Having imported some useful functionality, let's start by using Python as a calculator.  Run each of the following cells, and study the output to see what each bit of code does."
   ]
  },
  {
   "cell_type": "code",
   "execution_count": 1,
   "metadata": {
    "collapsed": false
   },
   "outputs": [
    {
     "data": {
      "text/plain": [
       "5"
      ]
     },
     "execution_count": 1,
     "metadata": {},
     "output_type": "execute_result"
    }
   ],
   "source": [
    "3 + 2"
   ]
  },
  {
   "cell_type": "markdown",
   "metadata": {},
   "source": [
    "Often, we assign values to *variables* and then perform calculations with the variables."
   ]
  },
  {
   "cell_type": "code",
   "execution_count": 2,
   "metadata": {
    "collapsed": true
   },
   "outputs": [],
   "source": [
    "x = 3\n",
    "y = 2\n",
    "z = x + y"
   ]
  },
  {
   "cell_type": "markdown",
   "metadata": {},
   "source": [
    "Note that unlike in the previous cell, there is no output when you run this code:  the values of the variables are stored in the workspace, but not printed to the screen.  To see the values of these variables, use the `print` command:"
   ]
  },
  {
   "cell_type": "code",
   "execution_count": 3,
   "metadata": {
    "collapsed": false
   },
   "outputs": [
    {
     "name": "stdout",
     "output_type": "stream",
     "text": [
      "x: 3\n",
      "y: 2\n",
      "z: 5\n"
     ]
    }
   ],
   "source": [
    "print(f\"x: {x}\")\n",
    "print(f\"y: {y}\")\n",
    "print(f\"z: {z}\")"
   ]
  },
  {
   "cell_type": "markdown",
   "metadata": {},
   "source": [
    "The `print` command is very useful for everything to displaying output to debugging.  In general, `print` takes as many arguments as you wish to give it, each separated by a comma.  Here, I included an identifying \"string\" (e.g. \"x: \", \"y: \", etc.) before printing each variable value, so the output would be clearer to read.  This is a good habit to get into.  \n",
    "\n",
    "To see all the variables in workspace, use the `whos` command:"
   ]
  },
  {
   "cell_type": "code",
   "execution_count": 4,
   "metadata": {
    "collapsed": false
   },
   "outputs": [
    {
     "name": "stdout",
     "output_type": "stream",
     "text": [
      "Variable   Type    Data/Info\n",
      "----------------------------\n",
      "x          int     3\n",
      "y          int     2\n",
      "z          int     5\n"
     ]
    }
   ],
   "source": [
    "whos"
   ]
  },
  {
   "cell_type": "markdown",
   "metadata": {},
   "source": [
    "Note that $x$, $y$, and $z$ show up, as do a few other things.  These other things are the fruits of the `import` commands we gave above.  \n",
    "\n",
    "We can do other calculuations:"
   ]
  },
  {
   "cell_type": "code",
   "execution_count": 5,
   "metadata": {
    "collapsed": false
   },
   "outputs": [
    {
     "data": {
      "text/plain": [
       "27"
      ]
     },
     "execution_count": 5,
     "metadata": {},
     "output_type": "execute_result"
    }
   ],
   "source": [
    "# exponention\n",
    "x ** 3  "
   ]
  },
  {
   "cell_type": "code",
   "execution_count": 6,
   "metadata": {
    "collapsed": false
   },
   "outputs": [
    {
     "data": {
      "text/plain": [
       "0.6"
      ]
     },
     "execution_count": 6,
     "metadata": {},
     "output_type": "execute_result"
    }
   ],
   "source": [
    "# division\n",
    "x / z   "
   ]
  },
  {
   "cell_type": "code",
   "execution_count": 7,
   "metadata": {
    "collapsed": false
   },
   "outputs": [
    {
     "data": {
      "text/plain": [
       "15"
      ]
     },
     "execution_count": 7,
     "metadata": {},
     "output_type": "execute_result"
    }
   ],
   "source": [
    "# multiplication\n",
    "x * z   "
   ]
  },
  {
   "cell_type": "markdown",
   "metadata": {},
   "source": [
    "Note that if we do a calculation without assigning the output to a variable name, the output is printed by default.  Also note that one can add \"comments\" to a code cell by inserting a \"#\" symbol.\n",
    "\n",
    "Sometimes we want to do more advanced basic calculations, like take square roots, exponentials, logs, etc.  Most of this \"advanced\" functionality exists in a module called `numpy`.  We import it below, and then show how to use some of its features. "
   ]
  },
  {
   "cell_type": "code",
   "execution_count": 8,
   "metadata": {
    "collapsed": true
   },
   "outputs": [],
   "source": [
    "import numpy as np      # numpy is Python's numerical library"
   ]
  },
  {
   "cell_type": "markdown",
   "metadata": {},
   "source": [
    "Note the we imported `numpy` as `np`.  When we invoke any of the functions contained in the numpy module, we thus prefix them with `np`, as illustrated below."
   ]
  },
  {
   "cell_type": "code",
   "execution_count": 9,
   "metadata": {
    "collapsed": false
   },
   "outputs": [
    {
     "data": {
      "text/plain": [
       "1.7320508075688772"
      ]
     },
     "execution_count": 9,
     "metadata": {},
     "output_type": "execute_result"
    }
   ],
   "source": [
    "np.sqrt(x)  # square root function"
   ]
  },
  {
   "cell_type": "code",
   "execution_count": 10,
   "metadata": {
    "collapsed": false
   },
   "outputs": [
    {
     "data": {
      "text/plain": [
       "20.085536923187668"
      ]
     },
     "execution_count": 10,
     "metadata": {},
     "output_type": "execute_result"
    }
   ],
   "source": [
    "np.exp(x)   # exponentiating e to the power of x"
   ]
  },
  {
   "cell_type": "code",
   "execution_count": 11,
   "metadata": {
    "collapsed": false
   },
   "outputs": [
    {
     "data": {
      "text/plain": [
       "1.0986122886681098"
      ]
     },
     "execution_count": 11,
     "metadata": {},
     "output_type": "execute_result"
    }
   ],
   "source": [
    "np.log(x)  # taking a log of x"
   ]
  },
  {
   "cell_type": "markdown",
   "metadata": {},
   "source": [
    "Suppose you weren't sure if `np.log` gave you the natural log or a base 10 log.  There are at least three ways to figure this out:\n",
    "\n",
    "1.  You could find out by checking the numpy documentation:\n",
    "http://www.numpy.org/\n",
    "\n",
    "2. You could do a Google search of `np.log`--it should take you directly to the relevant help page.  \n",
    "\n",
    "3. You could just play around with the code, as follows:"
   ]
  },
  {
   "cell_type": "code",
   "execution_count": 12,
   "metadata": {
    "collapsed": false
   },
   "outputs": [
    {
     "data": {
      "text/plain": [
       "2.302585092994046"
      ]
     },
     "execution_count": 12,
     "metadata": {},
     "output_type": "execute_result"
    }
   ],
   "source": [
    "# the log of 10\n",
    "np.log(10)"
   ]
  },
  {
   "cell_type": "code",
   "execution_count": 13,
   "metadata": {
    "collapsed": false
   },
   "outputs": [
    {
     "data": {
      "text/plain": [
       "1.0"
      ]
     },
     "execution_count": 13,
     "metadata": {},
     "output_type": "execute_result"
    }
   ],
   "source": [
    "# the log of e\n",
    "np.log(np.exp(1))"
   ]
  },
  {
   "cell_type": "markdown",
   "metadata": {},
   "source": [
    "Based on these outputs, it looks like `np.log` is a natural log, not a base 10 log.  Never underestimate the power of \"playing around\" as you learn how work with Python.\n",
    "\n",
    "### II.  Vectors and Matrices\n",
    "\n",
    "Vectors and matrices play a fundamental role in scientific computing.  You need to become familiar with how these things are formed, and how to manipulate them.\n",
    "\n",
    "Once again, the package `numpy` has most of the functionality we need.  The basic vector object is a \"numpy array\".  The following cell shows one way to form such an array.  "
   ]
  },
  {
   "cell_type": "code",
   "execution_count": 14,
   "metadata": {
    "collapsed": false
   },
   "outputs": [
    {
     "name": "stdout",
     "output_type": "stream",
     "text": [
      "v: [1 2 4]\n"
     ]
    }
   ],
   "source": [
    "v = np.array([1,2,4])\n",
    "print(f\"v: {v}\")"
   ]
  },
  {
   "cell_type": "markdown",
   "metadata": {},
   "source": [
    "Python is an \"object oriented\" language.  Many objects carry around their own methods that can be used to give information about that object.  Here are ways to get information about the vector `v`:"
   ]
  },
  {
   "cell_type": "code",
   "execution_count": 15,
   "metadata": {
    "collapsed": false
   },
   "outputs": [
    {
     "data": {
      "text/plain": [
       "3"
      ]
     },
     "execution_count": 15,
     "metadata": {},
     "output_type": "execute_result"
    }
   ],
   "source": [
    "# how many elements does v have?\n",
    "v.size"
   ]
  },
  {
   "cell_type": "code",
   "execution_count": 16,
   "metadata": {
    "collapsed": false
   },
   "outputs": [
    {
     "data": {
      "text/plain": [
       "(3,)"
      ]
     },
     "execution_count": 16,
     "metadata": {},
     "output_type": "execute_result"
    }
   ],
   "source": [
    "# what shape does v have?\n",
    "v.shape"
   ]
  },
  {
   "cell_type": "code",
   "execution_count": 17,
   "metadata": {
    "collapsed": false
   },
   "outputs": [
    {
     "data": {
      "text/plain": [
       "['T',\n",
       " '__abs__',\n",
       " '__add__',\n",
       " '__and__',\n",
       " '__array__',\n",
       " '__array_finalize__',\n",
       " '__array_function__',\n",
       " '__array_interface__',\n",
       " '__array_prepare__',\n",
       " '__array_priority__',\n",
       " '__array_struct__',\n",
       " '__array_ufunc__',\n",
       " '__array_wrap__',\n",
       " '__bool__',\n",
       " '__class__',\n",
       " '__class_getitem__',\n",
       " '__complex__',\n",
       " '__contains__',\n",
       " '__copy__',\n",
       " '__deepcopy__',\n",
       " '__delattr__',\n",
       " '__delitem__',\n",
       " '__dir__',\n",
       " '__divmod__',\n",
       " '__dlpack__',\n",
       " '__dlpack_device__',\n",
       " '__doc__',\n",
       " '__eq__',\n",
       " '__float__',\n",
       " '__floordiv__',\n",
       " '__format__',\n",
       " '__ge__',\n",
       " '__getattribute__',\n",
       " '__getitem__',\n",
       " '__getstate__',\n",
       " '__gt__',\n",
       " '__hash__',\n",
       " '__iadd__',\n",
       " '__iand__',\n",
       " '__ifloordiv__',\n",
       " '__ilshift__',\n",
       " '__imatmul__',\n",
       " '__imod__',\n",
       " '__imul__',\n",
       " '__index__',\n",
       " '__init__',\n",
       " '__init_subclass__',\n",
       " '__int__',\n",
       " '__invert__',\n",
       " '__ior__',\n",
       " '__ipow__',\n",
       " '__irshift__',\n",
       " '__isub__',\n",
       " '__iter__',\n",
       " '__itruediv__',\n",
       " '__ixor__',\n",
       " '__le__',\n",
       " '__len__',\n",
       " '__lshift__',\n",
       " '__lt__',\n",
       " '__matmul__',\n",
       " '__mod__',\n",
       " '__mul__',\n",
       " '__ne__',\n",
       " '__neg__',\n",
       " '__new__',\n",
       " '__or__',\n",
       " '__pos__',\n",
       " '__pow__',\n",
       " '__radd__',\n",
       " '__rand__',\n",
       " '__rdivmod__',\n",
       " '__reduce__',\n",
       " '__reduce_ex__',\n",
       " '__repr__',\n",
       " '__rfloordiv__',\n",
       " '__rlshift__',\n",
       " '__rmatmul__',\n",
       " '__rmod__',\n",
       " '__rmul__',\n",
       " '__ror__',\n",
       " '__rpow__',\n",
       " '__rrshift__',\n",
       " '__rshift__',\n",
       " '__rsub__',\n",
       " '__rtruediv__',\n",
       " '__rxor__',\n",
       " '__setattr__',\n",
       " '__setitem__',\n",
       " '__setstate__',\n",
       " '__sizeof__',\n",
       " '__str__',\n",
       " '__sub__',\n",
       " '__subclasshook__',\n",
       " '__truediv__',\n",
       " '__xor__',\n",
       " 'all',\n",
       " 'any',\n",
       " 'argmax',\n",
       " 'argmin',\n",
       " 'argpartition',\n",
       " 'argsort',\n",
       " 'astype',\n",
       " 'base',\n",
       " 'byteswap',\n",
       " 'choose',\n",
       " 'clip',\n",
       " 'compress',\n",
       " 'conj',\n",
       " 'conjugate',\n",
       " 'copy',\n",
       " 'ctypes',\n",
       " 'cumprod',\n",
       " 'cumsum',\n",
       " 'data',\n",
       " 'diagonal',\n",
       " 'dot',\n",
       " 'dtype',\n",
       " 'dump',\n",
       " 'dumps',\n",
       " 'fill',\n",
       " 'flags',\n",
       " 'flat',\n",
       " 'flatten',\n",
       " 'getfield',\n",
       " 'imag',\n",
       " 'item',\n",
       " 'itemset',\n",
       " 'itemsize',\n",
       " 'max',\n",
       " 'mean',\n",
       " 'min',\n",
       " 'nbytes',\n",
       " 'ndim',\n",
       " 'newbyteorder',\n",
       " 'nonzero',\n",
       " 'partition',\n",
       " 'prod',\n",
       " 'ptp',\n",
       " 'put',\n",
       " 'ravel',\n",
       " 'real',\n",
       " 'repeat',\n",
       " 'reshape',\n",
       " 'resize',\n",
       " 'round',\n",
       " 'searchsorted',\n",
       " 'setfield',\n",
       " 'setflags',\n",
       " 'shape',\n",
       " 'size',\n",
       " 'sort',\n",
       " 'squeeze',\n",
       " 'std',\n",
       " 'strides',\n",
       " 'sum',\n",
       " 'swapaxes',\n",
       " 'take',\n",
       " 'tobytes',\n",
       " 'tofile',\n",
       " 'tolist',\n",
       " 'tostring',\n",
       " 'trace',\n",
       " 'transpose',\n",
       " 'var',\n",
       " 'view']"
      ]
     },
     "execution_count": 17,
     "metadata": {},
     "output_type": "execute_result"
    }
   ],
   "source": [
    "# what other methods does v have?\n",
    "dir(v)"
   ]
  },
  {
   "cell_type": "markdown",
   "metadata": {
    "collapsed": true
   },
   "source": [
    "That's a lot of methods.  (If you want to get rid of the long list, activate the cell by clicking on it, then on the pulldown menu above click \"Cell --> Current Output --> Clear.\")  It probably isn't clear to you what each one does.  If you're curious, you can use the `?` symbol to get further information:"
   ]
  },
  {
   "cell_type": "code",
   "execution_count": 18,
   "metadata": {
    "collapsed": false
   },
   "outputs": [
    {
     "name": "stdout",
     "output_type": "stream",
     "text": [
      "\u001b[0;31mDocstring:\u001b[0m\n",
      "a.max(axis=None, out=None, keepdims=False, initial=<no value>, where=True)\n",
      "\n",
      "Return the maximum along a given axis.\n",
      "\n",
      "Refer to `numpy.amax` for full documentation.\n",
      "\n",
      "See Also\n",
      "--------\n",
      "numpy.amax : equivalent function\n",
      "\u001b[0;31mType:\u001b[0m      builtin_function_or_method"
     ]
    }
   ],
   "source": [
    "?v.max"
   ]
  },
  {
   "cell_type": "markdown",
   "metadata": {},
   "source": [
    "Based on the output, it looks like the `max` method returns the maximum element.  Let's try it:"
   ]
  },
  {
   "cell_type": "code",
   "execution_count": 19,
   "metadata": {
    "collapsed": false
   },
   "outputs": [
    {
     "data": {
      "text/plain": [
       "4"
      ]
     },
     "execution_count": 19,
     "metadata": {},
     "output_type": "execute_result"
    }
   ],
   "source": [
    "v.max()"
   ]
  },
  {
   "cell_type": "markdown",
   "metadata": {},
   "source": [
    "Matrices are constructed similarly:"
   ]
  },
  {
   "cell_type": "code",
   "execution_count": 20,
   "metadata": {
    "collapsed": false
   },
   "outputs": [
    {
     "name": "stdout",
     "output_type": "stream",
     "text": [
      "A: [[1 2 3]\n",
      " [4 5 6]\n",
      " [7 8 9]]\n"
     ]
    }
   ],
   "source": [
    "A = np.array([[1,2,3],[4,5,6],[7,8,9]])\n",
    "print(f\"A: {A}\")"
   ]
  },
  {
   "cell_type": "markdown",
   "metadata": {},
   "source": [
    "Note the syntax:  each row of the matrix has three numbers within square brackets, and each set of square brackets is separated by a comma and again set within square brackets.   \n",
    "\n",
    "Now that we have matrices and vectors, we can do linear algebra.  For example, matrix-vector multiplication is achieved via the `np.dot` command:"
   ]
  },
  {
   "cell_type": "code",
   "execution_count": 21,
   "metadata": {
    "collapsed": false
   },
   "outputs": [
    {
     "name": "stdout",
     "output_type": "stream",
     "text": [
      "b: {b}\n"
     ]
    }
   ],
   "source": [
    "b = np.dot(A,v)\n",
    "print(\"b: {b}\")"
   ]
  },
  {
   "cell_type": "markdown",
   "metadata": {},
   "source": [
    "### III. Plots"
   ]
  },
  {
   "cell_type": "markdown",
   "metadata": {},
   "source": [
    "One of the main things we will do with Python is to form scientific plots.  Most of the plotting functionality that we will need is contained in the library `matplotlib`, which we import below:"
   ]
  },
  {
   "cell_type": "code",
   "execution_count": 22,
   "metadata": {
    "collapsed": true
   },
   "outputs": [],
   "source": [
    "import matplotlib as mpl        # a big library with plotting functionality\n",
    "import matplotlib.pyplot as plt # a subset of matplotlib with most of the useful tools"
   ]
  },
  {
   "cell_type": "markdown",
   "metadata": {},
   "source": [
    "To generate a plot, we essentially need to generate a bunch of ordered pairs, and then feed these pairs to the plot function.  For example, let's plot the graph of $\\sin x$ on the interval $[0,2\\pi]$.  To do this, we want a dense sampling of $x$ values, and for each $x$ value, we need to calculate $\\sin x$.  The command `np.linspace` is an efficient way to generate a dense sample of $x$ values, as the following code illustrates:"
   ]
  },
  {
   "cell_type": "code",
   "execution_count": 23,
   "metadata": {
    "collapsed": false
   },
   "outputs": [
    {
     "name": "stdout",
     "output_type": "stream",
     "text": [
      "x: [0.         0.06346652 0.12693304 0.19039955 0.25386607 0.31733259\n",
      " 0.38079911 0.44426563 0.50773215 0.57119866 0.63466518 0.6981317\n",
      " 0.76159822 0.82506474 0.88853126 0.95199777 1.01546429 1.07893081\n",
      " 1.14239733 1.20586385 1.26933037 1.33279688 1.3962634  1.45972992\n",
      " 1.52319644 1.58666296 1.65012947 1.71359599 1.77706251 1.84052903\n",
      " 1.90399555 1.96746207 2.03092858 2.0943951  2.15786162 2.22132814\n",
      " 2.28479466 2.34826118 2.41172769 2.47519421 2.53866073 2.60212725\n",
      " 2.66559377 2.72906028 2.7925268  2.85599332 2.91945984 2.98292636\n",
      " 3.04639288 3.10985939 3.17332591 3.23679243 3.30025895 3.36372547\n",
      " 3.42719199 3.4906585  3.55412502 3.61759154 3.68105806 3.74452458\n",
      " 3.8079911  3.87145761 3.93492413 3.99839065 4.06185717 4.12532369\n",
      " 4.1887902  4.25225672 4.31572324 4.37918976 4.44265628 4.5061228\n",
      " 4.56958931 4.63305583 4.69652235 4.75998887 4.82345539 4.88692191\n",
      " 4.95038842 5.01385494 5.07732146 5.14078798 5.2042545  5.26772102\n",
      " 5.33118753 5.39465405 5.45812057 5.52158709 5.58505361 5.64852012\n",
      " 5.71198664 5.77545316 5.83891968 5.9023862  5.96585272 6.02931923\n",
      " 6.09278575 6.15625227 6.21971879 6.28318531]\n"
     ]
    }
   ],
   "source": [
    "# generate 100 evenly spaced points between 0 and 2\\pi\n",
    "x = np.linspace(0, 2 * np.pi, 100)\n",
    "print(f\"x: {x}\")"
   ]
  },
  {
   "cell_type": "markdown",
   "metadata": {},
   "source": [
    "Note that `np.linspace(0,2*np.pi,100)` gave us 100 uniformly spaced samples of $x$ between $0$ and $2\\pi$.  The function `np.linspace` returns a numpy array.  To plot the graph of $\\sin x$, we now feed $x$ into the $np.sin$ function, and then call the `plot` function (which is part of the `plt` library, and thus is called as `plt.plot`.)"
   ]
  },
  {
   "cell_type": "code",
   "execution_count": 24,
   "metadata": {
    "collapsed": false
   },
   "outputs": [
    {
     "data": {
      "text/plain": [
       "Text(0, 0.5, 'Y')"
      ]
     },
     "execution_count": 24,
     "metadata": {},
     "output_type": "execute_result"
    },
    {
     "data": {
      "image/png": "[encoded data removed]",
      "text/plain": [
       "<Figure size 640x480 with 1 Axes>"
      ]
     },
     "metadata": {},
     "output_type": "display_data"
    }
   ],
   "source": [
    "# plot the graph of sin(x) in the interval [0,2pi]\n",
    "y = np.sin(x)     # recall that the variable x contains dense samples of the interval [0,2pi]\n",
    "plt.plot(x,y)\n",
    "plt.title('The graph of $sin x$',fontsize=24)\n",
    "plt.xlabel('X',fontsize=18)\n",
    "plt.ylabel('Y',fontsize=18)"
   ]
  },
  {
   "cell_type": "markdown",
   "metadata": {},
   "source": [
    "Note that the syntax for the commands to add a title, labels, etc.  There is a lot more you can do:  type `?plt.plot` for further documentation.\n",
    "\n",
    "### IV. Functions\n",
    "\n",
    "One of the things we'll need to do in this class is write functions.  The following code defines a function that squares its input and adds three to it:"
   ]
  },
  {
   "cell_type": "code",
   "execution_count": 25,
   "metadata": {
    "collapsed": false
   },
   "outputs": [],
   "source": [
    "def test_function(x):\n",
    "    z = x ** 2 + 3\n",
    "    return z"
   ]
  },
  {
   "cell_type": "markdown",
   "metadata": {},
   "source": [
    "Note the presence of the keyword `def`, the colon at the end of the first line, and a return statement.  These are all key elements of a function definition.  Also note that the code in the body of the function is indented.  This is important:  Python requires such indentations, and everything needs to be indented by the same amount.\n",
    "\n",
    "To call this function, we do the following:"
   ]
  },
  {
   "cell_type": "code",
   "execution_count": 26,
   "metadata": {
    "collapsed": false
   },
   "outputs": [
    {
     "name": "stdout",
     "output_type": "stream",
     "text": [
      "output: 12\n"
     ]
    }
   ],
   "source": [
    "output = test_function(3)\n",
    "print(f\"output: {output}\")"
   ]
  },
  {
   "cell_type": "markdown",
   "metadata": {},
   "source": [
    "Sometimes we'll want functions that take parameter values.  For example, maybe we want to modify our function so that instead of adding 3, it adds some number $r$. We can rewrite the function as follows:"
   ]
  },
  {
   "cell_type": "code",
   "execution_count": 27,
   "metadata": {
    "collapsed": true
   },
   "outputs": [],
   "source": [
    "def test_function2(x):\n",
    "    return x ** 2 + r"
   ]
  },
  {
   "cell_type": "markdown",
   "metadata": {},
   "source": [
    "Python assumes that when we invoke this function there will be a defined value of $r$ in the workspace.  So we can call the function as follows:"
   ]
  },
  {
   "cell_type": "code",
   "execution_count": 28,
   "metadata": {
    "collapsed": false
   },
   "outputs": [
    {
     "name": "stdout",
     "output_type": "stream",
     "text": [
      "output2:  11\n"
     ]
    }
   ],
   "source": [
    "r = 2\n",
    "output2 = test_function2(3)\n",
    "print(\"output2: \", output2)"
   ]
  },
  {
   "cell_type": "markdown",
   "metadata": {},
   "source": [
    "This approach will be very useful when we wish to explore the impact of certain parameters on a model.\n",
    "\n",
    "###  V. Control structures \n",
    "\n",
    "#### `if` Statements\n",
    "\n",
    "`if` statements play an important role in scientific computing.   The following code illustrates an `if` statement in Python:"
   ]
  },
  {
   "cell_type": "code",
   "execution_count": 29,
   "metadata": {
    "collapsed": false
   },
   "outputs": [
    {
     "name": "stdout",
     "output_type": "stream",
     "text": [
      "z: 0\n"
     ]
    }
   ],
   "source": [
    "x = 370        # x is just some number I pulled out of a hat\n",
    "y = np.sin(x)  # y is the sin of x.  I have no idea how big sin(370) is.\n",
    "if ( y < .1):  # if it is small....\n",
    "    z = 0      # ... I'll set z equal to 0\n",
    "else:          # otherwise...\n",
    "    z = y      # ... I'll set z = y\n",
    "    \n",
    "print(f\"z: {z}\")"
   ]
  },
  {
   "cell_type": "markdown",
   "metadata": {},
   "source": [
    "Note what the code is doing:  it sends $x$ into the $\\sin$ function, and looks at the output.  If the output is small enough, $z$ is set to 0, and otherwise, $z$ is set to the output.   This kind of `if-then` logic is important in a variety of scientific applications, as you will see.  Note too the syntax:  `if`, followed by a condition, followed by a colon. The `else` part of the statement is optional.  As with function definitions, indentation is important.\n",
    "\n",
    "#### For and While loops\n",
    "\n",
    "Loops are also important control structures in scientific computing.  A `for` loop performs a task a prescribed number of times; a `while` loop checks some condition, and performs the task as long as that condition is true.  The following code illustrates both types of loop:\n"
   ]
  },
  {
   "cell_type": "code",
   "execution_count": 30,
   "metadata": {
    "collapsed": false
   },
   "outputs": [
    {
     "name": "stdout",
     "output_type": "stream",
     "text": [
      "i: 0\n",
      "i: 1\n",
      "i: 2\n",
      "i: 3\n",
      "i: 4\n",
      "i: 5\n",
      "i: 6\n",
      "i: 7\n",
      "i: 8\n",
      "i: 9\n"
     ]
    }
   ],
   "source": [
    "# for loop\n",
    "for i in range(10):  # google 'Python range command' to learn about the range command\n",
    "    print(f\"i: {i}\")"
   ]
  },
  {
   "cell_type": "code",
   "execution_count": 31,
   "metadata": {
    "collapsed": false
   },
   "outputs": [
    {
     "name": "stdout",
     "output_type": "stream",
     "text": [
      "i: 0\n",
      "i: 1\n",
      "i: 2\n",
      "i: 3\n",
      "i: 4\n",
      "i: 5\n",
      "i: 6\n",
      "i: 7\n",
      "i: 8\n",
      "i: 9\n"
     ]
    }
   ],
   "source": [
    "# while loop\n",
    "i=0\n",
    "while (i < 10):\n",
    "    print(f\"i: {i}\")\n",
    "    i = i + 1"
   ]
  },
  {
   "cell_type": "markdown",
   "metadata": {},
   "source": [
    "Note that both loops do the same things, but they use different control structures.  The syntax is similar:  both involve a key word (`for` or `while`) followed by a condition and a colon.  The conditions are different, however:  the `for` loop uses the keyword `in`, followed by a set of values, while the `while` loop uses a logical condition.  In both cases, the \"work\" of the loop is defined in the code that follows the colon."
   ]
  },
  {
   "cell_type": "markdown",
   "metadata": {},
   "source": [
    "### Pandas"
   ]
  },
  {
   "cell_type": "code",
   "execution_count": 32,
   "metadata": {},
   "outputs": [
    {
     "data": {
      "text/plain": [
       "array([[ 0.95974029,  0.54016029,  1.05379704, -0.60983609,  2.12971255],\n",
       "       [-0.14607651,  0.34537497,  0.69822081,  1.99714036,  1.03197564],\n",
       "       [-1.41088838, -1.18112897, -1.49157568, -2.45763638, -0.57469974],\n",
       "       [ 1.16543866,  0.37369977,  0.46441046, -1.79621369,  0.22881319],\n",
       "       [ 0.74126094, -0.42204633, -0.92641399,  1.71221291,  1.55052757]])"
      ]
     },
     "execution_count": 32,
     "metadata": {},
     "output_type": "execute_result"
    }
   ],
   "source": [
    "# let's generate an array of random  numbers\n",
    "random_array = np.random.randn(100, 5)\n",
    "random_array[0:5, :]"
   ]
  },
  {
   "cell_type": "code",
   "execution_count": 33,
   "metadata": {},
   "outputs": [
    {
     "data": {
      "text/html": [
       "<div>\n",
       "<style scoped>\n",
       "    .dataframe tbody tr th:only-of-type {\n",
       "        vertical-align: middle;\n",
       "    }\n",
       "\n",
       "    .dataframe tbody tr th {\n",
       "        vertical-align: top;\n",
       "    }\n",
       "\n",
       "    .dataframe thead th {\n",
       "        text-align: right;\n",
       "    }\n",
       "</style>\n",
       "<table border=\"1\" class=\"dataframe\">\n",
       "  <thead>\n",
       "    <tr style=\"text-align: right;\">\n",
       "      <th></th>\n",
       "      <th>var1</th>\n",
       "      <th>var2</th>\n",
       "      <th>var3</th>\n",
       "      <th>var4</th>\n",
       "      <th>var5</th>\n",
       "    </tr>\n",
       "  </thead>\n",
       "  <tbody>\n",
       "    <tr>\n",
       "      <th>0</th>\n",
       "      <td>0.959740</td>\n",
       "      <td>0.540160</td>\n",
       "      <td>1.053797</td>\n",
       "      <td>-0.609836</td>\n",
       "      <td>2.129713</td>\n",
       "    </tr>\n",
       "    <tr>\n",
       "      <th>1</th>\n",
       "      <td>-0.146077</td>\n",
       "      <td>0.345375</td>\n",
       "      <td>0.698221</td>\n",
       "      <td>1.997140</td>\n",
       "      <td>1.031976</td>\n",
       "    </tr>\n",
       "    <tr>\n",
       "      <th>2</th>\n",
       "      <td>-1.410888</td>\n",
       "      <td>-1.181129</td>\n",
       "      <td>-1.491576</td>\n",
       "      <td>-2.457636</td>\n",
       "      <td>-0.574700</td>\n",
       "    </tr>\n",
       "    <tr>\n",
       "      <th>3</th>\n",
       "      <td>1.165439</td>\n",
       "      <td>0.373700</td>\n",
       "      <td>0.464410</td>\n",
       "      <td>-1.796214</td>\n",
       "      <td>0.228813</td>\n",
       "    </tr>\n",
       "    <tr>\n",
       "      <th>4</th>\n",
       "      <td>0.741261</td>\n",
       "      <td>-0.422046</td>\n",
       "      <td>-0.926414</td>\n",
       "      <td>1.712213</td>\n",
       "      <td>1.550528</td>\n",
       "    </tr>\n",
       "  </tbody>\n",
       "</table>\n",
       "</div>"
      ],
      "text/plain": [
       "       var1      var2      var3      var4      var5\n",
       "0  0.959740  0.540160  1.053797 -0.609836  2.129713\n",
       "1 -0.146077  0.345375  0.698221  1.997140  1.031976\n",
       "2 -1.410888 -1.181129 -1.491576 -2.457636 -0.574700\n",
       "3  1.165439  0.373700  0.464410 -1.796214  0.228813\n",
       "4  0.741261 -0.422046 -0.926414  1.712213  1.550528"
      ]
     },
     "execution_count": 33,
     "metadata": {},
     "output_type": "execute_result"
    }
   ],
   "source": [
    "# And now let's store this array as a Pandas dataframe\n",
    "import pandas as pd\n",
    "\n",
    "df = pd.DataFrame(random_array, columns=['var1', 'var2', 'var3', 'var4', 'var5'])\n",
    "df.head(5)"
   ]
  },
  {
   "cell_type": "code",
   "execution_count": 34,
   "metadata": {},
   "outputs": [
    {
     "name": "stdout",
     "output_type": "stream",
     "text": [
      "means: \n",
      "var1   -0.123170\n",
      "var2    0.073287\n",
      "var3    0.066739\n",
      "var4   -0.014869\n",
      "var5   -0.043044\n",
      "dtype: float64\n",
      "\n",
      "standard deviations: \n",
      "var1    1.061248\n",
      "var2    1.051873\n",
      "var3    1.042589\n",
      "var4    1.073364\n",
      "var5    0.954513\n",
      "dtype: float64\n"
     ]
    }
   ],
   "source": [
    "# The dataframe df has lots of methods.  Use the `dir(df)` command to inspect them, or \n",
    "# check the documentation.\n",
    "\n",
    "means = df.mean()\n",
    "stdevs = df.std()\n",
    "\n",
    "print(f\"means: \\n{means}\\n\")\n",
    "print(f\"standard deviations: \\n{stdevs}\")\n"
   ]
  },
  {
   "cell_type": "code",
   "execution_count": 35,
   "metadata": {},
   "outputs": [
    {
     "data": {
      "text/plain": [
       "<Axes: >"
      ]
     },
     "execution_count": 35,
     "metadata": {},
     "output_type": "execute_result"
    },
    {
     "data": {
      "image/png": "[encoded data removed]",
      "text/plain": [
       "<Figure size 640x480 with 1 Axes>"
      ]
     },
     "metadata": {},
     "output_type": "display_data"
    }
   ],
   "source": [
    "# pandas data frames include their own plotting  methods\n",
    "df['var1'].hist()"
   ]
  },
  {
   "cell_type": "markdown",
   "metadata": {},
   "source": [
    "### Exercises:\n",
    "\n",
    "1\\.  Use Python to calculate $\\cos(\\pi/6)$.\n",
    "\n",
    "2\\. Write a function called `mytest` that takes a real number $x$ as input and returns the value $y = \\cos(x/2) - 3$.\n",
    "\n",
    "3\\. Write  code to plot a graph of `mytest` over the interval $[-1,3]$. Make sure to include a title and labels on the $x-$ and $y-$axis.\n",
    "\n",
    "4\\.  Write a loop that evaluates `mytest` for each integer between 1 and 15, and prints the results to the screen.\n",
    "\n",
    "5\\. Write a functionn that take a pandas data frame as input and calculate the correlation between all the columns"
   ]
  },
  {
   "cell_type": "code",
   "execution_count": null,
   "metadata": {
    "collapsed": true
   },
   "outputs": [],
   "source": []
  }
 ],
 "metadata": {
  "kernelspec": {
   "display_name": "venv_base",
   "language": "python",
   "name": "python3"
  },
  "language_info": {
   "codemirror_mode": {
    "name": "ipython",
    "version": 3
   },
   "file_extension": ".py",
   "mimetype": "text/x-python",
   "name": "python",
   "nbconvert_exporter": "python",
   "pygments_lexer": "ipython3",
   "version": "3.11.10"
  },
  "name": "short_python_tutorial.ipynb"
 },
 "nbformat": 4,
 "nbformat_minor": 0
}
